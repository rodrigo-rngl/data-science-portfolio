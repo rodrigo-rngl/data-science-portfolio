{
 "cells": [
  {
   "cell_type": "markdown",
   "id": "d85450fc",
   "metadata": {},
   "source": [
    "# Business Problem"
   ]
  },
  {
   "cell_type": "markdown",
   "id": "5c71c71a",
   "metadata": {},
   "source": [
    "A empresa Top Bank atua na Europa tendo como principal produto uma conta bancária. Este produto pode manter o salário do cliente e efetuar pagamentos. Essa conta não tem nenhum custo nos primeiros 12 meses, porém, após esse período, o cliente precisa recontratar o banco para os próximos 12 meses e refazer esse processo todos os anos. Recentemente, a equipe de análise notou que a taxa de churn está aumentando.\n",
    "\n",
    "## Challenge:\n",
    "Como Cientista de Dados, você precisa criar um plano de ação para diminuir o número de clientes churn e mostrar o retorno financeiro da sua solução.\n",
    "Além disso, você precisará fornecer um relatório relatando o desempenho de seu modelo e o impacto financeiro de sua solução.\n",
    "Perguntas que o CEO e a equipe do Analytics gostariam de ver em seu relatório:\n",
    "\n",
    "1. Qual é a atual taxa de churn do Top Bank?\n",
    "2. Como a taxa de churn varia mensalmente?\n",
    "3. Qual é o desempenho do modelo na classificação de clientes como churns?\n",
    "4. Qual é o retorno esperado, em termos de receita, se a empresa utilizar seu modelo para evitar o churn de clientes?"
   ]
  },
  {
   "cell_type": "markdown",
   "id": "28413d3f",
   "metadata": {},
   "source": [
    "## Note:\n",
    "Como posso responder os 4 desafios do problema???\n",
    "\n",
    "    R: Conhecer as variáveis (Data Description) e definir plano de desenvolvimento."
   ]
  },
  {
   "cell_type": "markdown",
   "id": "aab9f2da",
   "metadata": {},
   "source": [
    "# Imports"
   ]
  },
  {
   "cell_type": "code",
   "execution_count": 1,
   "id": "8b2c61a3",
   "metadata": {
    "ExecuteTime": {
     "end_time": "2023-04-18T10:11:14.440877Z",
     "start_time": "2023-04-18T10:11:12.531621Z"
    }
   },
   "outputs": [],
   "source": [
    "# Data Processing\n",
    "import pandas as pd\n",
    "import numpy as np\n",
    "\n",
    "# Data Visualization\n",
    "import seaborn as sns\n",
    "import matplotlib.pyplot as plt\n",
    "\n",
    "# Data Preparation\n",
    "from sklearn.preprocessing import RobustScaler, MinMaxScaler, LabelEncoder\n",
    "from imblearn.over_sampling import SMOTE\n",
    "\n",
    "# Feature Selection\n",
    "from sklearn.model_selection import train_test_split\n",
    "from sklearn.ensemble import RandomForestRegressor\n",
    "from boruta import BorutaPy\n",
    "\n",
    "# Model and Metrics\n",
    "from sklearn.ensemble import RandomForestClassifier\n",
    "from sklearn.metrics import confusion_matrix, classification_report\n",
    "from sklearn.model_selection import KFold, cross_val_score\n",
    "\n",
    "# Parameter and Model Saving\n",
    "import pickle\n",
    "\n",
    "# Display Jupyter\n",
    "from IPython.core.display import HTML\n",
    "from IPython.core.display import Image\n",
    "import warnings\n",
    "warnings.filterwarnings('ignore')"
   ]
  },
  {
   "cell_type": "markdown",
   "id": "a2f75a0f",
   "metadata": {},
   "source": [
    "## Helper Functions"
   ]
  },
  {
   "cell_type": "code",
   "execution_count": 2,
   "id": "e0f456c4",
   "metadata": {
    "ExecuteTime": {
     "end_time": "2023-04-18T10:11:14.497148Z",
     "start_time": "2023-04-18T10:11:14.443292Z"
    },
    "code_folding": [
     0,
     19,
     25,
     65
    ]
   },
   "outputs": [
    {
     "name": "stdout",
     "output_type": "stream",
     "text": [
      "%pylab is deprecated, use %matplotlib inline and import the required libraries.\n",
      "Populating the interactive namespace from numpy and matplotlib\n"
     ]
    },
    {
     "data": {
      "text/html": [
       "<style>.container { width:100% !important; }</style>"
      ],
      "text/plain": [
       "<IPython.core.display.HTML object>"
      ]
     },
     "metadata": {},
     "output_type": "display_data"
    }
   ],
   "source": [
    "def numeric_descriptive_statistical(numeric_attributes):\n",
    "    #Central Tendency - Mean, Median\n",
    "    mean = pd.DataFrame(numeric_attributes.apply(np.mean)).T\n",
    "    median = pd.DataFrame(numeric_attributes.apply(np.median)).T\n",
    "\n",
    "    #Dispersion - Std, Min, Max, range, skew, kurtosis\n",
    "    standard_deviation = pd.DataFrame(numeric_attributes.apply(np.std)).T\n",
    "    minimum = pd.DataFrame(numeric_attributes.apply(np.min)).T\n",
    "    maximum = pd.DataFrame(numeric_attributes.apply(np.max)).T\n",
    "    distance_between_minimum_and_maximum = pd.DataFrame(numeric_attributes.apply(lambda x: x.max() - x.min())).T\n",
    "    skewness = pd.DataFrame(numeric_attributes.apply(lambda x: x.skew())).T\n",
    "    kurtosis = pd.DataFrame(numeric_attributes.apply(lambda x: x.kurtosis())).T\n",
    "\n",
    "    #concatenate\n",
    "    vizualizer_descriptive_statistical = pd.concat([minimum, maximum, distance_between_minimum_and_maximum, mean, median, standard_deviation, skewness, kurtosis]).T.reset_index()\n",
    "    vizualizer_descriptive_statistical.columns = ['attributes', 'min', 'max', 'range', 'mean', 'median', 'std', 'skew', 'kurtosis']\n",
    "\n",
    "    return vizualizer_descriptive_statistical\n",
    "\n",
    "def n_bins(numeric_column):\n",
    "    n = numeric_column.shape[0]\n",
    "    k = round(1 + (3.3 * np.log10(n)))    \n",
    "        \n",
    "    return k\n",
    "\n",
    "def show_univariate_numeric_distribution(numeric_column, bins, title, ylabel, xlabel):\n",
    "    # Get statistics\n",
    "    min_val = numeric_column.min()\n",
    "    max_val = numeric_column.max()\n",
    "    mean_val = numeric_column.mean()\n",
    "    med_val = numeric_column.median()\n",
    "    mod_val = numeric_column.mode()[0]\n",
    "    \n",
    "    print('Mínimo:{:.2f}\\nMédia:{:.2f}\\nMediana:{:.2f}\\nModa:{:.2f}\\nMáximo:{:.2f}\\n'.format(min_val,\n",
    "                                                                                            mean_val,\n",
    "                                                                                            med_val,\n",
    "                                                                                            mod_val,\n",
    "                                                                                            max_val))\n",
    "\n",
    "\n",
    "    # Create a figure for 2 subplots (2 rows, 1 column)\n",
    "    fig, ax = plt.subplots(2, 1, figsize = (18,6))\n",
    "\n",
    "    # Plot the histogram   \n",
    "    ax[0].hist(numeric_column, bins= bins)\n",
    "    ax[0].set_ylabel(ylabel)\n",
    "\n",
    "    # Add lines for the mean, median, and mode\n",
    "    ax[0].axvline(x=min_val, color = 'gray', linestyle='dashed', linewidth = 2)\n",
    "    ax[0].axvline(x=mean_val, color = 'cyan', linestyle='dashed', linewidth = 2)\n",
    "    ax[0].axvline(x=med_val, color = 'red', linestyle='dashed', linewidth = 2)\n",
    "    ax[0].axvline(x=mod_val, color = 'yellow', linestyle='dashed', linewidth = 2)\n",
    "    ax[0].axvline(x=max_val, color = 'gray', linestyle='dashed', linewidth = 2)\n",
    "\n",
    "    # Plot the boxplot   \n",
    "    ax[1].boxplot(numeric_column, vert=False)\n",
    "    ax[1].set_xlabel(xlabel)\n",
    "\n",
    "    # Add a title to the Figure\n",
    "    fig.suptitle(title)\n",
    "    \n",
    "    fig.show()\n",
    "    \n",
    "    return  None\n",
    "\n",
    "def jupyter_settings():\n",
    "    %matplotlib inline\n",
    "    %pylab inline\n",
    "    plt.style.use( 'bmh' )\n",
    "    plt.rcParams['figure.figsize'] = [10, 5]\n",
    "    plt.rcParams['font.size'] = 24\n",
    "    display(HTML('<style>.container { width:100% !important; }</style>'))\n",
    "    pd.options.display.max_columns = 50\n",
    "    pd.options.display.max_rows= False\n",
    "    pd.set_option( 'display.expand_frame_repr', False )\n",
    "    sns.set()\n",
    "jupyter_settings()"
   ]
  },
  {
   "cell_type": "markdown",
   "id": "4b95e08f",
   "metadata": {},
   "source": [
    "## Load Data"
   ]
  },
  {
   "cell_type": "code",
   "execution_count": 3,
   "id": "ef805445",
   "metadata": {
    "ExecuteTime": {
     "end_time": "2023-04-18T10:11:14.570460Z",
     "start_time": "2023-04-18T10:11:14.501430Z"
    },
    "hide_input": true
   },
   "outputs": [
    {
     "data": {
      "text/html": [
       "<div>\n",
       "<style scoped>\n",
       "    .dataframe tbody tr th:only-of-type {\n",
       "        vertical-align: middle;\n",
       "    }\n",
       "\n",
       "    .dataframe tbody tr th {\n",
       "        vertical-align: top;\n",
       "    }\n",
       "\n",
       "    .dataframe thead th {\n",
       "        text-align: right;\n",
       "    }\n",
       "</style>\n",
       "<table border=\"1\" class=\"dataframe\">\n",
       "  <thead>\n",
       "    <tr style=\"text-align: right;\">\n",
       "      <th></th>\n",
       "      <th>RowNumber</th>\n",
       "      <th>CustomerId</th>\n",
       "      <th>Surname</th>\n",
       "      <th>CreditScore</th>\n",
       "      <th>Geography</th>\n",
       "      <th>Gender</th>\n",
       "      <th>Age</th>\n",
       "      <th>Tenure</th>\n",
       "      <th>Balance</th>\n",
       "      <th>NumOfProducts</th>\n",
       "      <th>HasCrCard</th>\n",
       "      <th>IsActiveMember</th>\n",
       "      <th>EstimatedSalary</th>\n",
       "      <th>Exited</th>\n",
       "    </tr>\n",
       "  </thead>\n",
       "  <tbody>\n",
       "    <tr>\n",
       "      <th>0</th>\n",
       "      <td>1</td>\n",
       "      <td>15634602</td>\n",
       "      <td>Hargrave</td>\n",
       "      <td>619</td>\n",
       "      <td>France</td>\n",
       "      <td>Female</td>\n",
       "      <td>42</td>\n",
       "      <td>2</td>\n",
       "      <td>0.00</td>\n",
       "      <td>1</td>\n",
       "      <td>1</td>\n",
       "      <td>1</td>\n",
       "      <td>101348.88</td>\n",
       "      <td>1</td>\n",
       "    </tr>\n",
       "    <tr>\n",
       "      <th>1</th>\n",
       "      <td>2</td>\n",
       "      <td>15647311</td>\n",
       "      <td>Hill</td>\n",
       "      <td>608</td>\n",
       "      <td>Spain</td>\n",
       "      <td>Female</td>\n",
       "      <td>41</td>\n",
       "      <td>1</td>\n",
       "      <td>83807.86</td>\n",
       "      <td>1</td>\n",
       "      <td>0</td>\n",
       "      <td>1</td>\n",
       "      <td>112542.58</td>\n",
       "      <td>0</td>\n",
       "    </tr>\n",
       "    <tr>\n",
       "      <th>2</th>\n",
       "      <td>3</td>\n",
       "      <td>15619304</td>\n",
       "      <td>Onio</td>\n",
       "      <td>502</td>\n",
       "      <td>France</td>\n",
       "      <td>Female</td>\n",
       "      <td>42</td>\n",
       "      <td>8</td>\n",
       "      <td>159660.80</td>\n",
       "      <td>3</td>\n",
       "      <td>1</td>\n",
       "      <td>0</td>\n",
       "      <td>113931.57</td>\n",
       "      <td>1</td>\n",
       "    </tr>\n",
       "    <tr>\n",
       "      <th>3</th>\n",
       "      <td>4</td>\n",
       "      <td>15701354</td>\n",
       "      <td>Boni</td>\n",
       "      <td>699</td>\n",
       "      <td>France</td>\n",
       "      <td>Female</td>\n",
       "      <td>39</td>\n",
       "      <td>1</td>\n",
       "      <td>0.00</td>\n",
       "      <td>2</td>\n",
       "      <td>0</td>\n",
       "      <td>0</td>\n",
       "      <td>93826.63</td>\n",
       "      <td>0</td>\n",
       "    </tr>\n",
       "    <tr>\n",
       "      <th>4</th>\n",
       "      <td>5</td>\n",
       "      <td>15737888</td>\n",
       "      <td>Mitchell</td>\n",
       "      <td>850</td>\n",
       "      <td>Spain</td>\n",
       "      <td>Female</td>\n",
       "      <td>43</td>\n",
       "      <td>2</td>\n",
       "      <td>125510.82</td>\n",
       "      <td>1</td>\n",
       "      <td>1</td>\n",
       "      <td>1</td>\n",
       "      <td>79084.10</td>\n",
       "      <td>0</td>\n",
       "    </tr>\n",
       "    <tr>\n",
       "      <th>5</th>\n",
       "      <td>6</td>\n",
       "      <td>15574012</td>\n",
       "      <td>Chu</td>\n",
       "      <td>645</td>\n",
       "      <td>Spain</td>\n",
       "      <td>Male</td>\n",
       "      <td>44</td>\n",
       "      <td>8</td>\n",
       "      <td>113755.78</td>\n",
       "      <td>2</td>\n",
       "      <td>1</td>\n",
       "      <td>0</td>\n",
       "      <td>149756.71</td>\n",
       "      <td>1</td>\n",
       "    </tr>\n",
       "    <tr>\n",
       "      <th>6</th>\n",
       "      <td>7</td>\n",
       "      <td>15592531</td>\n",
       "      <td>Bartlett</td>\n",
       "      <td>822</td>\n",
       "      <td>France</td>\n",
       "      <td>Male</td>\n",
       "      <td>50</td>\n",
       "      <td>7</td>\n",
       "      <td>0.00</td>\n",
       "      <td>2</td>\n",
       "      <td>1</td>\n",
       "      <td>1</td>\n",
       "      <td>10062.80</td>\n",
       "      <td>0</td>\n",
       "    </tr>\n",
       "    <tr>\n",
       "      <th>7</th>\n",
       "      <td>8</td>\n",
       "      <td>15656148</td>\n",
       "      <td>Obinna</td>\n",
       "      <td>376</td>\n",
       "      <td>Germany</td>\n",
       "      <td>Female</td>\n",
       "      <td>29</td>\n",
       "      <td>4</td>\n",
       "      <td>115046.74</td>\n",
       "      <td>4</td>\n",
       "      <td>1</td>\n",
       "      <td>0</td>\n",
       "      <td>119346.88</td>\n",
       "      <td>1</td>\n",
       "    </tr>\n",
       "    <tr>\n",
       "      <th>8</th>\n",
       "      <td>9</td>\n",
       "      <td>15792365</td>\n",
       "      <td>He</td>\n",
       "      <td>501</td>\n",
       "      <td>France</td>\n",
       "      <td>Male</td>\n",
       "      <td>44</td>\n",
       "      <td>4</td>\n",
       "      <td>142051.07</td>\n",
       "      <td>2</td>\n",
       "      <td>0</td>\n",
       "      <td>1</td>\n",
       "      <td>74940.50</td>\n",
       "      <td>0</td>\n",
       "    </tr>\n",
       "    <tr>\n",
       "      <th>...</th>\n",
       "      <td>...</td>\n",
       "      <td>...</td>\n",
       "      <td>...</td>\n",
       "      <td>...</td>\n",
       "      <td>...</td>\n",
       "      <td>...</td>\n",
       "      <td>...</td>\n",
       "      <td>...</td>\n",
       "      <td>...</td>\n",
       "      <td>...</td>\n",
       "      <td>...</td>\n",
       "      <td>...</td>\n",
       "      <td>...</td>\n",
       "      <td>...</td>\n",
       "    </tr>\n",
       "    <tr>\n",
       "      <th>9991</th>\n",
       "      <td>9992</td>\n",
       "      <td>15769959</td>\n",
       "      <td>Ajuluchukwu</td>\n",
       "      <td>597</td>\n",
       "      <td>France</td>\n",
       "      <td>Female</td>\n",
       "      <td>53</td>\n",
       "      <td>4</td>\n",
       "      <td>88381.21</td>\n",
       "      <td>1</td>\n",
       "      <td>1</td>\n",
       "      <td>0</td>\n",
       "      <td>69384.71</td>\n",
       "      <td>1</td>\n",
       "    </tr>\n",
       "    <tr>\n",
       "      <th>9992</th>\n",
       "      <td>9993</td>\n",
       "      <td>15657105</td>\n",
       "      <td>Chukwualuka</td>\n",
       "      <td>726</td>\n",
       "      <td>Spain</td>\n",
       "      <td>Male</td>\n",
       "      <td>36</td>\n",
       "      <td>2</td>\n",
       "      <td>0.00</td>\n",
       "      <td>1</td>\n",
       "      <td>1</td>\n",
       "      <td>0</td>\n",
       "      <td>195192.40</td>\n",
       "      <td>0</td>\n",
       "    </tr>\n",
       "    <tr>\n",
       "      <th>9993</th>\n",
       "      <td>9994</td>\n",
       "      <td>15569266</td>\n",
       "      <td>Rahman</td>\n",
       "      <td>644</td>\n",
       "      <td>France</td>\n",
       "      <td>Male</td>\n",
       "      <td>28</td>\n",
       "      <td>7</td>\n",
       "      <td>155060.41</td>\n",
       "      <td>1</td>\n",
       "      <td>1</td>\n",
       "      <td>0</td>\n",
       "      <td>29179.52</td>\n",
       "      <td>0</td>\n",
       "    </tr>\n",
       "    <tr>\n",
       "      <th>9994</th>\n",
       "      <td>9995</td>\n",
       "      <td>15719294</td>\n",
       "      <td>Wood</td>\n",
       "      <td>800</td>\n",
       "      <td>France</td>\n",
       "      <td>Female</td>\n",
       "      <td>29</td>\n",
       "      <td>2</td>\n",
       "      <td>0.00</td>\n",
       "      <td>2</td>\n",
       "      <td>0</td>\n",
       "      <td>0</td>\n",
       "      <td>167773.55</td>\n",
       "      <td>0</td>\n",
       "    </tr>\n",
       "    <tr>\n",
       "      <th>9995</th>\n",
       "      <td>9996</td>\n",
       "      <td>15606229</td>\n",
       "      <td>Obijiaku</td>\n",
       "      <td>771</td>\n",
       "      <td>France</td>\n",
       "      <td>Male</td>\n",
       "      <td>39</td>\n",
       "      <td>5</td>\n",
       "      <td>0.00</td>\n",
       "      <td>2</td>\n",
       "      <td>1</td>\n",
       "      <td>0</td>\n",
       "      <td>96270.64</td>\n",
       "      <td>0</td>\n",
       "    </tr>\n",
       "    <tr>\n",
       "      <th>9996</th>\n",
       "      <td>9997</td>\n",
       "      <td>15569892</td>\n",
       "      <td>Johnstone</td>\n",
       "      <td>516</td>\n",
       "      <td>France</td>\n",
       "      <td>Male</td>\n",
       "      <td>35</td>\n",
       "      <td>10</td>\n",
       "      <td>57369.61</td>\n",
       "      <td>1</td>\n",
       "      <td>1</td>\n",
       "      <td>1</td>\n",
       "      <td>101699.77</td>\n",
       "      <td>0</td>\n",
       "    </tr>\n",
       "    <tr>\n",
       "      <th>9997</th>\n",
       "      <td>9998</td>\n",
       "      <td>15584532</td>\n",
       "      <td>Liu</td>\n",
       "      <td>709</td>\n",
       "      <td>France</td>\n",
       "      <td>Female</td>\n",
       "      <td>36</td>\n",
       "      <td>7</td>\n",
       "      <td>0.00</td>\n",
       "      <td>1</td>\n",
       "      <td>0</td>\n",
       "      <td>1</td>\n",
       "      <td>42085.58</td>\n",
       "      <td>1</td>\n",
       "    </tr>\n",
       "    <tr>\n",
       "      <th>9998</th>\n",
       "      <td>9999</td>\n",
       "      <td>15682355</td>\n",
       "      <td>Sabbatini</td>\n",
       "      <td>772</td>\n",
       "      <td>Germany</td>\n",
       "      <td>Male</td>\n",
       "      <td>42</td>\n",
       "      <td>3</td>\n",
       "      <td>75075.31</td>\n",
       "      <td>2</td>\n",
       "      <td>1</td>\n",
       "      <td>0</td>\n",
       "      <td>92888.52</td>\n",
       "      <td>1</td>\n",
       "    </tr>\n",
       "    <tr>\n",
       "      <th>9999</th>\n",
       "      <td>10000</td>\n",
       "      <td>15628319</td>\n",
       "      <td>Walker</td>\n",
       "      <td>792</td>\n",
       "      <td>France</td>\n",
       "      <td>Female</td>\n",
       "      <td>28</td>\n",
       "      <td>4</td>\n",
       "      <td>130142.79</td>\n",
       "      <td>1</td>\n",
       "      <td>1</td>\n",
       "      <td>0</td>\n",
       "      <td>38190.78</td>\n",
       "      <td>0</td>\n",
       "    </tr>\n",
       "  </tbody>\n",
       "</table>\n",
       "<p>10000 rows × 14 columns</p>\n",
       "</div>"
      ],
      "text/plain": [
       "      RowNumber  CustomerId      Surname  CreditScore Geography  Gender  Age  Tenure    Balance  NumOfProducts  HasCrCard  IsActiveMember  EstimatedSalary  Exited\n",
       "0             1    15634602     Hargrave          619    France  Female   42       2       0.00              1          1               1        101348.88       1\n",
       "1             2    15647311         Hill          608     Spain  Female   41       1   83807.86              1          0               1        112542.58       0\n",
       "2             3    15619304         Onio          502    France  Female   42       8  159660.80              3          1               0        113931.57       1\n",
       "3             4    15701354         Boni          699    France  Female   39       1       0.00              2          0               0         93826.63       0\n",
       "4             5    15737888     Mitchell          850     Spain  Female   43       2  125510.82              1          1               1         79084.10       0\n",
       "5             6    15574012          Chu          645     Spain    Male   44       8  113755.78              2          1               0        149756.71       1\n",
       "6             7    15592531     Bartlett          822    France    Male   50       7       0.00              2          1               1         10062.80       0\n",
       "7             8    15656148       Obinna          376   Germany  Female   29       4  115046.74              4          1               0        119346.88       1\n",
       "8             9    15792365           He          501    France    Male   44       4  142051.07              2          0               1         74940.50       0\n",
       "...         ...         ...          ...          ...       ...     ...  ...     ...        ...            ...        ...             ...              ...     ...\n",
       "9991       9992    15769959  Ajuluchukwu          597    France  Female   53       4   88381.21              1          1               0         69384.71       1\n",
       "9992       9993    15657105  Chukwualuka          726     Spain    Male   36       2       0.00              1          1               0        195192.40       0\n",
       "9993       9994    15569266       Rahman          644    France    Male   28       7  155060.41              1          1               0         29179.52       0\n",
       "9994       9995    15719294         Wood          800    France  Female   29       2       0.00              2          0               0        167773.55       0\n",
       "9995       9996    15606229     Obijiaku          771    France    Male   39       5       0.00              2          1               0         96270.64       0\n",
       "9996       9997    15569892    Johnstone          516    France    Male   35      10   57369.61              1          1               1        101699.77       0\n",
       "9997       9998    15584532          Liu          709    France  Female   36       7       0.00              1          0               1         42085.58       1\n",
       "9998       9999    15682355    Sabbatini          772   Germany    Male   42       3   75075.31              2          1               0         92888.52       1\n",
       "9999      10000    15628319       Walker          792    France  Female   28       4  130142.79              1          1               0         38190.78       0\n",
       "\n",
       "[10000 rows x 14 columns]"
      ]
     },
     "execution_count": 3,
     "metadata": {},
     "output_type": "execute_result"
    }
   ],
   "source": [
    "data_raw = pd.read_csv('../data/churn.csv')\n",
    "data_raw"
   ]
  },
  {
   "cell_type": "markdown",
   "id": "bd6388e2",
   "metadata": {},
   "source": [
    "# Data Description"
   ]
  },
  {
   "cell_type": "code",
   "execution_count": 4,
   "id": "365cbae4",
   "metadata": {
    "ExecuteTime": {
     "end_time": "2023-04-18T10:11:14.577639Z",
     "start_time": "2023-04-18T10:11:14.573068Z"
    },
    "hide_input": true
   },
   "outputs": [],
   "source": [
    "df2 = data_raw.copy()"
   ]
  },
  {
   "cell_type": "markdown",
   "id": "fc15f089",
   "metadata": {},
   "source": [
    "## Meaning of Data"
   ]
  },
  {
   "cell_type": "markdown",
   "id": "66eed6f6",
   "metadata": {},
   "source": [
    "- **RowNumber**: o número das colunas\n",
    "- **CustomerID**: identificador único de clientes\n",
    "- **Surname**: sobrenome do cliente\n",
    "- **CreditScore**: pontuação de crédito do cliente para o mercado financeiro (quanto maior o score, é um bom pagador)\n",
    "- **Geography**: o país do cliente\n",
    "- **Gender**: o gênero do cliente\n",
    "- **Age**: a idade do cliente\n",
    "- **Tenure**: número de anos que o cliente está no banco\n",
    "- **Balance**: o valor que o cliente tem em sua conta\n",
    "- **NumOfProducts**: o número de produtos que o cliente comprou (no caso, contas)\n",
    "- **HasCrCard**: se o cliente tiver cartão de crédito\n",
    "- **IsActiveMember**: se o cliente estiver ativo (nos últimos 12 meses)\n",
    "- **EstimateSalary**: estimativa de salário anual dos clientes\n",
    "- **Exited**: se o cliente for churn (*variável resposta*)"
   ]
  },
  {
   "cell_type": "markdown",
   "id": "90160429",
   "metadata": {},
   "source": [
    "## Rename Columns"
   ]
  },
  {
   "cell_type": "code",
   "execution_count": 5,
   "id": "31dc2087",
   "metadata": {
    "ExecuteTime": {
     "end_time": "2023-04-18T10:11:14.589450Z",
     "start_time": "2023-04-18T10:11:14.579458Z"
    }
   },
   "outputs": [
    {
     "data": {
      "text/html": [
       "<div>\n",
       "<style scoped>\n",
       "    .dataframe tbody tr th:only-of-type {\n",
       "        vertical-align: middle;\n",
       "    }\n",
       "\n",
       "    .dataframe tbody tr th {\n",
       "        vertical-align: top;\n",
       "    }\n",
       "\n",
       "    .dataframe thead th {\n",
       "        text-align: right;\n",
       "    }\n",
       "</style>\n",
       "<table border=\"1\" class=\"dataframe\">\n",
       "  <thead>\n",
       "    <tr style=\"text-align: right;\">\n",
       "      <th></th>\n",
       "      <th>numero_linha</th>\n",
       "      <th>id_cliente</th>\n",
       "      <th>sobrenome</th>\n",
       "      <th>score_credito</th>\n",
       "      <th>geografia</th>\n",
       "      <th>genero</th>\n",
       "      <th>idade</th>\n",
       "      <th>tempo_permanencia</th>\n",
       "      <th>saldo</th>\n",
       "      <th>numero_de_contas</th>\n",
       "      <th>tem_cartao_credito</th>\n",
       "      <th>membro_ativo</th>\n",
       "      <th>salario_estimado</th>\n",
       "      <th>Churn</th>\n",
       "    </tr>\n",
       "  </thead>\n",
       "  <tbody>\n",
       "    <tr>\n",
       "      <th>0</th>\n",
       "      <td>1</td>\n",
       "      <td>15634602</td>\n",
       "      <td>Hargrave</td>\n",
       "      <td>619</td>\n",
       "      <td>France</td>\n",
       "      <td>Female</td>\n",
       "      <td>42</td>\n",
       "      <td>2</td>\n",
       "      <td>0.0</td>\n",
       "      <td>1</td>\n",
       "      <td>1</td>\n",
       "      <td>1</td>\n",
       "      <td>101348.88</td>\n",
       "      <td>1</td>\n",
       "    </tr>\n",
       "  </tbody>\n",
       "</table>\n",
       "</div>"
      ],
      "text/plain": [
       "   numero_linha  id_cliente sobrenome  score_credito geografia  genero  idade  tempo_permanencia  saldo  numero_de_contas  tem_cartao_credito  membro_ativo  salario_estimado  Churn\n",
       "0             1    15634602  Hargrave            619    France  Female     42                  2    0.0                 1                   1             1         101348.88      1"
      ]
     },
     "execution_count": 5,
     "metadata": {},
     "output_type": "execute_result"
    }
   ],
   "source": [
    "renamed_columns = ['numero_linha', 'id_cliente', 'sobrenome', 'score_credito', 'geografia', 'genero', 'idade', 'tempo_permanencia', \n",
    "                   'saldo', 'numero_de_contas', 'tem_cartao_credito', 'membro_ativo', 'salario_estimado', 'Churn']\n",
    "df2.columns = renamed_columns\n",
    "\n",
    "df2.head(1)"
   ]
  },
  {
   "cell_type": "markdown",
   "id": "40b9fc92",
   "metadata": {},
   "source": [
    "## Data Dimensions"
   ]
  },
  {
   "cell_type": "code",
   "execution_count": 6,
   "id": "c5ee3c21",
   "metadata": {
    "ExecuteTime": {
     "end_time": "2023-04-18T10:11:14.597295Z",
     "start_time": "2023-04-18T10:11:14.591114Z"
    },
    "hide_input": true
   },
   "outputs": [
    {
     "name": "stdout",
     "output_type": "stream",
     "text": [
      "A base de dados possui 10000 clientes e 14 variáveis.\n"
     ]
    }
   ],
   "source": [
    "data_dimensions = df2.shape\n",
    "print(f'A base de dados possui {data_dimensions[0]} clientes e {data_dimensions[1]} variáveis.')"
   ]
  },
  {
   "cell_type": "markdown",
   "id": "7fc99b7c",
   "metadata": {},
   "source": [
    "## Data Types"
   ]
  },
  {
   "cell_type": "code",
   "execution_count": 7,
   "id": "fc85affc",
   "metadata": {
    "ExecuteTime": {
     "end_time": "2023-04-18T10:11:14.606221Z",
     "start_time": "2023-04-18T10:11:14.599282Z"
    },
    "hide_input": true
   },
   "outputs": [
    {
     "data": {
      "text/plain": [
       "numero_linha            int64\n",
       "id_cliente              int64\n",
       "sobrenome              object\n",
       "score_credito           int64\n",
       "geografia              object\n",
       "genero                 object\n",
       "idade                   int64\n",
       "tempo_permanencia       int64\n",
       "saldo                 float64\n",
       "numero_de_contas        int64\n",
       "tem_cartao_credito      int64\n",
       "membro_ativo            int64\n",
       "salario_estimado      float64\n",
       "Churn                   int64\n",
       "dtype: object"
      ]
     },
     "execution_count": 7,
     "metadata": {},
     "output_type": "execute_result"
    }
   ],
   "source": [
    "df2.dtypes"
   ]
  },
  {
   "cell_type": "markdown",
   "id": "1b54374f",
   "metadata": {},
   "source": [
    "### Change Data Types"
   ]
  },
  {
   "cell_type": "code",
   "execution_count": 8,
   "id": "9377517d",
   "metadata": {
    "ExecuteTime": {
     "end_time": "2023-04-18T10:11:14.623880Z",
     "start_time": "2023-04-18T10:11:14.608374Z"
    }
   },
   "outputs": [
    {
     "data": {
      "text/plain": [
       "numero_linha            int64\n",
       "id_cliente              int64\n",
       "sobrenome              object\n",
       "score_credito           int64\n",
       "geografia              object\n",
       "genero                 object\n",
       "idade                   int64\n",
       "tempo_permanencia       int64\n",
       "saldo                 float64\n",
       "numero_de_contas        int64\n",
       "tem_cartao_credito     object\n",
       "membro_ativo           object\n",
       "salario_estimado      float64\n",
       "Churn                  object\n",
       "dtype: object"
      ]
     },
     "execution_count": 8,
     "metadata": {},
     "output_type": "execute_result"
    }
   ],
   "source": [
    "# Alterando o tipo de dados das colunas binárias: 'tem_cartao_credito', 'membro_ativo' e 'Churn'\n",
    "categorical_columns = ['tem_cartao_credito', 'membro_ativo', 'Churn']\n",
    "\n",
    "for columns in categorical_columns:\n",
    "    df2[columns] = df2[columns].apply(lambda x: 'yes' if x == 1 else 'no')\n",
    "    \n",
    "df2.dtypes"
   ]
  },
  {
   "cell_type": "markdown",
   "id": "69865c50",
   "metadata": {},
   "source": [
    "## Check Duplicates"
   ]
  },
  {
   "cell_type": "code",
   "execution_count": 9,
   "id": "8bbf8203",
   "metadata": {
    "ExecuteTime": {
     "end_time": "2023-04-18T10:11:14.636455Z",
     "start_time": "2023-04-18T10:11:14.625990Z"
    }
   },
   "outputs": [
    {
     "data": {
      "text/html": [
       "<div>\n",
       "<style scoped>\n",
       "    .dataframe tbody tr th:only-of-type {\n",
       "        vertical-align: middle;\n",
       "    }\n",
       "\n",
       "    .dataframe tbody tr th {\n",
       "        vertical-align: top;\n",
       "    }\n",
       "\n",
       "    .dataframe thead th {\n",
       "        text-align: right;\n",
       "    }\n",
       "</style>\n",
       "<table border=\"1\" class=\"dataframe\">\n",
       "  <thead>\n",
       "    <tr style=\"text-align: right;\">\n",
       "      <th></th>\n",
       "      <th>numero_linha</th>\n",
       "      <th>id_cliente</th>\n",
       "      <th>sobrenome</th>\n",
       "      <th>score_credito</th>\n",
       "      <th>geografia</th>\n",
       "      <th>genero</th>\n",
       "      <th>idade</th>\n",
       "      <th>tempo_permanencia</th>\n",
       "      <th>saldo</th>\n",
       "      <th>numero_de_contas</th>\n",
       "      <th>tem_cartao_credito</th>\n",
       "      <th>membro_ativo</th>\n",
       "      <th>salario_estimado</th>\n",
       "      <th>Churn</th>\n",
       "    </tr>\n",
       "  </thead>\n",
       "  <tbody>\n",
       "  </tbody>\n",
       "</table>\n",
       "</div>"
      ],
      "text/plain": [
       "Empty DataFrame\n",
       "Columns: [numero_linha, id_cliente, sobrenome, score_credito, geografia, genero, idade, tempo_permanencia, saldo, numero_de_contas, tem_cartao_credito, membro_ativo, salario_estimado, Churn]\n",
       "Index: []"
      ]
     },
     "execution_count": 9,
     "metadata": {},
     "output_type": "execute_result"
    }
   ],
   "source": [
    "df2[df2.duplicated('id_cliente', False)]"
   ]
  },
  {
   "cell_type": "markdown",
   "id": "35d3c813",
   "metadata": {},
   "source": [
    "- A base não possui dados duplicados."
   ]
  },
  {
   "cell_type": "markdown",
   "id": "d5a9c99c",
   "metadata": {},
   "source": [
    "## Check NaN and Null Values"
   ]
  },
  {
   "cell_type": "code",
   "execution_count": 10,
   "id": "4d8a9bd8",
   "metadata": {
    "ExecuteTime": {
     "end_time": "2023-04-18T10:11:14.653620Z",
     "start_time": "2023-04-18T10:11:14.641186Z"
    },
    "cell_style": "split",
    "hide_input": false
   },
   "outputs": [
    {
     "data": {
      "text/plain": [
       "numero_linha          0\n",
       "id_cliente            0\n",
       "sobrenome             0\n",
       "score_credito         0\n",
       "geografia             0\n",
       "genero                0\n",
       "idade                 0\n",
       "tempo_permanencia     0\n",
       "saldo                 0\n",
       "numero_de_contas      0\n",
       "tem_cartao_credito    0\n",
       "membro_ativo          0\n",
       "salario_estimado      0\n",
       "Churn                 0\n",
       "dtype: int64"
      ]
     },
     "execution_count": 10,
     "metadata": {},
     "output_type": "execute_result"
    }
   ],
   "source": [
    "# Dados NaN\n",
    "df2.isna().sum()"
   ]
  },
  {
   "cell_type": "code",
   "execution_count": 11,
   "id": "d02b4c14",
   "metadata": {
    "ExecuteTime": {
     "end_time": "2023-04-18T10:11:14.670642Z",
     "start_time": "2023-04-18T10:11:14.657197Z"
    },
    "cell_style": "split",
    "hide_input": false
   },
   "outputs": [
    {
     "data": {
      "text/plain": [
       "numero_linha          0\n",
       "id_cliente            0\n",
       "sobrenome             0\n",
       "score_credito         0\n",
       "geografia             0\n",
       "genero                0\n",
       "idade                 0\n",
       "tempo_permanencia     0\n",
       "saldo                 0\n",
       "numero_de_contas      0\n",
       "tem_cartao_credito    0\n",
       "membro_ativo          0\n",
       "salario_estimado      0\n",
       "Churn                 0\n",
       "dtype: int64"
      ]
     },
     "execution_count": 11,
     "metadata": {},
     "output_type": "execute_result"
    }
   ],
   "source": [
    "# Dados Null\n",
    "df2.isnull().sum()"
   ]
  },
  {
   "cell_type": "markdown",
   "id": "5557c01e",
   "metadata": {},
   "source": [
    "- A base não possui dados faltantes."
   ]
  },
  {
   "cell_type": "markdown",
   "id": "b606e139",
   "metadata": {},
   "source": [
    "## Check Zero Values"
   ]
  },
  {
   "cell_type": "code",
   "execution_count": 12,
   "id": "b0ca955e",
   "metadata": {
    "ExecuteTime": {
     "end_time": "2023-04-18T10:11:14.684675Z",
     "start_time": "2023-04-18T10:11:14.673291Z"
    },
    "hide_input": true
   },
   "outputs": [
    {
     "data": {
      "text/plain": [
       "numero_linha            int64\n",
       "id_cliente              int64\n",
       "sobrenome              object\n",
       "score_credito           int64\n",
       "geografia              object\n",
       "genero                 object\n",
       "idade                   int64\n",
       "tempo_permanencia       int64\n",
       "saldo                 float64\n",
       "numero_de_contas        int64\n",
       "tem_cartao_credito     object\n",
       "membro_ativo           object\n",
       "salario_estimado      float64\n",
       "Churn                  object\n",
       "dtype: object"
      ]
     },
     "execution_count": 12,
     "metadata": {},
     "output_type": "execute_result"
    }
   ],
   "source": [
    "df2.dtypes"
   ]
  },
  {
   "cell_type": "code",
   "execution_count": 13,
   "id": "4a8cee0a",
   "metadata": {
    "ExecuteTime": {
     "end_time": "2023-04-18T10:11:14.718161Z",
     "start_time": "2023-04-18T10:11:14.687011Z"
    }
   },
   "outputs": [],
   "source": [
    "# Transfomando valores diferentes de 0 em \"another value\" em todas as variáveis numéricas\n",
    "numerical_variables = df2.select_dtypes(include= ['int64', 'float64']).columns\n",
    "numerical_variables_verify = df2[numerical_variables]\n",
    "\n",
    "for column in numerical_variables_verify.columns:\n",
    "    numerical_variables_verify[column] = numerical_variables_verify[column].apply(lambda x: '0' if x == 0 else 'another value')"
   ]
  },
  {
   "cell_type": "code",
   "execution_count": 14,
   "id": "2c3df7c5",
   "metadata": {
    "ExecuteTime": {
     "end_time": "2023-04-18T10:11:14.733286Z",
     "start_time": "2023-04-18T10:11:14.720690Z"
    }
   },
   "outputs": [
    {
     "data": {
      "text/plain": [
       "numero_linha            [another value]\n",
       "id_cliente              [another value]\n",
       "score_credito           [another value]\n",
       "idade                   [another value]\n",
       "tempo_permanencia    [another value, 0]\n",
       "saldo                [0, another value]\n",
       "numero_de_contas        [another value]\n",
       "salario_estimado        [another value]\n",
       "dtype: object"
      ]
     },
     "execution_count": 14,
     "metadata": {},
     "output_type": "execute_result"
    }
   ],
   "source": [
    "numerical_variables_verify.apply(lambda x: x.unique())"
   ]
  },
  {
   "cell_type": "markdown",
   "id": "5bde7a8e",
   "metadata": {},
   "source": [
    "- Apenas as variáveis 'tempo_permanencia' e 'saldo' possuem valores declarados como 0.\n",
    "\n",
    "De fato, apenas as colunas 'score_credito' (dependendo da regra de negócio), 'tempo_permanencia' e 'saldo' fazem sentido terem valores iguais a 0, mas ainda cabe análise."
   ]
  },
  {
   "cell_type": "code",
   "execution_count": 15,
   "id": "facad558",
   "metadata": {
    "ExecuteTime": {
     "end_time": "2023-04-18T10:11:14.746746Z",
     "start_time": "2023-04-18T10:11:14.735782Z"
    },
    "hide_input": true
   },
   "outputs": [
    {
     "name": "stdout",
     "output_type": "stream",
     "text": [
      "A coluna 'saldo' possui 36.17% registros zerados\n",
      "A coluna 'tempo_permanencia' possui 4.13% registros zerados\n"
     ]
    }
   ],
   "source": [
    "percentage_0_in_saldo = numerical_variables_verify['saldo'].value_counts()[1] / numerical_variables_verify.shape[0] * 100\n",
    "percentage_0_in_tenure = numerical_variables_verify['tempo_permanencia'].value_counts()[1] / numerical_variables_verify.shape[0] * 100\n",
    "print(f'A coluna \\'saldo\\' possui {percentage_0_in_saldo}% registros zerados')\n",
    "print(f'A coluna \\'tempo_permanencia\\' possui {percentage_0_in_tenure:.2f}% registros zerados')"
   ]
  },
  {
   "cell_type": "markdown",
   "id": "00c98def",
   "metadata": {},
   "source": [
    "- ***tempo_permanencia***: Como o conjunto de dados não possui dados temporais e registros zerados representam um pequena parte dos dados, vamos assumir que valores zerados nessa variável representam clientes que ainda não possuem 1 ano de empresa."
   ]
  },
  {
   "cell_type": "markdown",
   "id": "4ad9c921",
   "metadata": {},
   "source": [
    "## Note:\n",
    "Observações importantes:\n",
    "\n",
    "Como não existe variável temporal, identificando o momento da extração dos dados, nasce alguns questionamentos:\n",
    "\n",
    "\t1. Qual ponto no tempo a extração de dados foi feita? Qual é a relevância desse período?\n",
    "\n",
    "\t2. Se os dados foi extraído como o resumo de 1 ano, o valor de saldo representa o valor presente na conta(s) no momento da extração, o somátorio de saldo presente na(s) conta(s) durante 1 ano ou o valor máximo do saldo presente nesse período.\n",
    "\n",
    "\t3. A variável Churn significa que o cliente de fato saiu da empresa ou possui a vontade de sair. Pois se o cliente de fato saiu da empresa, existe clientes que saíram do banco, mas que ainda possuiam saldo em sua(s) conta(s).\n",
    "\n",
    "\t4. O que seria de fato 'membro_ativo', clientes que fizeram transações em todos os meses do ano, ou pelo menos uma vez durante o período de extração?\n",
    "\n",
    "Pra esse projeto, irei modelar sem a resposta dessas questões, embora, ter o contexto melhora o entendimento do problema e possivelmente melhores resultados na modelagem dos dados.\n",
    "Solução do problema de negócio:\n",
    "    \n",
    "1. Qual é a atual taxa de Churn do Top Bank?\n",
    "\n",
    "        S: Análise Univariada da variável resposta 'Churn' > plotar gráfico de barras de churns e não-churns e printar porcentagem da relação das classes\n",
    "\n",
    "\n",
    "2. Como a taxa de churn varia mensalmente?\n",
    "\n",
    "        S: Pela descrição dos dados já é possível avaliar que não existe uma variável temporal no conjunto de dados, mas a variável 'membro_ativo' e 'tempo_permanencia' está associada com a atividade durante um período de tempo, logo é possível tentar buscar uma correlação para tentar responder a segunda questão de negócio.\n",
    "        \n",
    "3. Qual é o desempenho do modelo na classificação de clientes como churns?\n",
    "\n",
    "        S: Criar modelo de classificação com as variáveis selecionadas por relevância (Análise Bivariada) e pelo Boruta.\n",
    "        \n",
    "4. Qual é o retorno esperado, em termos de receita, se a empresa utilizar seu modelo para evitar o churn de clientes?\n",
    "\n",
    "        S: Com o modelo criado, é possível estimar o retorno esperado, criando casos de deduções sobre os salários de cada cliente.\n",
    "\n",
    "Próxima versão, aprofundar raciocínios sobre valores zerados declarados na variável 'saldo':\n",
    "\n",
    "1. Para a coluna 'saldo', poderia ser uma ausência de dados de saldos de contas ou apenas são contas zeradas (pré-criadas, não movimentadas, negativadas)???\n",
    "    - conta pré-criada: não tem como checar diretamente, pois não existe variável temporal no conjunto de dados, mas a correlação entre saldos zerados com 'tempo_permanencia' curto, não'Churn', 'membro_ativo' ou não;\n",
    "    - não movimentadas: tem como checar através da variável 'membro_ativo';\n",
    "    - negativadas: não há contas com valores de 'saldo' negativo, logo, contas zeradas podem sinalizar esse comportamento? esse caso é impossível determinar, não há sinalização de negócio de que é possível fazer empréstimo por conta nesse banco e também não há variável que se associa a esse comportamento, como 'endividamento'. Logo, será desconsiderada.\n"
   ]
  },
  {
   "cell_type": "markdown",
   "id": "c408afb7",
   "metadata": {},
   "source": [
    "# Feature Engineering I (Creation of New Variables)"
   ]
  },
  {
   "cell_type": "code",
   "execution_count": 16,
   "id": "32e4bd6a",
   "metadata": {
    "ExecuteTime": {
     "end_time": "2023-04-18T10:11:14.755694Z",
     "start_time": "2023-04-18T10:11:14.749400Z"
    },
    "hide_input": false
   },
   "outputs": [],
   "source": [
    "df3 = df2.copy()"
   ]
  },
  {
   "cell_type": "markdown",
   "id": "50deba9c",
   "metadata": {},
   "source": [
    "## Note:\n",
    "Próxima versão: criação de mais features/variáveis e criação de hipóteses."
   ]
  },
  {
   "cell_type": "markdown",
   "id": "81e354e4",
   "metadata": {},
   "source": [
    "# Exploratory Data Analysis"
   ]
  },
  {
   "cell_type": "code",
   "execution_count": 17,
   "id": "dadd10f8",
   "metadata": {
    "ExecuteTime": {
     "end_time": "2023-04-18T10:11:14.762866Z",
     "start_time": "2023-04-18T10:11:14.758236Z"
    },
    "hide_input": false
   },
   "outputs": [],
   "source": [
    "df4 = df3.copy()"
   ]
  },
  {
   "cell_type": "markdown",
   "id": "01eba014",
   "metadata": {},
   "source": [
    "## Defining Variables for Analysis"
   ]
  },
  {
   "cell_type": "code",
   "execution_count": 18,
   "id": "dd89e32f",
   "metadata": {
    "ExecuteTime": {
     "end_time": "2023-04-18T10:11:14.772764Z",
     "start_time": "2023-04-18T10:11:14.766201Z"
    }
   },
   "outputs": [],
   "source": [
    "# Response Variable\n",
    "response_variable = df4['Churn']\n",
    "\n",
    "# Numeric Variables\n",
    "numeric_attributes = df4.select_dtypes(include= ['int64', 'float64'])\n",
    "\n",
    "# Categorical Variables\n",
    "categorical_attributes = df4.select_dtypes(exclude= ['int64', 'float64'])"
   ]
  },
  {
   "cell_type": "markdown",
   "id": "7bd97f5c",
   "metadata": {},
   "source": [
    "## Univariate Analysis"
   ]
  },
  {
   "cell_type": "markdown",
   "id": "5a63a129",
   "metadata": {},
   "source": [
    "### Response Variable"
   ]
  },
  {
   "cell_type": "code",
   "execution_count": 19,
   "id": "03794278",
   "metadata": {
    "ExecuteTime": {
     "end_time": "2023-04-18T10:11:14.952232Z",
     "start_time": "2023-04-18T10:11:14.774603Z"
    },
    "hide_input": true
   },
   "outputs": [
    {
     "data": {
      "image/png": "[encoded data removed]",
      "text/plain": [
       "<Figure size 1000x500 with 1 Axes>"
      ]
     },
     "metadata": {},
     "output_type": "display_data"
    }
   ],
   "source": [
    "sns.countplot(x= response_variable, palette= \"light:b_r\");"
   ]
  },
  {
   "cell_type": "code",
   "execution_count": 20,
   "id": "eaed7ea8",
   "metadata": {
    "ExecuteTime": {
     "end_time": "2023-04-18T10:11:14.969200Z",
     "start_time": "2023-04-18T10:11:14.955517Z"
    },
    "hide_input": true
   },
   "outputs": [
    {
     "name": "stdout",
     "output_type": "stream",
     "text": [
      "Clientes que irão dar Churn correspondem a 20.37%  da base de dados e clientes que não irão dar Churn correspondem a 79.63% da base de dados.\n"
     ]
    }
   ],
   "source": [
    "percentage_no_churn = df4[['id_cliente', 'Churn']].loc[df4['Churn'] == 'no'].shape[0] / df4.shape[0] * 100\n",
    "percentage_yes_churn = df4[['id_cliente', 'Churn']].loc[df4['Churn'] == 'yes'].shape[0] / df4.shape[0] * 100\n",
    "print(f'Clientes que irão dar Churn correspondem a {percentage_yes_churn:.2f}%  da base de dados e clientes que não irão dar Churn correspondem a {percentage_no_churn:.2f}% da base de dados.')"
   ]
  },
  {
   "cell_type": "markdown",
   "id": "815e50a9",
   "metadata": {},
   "source": [
    "- É evidente que a variável resposta possui classes desbalanceadas"
   ]
  },
  {
   "cell_type": "markdown",
   "id": "9911406d",
   "metadata": {},
   "source": [
    "### Numeric Variables"
   ]
  },
  {
   "cell_type": "code",
   "execution_count": 21,
   "id": "c27a47e1",
   "metadata": {
    "ExecuteTime": {
     "end_time": "2023-04-18T10:11:14.999759Z",
     "start_time": "2023-04-18T10:11:14.971720Z"
    },
    "hide_input": true
   },
   "outputs": [
    {
     "data": {
      "text/html": [
       "<div>\n",
       "<style scoped>\n",
       "    .dataframe tbody tr th:only-of-type {\n",
       "        vertical-align: middle;\n",
       "    }\n",
       "\n",
       "    .dataframe tbody tr th {\n",
       "        vertical-align: top;\n",
       "    }\n",
       "\n",
       "    .dataframe thead th {\n",
       "        text-align: right;\n",
       "    }\n",
       "</style>\n",
       "<table border=\"1\" class=\"dataframe\">\n",
       "  <thead>\n",
       "    <tr style=\"text-align: right;\">\n",
       "      <th></th>\n",
       "      <th>attributes</th>\n",
       "      <th>min</th>\n",
       "      <th>max</th>\n",
       "      <th>range</th>\n",
       "      <th>mean</th>\n",
       "      <th>median</th>\n",
       "      <th>std</th>\n",
       "      <th>skew</th>\n",
       "      <th>kurtosis</th>\n",
       "    </tr>\n",
       "  </thead>\n",
       "  <tbody>\n",
       "    <tr>\n",
       "      <th>0</th>\n",
       "      <td>numero_linha</td>\n",
       "      <td>1.00</td>\n",
       "      <td>10000.00</td>\n",
       "      <td>9999.00</td>\n",
       "      <td>5.000500e+03</td>\n",
       "      <td>5.000500e+03</td>\n",
       "      <td>2886.751332</td>\n",
       "      <td>0.000000</td>\n",
       "      <td>-1.200000</td>\n",
       "    </tr>\n",
       "    <tr>\n",
       "      <th>1</th>\n",
       "      <td>id_cliente</td>\n",
       "      <td>15565701.00</td>\n",
       "      <td>15815690.00</td>\n",
       "      <td>249989.00</td>\n",
       "      <td>1.569094e+07</td>\n",
       "      <td>1.569074e+07</td>\n",
       "      <td>71932.589224</td>\n",
       "      <td>0.001149</td>\n",
       "      <td>-1.196113</td>\n",
       "    </tr>\n",
       "    <tr>\n",
       "      <th>2</th>\n",
       "      <td>score_credito</td>\n",
       "      <td>350.00</td>\n",
       "      <td>850.00</td>\n",
       "      <td>500.00</td>\n",
       "      <td>6.505288e+02</td>\n",
       "      <td>6.520000e+02</td>\n",
       "      <td>96.648466</td>\n",
       "      <td>-0.071607</td>\n",
       "      <td>-0.425726</td>\n",
       "    </tr>\n",
       "    <tr>\n",
       "      <th>3</th>\n",
       "      <td>idade</td>\n",
       "      <td>18.00</td>\n",
       "      <td>92.00</td>\n",
       "      <td>74.00</td>\n",
       "      <td>3.892180e+01</td>\n",
       "      <td>3.700000e+01</td>\n",
       "      <td>10.487282</td>\n",
       "      <td>1.011320</td>\n",
       "      <td>1.395347</td>\n",
       "    </tr>\n",
       "    <tr>\n",
       "      <th>4</th>\n",
       "      <td>tempo_permanencia</td>\n",
       "      <td>0.00</td>\n",
       "      <td>10.00</td>\n",
       "      <td>10.00</td>\n",
       "      <td>5.012800e+00</td>\n",
       "      <td>5.000000e+00</td>\n",
       "      <td>2.892030</td>\n",
       "      <td>0.010991</td>\n",
       "      <td>-1.165225</td>\n",
       "    </tr>\n",
       "    <tr>\n",
       "      <th>5</th>\n",
       "      <td>saldo</td>\n",
       "      <td>0.00</td>\n",
       "      <td>250898.09</td>\n",
       "      <td>250898.09</td>\n",
       "      <td>7.648589e+04</td>\n",
       "      <td>9.719854e+04</td>\n",
       "      <td>62394.285254</td>\n",
       "      <td>-0.141109</td>\n",
       "      <td>-1.489412</td>\n",
       "    </tr>\n",
       "    <tr>\n",
       "      <th>6</th>\n",
       "      <td>numero_de_contas</td>\n",
       "      <td>1.00</td>\n",
       "      <td>4.00</td>\n",
       "      <td>3.00</td>\n",
       "      <td>1.530200e+00</td>\n",
       "      <td>1.000000e+00</td>\n",
       "      <td>0.581625</td>\n",
       "      <td>0.745568</td>\n",
       "      <td>0.582981</td>\n",
       "    </tr>\n",
       "    <tr>\n",
       "      <th>7</th>\n",
       "      <td>salario_estimado</td>\n",
       "      <td>11.58</td>\n",
       "      <td>199992.48</td>\n",
       "      <td>199980.90</td>\n",
       "      <td>1.000902e+05</td>\n",
       "      <td>1.001939e+05</td>\n",
       "      <td>57507.617221</td>\n",
       "      <td>0.002085</td>\n",
       "      <td>-1.181518</td>\n",
       "    </tr>\n",
       "  </tbody>\n",
       "</table>\n",
       "</div>"
      ],
      "text/plain": [
       "          attributes          min          max      range          mean        median           std      skew  kurtosis\n",
       "0       numero_linha         1.00     10000.00    9999.00  5.000500e+03  5.000500e+03   2886.751332  0.000000 -1.200000\n",
       "1         id_cliente  15565701.00  15815690.00  249989.00  1.569094e+07  1.569074e+07  71932.589224  0.001149 -1.196113\n",
       "2      score_credito       350.00       850.00     500.00  6.505288e+02  6.520000e+02     96.648466 -0.071607 -0.425726\n",
       "3              idade        18.00        92.00      74.00  3.892180e+01  3.700000e+01     10.487282  1.011320  1.395347\n",
       "4  tempo_permanencia         0.00        10.00      10.00  5.012800e+00  5.000000e+00      2.892030  0.010991 -1.165225\n",
       "5              saldo         0.00    250898.09  250898.09  7.648589e+04  9.719854e+04  62394.285254 -0.141109 -1.489412\n",
       "6   numero_de_contas         1.00         4.00       3.00  1.530200e+00  1.000000e+00      0.581625  0.745568  0.582981\n",
       "7   salario_estimado        11.58    199992.48  199980.90  1.000902e+05  1.001939e+05  57507.617221  0.002085 -1.181518"
      ]
     },
     "execution_count": 21,
     "metadata": {},
     "output_type": "execute_result"
    }
   ],
   "source": [
    "numeric_descriptive_statistical(numeric_attributes)"
   ]
  },
  {
   "cell_type": "markdown",
   "id": "5eddd5c7",
   "metadata": {},
   "source": [
    "- Muitos valores distintos: score_credito, idade, saldo, salário estimado;\n",
    "- Poucos valores distintos: tempo_permanencia, numero_de_contas;"
   ]
  },
  {
   "cell_type": "markdown",
   "id": "2384fb7b",
   "metadata": {
    "hide_input": true
   },
   "source": [
    "#### 'score_credito'"
   ]
  },
  {
   "cell_type": "code",
   "execution_count": 22,
   "id": "8c5bdb63",
   "metadata": {
    "ExecuteTime": {
     "end_time": "2023-04-18T10:11:15.273485Z",
     "start_time": "2023-04-18T10:11:15.002707Z"
    },
    "cell_style": "split",
    "hide_input": true
   },
   "outputs": [
    {
     "name": "stdout",
     "output_type": "stream",
     "text": [
      "Mínimo:350.00\n",
      "Média:650.53\n",
      "Mediana:652.00\n",
      "Moda:850.00\n",
      "Máximo:850.00\n",
      "\n"
     ]
    },
    {
     "data": {
      "image/png": "[encoded data removed]",
      "text/plain": [
       "<Figure size 1800x600 with 2 Axes>"
      ]
     },
     "metadata": {},
     "output_type": "display_data"
    }
   ],
   "source": [
    "column = numeric_attributes['score_credito']\n",
    "bins = n_bins(column)\n",
    "title = \"Score de Crédtio\"\n",
    "ylabel = \"frequência\"\n",
    "xlabel = \"score\"\n",
    "show_univariate_numeric_distribution(column, bins= bins, title= title, ylabel= ylabel, xlabel= xlabel)"
   ]
  },
  {
   "cell_type": "code",
   "execution_count": 23,
   "id": "05d72a47",
   "metadata": {
    "ExecuteTime": {
     "end_time": "2023-04-18T10:11:15.500194Z",
     "start_time": "2023-04-18T10:11:15.275516Z"
    },
    "cell_style": "split",
    "hide_input": true
   },
   "outputs": [
    {
     "data": {
      "image/png": "[encoded data removed]",
      "text/plain": [
       "<Figure size 1000x500 with 1 Axes>"
      ]
     },
     "metadata": {},
     "output_type": "display_data"
    }
   ],
   "source": [
    "sns.histplot(numeric_attributes['score_credito'], kde= True);"
   ]
  },
  {
   "cell_type": "code",
   "execution_count": 24,
   "id": "520d4acb",
   "metadata": {
    "ExecuteTime": {
     "end_time": "2023-04-18T10:11:15.507665Z",
     "start_time": "2023-04-18T10:11:15.503018Z"
    }
   },
   "outputs": [],
   "source": [
    "# Idéia para próxima versão:\n",
    "\n",
    "# Note: \n",
    "\t# segundo os intervalos de scores de crédito da FICO:\n",
    "    \t# 300 - 580: muito baixo;\n",
    "        # 580 - 670: baixo;\n",
    "        # 670 - 740: bom;\n",
    "        # 740 - 800: muito bom;\n",
    "        # 800 - 850: excelente;\n",
    "    # não existe uma distância considerável entre os valores da média e mediana, logo a distância interquatilica Q25 - Medina - Q75 (onde compreende a metade dos dados)\n",
    "# são praticamente simétricas, fazendo com que a distribuiçaõ dos dados de 'score_credito' se aproxime de uma gaussiana (normal).\n",
    "    # outliers para scores que se aproximam de 350, logo o banco não possui clientes se aproximando do mínimo score_permitido pelo banco (350)  \n",
    "    # a moda é igual ao valor máximo, o que pode evidênciar que o banco possui um grupo seleto de cliente que são bons pagadores. (vale criação de caso para esse grupo)\n",
    "    # hipótese: 'clientes que são bons pagadores, possuem o salário mais alto?' ou 'clentes que possuem salários altos, são bons pagadores?'"
   ]
  },
  {
   "cell_type": "markdown",
   "id": "b9687788",
   "metadata": {},
   "source": [
    "#### 'idade'"
   ]
  },
  {
   "cell_type": "code",
   "execution_count": 25,
   "id": "6c9dd266",
   "metadata": {
    "ExecuteTime": {
     "end_time": "2023-04-18T10:11:15.840028Z",
     "start_time": "2023-04-18T10:11:15.510407Z"
    },
    "cell_style": "split",
    "hide_input": true
   },
   "outputs": [
    {
     "name": "stdout",
     "output_type": "stream",
     "text": [
      "Mínimo:18.00\n",
      "Média:38.92\n",
      "Mediana:37.00\n",
      "Moda:37.00\n",
      "Máximo:92.00\n",
      "\n"
     ]
    },
    {
     "data": {
      "image/png": "[encoded data removed]",
      "text/plain": [
       "<Figure size 1800x600 with 2 Axes>"
      ]
     },
     "metadata": {},
     "output_type": "display_data"
    }
   ],
   "source": [
    "column = numeric_attributes['idade']\n",
    "bins = n_bins(column)\n",
    "title = \"Distribuição Etária\"\n",
    "ylabel = \"idade\"\n",
    "show_univariate_numeric_distribution(column, bins= bins, title= title, ylabel= ylabel, xlabel= xlabel)"
   ]
  },
  {
   "cell_type": "code",
   "execution_count": 26,
   "id": "07580571",
   "metadata": {
    "ExecuteTime": {
     "end_time": "2023-04-18T10:11:16.094711Z",
     "start_time": "2023-04-18T10:11:15.841775Z"
    },
    "cell_style": "split",
    "hide_input": true
   },
   "outputs": [
    {
     "data": {
      "image/png": "[encoded data removed]",
      "text/plain": [
       "<Figure size 1000x500 with 1 Axes>"
      ]
     },
     "metadata": {},
     "output_type": "display_data"
    }
   ],
   "source": [
    "sns.histplot(numeric_attributes['idade'], kde= True);"
   ]
  },
  {
   "cell_type": "markdown",
   "id": "d0eb5c69",
   "metadata": {},
   "source": [
    "#### 'saldo'"
   ]
  },
  {
   "cell_type": "code",
   "execution_count": 27,
   "id": "79e43f76",
   "metadata": {
    "ExecuteTime": {
     "end_time": "2023-04-18T10:11:16.373890Z",
     "start_time": "2023-04-18T10:11:16.096344Z"
    },
    "cell_style": "split",
    "hide_input": true
   },
   "outputs": [
    {
     "name": "stdout",
     "output_type": "stream",
     "text": [
      "Mínimo:0.00\n",
      "Média:76485.89\n",
      "Mediana:97198.54\n",
      "Moda:0.00\n",
      "Máximo:250898.09\n",
      "\n"
     ]
    },
    {
     "data": {
      "image/png": "[encoded data removed]",
      "text/plain": [
       "<Figure size 1800x600 with 2 Axes>"
      ]
     },
     "metadata": {},
     "output_type": "display_data"
    }
   ],
   "source": [
    "column = numeric_attributes['saldo']\n",
    "bins = n_bins(column)\n",
    "title = \"Saldo em Conta dos Clientes\"\n",
    "ylabel = \"dolars\"\n",
    "show_univariate_numeric_distribution(column, bins= bins, title= title, ylabel= ylabel, xlabel= xlabel)"
   ]
  },
  {
   "cell_type": "code",
   "execution_count": 28,
   "id": "d50edd84",
   "metadata": {
    "ExecuteTime": {
     "end_time": "2023-04-18T10:11:16.598071Z",
     "start_time": "2023-04-18T10:11:16.381133Z"
    },
    "cell_style": "split",
    "hide_input": true
   },
   "outputs": [
    {
     "data": {
      "image/png": "[encoded data removed]",
      "text/plain": [
       "<Figure size 1000x500 with 1 Axes>"
      ]
     },
     "metadata": {},
     "output_type": "display_data"
    }
   ],
   "source": [
    "sns.histplot(numeric_attributes['saldo'], kde= True);"
   ]
  },
  {
   "cell_type": "markdown",
   "id": "7ff0bbd7",
   "metadata": {},
   "source": [
    "#### 'salario_estimado'"
   ]
  },
  {
   "cell_type": "code",
   "execution_count": 29,
   "id": "a73dc3ef",
   "metadata": {
    "ExecuteTime": {
     "end_time": "2023-04-18T10:11:16.963152Z",
     "start_time": "2023-04-18T10:11:16.600402Z"
    },
    "cell_style": "split",
    "hide_input": true
   },
   "outputs": [
    {
     "name": "stdout",
     "output_type": "stream",
     "text": [
      "Mínimo:11.58\n",
      "Média:100090.24\n",
      "Mediana:100193.91\n",
      "Moda:24924.92\n",
      "Máximo:199992.48\n",
      "\n"
     ]
    },
    {
     "data": {
      "image/png": "[encoded data removed]",
      "text/plain": [
       "<Figure size 1800x600 with 2 Axes>"
      ]
     },
     "metadata": {},
     "output_type": "display_data"
    }
   ],
   "source": [
    "column = numeric_attributes['salario_estimado']\n",
    "bins = n_bins(column)\n",
    "title = \"Salário Estimados dos Cliente\"\n",
    "ylabel = \"dolars\"\n",
    "show_univariate_numeric_distribution(column, bins= bins, title= title, ylabel= ylabel, xlabel= xlabel)"
   ]
  },
  {
   "cell_type": "code",
   "execution_count": 30,
   "id": "6767a3d6",
   "metadata": {
    "ExecuteTime": {
     "end_time": "2023-04-18T10:11:17.184815Z",
     "start_time": "2023-04-18T10:11:16.965456Z"
    },
    "cell_style": "split",
    "hide_input": true
   },
   "outputs": [
    {
     "data": {
      "image/png": "[encoded data removed]",
      "text/plain": [
       "<Figure size 1000x500 with 1 Axes>"
      ]
     },
     "metadata": {},
     "output_type": "display_data"
    }
   ],
   "source": [
    "sns.histplot(numeric_attributes['salario_estimado'], kde= True);"
   ]
  },
  {
   "cell_type": "markdown",
   "id": "2c6e67c6",
   "metadata": {},
   "source": [
    "#### 'tempo_permanencia'"
   ]
  },
  {
   "cell_type": "code",
   "execution_count": 31,
   "id": "60f953b8",
   "metadata": {
    "ExecuteTime": {
     "end_time": "2023-04-18T10:11:17.343512Z",
     "start_time": "2023-04-18T10:11:17.186749Z"
    },
    "cell_style": "split",
    "hide_input": true
   },
   "outputs": [
    {
     "data": {
      "image/png": "[encoded data removed]",
      "text/plain": [
       "<Figure size 1000x500 with 1 Axes>"
      ]
     },
     "metadata": {},
     "output_type": "display_data"
    }
   ],
   "source": [
    "sns.countplot(x= df4['tempo_permanencia'], palette= \"light:b_r\");"
   ]
  },
  {
   "cell_type": "code",
   "execution_count": 32,
   "id": "b7300c0d",
   "metadata": {
    "ExecuteTime": {
     "end_time": "2023-04-18T10:11:17.353963Z",
     "start_time": "2023-04-18T10:11:17.345969Z"
    },
    "cell_style": "split",
    "hide_input": true
   },
   "outputs": [
    {
     "data": {
      "text/html": [
       "<div>\n",
       "<style scoped>\n",
       "    .dataframe tbody tr th:only-of-type {\n",
       "        vertical-align: middle;\n",
       "    }\n",
       "\n",
       "    .dataframe tbody tr th {\n",
       "        vertical-align: top;\n",
       "    }\n",
       "\n",
       "    .dataframe thead th {\n",
       "        text-align: right;\n",
       "    }\n",
       "</style>\n",
       "<table border=\"1\" class=\"dataframe\">\n",
       "  <thead>\n",
       "    <tr style=\"text-align: right;\">\n",
       "      <th></th>\n",
       "      <th>id_cliente</th>\n",
       "    </tr>\n",
       "    <tr>\n",
       "      <th>tempo_permanencia</th>\n",
       "      <th></th>\n",
       "    </tr>\n",
       "  </thead>\n",
       "  <tbody>\n",
       "    <tr>\n",
       "      <th>0</th>\n",
       "      <td>413</td>\n",
       "    </tr>\n",
       "    <tr>\n",
       "      <th>1</th>\n",
       "      <td>1035</td>\n",
       "    </tr>\n",
       "    <tr>\n",
       "      <th>2</th>\n",
       "      <td>1048</td>\n",
       "    </tr>\n",
       "    <tr>\n",
       "      <th>3</th>\n",
       "      <td>1009</td>\n",
       "    </tr>\n",
       "    <tr>\n",
       "      <th>4</th>\n",
       "      <td>989</td>\n",
       "    </tr>\n",
       "    <tr>\n",
       "      <th>5</th>\n",
       "      <td>1012</td>\n",
       "    </tr>\n",
       "    <tr>\n",
       "      <th>6</th>\n",
       "      <td>967</td>\n",
       "    </tr>\n",
       "    <tr>\n",
       "      <th>7</th>\n",
       "      <td>1028</td>\n",
       "    </tr>\n",
       "    <tr>\n",
       "      <th>8</th>\n",
       "      <td>1025</td>\n",
       "    </tr>\n",
       "    <tr>\n",
       "      <th>9</th>\n",
       "      <td>984</td>\n",
       "    </tr>\n",
       "    <tr>\n",
       "      <th>10</th>\n",
       "      <td>490</td>\n",
       "    </tr>\n",
       "  </tbody>\n",
       "</table>\n",
       "</div>"
      ],
      "text/plain": [
       "                   id_cliente\n",
       "tempo_permanencia            \n",
       "0                         413\n",
       "1                        1035\n",
       "2                        1048\n",
       "3                        1009\n",
       "4                         989\n",
       "5                        1012\n",
       "6                         967\n",
       "7                        1028\n",
       "8                        1025\n",
       "9                         984\n",
       "10                        490"
      ]
     },
     "execution_count": 32,
     "metadata": {},
     "output_type": "execute_result"
    }
   ],
   "source": [
    "df4[['id_cliente', 'tempo_permanencia']].groupby('tempo_permanencia').count()"
   ]
  },
  {
   "cell_type": "markdown",
   "id": "3dfe0f5b",
   "metadata": {
    "cell_style": "center"
   },
   "source": [
    "#### 'numero_de_contas'"
   ]
  },
  {
   "cell_type": "code",
   "execution_count": 33,
   "id": "c9bfe57c",
   "metadata": {
    "ExecuteTime": {
     "end_time": "2023-04-18T10:11:17.471287Z",
     "start_time": "2023-04-18T10:11:17.356510Z"
    },
    "cell_style": "split",
    "hide_input": true
   },
   "outputs": [
    {
     "data": {
      "image/png": "[encoded data removed]",
      "text/plain": [
       "<Figure size 1000x500 with 1 Axes>"
      ]
     },
     "metadata": {},
     "output_type": "display_data"
    }
   ],
   "source": [
    "sns.countplot(x= df4['numero_de_contas'], palette= \"light:b_r\");"
   ]
  },
  {
   "cell_type": "code",
   "execution_count": 34,
   "id": "870c93d8",
   "metadata": {
    "ExecuteTime": {
     "end_time": "2023-04-18T10:11:17.482532Z",
     "start_time": "2023-04-18T10:11:17.472999Z"
    },
    "cell_style": "split",
    "hide_input": true
   },
   "outputs": [
    {
     "data": {
      "text/html": [
       "<div>\n",
       "<style scoped>\n",
       "    .dataframe tbody tr th:only-of-type {\n",
       "        vertical-align: middle;\n",
       "    }\n",
       "\n",
       "    .dataframe tbody tr th {\n",
       "        vertical-align: top;\n",
       "    }\n",
       "\n",
       "    .dataframe thead th {\n",
       "        text-align: right;\n",
       "    }\n",
       "</style>\n",
       "<table border=\"1\" class=\"dataframe\">\n",
       "  <thead>\n",
       "    <tr style=\"text-align: right;\">\n",
       "      <th></th>\n",
       "      <th>id_cliente</th>\n",
       "    </tr>\n",
       "    <tr>\n",
       "      <th>numero_de_contas</th>\n",
       "      <th></th>\n",
       "    </tr>\n",
       "  </thead>\n",
       "  <tbody>\n",
       "    <tr>\n",
       "      <th>1</th>\n",
       "      <td>5084</td>\n",
       "    </tr>\n",
       "    <tr>\n",
       "      <th>2</th>\n",
       "      <td>4590</td>\n",
       "    </tr>\n",
       "    <tr>\n",
       "      <th>3</th>\n",
       "      <td>266</td>\n",
       "    </tr>\n",
       "    <tr>\n",
       "      <th>4</th>\n",
       "      <td>60</td>\n",
       "    </tr>\n",
       "  </tbody>\n",
       "</table>\n",
       "</div>"
      ],
      "text/plain": [
       "                  id_cliente\n",
       "numero_de_contas            \n",
       "1                       5084\n",
       "2                       4590\n",
       "3                        266\n",
       "4                         60"
      ]
     },
     "execution_count": 34,
     "metadata": {},
     "output_type": "execute_result"
    }
   ],
   "source": [
    "df4[['id_cliente', 'numero_de_contas']].groupby('numero_de_contas').count()"
   ]
  },
  {
   "cell_type": "markdown",
   "id": "f87fc7c2",
   "metadata": {
    "cell_style": "center"
   },
   "source": [
    "### Categorical Variables"
   ]
  },
  {
   "cell_type": "code",
   "execution_count": 35,
   "id": "5f6d9183",
   "metadata": {
    "ExecuteTime": {
     "end_time": "2023-04-18T10:11:17.496279Z",
     "start_time": "2023-04-18T10:11:17.484687Z"
    },
    "hide_input": true
   },
   "outputs": [
    {
     "data": {
      "text/plain": [
       "sobrenome             2932\n",
       "geografia                3\n",
       "genero                   2\n",
       "tem_cartao_credito       2\n",
       "membro_ativo             2\n",
       "Churn                    2\n",
       "dtype: int64"
      ]
     },
     "execution_count": 35,
     "metadata": {},
     "output_type": "execute_result"
    }
   ],
   "source": [
    "categorical_attributes.apply(lambda x: x.unique().shape[0])"
   ]
  },
  {
   "cell_type": "markdown",
   "id": "628973aa",
   "metadata": {},
   "source": [
    "#### 'geografia'"
   ]
  },
  {
   "cell_type": "code",
   "execution_count": 36,
   "id": "3eb3e8b2",
   "metadata": {
    "ExecuteTime": {
     "end_time": "2023-04-18T10:11:17.605846Z",
     "start_time": "2023-04-18T10:11:17.498587Z"
    },
    "cell_style": "split",
    "hide_input": true
   },
   "outputs": [
    {
     "data": {
      "image/png": "[encoded data removed]",
      "text/plain": [
       "<Figure size 1000x500 with 1 Axes>"
      ]
     },
     "metadata": {},
     "output_type": "display_data"
    }
   ],
   "source": [
    "sns.countplot(x= df4['geografia'], palette= \"light:b_r\");"
   ]
  },
  {
   "cell_type": "code",
   "execution_count": 37,
   "id": "7ecaee27",
   "metadata": {
    "ExecuteTime": {
     "end_time": "2023-04-18T10:11:17.618399Z",
     "start_time": "2023-04-18T10:11:17.608447Z"
    },
    "cell_style": "split",
    "hide_input": true
   },
   "outputs": [
    {
     "data": {
      "text/html": [
       "<div>\n",
       "<style scoped>\n",
       "    .dataframe tbody tr th:only-of-type {\n",
       "        vertical-align: middle;\n",
       "    }\n",
       "\n",
       "    .dataframe tbody tr th {\n",
       "        vertical-align: top;\n",
       "    }\n",
       "\n",
       "    .dataframe thead th {\n",
       "        text-align: right;\n",
       "    }\n",
       "</style>\n",
       "<table border=\"1\" class=\"dataframe\">\n",
       "  <thead>\n",
       "    <tr style=\"text-align: right;\">\n",
       "      <th></th>\n",
       "      <th>id_cliente</th>\n",
       "    </tr>\n",
       "    <tr>\n",
       "      <th>geografia</th>\n",
       "      <th></th>\n",
       "    </tr>\n",
       "  </thead>\n",
       "  <tbody>\n",
       "    <tr>\n",
       "      <th>France</th>\n",
       "      <td>5014</td>\n",
       "    </tr>\n",
       "    <tr>\n",
       "      <th>Germany</th>\n",
       "      <td>2509</td>\n",
       "    </tr>\n",
       "    <tr>\n",
       "      <th>Spain</th>\n",
       "      <td>2477</td>\n",
       "    </tr>\n",
       "  </tbody>\n",
       "</table>\n",
       "</div>"
      ],
      "text/plain": [
       "           id_cliente\n",
       "geografia            \n",
       "France           5014\n",
       "Germany          2509\n",
       "Spain            2477"
      ]
     },
     "execution_count": 37,
     "metadata": {},
     "output_type": "execute_result"
    }
   ],
   "source": [
    "df4[['id_cliente', 'geografia']].groupby('geografia').count()"
   ]
  },
  {
   "cell_type": "markdown",
   "id": "4ee23b79",
   "metadata": {
    "cell_style": "center"
   },
   "source": [
    "#### 'genero'"
   ]
  },
  {
   "cell_type": "code",
   "execution_count": 38,
   "id": "619468c3",
   "metadata": {
    "ExecuteTime": {
     "end_time": "2023-04-18T10:11:17.725558Z",
     "start_time": "2023-04-18T10:11:17.620213Z"
    },
    "cell_style": "split",
    "hide_input": true
   },
   "outputs": [
    {
     "data": {
      "image/png": "[encoded data removed]",
      "text/plain": [
       "<Figure size 1000x500 with 1 Axes>"
      ]
     },
     "metadata": {},
     "output_type": "display_data"
    }
   ],
   "source": [
    "sns.countplot(x= df4['genero'], palette= \"light:b_r\");"
   ]
  },
  {
   "cell_type": "code",
   "execution_count": 39,
   "id": "91d07a72",
   "metadata": {
    "ExecuteTime": {
     "end_time": "2023-04-18T10:11:17.740615Z",
     "start_time": "2023-04-18T10:11:17.728845Z"
    },
    "cell_style": "split",
    "hide_input": true
   },
   "outputs": [
    {
     "data": {
      "text/html": [
       "<div>\n",
       "<style scoped>\n",
       "    .dataframe tbody tr th:only-of-type {\n",
       "        vertical-align: middle;\n",
       "    }\n",
       "\n",
       "    .dataframe tbody tr th {\n",
       "        vertical-align: top;\n",
       "    }\n",
       "\n",
       "    .dataframe thead th {\n",
       "        text-align: right;\n",
       "    }\n",
       "</style>\n",
       "<table border=\"1\" class=\"dataframe\">\n",
       "  <thead>\n",
       "    <tr style=\"text-align: right;\">\n",
       "      <th></th>\n",
       "      <th>id_cliente</th>\n",
       "    </tr>\n",
       "    <tr>\n",
       "      <th>genero</th>\n",
       "      <th></th>\n",
       "    </tr>\n",
       "  </thead>\n",
       "  <tbody>\n",
       "    <tr>\n",
       "      <th>Female</th>\n",
       "      <td>4543</td>\n",
       "    </tr>\n",
       "    <tr>\n",
       "      <th>Male</th>\n",
       "      <td>5457</td>\n",
       "    </tr>\n",
       "  </tbody>\n",
       "</table>\n",
       "</div>"
      ],
      "text/plain": [
       "        id_cliente\n",
       "genero            \n",
       "Female        4543\n",
       "Male          5457"
      ]
     },
     "execution_count": 39,
     "metadata": {},
     "output_type": "execute_result"
    }
   ],
   "source": [
    "df4[['id_cliente', 'genero']].groupby('genero').count()"
   ]
  },
  {
   "cell_type": "markdown",
   "id": "63fdf4fa",
   "metadata": {},
   "source": [
    "#### 'tem_cartao_credito'"
   ]
  },
  {
   "cell_type": "code",
   "execution_count": 40,
   "id": "d6f24628",
   "metadata": {
    "ExecuteTime": {
     "end_time": "2023-04-18T10:11:17.856797Z",
     "start_time": "2023-04-18T10:11:17.742960Z"
    },
    "cell_style": "split",
    "hide_input": true
   },
   "outputs": [
    {
     "data": {
      "image/png": "[encoded data removed]",
      "text/plain": [
       "<Figure size 1000x500 with 1 Axes>"
      ]
     },
     "metadata": {},
     "output_type": "display_data"
    }
   ],
   "source": [
    "sns.countplot(x= df4['tem_cartao_credito'], palette= \"light:b_r\");"
   ]
  },
  {
   "cell_type": "code",
   "execution_count": 41,
   "id": "0b3899ca",
   "metadata": {
    "ExecuteTime": {
     "end_time": "2023-04-18T10:11:17.871799Z",
     "start_time": "2023-04-18T10:11:17.860723Z"
    },
    "cell_style": "split",
    "hide_input": true
   },
   "outputs": [
    {
     "data": {
      "text/html": [
       "<div>\n",
       "<style scoped>\n",
       "    .dataframe tbody tr th:only-of-type {\n",
       "        vertical-align: middle;\n",
       "    }\n",
       "\n",
       "    .dataframe tbody tr th {\n",
       "        vertical-align: top;\n",
       "    }\n",
       "\n",
       "    .dataframe thead th {\n",
       "        text-align: right;\n",
       "    }\n",
       "</style>\n",
       "<table border=\"1\" class=\"dataframe\">\n",
       "  <thead>\n",
       "    <tr style=\"text-align: right;\">\n",
       "      <th></th>\n",
       "      <th>id_cliente</th>\n",
       "    </tr>\n",
       "    <tr>\n",
       "      <th>tem_cartao_credito</th>\n",
       "      <th></th>\n",
       "    </tr>\n",
       "  </thead>\n",
       "  <tbody>\n",
       "    <tr>\n",
       "      <th>no</th>\n",
       "      <td>2945</td>\n",
       "    </tr>\n",
       "    <tr>\n",
       "      <th>yes</th>\n",
       "      <td>7055</td>\n",
       "    </tr>\n",
       "  </tbody>\n",
       "</table>\n",
       "</div>"
      ],
      "text/plain": [
       "                    id_cliente\n",
       "tem_cartao_credito            \n",
       "no                        2945\n",
       "yes                       7055"
      ]
     },
     "execution_count": 41,
     "metadata": {},
     "output_type": "execute_result"
    }
   ],
   "source": [
    "df4[['id_cliente', 'tem_cartao_credito']].groupby('tem_cartao_credito').count()"
   ]
  },
  {
   "cell_type": "markdown",
   "id": "34f91e01",
   "metadata": {
    "cell_style": "center"
   },
   "source": [
    "#### 'membro_ativo'"
   ]
  },
  {
   "cell_type": "code",
   "execution_count": 42,
   "id": "7b857bb1",
   "metadata": {
    "ExecuteTime": {
     "end_time": "2023-04-18T10:11:17.977928Z",
     "start_time": "2023-04-18T10:11:17.873715Z"
    },
    "cell_style": "split",
    "hide_input": true
   },
   "outputs": [
    {
     "data": {
      "image/png": "[encoded data removed]",
      "text/plain": [
       "<Figure size 1000x500 with 1 Axes>"
      ]
     },
     "metadata": {},
     "output_type": "display_data"
    }
   ],
   "source": [
    "sns.countplot(x= df4['membro_ativo'], palette= \"light:b_r\");"
   ]
  },
  {
   "cell_type": "code",
   "execution_count": 43,
   "id": "18a484a4",
   "metadata": {
    "ExecuteTime": {
     "end_time": "2023-04-18T10:11:17.993843Z",
     "start_time": "2023-04-18T10:11:17.980422Z"
    },
    "cell_style": "split",
    "hide_input": true
   },
   "outputs": [
    {
     "data": {
      "text/html": [
       "<div>\n",
       "<style scoped>\n",
       "    .dataframe tbody tr th:only-of-type {\n",
       "        vertical-align: middle;\n",
       "    }\n",
       "\n",
       "    .dataframe tbody tr th {\n",
       "        vertical-align: top;\n",
       "    }\n",
       "\n",
       "    .dataframe thead th {\n",
       "        text-align: right;\n",
       "    }\n",
       "</style>\n",
       "<table border=\"1\" class=\"dataframe\">\n",
       "  <thead>\n",
       "    <tr style=\"text-align: right;\">\n",
       "      <th></th>\n",
       "      <th>id_cliente</th>\n",
       "    </tr>\n",
       "    <tr>\n",
       "      <th>membro_ativo</th>\n",
       "      <th></th>\n",
       "    </tr>\n",
       "  </thead>\n",
       "  <tbody>\n",
       "    <tr>\n",
       "      <th>no</th>\n",
       "      <td>4849</td>\n",
       "    </tr>\n",
       "    <tr>\n",
       "      <th>yes</th>\n",
       "      <td>5151</td>\n",
       "    </tr>\n",
       "  </tbody>\n",
       "</table>\n",
       "</div>"
      ],
      "text/plain": [
       "              id_cliente\n",
       "membro_ativo            \n",
       "no                  4849\n",
       "yes                 5151"
      ]
     },
     "execution_count": 43,
     "metadata": {},
     "output_type": "execute_result"
    }
   ],
   "source": [
    "df4[['id_cliente', 'membro_ativo']].groupby('membro_ativo').count()"
   ]
  },
  {
   "cell_type": "markdown",
   "id": "6f622751",
   "metadata": {
    "heading_collapsed": true
   },
   "source": [
    "## Bivariate and Multivariate Analysis"
   ]
  },
  {
   "cell_type": "markdown",
   "id": "32057b66",
   "metadata": {},
   "source": [
    "## Note:\n",
    "Próxima versão: \n",
    "- Adicionar 1º e 3º quartil na função numerical_estatistic_statistical;\n",
    "- Interpretação Estatística e de Negócio na Análise Univariada;\n",
    "- Análise Bivariada com insights das hipóteses criadas e Análise Multivariada;"
   ]
  },
  {
   "cell_type": "markdown",
   "id": "0c0e736a",
   "metadata": {},
   "source": [
    "# Feature Engineering II (Data Preparation)"
   ]
  },
  {
   "cell_type": "code",
   "execution_count": 44,
   "id": "b8e6d075",
   "metadata": {
    "ExecuteTime": {
     "end_time": "2023-04-18T10:11:18.003624Z",
     "start_time": "2023-04-18T10:11:17.996892Z"
    },
    "hide_input": true
   },
   "outputs": [],
   "source": [
    "df5 = df4.copy()"
   ]
  },
  {
   "cell_type": "code",
   "execution_count": 45,
   "id": "c226d58b",
   "metadata": {
    "ExecuteTime": {
     "end_time": "2023-04-18T10:11:18.011789Z",
     "start_time": "2023-04-18T10:11:18.005545Z"
    }
   },
   "outputs": [],
   "source": [
    "data_for_filtering = df4.copy()"
   ]
  },
  {
   "cell_type": "markdown",
   "id": "72aff926",
   "metadata": {},
   "source": [
    "## Data Filtering"
   ]
  },
  {
   "cell_type": "code",
   "execution_count": 46,
   "id": "586e5932",
   "metadata": {
    "ExecuteTime": {
     "end_time": "2023-04-18T10:11:18.020558Z",
     "start_time": "2023-04-18T10:11:18.014134Z"
    }
   },
   "outputs": [],
   "source": [
    "columns_to_delete = ['numero_linha','id_cliente','sobrenome']\n",
    "filtered_data = data_for_filtering.drop(columns_to_delete, axis= 1)"
   ]
  },
  {
   "cell_type": "code",
   "execution_count": 47,
   "id": "f278088b",
   "metadata": {
    "ExecuteTime": {
     "end_time": "2023-04-18T10:11:18.035401Z",
     "start_time": "2023-04-18T10:11:18.022370Z"
    }
   },
   "outputs": [
    {
     "data": {
      "text/html": [
       "<div>\n",
       "<style scoped>\n",
       "    .dataframe tbody tr th:only-of-type {\n",
       "        vertical-align: middle;\n",
       "    }\n",
       "\n",
       "    .dataframe tbody tr th {\n",
       "        vertical-align: top;\n",
       "    }\n",
       "\n",
       "    .dataframe thead th {\n",
       "        text-align: right;\n",
       "    }\n",
       "</style>\n",
       "<table border=\"1\" class=\"dataframe\">\n",
       "  <thead>\n",
       "    <tr style=\"text-align: right;\">\n",
       "      <th></th>\n",
       "      <th>score_credito</th>\n",
       "      <th>geografia</th>\n",
       "      <th>genero</th>\n",
       "      <th>idade</th>\n",
       "      <th>tempo_permanencia</th>\n",
       "      <th>saldo</th>\n",
       "      <th>numero_de_contas</th>\n",
       "      <th>tem_cartao_credito</th>\n",
       "      <th>membro_ativo</th>\n",
       "      <th>salario_estimado</th>\n",
       "      <th>Churn</th>\n",
       "    </tr>\n",
       "  </thead>\n",
       "  <tbody>\n",
       "    <tr>\n",
       "      <th>0</th>\n",
       "      <td>619</td>\n",
       "      <td>France</td>\n",
       "      <td>Female</td>\n",
       "      <td>42</td>\n",
       "      <td>2</td>\n",
       "      <td>0.00</td>\n",
       "      <td>1</td>\n",
       "      <td>yes</td>\n",
       "      <td>yes</td>\n",
       "      <td>101348.88</td>\n",
       "      <td>yes</td>\n",
       "    </tr>\n",
       "    <tr>\n",
       "      <th>1</th>\n",
       "      <td>608</td>\n",
       "      <td>Spain</td>\n",
       "      <td>Female</td>\n",
       "      <td>41</td>\n",
       "      <td>1</td>\n",
       "      <td>83807.86</td>\n",
       "      <td>1</td>\n",
       "      <td>no</td>\n",
       "      <td>yes</td>\n",
       "      <td>112542.58</td>\n",
       "      <td>no</td>\n",
       "    </tr>\n",
       "    <tr>\n",
       "      <th>2</th>\n",
       "      <td>502</td>\n",
       "      <td>France</td>\n",
       "      <td>Female</td>\n",
       "      <td>42</td>\n",
       "      <td>8</td>\n",
       "      <td>159660.80</td>\n",
       "      <td>3</td>\n",
       "      <td>yes</td>\n",
       "      <td>no</td>\n",
       "      <td>113931.57</td>\n",
       "      <td>yes</td>\n",
       "    </tr>\n",
       "    <tr>\n",
       "      <th>3</th>\n",
       "      <td>699</td>\n",
       "      <td>France</td>\n",
       "      <td>Female</td>\n",
       "      <td>39</td>\n",
       "      <td>1</td>\n",
       "      <td>0.00</td>\n",
       "      <td>2</td>\n",
       "      <td>no</td>\n",
       "      <td>no</td>\n",
       "      <td>93826.63</td>\n",
       "      <td>no</td>\n",
       "    </tr>\n",
       "    <tr>\n",
       "      <th>4</th>\n",
       "      <td>850</td>\n",
       "      <td>Spain</td>\n",
       "      <td>Female</td>\n",
       "      <td>43</td>\n",
       "      <td>2</td>\n",
       "      <td>125510.82</td>\n",
       "      <td>1</td>\n",
       "      <td>yes</td>\n",
       "      <td>yes</td>\n",
       "      <td>79084.10</td>\n",
       "      <td>no</td>\n",
       "    </tr>\n",
       "  </tbody>\n",
       "</table>\n",
       "</div>"
      ],
      "text/plain": [
       "   score_credito geografia  genero  idade  tempo_permanencia      saldo  numero_de_contas tem_cartao_credito membro_ativo  salario_estimado Churn\n",
       "0            619    France  Female     42                  2       0.00                 1                yes          yes         101348.88   yes\n",
       "1            608     Spain  Female     41                  1   83807.86                 1                 no          yes         112542.58    no\n",
       "2            502    France  Female     42                  8  159660.80                 3                yes           no         113931.57   yes\n",
       "3            699    France  Female     39                  1       0.00                 2                 no           no          93826.63    no\n",
       "4            850     Spain  Female     43                  2  125510.82                 1                yes          yes          79084.10    no"
      ]
     },
     "execution_count": 47,
     "metadata": {},
     "output_type": "execute_result"
    }
   ],
   "source": [
    "filtered_data.head()"
   ]
  },
  {
   "cell_type": "markdown",
   "id": "978c8949",
   "metadata": {},
   "source": [
    "## Splitting Dataframe into Training and Test Dataset"
   ]
  },
  {
   "cell_type": "code",
   "execution_count": 48,
   "id": "a3ecb8b3",
   "metadata": {
    "ExecuteTime": {
     "end_time": "2023-04-18T10:11:18.049656Z",
     "start_time": "2023-04-18T10:11:18.038363Z"
    }
   },
   "outputs": [],
   "source": [
    "X = filtered_data.drop(columns = ['Churn'])\n",
    "y = filtered_data['Churn']\n",
    "X_train, X_test, y_train, y_test = train_test_split(X, y, test_size= 0.33, random_state= 42)"
   ]
  },
  {
   "cell_type": "markdown",
   "id": "8b51ba0b",
   "metadata": {},
   "source": [
    "## Scaling I (Encoding) *Train Data & Test Data"
   ]
  },
  {
   "cell_type": "code",
   "execution_count": 49,
   "id": "19158b30",
   "metadata": {
    "ExecuteTime": {
     "end_time": "2023-04-18T10:11:18.055333Z",
     "start_time": "2023-04-18T10:11:18.051999Z"
    }
   },
   "outputs": [],
   "source": [
    "label_encoder = LabelEncoder() # troca de categorias por números de 1 a n. (geografia, gênero)\n",
    "# e transformação comum para variáveis tem_cartao_credito, membro_ativo e Churn, Yes = 1 e No = 0."
   ]
  },
  {
   "cell_type": "markdown",
   "id": "8b71658c",
   "metadata": {},
   "source": [
    "### 'geografia'"
   ]
  },
  {
   "cell_type": "code",
   "execution_count": 50,
   "id": "eab5b896",
   "metadata": {
    "ExecuteTime": {
     "end_time": "2023-04-18T10:11:18.068028Z",
     "start_time": "2023-04-18T10:11:18.057228Z"
    }
   },
   "outputs": [],
   "source": [
    "geografia_dict = {'France': 0, 'Germany': 1, 'Spain': 2}\n",
    "X_train['geografia'] = X_train['geografia'].apply(lambda x: geografia_dict[x])\n",
    "X_test['geografia'] = X_test['geografia'].apply(lambda x: geografia_dict[x])"
   ]
  },
  {
   "cell_type": "markdown",
   "id": "2b9bb72b",
   "metadata": {},
   "source": [
    "### 'gênero'"
   ]
  },
  {
   "cell_type": "code",
   "execution_count": 51,
   "id": "56234d49",
   "metadata": {
    "ExecuteTime": {
     "end_time": "2023-04-18T10:11:18.078931Z",
     "start_time": "2023-04-18T10:11:18.070479Z"
    }
   },
   "outputs": [],
   "source": [
    "genero_dict = {'Female': 0, 'Male': 1}\n",
    "X_train['genero'] = X_train['genero'].apply(lambda x: genero_dict[x])\n",
    "X_test['genero'] = X_test['genero'].apply(lambda x: genero_dict[x])"
   ]
  },
  {
   "cell_type": "markdown",
   "id": "4b03bf72",
   "metadata": {},
   "source": [
    "### 'tem_cartao_credito'"
   ]
  },
  {
   "cell_type": "code",
   "execution_count": 52,
   "id": "e4bfea02",
   "metadata": {
    "ExecuteTime": {
     "end_time": "2023-04-18T10:11:18.090256Z",
     "start_time": "2023-04-18T10:11:18.081263Z"
    }
   },
   "outputs": [],
   "source": [
    "X_train['tem_cartao_credito'] = X_train['tem_cartao_credito'].apply(lambda x: 1 if x == 'yes' else 0)\n",
    "X_test['tem_cartao_credito'] = X_test['tem_cartao_credito'].apply(lambda x: 1 if x == 'yes' else 0)"
   ]
  },
  {
   "cell_type": "markdown",
   "id": "abd488cc",
   "metadata": {},
   "source": [
    "### 'membro_ativo'"
   ]
  },
  {
   "cell_type": "code",
   "execution_count": 53,
   "id": "83c3dc5b",
   "metadata": {
    "ExecuteTime": {
     "end_time": "2023-04-18T10:11:18.101810Z",
     "start_time": "2023-04-18T10:11:18.092137Z"
    }
   },
   "outputs": [],
   "source": [
    "X_train['membro_ativo'] = X_train['membro_ativo'].apply(lambda x: 1 if x == 'yes' else 0)\n",
    "X_test['membro_ativo'] = X_test['membro_ativo'].apply(lambda x: 1 if x == 'yes' else 0)"
   ]
  },
  {
   "cell_type": "markdown",
   "id": "7300b622",
   "metadata": {},
   "source": [
    "### Response Variable (Churn)"
   ]
  },
  {
   "cell_type": "code",
   "execution_count": 54,
   "id": "b2d1e5eb",
   "metadata": {
    "ExecuteTime": {
     "end_time": "2023-04-18T10:11:18.112236Z",
     "start_time": "2023-04-18T10:11:18.105142Z"
    }
   },
   "outputs": [],
   "source": [
    "y_train = y_train.apply(lambda x: 1 if x == 'yes' else 0)\n",
    "y_test = y_test.apply(lambda x: 1 if x == 'yes' else 0)"
   ]
  },
  {
   "cell_type": "markdown",
   "id": "e0eb6676",
   "metadata": {},
   "source": [
    "## Scaling II (Normalization) *Train data & Test Data"
   ]
  },
  {
   "cell_type": "markdown",
   "id": "740e044c",
   "metadata": {},
   "source": [
    "### Standardization (or  X-score Normalization)"
   ]
  },
  {
   "cell_type": "markdown",
   "id": "6b86cf9f",
   "metadata": {},
   "source": [
    "- Na Análise Univariada é possível verificar que não temos nenhuma distribuição normal nas variáveis numéricas, logo será descartado o processo de normalização."
   ]
  },
  {
   "cell_type": "markdown",
   "id": "a92c5ba8",
   "metadata": {},
   "source": [
    "### Normalization (or Rescaling)"
   ]
  },
  {
   "cell_type": "code",
   "execution_count": 55,
   "id": "c7349283",
   "metadata": {
    "ExecuteTime": {
     "end_time": "2023-04-18T10:11:18.119508Z",
     "start_time": "2023-04-18T10:11:18.114325Z"
    }
   },
   "outputs": [],
   "source": [
    "robust_scaler = RobustScaler() # rescala para variáveis numéricas com distribuições não gaussianas que possuem outliers (score_credito, idade, numero_de_contas)\n",
    "min_max_scaler = MinMaxScaler() # rescala para variáveis numéricas com distribuições não gaussianas que não possuem outliers (saldo, salario_estimado, tempo_permanencia)"
   ]
  },
  {
   "cell_type": "markdown",
   "id": "813ba1a4",
   "metadata": {},
   "source": [
    "#### 'score_credito'"
   ]
  },
  {
   "cell_type": "code",
   "execution_count": 56,
   "id": "a88c13dd",
   "metadata": {
    "ExecuteTime": {
     "end_time": "2023-04-18T10:11:18.130676Z",
     "start_time": "2023-04-18T10:11:18.121469Z"
    }
   },
   "outputs": [],
   "source": [
    "X_train['score_credito'] = robust_scaler.fit_transform(X_train[['score_credito']].values)\n",
    "X_test['score_credito'] = robust_scaler.transform(X_test[['score_credito']].values)\n",
    "\n",
    "#outfile = open('/home/rnglinux/projetos/Churn-Predict/parameters/score_credito_scaler.pkl', 'wb')\n",
    "#pickle.dump(robust_scaler, outfile)\n",
    "#outfile.close()"
   ]
  },
  {
   "cell_type": "markdown",
   "id": "e488594a",
   "metadata": {},
   "source": [
    "#### 'idade'"
   ]
  },
  {
   "cell_type": "code",
   "execution_count": 57,
   "id": "55cc0214",
   "metadata": {
    "ExecuteTime": {
     "end_time": "2023-04-18T10:11:18.141276Z",
     "start_time": "2023-04-18T10:11:18.132560Z"
    }
   },
   "outputs": [],
   "source": [
    "X_train['idade'] = robust_scaler.fit_transform(X_train[['idade']].values)\n",
    "X_test['idade'] = robust_scaler.transform(X_test[['idade']].values)\n",
    "\n",
    "#outfile = open('/home/rnglinux/projetos/Churn-Predict/parameters/idade_scaler.pkl', 'wb')\n",
    "#pickle.dump(robust_scaler, outfile)\n",
    "#outfile.close()"
   ]
  },
  {
   "cell_type": "markdown",
   "id": "1f610dcd",
   "metadata": {},
   "source": [
    "#### 'saldo'"
   ]
  },
  {
   "cell_type": "code",
   "execution_count": 58,
   "id": "5f5b1648",
   "metadata": {
    "ExecuteTime": {
     "end_time": "2023-04-18T10:11:18.151032Z",
     "start_time": "2023-04-18T10:11:18.143435Z"
    }
   },
   "outputs": [],
   "source": [
    "X_train['saldo'] = min_max_scaler.fit_transform(X_train[['saldo']].values)\n",
    "X_test['saldo'] = min_max_scaler.transform(X_test[['saldo']].values)\n",
    "\n",
    "#outfile = open('/home/rnglinux/projetos/Churn-Predict/parameters/saldo_scaler.pkl', 'wb')\n",
    "#pickle.dump(min_max_scaler, outfile)\n",
    "#outfile.close()"
   ]
  },
  {
   "cell_type": "markdown",
   "id": "4d095139",
   "metadata": {},
   "source": [
    "#### 'salario_estimado'"
   ]
  },
  {
   "cell_type": "code",
   "execution_count": 59,
   "id": "88d60380",
   "metadata": {
    "ExecuteTime": {
     "end_time": "2023-04-18T10:11:18.160312Z",
     "start_time": "2023-04-18T10:11:18.153770Z"
    }
   },
   "outputs": [],
   "source": [
    "X_train['salario_estimado'] = min_max_scaler.fit_transform(X_train[['salario_estimado']].values)\n",
    "X_test['salario_estimado'] = min_max_scaler.transform(X_test[['salario_estimado']].values)\n",
    "#outfile = open('/home/rnglinux/projetos/Churn-Predict/parameters/salario_estimado_scaler.pkl', 'wb')\n",
    "#pickle.dump(min_max_scaler, outfile)\n",
    "#outfile.close()"
   ]
  },
  {
   "cell_type": "markdown",
   "id": "122b320e",
   "metadata": {},
   "source": [
    "#### 'tempo_permanencia'"
   ]
  },
  {
   "cell_type": "code",
   "execution_count": 60,
   "id": "36b10d2c",
   "metadata": {
    "ExecuteTime": {
     "end_time": "2023-04-18T10:11:18.170973Z",
     "start_time": "2023-04-18T10:11:18.162296Z"
    }
   },
   "outputs": [],
   "source": [
    "X_train['tempo_permanencia'] = min_max_scaler.fit_transform(X_train[['tempo_permanencia']].values)\n",
    "X_test['tempo_permanencia'] = min_max_scaler.transform(X_test[['tempo_permanencia']].values)\n",
    "\n",
    "#outfile = open('/home/rnglinux/projetos/Churn-Predict/parameters/tempo_permanencia_scaler.pkl', 'wb')\n",
    "#pickle.dump(min_max_scaler, outfile)\n",
    "#outfile.close()"
   ]
  },
  {
   "cell_type": "markdown",
   "id": "45b06efd",
   "metadata": {},
   "source": [
    "## Balancing Response Variable *only Train Data"
   ]
  },
  {
   "cell_type": "code",
   "execution_count": 61,
   "id": "f854a1cc",
   "metadata": {
    "ExecuteTime": {
     "end_time": "2023-04-18T10:11:18.286370Z",
     "start_time": "2023-04-18T10:11:18.174022Z"
    },
    "cell_style": "center",
    "scrolled": false
   },
   "outputs": [
    {
     "data": {
      "image/png": "[encoded data removed]",
      "text/plain": [
       "<Figure size 1000x500 with 1 Axes>"
      ]
     },
     "metadata": {},
     "output_type": "display_data"
    }
   ],
   "source": [
    "# Visualizando proporção da variável resposta\n",
    "sns.countplot(x= y_train, palette= \"light:b_r\");"
   ]
  },
  {
   "cell_type": "markdown",
   "id": "8df09405",
   "metadata": {},
   "source": [
    "- Como a variável resposta está desbalanceada, aplico uma técnica (algoritmo) que irá balancear os dados e evitar enviesamento do modelo."
   ]
  },
  {
   "cell_type": "code",
   "execution_count": 62,
   "id": "ffd64171",
   "metadata": {
    "ExecuteTime": {
     "end_time": "2023-04-18T10:11:18.314110Z",
     "start_time": "2023-04-18T10:11:18.289349Z"
    },
    "cell_style": "center"
   },
   "outputs": [],
   "source": [
    "# Over-Sampling na variável resposta dos dados de treino \n",
    "X_train, y_train = SMOTE().fit_resample(X_train, y_train)"
   ]
  },
  {
   "cell_type": "code",
   "execution_count": 63,
   "id": "d4385e3b",
   "metadata": {
    "ExecuteTime": {
     "end_time": "2023-04-18T10:11:18.415206Z",
     "start_time": "2023-04-18T10:11:18.316185Z"
    }
   },
   "outputs": [
    {
     "data": {
      "image/png": "[encoded data removed]",
      "text/plain": [
       "<Figure size 1000x500 with 1 Axes>"
      ]
     },
     "metadata": {},
     "output_type": "display_data"
    }
   ],
   "source": [
    "# Visualizando proporção da variável resposta\n",
    "sns.countplot(x= y_train, palette= \"light:b_r\");"
   ]
  },
  {
   "cell_type": "markdown",
   "id": "f88e9e4e",
   "metadata": {},
   "source": [
    "## Note:\n",
    "\n",
    "- Ao escalar os dados usa-se métricas que são definidas por todo o conjunto de dados, então decidi dividir os dados de treino e teste antes de escalar, pois assim, eu teria dois conjuntos de dados, com métricas únicas para cada conjunto, anulando o enviesamento do modelo. \n",
    "\t\tEx.: A normalização MinMaxScaler utiliza o valor mínimo e máximo do conjunto de dados. Se a normalização tivesse sido feita antes da divisão dos dados em conjuntos de treino e teste, a normalização dos dois conjuntos teriam o mesmo padrão escalar, de um único conjunto, pois iriam dividir os elementos mínimos e máximo, logo estaria injetando informações futuras no conjunto de dados de treinamneto, e assim, enviesando o modelo. Com normalização realizada depois da divisão dos dados em treino e teste, os valores mínimo e máximo seriam únicos para cada conjunto, assim, isolando os dados de treino com os dados de teste, evitando o enviesamento do modelo."
   ]
  },
  {
   "cell_type": "markdown",
   "id": "e4da63d0",
   "metadata": {},
   "source": [
    "# Feature Selection"
   ]
  },
  {
   "cell_type": "code",
   "execution_count": 64,
   "id": "2d31c66e",
   "metadata": {
    "ExecuteTime": {
     "end_time": "2023-04-18T10:11:18.421003Z",
     "start_time": "2023-04-18T10:11:18.417495Z"
    },
    "hide_input": true
   },
   "outputs": [],
   "source": [
    "df6 = df5.copy()"
   ]
  },
  {
   "cell_type": "markdown",
   "id": "2a539c33",
   "metadata": {},
   "source": [
    "## Boruta Feature Selector"
   ]
  },
  {
   "cell_type": "code",
   "execution_count": 65,
   "id": "5748dd9f",
   "metadata": {
    "ExecuteTime": {
     "end_time": "2023-04-18T10:11:18.429250Z",
     "start_time": "2023-04-18T10:11:18.422623Z"
    }
   },
   "outputs": [],
   "source": [
    "X_train_boruta= X_train.values\n",
    "y_train_boruta = y_train.values"
   ]
  },
  {
   "cell_type": "code",
   "execution_count": 66,
   "id": "b3865cb3",
   "metadata": {
    "ExecuteTime": {
     "end_time": "2023-04-18T10:11:20.966169Z",
     "start_time": "2023-04-18T10:11:18.431265Z"
    }
   },
   "outputs": [
    {
     "name": "stdout",
     "output_type": "stream",
     "text": [
      "Iteration: \t1 / 100\n",
      "Confirmed: \t0\n",
      "Tentative: \t10\n",
      "Rejected: \t0\n",
      "Iteration: \t2 / 100\n",
      "Confirmed: \t0\n",
      "Tentative: \t10\n",
      "Rejected: \t0\n",
      "Iteration: \t3 / 100\n",
      "Confirmed: \t0\n",
      "Tentative: \t10\n",
      "Rejected: \t0\n",
      "Iteration: \t4 / 100\n",
      "Confirmed: \t0\n",
      "Tentative: \t10\n",
      "Rejected: \t0\n",
      "Iteration: \t5 / 100\n",
      "Confirmed: \t0\n",
      "Tentative: \t10\n",
      "Rejected: \t0\n",
      "Iteration: \t6 / 100\n",
      "Confirmed: \t0\n",
      "Tentative: \t10\n",
      "Rejected: \t0\n",
      "Iteration: \t7 / 100\n",
      "Confirmed: \t0\n",
      "Tentative: \t10\n",
      "Rejected: \t0\n",
      "Iteration: \t8 / 100\n",
      "Confirmed: \t6\n",
      "Tentative: \t0\n",
      "Rejected: \t4\n",
      "\n",
      "\n",
      "BorutaPy finished running.\n",
      "\n",
      "Iteration: \t9 / 100\n",
      "Confirmed: \t6\n",
      "Tentative: \t0\n",
      "Rejected: \t4\n"
     ]
    }
   ],
   "source": [
    "# Intanciando RandomForestRegressor\n",
    "random_forest = RandomForestRegressor(n_jobs=-1)\n",
    "\n",
    "# Intanciando Boruta\n",
    "boruta = BorutaPy(random_forest, n_estimators='auto', verbose= 2, random_state= 42).fit(X_train_boruta, y_train_boruta)"
   ]
  },
  {
   "cell_type": "markdown",
   "id": "ef0b586b",
   "metadata": {},
   "source": [
    "### Best Features from Boruta "
   ]
  },
  {
   "cell_type": "code",
   "execution_count": 67,
   "id": "707cade2",
   "metadata": {
    "ExecuteTime": {
     "end_time": "2023-04-18T10:11:20.972729Z",
     "start_time": "2023-04-18T10:11:20.968312Z"
    }
   },
   "outputs": [],
   "source": [
    "columns_selected = boruta.support_.tolist()\n",
    "\n",
    "columns_selected_boruta = X_train.iloc[:, columns_selected].columns.to_list()\n",
    "\n",
    "columns_not_selected_boruta = list(np.setdiff1d(X_train.columns, columns_selected_boruta))"
   ]
  },
  {
   "cell_type": "code",
   "execution_count": 68,
   "id": "442e3dae",
   "metadata": {
    "ExecuteTime": {
     "end_time": "2023-04-18T10:11:20.987014Z",
     "start_time": "2023-04-18T10:11:20.974359Z"
    },
    "cell_style": "split"
   },
   "outputs": [
    {
     "data": {
      "text/plain": [
       "['score_credito',\n",
       " 'idade',\n",
       " 'tempo_permanencia',\n",
       " 'saldo',\n",
       " 'numero_de_contas',\n",
       " 'salario_estimado']"
      ]
     },
     "execution_count": 68,
     "metadata": {},
     "output_type": "execute_result"
    }
   ],
   "source": [
    "columns_selected_boruta"
   ]
  },
  {
   "cell_type": "code",
   "execution_count": 69,
   "id": "33b9ce05",
   "metadata": {
    "ExecuteTime": {
     "end_time": "2023-04-18T10:11:20.996718Z",
     "start_time": "2023-04-18T10:11:20.989590Z"
    },
    "cell_style": "split"
   },
   "outputs": [
    {
     "data": {
      "text/plain": [
       "['genero', 'geografia', 'membro_ativo', 'tem_cartao_credito']"
      ]
     },
     "execution_count": 69,
     "metadata": {},
     "output_type": "execute_result"
    }
   ],
   "source": [
    "columns_not_selected_boruta"
   ]
  },
  {
   "cell_type": "markdown",
   "id": "6a122d2f",
   "metadata": {},
   "source": [
    "# Machine Learning and Model Metrics "
   ]
  },
  {
   "cell_type": "code",
   "execution_count": 70,
   "id": "52121e47",
   "metadata": {
    "ExecuteTime": {
     "end_time": "2023-04-18T10:11:21.004376Z",
     "start_time": "2023-04-18T10:11:20.998914Z"
    },
    "hide_input": true
   },
   "outputs": [],
   "source": [
    "df7 = df6.copy()"
   ]
  },
  {
   "cell_type": "markdown",
   "id": "2cdaee81",
   "metadata": {
    "hide_input": true
   },
   "source": [
    "## Splitting Dataframe into Training and Test Dataset and Selecting Best Features to Model"
   ]
  },
  {
   "cell_type": "code",
   "execution_count": 71,
   "id": "4fac9ac0",
   "metadata": {
    "ExecuteTime": {
     "end_time": "2023-04-18T10:11:21.016453Z",
     "start_time": "2023-04-18T10:11:21.008156Z"
    }
   },
   "outputs": [],
   "source": [
    "#columns_selected_boruta = ['score_credito',\n",
    "# 'idade',\n",
    "# 'saldo',\n",
    "# 'numero_de_contas',\n",
    "# 'membro_ativo',\n",
    "# 'salario_estimado']\n",
    "\n",
    "X_train_model = X_train[columns_selected_boruta]\n",
    "y_train_model = y_train\n",
    "\n",
    "X_test_model = X_test[columns_selected_boruta]\n",
    "y_test_model = y_test"
   ]
  },
  {
   "cell_type": "markdown",
   "id": "302f9fda",
   "metadata": {},
   "source": [
    "## Cross Validation - Random Forest"
   ]
  },
  {
   "cell_type": "code",
   "execution_count": 72,
   "id": "1680b852",
   "metadata": {
    "ExecuteTime": {
     "end_time": "2023-04-18T10:11:26.314970Z",
     "start_time": "2023-04-18T10:11:21.020323Z"
    }
   },
   "outputs": [
    {
     "name": "stdout",
     "output_type": "stream",
     "text": [
      "Acurácia (Cross Validation): 0.86 +/-0.01\n"
     ]
    }
   ],
   "source": [
    "kfold = KFold(5, shuffle= True, random_state= 42)\n",
    "\n",
    "random_forest_cv = RandomForestClassifier(n_estimators= 150, n_jobs= -1, random_state= 42)\n",
    "\n",
    "accuracy_rf = cross_val_score(random_forest_cv, X_train_model, y_train_model, cv= kfold)\n",
    "\n",
    "print(f'Acurácia (Cross Validation): {round(accuracy_rf.mean(), 2)} +/-{round(accuracy_rf.std(), 2)}')"
   ]
  },
  {
   "cell_type": "markdown",
   "id": "ddefab69",
   "metadata": {},
   "source": [
    "## Training and Testing -  Random Forest"
   ]
  },
  {
   "cell_type": "code",
   "execution_count": 73,
   "id": "ae3fe583",
   "metadata": {
    "ExecuteTime": {
     "end_time": "2023-04-18T10:11:27.031335Z",
     "start_time": "2023-04-18T10:11:26.327544Z"
    }
   },
   "outputs": [
    {
     "data": {
      "text/html": [
       "<style>#sk-container-id-1 {color: black;background-color: white;}#sk-container-id-1 pre{padding: 0;}#sk-container-id-1 div.sk-toggleable {background-color: white;}#sk-container-id-1 label.sk-toggleable__label {cursor: pointer;display: block;width: 100%;margin-bottom: 0;padding: 0.3em;box-sizing: border-box;text-align: center;}#sk-container-id-1 label.sk-toggleable__label-arrow:before {content: \"▸\";float: left;margin-right: 0.25em;color: #696969;}#sk-container-id-1 label.sk-toggleable__label-arrow:hover:before {color: black;}#sk-container-id-1 div.sk-estimator:hover label.sk-toggleable__label-arrow:before {color: black;}#sk-container-id-1 div.sk-toggleable__content {max-height: 0;max-width: 0;overflow: hidden;text-align: left;background-color: #f0f8ff;}#sk-container-id-1 div.sk-toggleable__content pre {margin: 0.2em;color: black;border-radius: 0.25em;background-color: #f0f8ff;}#sk-container-id-1 input.sk-toggleable__control:checked~div.sk-toggleable__content {max-height: 200px;max-width: 100%;overflow: auto;}#sk-container-id-1 input.sk-toggleable__control:checked~label.sk-toggleable__label-arrow:before {content: \"▾\";}#sk-container-id-1 div.sk-estimator input.sk-toggleable__control:checked~label.sk-toggleable__label {background-color: #d4ebff;}#sk-container-id-1 div.sk-label input.sk-toggleable__control:checked~label.sk-toggleable__label {background-color: #d4ebff;}#sk-container-id-1 input.sk-hidden--visually {border: 0;clip: rect(1px 1px 1px 1px);clip: rect(1px, 1px, 1px, 1px);height: 1px;margin: -1px;overflow: hidden;padding: 0;position: absolute;width: 1px;}#sk-container-id-1 div.sk-estimator {font-family: monospace;background-color: #f0f8ff;border: 1px dotted black;border-radius: 0.25em;box-sizing: border-box;margin-bottom: 0.5em;}#sk-container-id-1 div.sk-estimator:hover {background-color: #d4ebff;}#sk-container-id-1 div.sk-parallel-item::after {content: \"\";width: 100%;border-bottom: 1px solid gray;flex-grow: 1;}#sk-container-id-1 div.sk-label:hover label.sk-toggleable__label {background-color: #d4ebff;}#sk-container-id-1 div.sk-serial::before {content: \"\";position: absolute;border-left: 1px solid gray;box-sizing: border-box;top: 0;bottom: 0;left: 50%;z-index: 0;}#sk-container-id-1 div.sk-serial {display: flex;flex-direction: column;align-items: center;background-color: white;padding-right: 0.2em;padding-left: 0.2em;position: relative;}#sk-container-id-1 div.sk-item {position: relative;z-index: 1;}#sk-container-id-1 div.sk-parallel {display: flex;align-items: stretch;justify-content: center;background-color: white;position: relative;}#sk-container-id-1 div.sk-item::before, #sk-container-id-1 div.sk-parallel-item::before {content: \"\";position: absolute;border-left: 1px solid gray;box-sizing: border-box;top: 0;bottom: 0;left: 50%;z-index: -1;}#sk-container-id-1 div.sk-parallel-item {display: flex;flex-direction: column;z-index: 1;position: relative;background-color: white;}#sk-container-id-1 div.sk-parallel-item:first-child::after {align-self: flex-end;width: 50%;}#sk-container-id-1 div.sk-parallel-item:last-child::after {align-self: flex-start;width: 50%;}#sk-container-id-1 div.sk-parallel-item:only-child::after {width: 0;}#sk-container-id-1 div.sk-dashed-wrapped {border: 1px dashed gray;margin: 0 0.4em 0.5em 0.4em;box-sizing: border-box;padding-bottom: 0.4em;background-color: white;}#sk-container-id-1 div.sk-label label {font-family: monospace;font-weight: bold;display: inline-block;line-height: 1.2em;}#sk-container-id-1 div.sk-label-container {text-align: center;}#sk-container-id-1 div.sk-container {/* jupyter's `normalize.less` sets `[hidden] { display: none; }` but bootstrap.min.css set `[hidden] { display: none !important; }` so we also need the `!important` here to be able to override the default hidden behavior on the sphinx rendered scikit-learn.org. See: https://github.com/scikit-learn/scikit-learn/issues/21755 */display: inline-block !important;position: relative;}#sk-container-id-1 div.sk-text-repr-fallback {display: none;}</style><div id=\"sk-container-id-1\" class=\"sk-top-container\"><div class=\"sk-text-repr-fallback\"><pre>RandomForestClassifier(n_estimators=150, n_jobs=-1, random_state=42)</pre><b>In a Jupyter environment, please rerun this cell to show the HTML representation or trust the notebook. <br />On GitHub, the HTML representation is unable to render, please try loading this page with nbviewer.org.</b></div><div class=\"sk-container\" hidden><div class=\"sk-item\"><div class=\"sk-estimator sk-toggleable\"><input class=\"sk-toggleable__control sk-hidden--visually\" id=\"sk-estimator-id-1\" type=\"checkbox\" checked><label for=\"sk-estimator-id-1\" class=\"sk-toggleable__label sk-toggleable__label-arrow\">RandomForestClassifier</label><div class=\"sk-toggleable__content\"><pre>RandomForestClassifier(n_estimators=150, n_jobs=-1, random_state=42)</pre></div></div></div></div></div>"
      ],
      "text/plain": [
       "RandomForestClassifier(n_estimators=150, n_jobs=-1, random_state=42)"
      ]
     },
     "execution_count": 73,
     "metadata": {},
     "output_type": "execute_result"
    }
   ],
   "source": [
    "# Instanciando o Modelo\n",
    "model = RandomForestClassifier(n_estimators= 150, n_jobs=-1, random_state= 42)\n",
    "\n",
    "# Treinando o modelo\n",
    "model.fit(X_train_model, y_train_model)\n",
    "\n",
    "#outfile = open('/home/rnglinux/projetos/Churn-Predict/model/model_v1.pkl', 'wb')\n",
    "#pickle.dump(model, outfile)\n",
    "#outfile.close()"
   ]
  },
  {
   "cell_type": "markdown",
   "id": "02ff6709",
   "metadata": {},
   "source": [
    "### Predict"
   ]
  },
  {
   "cell_type": "code",
   "execution_count": 74,
   "id": "9dff755d",
   "metadata": {
    "ExecuteTime": {
     "end_time": "2023-04-18T10:11:27.146114Z",
     "start_time": "2023-04-18T10:11:27.034465Z"
    }
   },
   "outputs": [],
   "source": [
    "# Previsão com dados de teste\n",
    "yhat_model = model.predict(X_test_model)"
   ]
  },
  {
   "cell_type": "markdown",
   "id": "a81b9ab2",
   "metadata": {},
   "source": [
    "## Metrics"
   ]
  },
  {
   "cell_type": "markdown",
   "id": "58426d1f",
   "metadata": {},
   "source": [
    "### Confusion Matrix"
   ]
  },
  {
   "cell_type": "code",
   "execution_count": 83,
   "id": "91c8812c",
   "metadata": {
    "ExecuteTime": {
     "end_time": "2023-04-18T10:14:55.941392Z",
     "start_time": "2023-04-18T10:14:55.915054Z"
    },
    "cell_style": "split",
    "hide_input": true
   },
   "outputs": [
    {
     "name": "stdout",
     "output_type": "stream",
     "text": [
      "- Matriz Absoluta\n",
      "[[2356  301]\n",
      " [ 288  355]]\n"
     ]
    }
   ],
   "source": [
    "matrix_absolute = confusion_matrix(y_test_model, yhat_model)\n",
    "matrix_percentage = confusion_matrix(y_test_model, yhat_model, normalize= 'true')\n",
    "\n",
    "print('- Matriz Absoluta')\n",
    "print(matrix_absolute)"
   ]
  },
  {
   "cell_type": "code",
   "execution_count": 86,
   "id": "4804cb22",
   "metadata": {
    "ExecuteTime": {
     "end_time": "2023-04-18T10:15:44.762982Z",
     "start_time": "2023-04-18T10:15:44.758407Z"
    },
    "cell_style": "split",
    "hide_input": true
   },
   "outputs": [
    {
     "name": "stdout",
     "output_type": "stream",
     "text": [
      "- Matriz Percentual\n",
      "[[0.88671434 0.11328566]\n",
      " [0.44790047 0.55209953]]\n"
     ]
    }
   ],
   "source": [
    "print('- Matriz Percentual')\n",
    "print(matrix_percentage)"
   ]
  },
  {
   "cell_type": "code",
   "execution_count": 84,
   "id": "78f6b9ed",
   "metadata": {
    "ExecuteTime": {
     "end_time": "2023-04-18T10:14:59.573573Z",
     "start_time": "2023-04-18T10:14:59.568485Z"
    },
    "cell_style": "split",
    "hide_input": true
   },
   "outputs": [
    {
     "name": "stdout",
     "output_type": "stream",
     "text": [
      "True Negative: 2356\n",
      "False Positive: 301\n",
      "False Negative: 288\n",
      "True Positive: 355\n"
     ]
    }
   ],
   "source": [
    "true_negative_abs = matrix_absolute[0][0]\n",
    "false_positive_abs = matrix_absolute[0][1]\n",
    "false_negative_abs = matrix_absolute[1][0]\n",
    "true_positive_abs = matrix_absolute[1][1]\n",
    "\n",
    "print(f'True Negative: {true_negative_abs}')\n",
    "print(f'False Positive: {false_positive_abs}')\n",
    "print(f'False Negative: {false_negative_abs}')\n",
    "print(f'True Positive: {true_positive_abs}')"
   ]
  },
  {
   "cell_type": "code",
   "execution_count": 87,
   "id": "dc2c2505",
   "metadata": {
    "ExecuteTime": {
     "end_time": "2023-04-18T10:15:48.785393Z",
     "start_time": "2023-04-18T10:15:48.781073Z"
    },
    "cell_style": "split",
    "hide_input": true
   },
   "outputs": [
    {
     "name": "stdout",
     "output_type": "stream",
     "text": [
      "True Negative: 88.67%\n",
      "False Positive: 11.33%\n",
      "False Negative: 44.79%\n",
      "True Positive: 55.21%\n"
     ]
    }
   ],
   "source": [
    "true_negative_perc = matrix_percentage[0][0]\n",
    "false_positive_perc = matrix_percentage[0][1]\n",
    "false_negative_perc = matrix_percentage[1][0]\n",
    "true_positive_perc = matrix_percentage[1][1]\n",
    "\n",
    "print(f'True Negative: {true_negative_perc * 100:.2f}%')\n",
    "print(f'False Positive: {false_positive_perc * 100:.2f}%')\n",
    "print(f'False Negative: {false_negative_perc * 100:.2f}%')\n",
    "print(f'True Positive: {true_positive_perc * 100 :.2f}%')"
   ]
  },
  {
   "cell_type": "code",
   "execution_count": 79,
   "id": "2a273543",
   "metadata": {
    "ExecuteTime": {
     "end_time": "2023-04-18T10:11:27.208092Z",
     "start_time": "2023-04-18T10:11:27.191879Z"
    }
   },
   "outputs": [
    {
     "name": "stdout",
     "output_type": "stream",
     "text": [
      "              precision    recall  f1-score   support\n",
      "\n",
      "           0       0.89      0.89      0.89      2657\n",
      "           1       0.54      0.55      0.55       643\n",
      "\n",
      "    accuracy                           0.82      3300\n",
      "   macro avg       0.72      0.72      0.72      3300\n",
      "weighted avg       0.82      0.82      0.82      3300\n",
      "\n"
     ]
    }
   ],
   "source": [
    "# Métricas de Performance do Modelo\n",
    "print(classification_report(y_test_model, yhat_model))"
   ]
  },
  {
   "cell_type": "markdown",
   "id": "b4e6941a",
   "metadata": {},
   "source": [
    "## Note:\n",
    "O modelo consegue prever cerca de 55.21% dos clientes que de fato irão dar churn, porém 44.79% dos que não querem sair da empresa, o modelo prevê que irão sair. \n",
    "Logo, é possível observar um sobreajuste significativo do modelo para previsão de Churn.\n",
    "\n",
    "Para a próxima versão:\n",
    "1. Multi-modelagem para definir o melhor modelo.\n",
    "2. Estudar os melhores parâmetros para serem aplicados no modelo escolhido.\n",
    "3. Tratar o sobreajuste do modelo."
   ]
  },
  {
   "cell_type": "markdown",
   "id": "c18c8d4e",
   "metadata": {},
   "source": [
    "# Business Translation"
   ]
  },
  {
   "cell_type": "code",
   "execution_count": 80,
   "id": "bfb4d779",
   "metadata": {
    "ExecuteTime": {
     "end_time": "2023-04-18T10:11:27.229694Z",
     "start_time": "2023-04-18T10:11:27.210377Z"
    },
    "hide_input": true
   },
   "outputs": [],
   "source": [
    "df8 = df7.copy()"
   ]
  },
  {
   "cell_type": "markdown",
   "id": "82d2526d",
   "metadata": {},
   "source": [
    "## What is Top Bank's current Churn rate?"
   ]
  },
  {
   "cell_type": "markdown",
   "id": "72e64019",
   "metadata": {},
   "source": [
    "- Foi respondida na análise univariada da variável resposta. 20.37% de Churn Rate."
   ]
  },
  {
   "cell_type": "code",
   "execution_count": 81,
   "id": "aaa2c10c",
   "metadata": {
    "ExecuteTime": {
     "end_time": "2023-04-18T10:11:27.488853Z",
     "start_time": "2023-04-18T10:11:27.233851Z"
    },
    "hide_input": true
   },
   "outputs": [
    {
     "data": {
      "image/png": "[encoded data removed]",
      "text/plain": [
       "<Figure size 1000x500 with 1 Axes>"
      ]
     },
     "metadata": {},
     "output_type": "display_data"
    }
   ],
   "source": [
    "sns.countplot(x=df4['Churn'], palette= \"light:b_r\");"
   ]
  },
  {
   "cell_type": "code",
   "execution_count": 82,
   "id": "1f8454f3",
   "metadata": {
    "ExecuteTime": {
     "end_time": "2023-04-18T10:11:27.530738Z",
     "start_time": "2023-04-18T10:11:27.518145Z"
    },
    "hide_input": true
   },
   "outputs": [
    {
     "name": "stdout",
     "output_type": "stream",
     "text": [
      "R: Clientes que irão dar Churn correspondem a 20.37% da base de dados e clientes que não irão dar Churn correspondem a 79.63% da base de dados.\n"
     ]
    }
   ],
   "source": [
    "percentage_no_churn = df4[['id_cliente', 'Churn']].loc[df4['Churn'] == 'no'].shape[0] / df4.shape[0] * 100\n",
    "percentage_yes_churn = df4[['id_cliente', 'Churn']].loc[df4['Churn'] == 'yes'].shape[0] / df4.shape[0] * 100\n",
    "print(f'R: Clientes que irão dar Churn correspondem a {percentage_yes_churn:.2f}% da base de dados e clientes que não irão dar Churn correspondem a {percentage_no_churn:.2f}% da base de dados.')"
   ]
  },
  {
   "cell_type": "markdown",
   "id": "4ce3db3a",
   "metadata": {
    "hide_input": true
   },
   "source": [
    "## How does the churn rate vary monthly?"
   ]
  },
  {
   "cell_type": "markdown",
   "id": "f2cb1c14",
   "metadata": {},
   "source": [
    "- Será respondido no segundo ciclo."
   ]
  },
  {
   "cell_type": "markdown",
   "id": "14c6a348",
   "metadata": {},
   "source": [
    "## What is the performance of the model in classifying customers as churns?"
   ]
  },
  {
   "cell_type": "markdown",
   "id": "71412ad8",
   "metadata": {},
   "source": [
    "    R: O modelo possui uma precisão de 82% para indentificar churns neste primeiro ciclo."
   ]
  },
  {
   "cell_type": "markdown",
   "id": "fe6b0573",
   "metadata": {},
   "source": [
    "## What is the expected return, in terms of revenue, if the company uses its model to avoid churn from customers?"
   ]
  },
  {
   "cell_type": "markdown",
   "id": "a5a3f67d",
   "metadata": {},
   "source": [
    "- Será respondido no segundo ciclo."
   ]
  },
  {
   "cell_type": "markdown",
   "id": "f777f70e",
   "metadata": {},
   "source": [
    "# Deploy"
   ]
  },
  {
   "cell_type": "markdown",
   "id": "fa5b4c21",
   "metadata": {},
   "source": [
    "## Note:\n",
    "Próxima versão: criação da classe para deploy."
   ]
  },
  {
   "cell_type": "markdown",
   "id": "43b0f097",
   "metadata": {},
   "source": [
    "# Referências"
   ]
  },
  {
   "cell_type": "markdown",
   "id": "67a8eaa2",
   "metadata": {},
   "source": [
    "- Alura - Lidando com desbalanceamente de dados (https://www.alura.com.br/artigos/lidando-com-desbalanceamento-dados#:~:text=%C3%89%20uma%20t%C3%A9cnica%20que%20consiste%20em%20aumentar%20a%20quantidade%20de,da%20classe%20com%20menor%20frequ%C3%AAncia)\n",
    "- Imbalanced Learn - Over-sampling (https://imbalanced-learn.org/stable/over_sampling.html#from-random-over-sampling-to-smote-and-adasyn)"
   ]
  }
 ],
 "metadata": {
  "kernelspec": {
   "display_name": "Python 3 (ipykernel)",
   "language": "python",
   "name": "python3"
  },
  "language_info": {
   "codemirror_mode": {
    "name": "ipython",
    "version": 3
   },
   "file_extension": ".py",
   "mimetype": "text/x-python",
   "name": "python",
   "nbconvert_exporter": "python",
   "pygments_lexer": "ipython3",
   "version": "3.10.8"
  },
  "toc": {
   "base_numbering": "0",
   "nav_menu": {
    "height": "351px",
    "width": "219px"
   },
   "number_sections": true,
   "sideBar": true,
   "skip_h1_title": false,
   "title_cell": "Table of Contents",
   "title_sidebar": "Contents",
   "toc_cell": false,
   "toc_position": {
    "height": "calc(100% - 180px)",
    "left": "10px",
    "top": "150px",
    "width": "306.425px"
   },
   "toc_section_display": true,
   "toc_window_display": false
  },
  "varInspector": {
   "cols": {
    "lenName": 16,
    "lenType": 16,
    "lenVar": 40
   },
   "kernels_config": {
    "python": {
     "delete_cmd_postfix": "",
     "delete_cmd_prefix": "del ",
     "library": "var_list.py",
     "varRefreshCmd": "print(var_dic_list())"
    },
    "r": {
     "delete_cmd_postfix": ") ",
     "delete_cmd_prefix": "rm(",
     "library": "var_list.r",
     "varRefreshCmd": "cat(var_dic_list()) "
    }
   },
   "types_to_exclude": [
    "module",
    "function",
    "builtin_function_or_method",
    "instance",
    "_Feature"
   ],
   "window_display": false
  }
 },
 "nbformat": 4,
 "nbformat_minor": 5
}
