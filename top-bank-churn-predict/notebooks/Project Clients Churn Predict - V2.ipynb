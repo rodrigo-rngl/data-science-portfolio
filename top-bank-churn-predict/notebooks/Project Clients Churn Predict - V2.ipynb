{
 "cells": [
  {
   "cell_type": "markdown",
   "id": "53fce842",
   "metadata": {},
   "source": [
    "# Business Problem"
   ]
  },
  {
   "cell_type": "markdown",
   "id": "d5a1d848",
   "metadata": {},
   "source": [
    "A empresa Top Bank atua na Europa tendo como principal produto uma conta bancária. Este produto pode manter o salário do cliente e efetuar pagamentos. Essa conta não tem nenhum custo nos primeiros 12 meses, porém, após esse período, o cliente precisa recontratar o banco para os próximos 12 meses e refazer esse processo todos os anos. Recentemente, a equipe de análise notou que a taxa de churn está aumentando.\n",
    "\n",
    "## Challenge:\n",
    "Como Cientista de Dados, você precisa criar um plano de ação para diminuir o número de clientes churn e mostrar o retorno financeiro da sua solução.\n",
    "Além disso, você precisará fornecer um relatório relatando o desempenho de seu modelo e o impacto financeiro de sua solução.\n",
    "Perguntas que o CEO e a equipe do Analytics gostariam de ver em seu relatório:\n",
    "\n",
    "1. Qual é a atual taxa de churn do Top Bank?\n",
    "2. Como a taxa de churn varia mensalmente?\n",
    "3. Qual é o desempenho do modelo na classificação de clientes como churns?\n",
    "4. Qual é o retorno esperado, em termos de receita, se a empresa utilizar seu modelo para evitar o churn de clientes?"
   ]
  },
  {
   "cell_type": "markdown",
   "id": "5be52b16",
   "metadata": {},
   "source": [
    "## Note:\n",
    "Como posso responder os 4 desafios do problema???\n",
    "\n",
    "    R: Conhecer as variáveis (Data Description) e definir plano de desenvolvimento."
   ]
  },
  {
   "cell_type": "markdown",
   "id": "cf9d7447",
   "metadata": {},
   "source": [
    "# Imports"
   ]
  },
  {
   "cell_type": "code",
   "execution_count": 1,
   "id": "f858609d",
   "metadata": {
    "ExecuteTime": {
     "end_time": "2023-01-26T19:55:34.025986Z",
     "start_time": "2023-01-26T19:55:31.329614Z"
    }
   },
   "outputs": [],
   "source": [
    "#Data Processing\n",
    "import pandas as pd\n",
    "import numpy as np\n",
    "\n",
    "#Data Visualization\n",
    "import seaborn as sns\n",
    "import matplotlib.pyplot as plt\n",
    "\n",
    "#Data Preparation\n",
    "from sklearn.preprocessing import RobustScaler, MinMaxScaler, LabelEncoder\n",
    "from imblearn.over_sampling import SMOTE\n",
    "\n",
    "#Feature Selection\n",
    "from sklearn.model_selection import train_test_split\n",
    "from sklearn.ensemble import RandomForestRegressor\n",
    "from boruta import BorutaPy\n",
    "\n",
    "#Model and Metrics\n",
    "from sklearn.ensemble import RandomForestClassifier\n",
    "from sklearn.metrics import confusion_matrix, classification_report\n",
    "\n",
    "#Parameter and Model Saving\n",
    "import pickle\n",
    "\n",
    "#Display Jupyter\n",
    "from IPython.core.display import HTML\n",
    "from IPython.core.display import Image\n",
    "import warnings\n",
    "warnings.filterwarnings('ignore')"
   ]
  },
  {
   "cell_type": "markdown",
   "id": "68d45693",
   "metadata": {},
   "source": [
    "## Helper Functions"
   ]
  },
  {
   "cell_type": "code",
   "execution_count": 2,
   "id": "fa0b3d7e",
   "metadata": {
    "ExecuteTime": {
     "end_time": "2023-01-26T19:55:34.091508Z",
     "start_time": "2023-01-26T19:55:34.030151Z"
    },
    "code_folding": [
     16
    ]
   },
   "outputs": [
    {
     "name": "stdout",
     "output_type": "stream",
     "text": [
      "%pylab is deprecated, use %matplotlib inline and import the required libraries.\n",
      "Populating the interactive namespace from numpy and matplotlib\n"
     ]
    },
    {
     "data": {
      "text/html": [
       "<style>.container { width:100% !important; }</style>"
      ],
      "text/plain": [
       "<IPython.core.display.HTML object>"
      ]
     },
     "metadata": {},
     "output_type": "display_data"
    }
   ],
   "source": [
    "def jupyter_settings():\n",
    "    %matplotlib inline\n",
    "    %pylab inline\n",
    "    plt.style.use( 'bmh' )\n",
    "    plt.rcParams['figure.figsize'] = [16, 4]\n",
    "    plt.rcParams['font.size'] = 24\n",
    "    \n",
    "    display(HTML('<style>.container { width:100% !important; }</style>'))\n",
    "    pd.options.display.max_columns = 50\n",
    "    pd.options.display.max_rows= False\n",
    "    pd.set_option( 'display.expand_frame_repr', False )\n",
    "    \n",
    "    sns.set()\n",
    "    sns.set_palette(categorical_palette)\n",
    "    \n",
    "    \n",
    "def numeric_descriptive_statistical(numeric_attributes):\n",
    "    mean = pd.DataFrame(numeric_attributes.apply(np.mean)).T\n",
    "    median = pd.DataFrame(numeric_attributes.apply(np.median)).T\n",
    "    standard_deviation = pd.DataFrame(numeric_attributes.apply(np.std)).T\n",
    "    minimum = pd.DataFrame(numeric_attributes.apply(np.min)).T\n",
    "    maximum = pd.DataFrame(numeric_attributes.apply(np.max)).T\n",
    "    distance_between_minimum_and_maximum = pd.DataFrame(numeric_attributes.apply(lambda x: x.max() - x.min())).T\n",
    "    unique = pd.DataFrame(numeric_attributes.apply(lambda x: len(x.unique()))).T\n",
    "    skewness = pd.DataFrame(numeric_attributes.apply(lambda x: x.skew())).T\n",
    "    kurtosis = pd.DataFrame(numeric_attributes.apply(lambda x: x.kurtosis())).T\n",
    "    \n",
    "\n",
    "    #concatenate\n",
    "    vizualizer_descriptive_statistical = pd.concat([minimum, maximum, distance_between_minimum_and_maximum, unique, mean, median, standard_deviation, skewness, kurtosis]).T.reset_index()\n",
    "    vizualizer_descriptive_statistical.columns = ['Variáveis', 'Mínimo', 'Máximo', 'Range', 'Valores Únicos', 'Média', 'Mediana', 'Desv. Padrão', 'Assimetria', 'Curtose']\n",
    "\n",
    "    return vizualizer_descriptive_statistical\n",
    "\n",
    "def n_bins(numeric_column):\n",
    "    n = numeric_column.shape[0]\n",
    "    k = round(1 + (3.3 * np.log10(n)))    \n",
    "        \n",
    "    return k\n",
    "\n",
    "def show_univariate_numeric_distribution(numeric_column, bins, title, ylabel, xlabel):\n",
    "    # Get statistics\n",
    "    min_val = numeric_column.min()\n",
    "    max_val = numeric_column.max()\n",
    "    mean_val = numeric_column.mean()\n",
    "    med_val = numeric_column.median()\n",
    "    mod_val = numeric_column.mode()[0]\n",
    "    first_quartile_val= np.percentile(numeric_column, 25)\n",
    "    third_quartile_val = np.percentile(numeric_column, 75)\n",
    "    \n",
    "    print('Mínimo:{:.2f}\\nMédia:{:.2f}\\nMediana:{:.2f}\\nModa:{:.2f}\\nMáximo:{:.2f}\\nPrimeiro Quartil:{:.2f}\\nTerceiro Quartil:{:.2f}'.format(min_val, mean_val,\n",
    "                                                                                                                                             med_val, mod_val, max_val,\n",
    "                                                                                                                                             first_quartile_val,\n",
    "                                                                                                                                             third_quartile_val))\n",
    "\n",
    "    # Create a figure for 2 subplots (2 rows, 1 column)\n",
    "    fig, ax = plt.subplots(2, 1, figsize = (16,4))\n",
    "\n",
    "    # Plot the histogram   \n",
    "    ax[0].hist(numeric_column, bins= bins, color= 'salmon')\n",
    "    ax[0].set_ylabel(ylabel)\n",
    "\n",
    "    # Add lines for the mean, median, and mode\n",
    "    ax[0].axvline(x=min_val, color = 'gray', linestyle='dashed', linewidth = 2)\n",
    "    ax[0].axvline(x=first_quartile_val, color = 'yellow', linestyle='dashed', linewidth = 2)\n",
    "    ax[0].axvline(x=mean_val, color = 'cyan', linestyle='dashed', linewidth = 2)\n",
    "    ax[0].axvline(x=med_val, color = 'red', linestyle='dashed', linewidth = 2)\n",
    "    ax[0].axvline(x=mod_val, color = 'green', linestyle='dashed', linewidth = 2)\n",
    "    ax[0].axvline(x=third_quartile_val, color = 'yellow', linestyle='dashed', linewidth = 2)\n",
    "    ax[0].axvline(x=max_val, color = 'gray', linestyle='dashed', linewidth = 2)\n",
    "\n",
    "    # Plot the boxplot   \n",
    "    ax[1].boxplot(numeric_column, vert=False)\n",
    "    ax[1].set_xlabel(xlabel)\n",
    "\n",
    "    # Add a title to the Figure\n",
    "    fig.suptitle(title)\n",
    "    \n",
    "    fig.show()\n",
    "    \n",
    "    return  None\n",
    "\n",
    "sequencial_palette = ['#ffe14d', '#fac04b', '#f59f49', '#f08048', '#eb6246', '#e64545', '#e0435e', '#db4275', '#d6408b', '#d13fa0', '#cc3db4', '#c73cc7']\n",
    "categorical_palette = [\"#fbbd05\", \"#ff7a5c\", \"#ff4d4d\", \"#ff0000\", \"#c90000\"]\n",
    "\n",
    "jupyter_settings()"
   ]
  },
  {
   "cell_type": "markdown",
   "id": "8bb164a6",
   "metadata": {},
   "source": [
    "## Load Data"
   ]
  },
  {
   "cell_type": "code",
   "execution_count": 3,
   "id": "0e3cb959",
   "metadata": {
    "ExecuteTime": {
     "end_time": "2023-01-26T19:55:34.166338Z",
     "start_time": "2023-01-26T19:55:34.095126Z"
    },
    "hide_input": true
   },
   "outputs": [
    {
     "data": {
      "text/html": [
       "<div>\n",
       "<style scoped>\n",
       "    .dataframe tbody tr th:only-of-type {\n",
       "        vertical-align: middle;\n",
       "    }\n",
       "\n",
       "    .dataframe tbody tr th {\n",
       "        vertical-align: top;\n",
       "    }\n",
       "\n",
       "    .dataframe thead th {\n",
       "        text-align: right;\n",
       "    }\n",
       "</style>\n",
       "<table border=\"1\" class=\"dataframe\">\n",
       "  <thead>\n",
       "    <tr style=\"text-align: right;\">\n",
       "      <th></th>\n",
       "      <th>RowNumber</th>\n",
       "      <th>CustomerId</th>\n",
       "      <th>Surname</th>\n",
       "      <th>CreditScore</th>\n",
       "      <th>Geography</th>\n",
       "      <th>Gender</th>\n",
       "      <th>Age</th>\n",
       "      <th>Tenure</th>\n",
       "      <th>Balance</th>\n",
       "      <th>NumOfProducts</th>\n",
       "      <th>HasCrCard</th>\n",
       "      <th>IsActiveMember</th>\n",
       "      <th>EstimatedSalary</th>\n",
       "      <th>Exited</th>\n",
       "    </tr>\n",
       "  </thead>\n",
       "  <tbody>\n",
       "    <tr>\n",
       "      <th>0</th>\n",
       "      <td>1</td>\n",
       "      <td>15634602</td>\n",
       "      <td>Hargrave</td>\n",
       "      <td>619</td>\n",
       "      <td>France</td>\n",
       "      <td>Female</td>\n",
       "      <td>42</td>\n",
       "      <td>2</td>\n",
       "      <td>0.00</td>\n",
       "      <td>1</td>\n",
       "      <td>1</td>\n",
       "      <td>1</td>\n",
       "      <td>101348.88</td>\n",
       "      <td>1</td>\n",
       "    </tr>\n",
       "    <tr>\n",
       "      <th>1</th>\n",
       "      <td>2</td>\n",
       "      <td>15647311</td>\n",
       "      <td>Hill</td>\n",
       "      <td>608</td>\n",
       "      <td>Spain</td>\n",
       "      <td>Female</td>\n",
       "      <td>41</td>\n",
       "      <td>1</td>\n",
       "      <td>83807.86</td>\n",
       "      <td>1</td>\n",
       "      <td>0</td>\n",
       "      <td>1</td>\n",
       "      <td>112542.58</td>\n",
       "      <td>0</td>\n",
       "    </tr>\n",
       "    <tr>\n",
       "      <th>2</th>\n",
       "      <td>3</td>\n",
       "      <td>15619304</td>\n",
       "      <td>Onio</td>\n",
       "      <td>502</td>\n",
       "      <td>France</td>\n",
       "      <td>Female</td>\n",
       "      <td>42</td>\n",
       "      <td>8</td>\n",
       "      <td>159660.80</td>\n",
       "      <td>3</td>\n",
       "      <td>1</td>\n",
       "      <td>0</td>\n",
       "      <td>113931.57</td>\n",
       "      <td>1</td>\n",
       "    </tr>\n",
       "    <tr>\n",
       "      <th>3</th>\n",
       "      <td>4</td>\n",
       "      <td>15701354</td>\n",
       "      <td>Boni</td>\n",
       "      <td>699</td>\n",
       "      <td>France</td>\n",
       "      <td>Female</td>\n",
       "      <td>39</td>\n",
       "      <td>1</td>\n",
       "      <td>0.00</td>\n",
       "      <td>2</td>\n",
       "      <td>0</td>\n",
       "      <td>0</td>\n",
       "      <td>93826.63</td>\n",
       "      <td>0</td>\n",
       "    </tr>\n",
       "    <tr>\n",
       "      <th>4</th>\n",
       "      <td>5</td>\n",
       "      <td>15737888</td>\n",
       "      <td>Mitchell</td>\n",
       "      <td>850</td>\n",
       "      <td>Spain</td>\n",
       "      <td>Female</td>\n",
       "      <td>43</td>\n",
       "      <td>2</td>\n",
       "      <td>125510.82</td>\n",
       "      <td>1</td>\n",
       "      <td>1</td>\n",
       "      <td>1</td>\n",
       "      <td>79084.10</td>\n",
       "      <td>0</td>\n",
       "    </tr>\n",
       "    <tr>\n",
       "      <th>5</th>\n",
       "      <td>6</td>\n",
       "      <td>15574012</td>\n",
       "      <td>Chu</td>\n",
       "      <td>645</td>\n",
       "      <td>Spain</td>\n",
       "      <td>Male</td>\n",
       "      <td>44</td>\n",
       "      <td>8</td>\n",
       "      <td>113755.78</td>\n",
       "      <td>2</td>\n",
       "      <td>1</td>\n",
       "      <td>0</td>\n",
       "      <td>149756.71</td>\n",
       "      <td>1</td>\n",
       "    </tr>\n",
       "    <tr>\n",
       "      <th>6</th>\n",
       "      <td>7</td>\n",
       "      <td>15592531</td>\n",
       "      <td>Bartlett</td>\n",
       "      <td>822</td>\n",
       "      <td>France</td>\n",
       "      <td>Male</td>\n",
       "      <td>50</td>\n",
       "      <td>7</td>\n",
       "      <td>0.00</td>\n",
       "      <td>2</td>\n",
       "      <td>1</td>\n",
       "      <td>1</td>\n",
       "      <td>10062.80</td>\n",
       "      <td>0</td>\n",
       "    </tr>\n",
       "    <tr>\n",
       "      <th>7</th>\n",
       "      <td>8</td>\n",
       "      <td>15656148</td>\n",
       "      <td>Obinna</td>\n",
       "      <td>376</td>\n",
       "      <td>Germany</td>\n",
       "      <td>Female</td>\n",
       "      <td>29</td>\n",
       "      <td>4</td>\n",
       "      <td>115046.74</td>\n",
       "      <td>4</td>\n",
       "      <td>1</td>\n",
       "      <td>0</td>\n",
       "      <td>119346.88</td>\n",
       "      <td>1</td>\n",
       "    </tr>\n",
       "    <tr>\n",
       "      <th>8</th>\n",
       "      <td>9</td>\n",
       "      <td>15792365</td>\n",
       "      <td>He</td>\n",
       "      <td>501</td>\n",
       "      <td>France</td>\n",
       "      <td>Male</td>\n",
       "      <td>44</td>\n",
       "      <td>4</td>\n",
       "      <td>142051.07</td>\n",
       "      <td>2</td>\n",
       "      <td>0</td>\n",
       "      <td>1</td>\n",
       "      <td>74940.50</td>\n",
       "      <td>0</td>\n",
       "    </tr>\n",
       "    <tr>\n",
       "      <th>...</th>\n",
       "      <td>...</td>\n",
       "      <td>...</td>\n",
       "      <td>...</td>\n",
       "      <td>...</td>\n",
       "      <td>...</td>\n",
       "      <td>...</td>\n",
       "      <td>...</td>\n",
       "      <td>...</td>\n",
       "      <td>...</td>\n",
       "      <td>...</td>\n",
       "      <td>...</td>\n",
       "      <td>...</td>\n",
       "      <td>...</td>\n",
       "      <td>...</td>\n",
       "    </tr>\n",
       "    <tr>\n",
       "      <th>9991</th>\n",
       "      <td>9992</td>\n",
       "      <td>15769959</td>\n",
       "      <td>Ajuluchukwu</td>\n",
       "      <td>597</td>\n",
       "      <td>France</td>\n",
       "      <td>Female</td>\n",
       "      <td>53</td>\n",
       "      <td>4</td>\n",
       "      <td>88381.21</td>\n",
       "      <td>1</td>\n",
       "      <td>1</td>\n",
       "      <td>0</td>\n",
       "      <td>69384.71</td>\n",
       "      <td>1</td>\n",
       "    </tr>\n",
       "    <tr>\n",
       "      <th>9992</th>\n",
       "      <td>9993</td>\n",
       "      <td>15657105</td>\n",
       "      <td>Chukwualuka</td>\n",
       "      <td>726</td>\n",
       "      <td>Spain</td>\n",
       "      <td>Male</td>\n",
       "      <td>36</td>\n",
       "      <td>2</td>\n",
       "      <td>0.00</td>\n",
       "      <td>1</td>\n",
       "      <td>1</td>\n",
       "      <td>0</td>\n",
       "      <td>195192.40</td>\n",
       "      <td>0</td>\n",
       "    </tr>\n",
       "    <tr>\n",
       "      <th>9993</th>\n",
       "      <td>9994</td>\n",
       "      <td>15569266</td>\n",
       "      <td>Rahman</td>\n",
       "      <td>644</td>\n",
       "      <td>France</td>\n",
       "      <td>Male</td>\n",
       "      <td>28</td>\n",
       "      <td>7</td>\n",
       "      <td>155060.41</td>\n",
       "      <td>1</td>\n",
       "      <td>1</td>\n",
       "      <td>0</td>\n",
       "      <td>29179.52</td>\n",
       "      <td>0</td>\n",
       "    </tr>\n",
       "    <tr>\n",
       "      <th>9994</th>\n",
       "      <td>9995</td>\n",
       "      <td>15719294</td>\n",
       "      <td>Wood</td>\n",
       "      <td>800</td>\n",
       "      <td>France</td>\n",
       "      <td>Female</td>\n",
       "      <td>29</td>\n",
       "      <td>2</td>\n",
       "      <td>0.00</td>\n",
       "      <td>2</td>\n",
       "      <td>0</td>\n",
       "      <td>0</td>\n",
       "      <td>167773.55</td>\n",
       "      <td>0</td>\n",
       "    </tr>\n",
       "    <tr>\n",
       "      <th>9995</th>\n",
       "      <td>9996</td>\n",
       "      <td>15606229</td>\n",
       "      <td>Obijiaku</td>\n",
       "      <td>771</td>\n",
       "      <td>France</td>\n",
       "      <td>Male</td>\n",
       "      <td>39</td>\n",
       "      <td>5</td>\n",
       "      <td>0.00</td>\n",
       "      <td>2</td>\n",
       "      <td>1</td>\n",
       "      <td>0</td>\n",
       "      <td>96270.64</td>\n",
       "      <td>0</td>\n",
       "    </tr>\n",
       "    <tr>\n",
       "      <th>9996</th>\n",
       "      <td>9997</td>\n",
       "      <td>15569892</td>\n",
       "      <td>Johnstone</td>\n",
       "      <td>516</td>\n",
       "      <td>France</td>\n",
       "      <td>Male</td>\n",
       "      <td>35</td>\n",
       "      <td>10</td>\n",
       "      <td>57369.61</td>\n",
       "      <td>1</td>\n",
       "      <td>1</td>\n",
       "      <td>1</td>\n",
       "      <td>101699.77</td>\n",
       "      <td>0</td>\n",
       "    </tr>\n",
       "    <tr>\n",
       "      <th>9997</th>\n",
       "      <td>9998</td>\n",
       "      <td>15584532</td>\n",
       "      <td>Liu</td>\n",
       "      <td>709</td>\n",
       "      <td>France</td>\n",
       "      <td>Female</td>\n",
       "      <td>36</td>\n",
       "      <td>7</td>\n",
       "      <td>0.00</td>\n",
       "      <td>1</td>\n",
       "      <td>0</td>\n",
       "      <td>1</td>\n",
       "      <td>42085.58</td>\n",
       "      <td>1</td>\n",
       "    </tr>\n",
       "    <tr>\n",
       "      <th>9998</th>\n",
       "      <td>9999</td>\n",
       "      <td>15682355</td>\n",
       "      <td>Sabbatini</td>\n",
       "      <td>772</td>\n",
       "      <td>Germany</td>\n",
       "      <td>Male</td>\n",
       "      <td>42</td>\n",
       "      <td>3</td>\n",
       "      <td>75075.31</td>\n",
       "      <td>2</td>\n",
       "      <td>1</td>\n",
       "      <td>0</td>\n",
       "      <td>92888.52</td>\n",
       "      <td>1</td>\n",
       "    </tr>\n",
       "    <tr>\n",
       "      <th>9999</th>\n",
       "      <td>10000</td>\n",
       "      <td>15628319</td>\n",
       "      <td>Walker</td>\n",
       "      <td>792</td>\n",
       "      <td>France</td>\n",
       "      <td>Female</td>\n",
       "      <td>28</td>\n",
       "      <td>4</td>\n",
       "      <td>130142.79</td>\n",
       "      <td>1</td>\n",
       "      <td>1</td>\n",
       "      <td>0</td>\n",
       "      <td>38190.78</td>\n",
       "      <td>0</td>\n",
       "    </tr>\n",
       "  </tbody>\n",
       "</table>\n",
       "<p>10000 rows × 14 columns</p>\n",
       "</div>"
      ],
      "text/plain": [
       "      RowNumber  CustomerId      Surname  CreditScore Geography  Gender  Age  Tenure    Balance  NumOfProducts  HasCrCard  IsActiveMember  EstimatedSalary  Exited\n",
       "0             1    15634602     Hargrave          619    France  Female   42       2       0.00              1          1               1        101348.88       1\n",
       "1             2    15647311         Hill          608     Spain  Female   41       1   83807.86              1          0               1        112542.58       0\n",
       "2             3    15619304         Onio          502    France  Female   42       8  159660.80              3          1               0        113931.57       1\n",
       "3             4    15701354         Boni          699    France  Female   39       1       0.00              2          0               0         93826.63       0\n",
       "4             5    15737888     Mitchell          850     Spain  Female   43       2  125510.82              1          1               1         79084.10       0\n",
       "5             6    15574012          Chu          645     Spain    Male   44       8  113755.78              2          1               0        149756.71       1\n",
       "6             7    15592531     Bartlett          822    France    Male   50       7       0.00              2          1               1         10062.80       0\n",
       "7             8    15656148       Obinna          376   Germany  Female   29       4  115046.74              4          1               0        119346.88       1\n",
       "8             9    15792365           He          501    France    Male   44       4  142051.07              2          0               1         74940.50       0\n",
       "...         ...         ...          ...          ...       ...     ...  ...     ...        ...            ...        ...             ...              ...     ...\n",
       "9991       9992    15769959  Ajuluchukwu          597    France  Female   53       4   88381.21              1          1               0         69384.71       1\n",
       "9992       9993    15657105  Chukwualuka          726     Spain    Male   36       2       0.00              1          1               0        195192.40       0\n",
       "9993       9994    15569266       Rahman          644    France    Male   28       7  155060.41              1          1               0         29179.52       0\n",
       "9994       9995    15719294         Wood          800    France  Female   29       2       0.00              2          0               0        167773.55       0\n",
       "9995       9996    15606229     Obijiaku          771    France    Male   39       5       0.00              2          1               0         96270.64       0\n",
       "9996       9997    15569892    Johnstone          516    France    Male   35      10   57369.61              1          1               1        101699.77       0\n",
       "9997       9998    15584532          Liu          709    France  Female   36       7       0.00              1          0               1         42085.58       1\n",
       "9998       9999    15682355    Sabbatini          772   Germany    Male   42       3   75075.31              2          1               0         92888.52       1\n",
       "9999      10000    15628319       Walker          792    France  Female   28       4  130142.79              1          1               0         38190.78       0\n",
       "\n",
       "[10000 rows x 14 columns]"
      ]
     },
     "execution_count": 3,
     "metadata": {},
     "output_type": "execute_result"
    }
   ],
   "source": [
    "data_raw = pd.read_csv('../data/churn.csv')\n",
    "data_raw"
   ]
  },
  {
   "cell_type": "markdown",
   "id": "98533413",
   "metadata": {},
   "source": [
    "# Data Description"
   ]
  },
  {
   "cell_type": "code",
   "execution_count": 4,
   "id": "2b3a51af",
   "metadata": {
    "ExecuteTime": {
     "end_time": "2023-01-26T19:55:34.179191Z",
     "start_time": "2023-01-26T19:55:34.171345Z"
    },
    "hide_input": true
   },
   "outputs": [],
   "source": [
    "df2 = data_raw.copy()"
   ]
  },
  {
   "cell_type": "markdown",
   "id": "6fd7bf2b",
   "metadata": {},
   "source": [
    "## Meaning of Data"
   ]
  },
  {
   "cell_type": "markdown",
   "id": "5c486244",
   "metadata": {},
   "source": [
    "- **RowNumber**: o número das colunas\n",
    "- **CustomerID**: identificador único de clientes\n",
    "- **Surname**: sobrenome do cliente\n",
    "- **CreditScore**: pontuação de crédito do cliente para o mercado financeiro (quanto maior o score, é um bom pagador)\n",
    "- **Geography**: o país do cliente\n",
    "- **Gender**: o gênero do cliente\n",
    "- **Age**: a idade do cliente\n",
    "- **Tenure**: número de anos que o cliente está no banco\n",
    "- **Balance**: o valor que o cliente tem em sua conta\n",
    "- **NumOfProducts**: o número de produtos que o cliente comprou (no caso, contas)\n",
    "- **HasCrCard**: se o cliente tiver cartão de crédito\n",
    "- **IsActiveMember**: se o cliente estiver ativo (nos últimos 12 meses)\n",
    "- **EstimateSalary**: estimativa de salário anual dos clientes\n",
    "- **Exited**: se o cliente for churn (*variável resposta*)"
   ]
  },
  {
   "cell_type": "markdown",
   "id": "1deedfb0",
   "metadata": {},
   "source": [
    "## Rename Columns"
   ]
  },
  {
   "cell_type": "code",
   "execution_count": 5,
   "id": "40ccf0b6",
   "metadata": {
    "ExecuteTime": {
     "end_time": "2023-01-26T19:55:34.202330Z",
     "start_time": "2023-01-26T19:55:34.182766Z"
    }
   },
   "outputs": [
    {
     "data": {
      "text/html": [
       "<div>\n",
       "<style scoped>\n",
       "    .dataframe tbody tr th:only-of-type {\n",
       "        vertical-align: middle;\n",
       "    }\n",
       "\n",
       "    .dataframe tbody tr th {\n",
       "        vertical-align: top;\n",
       "    }\n",
       "\n",
       "    .dataframe thead th {\n",
       "        text-align: right;\n",
       "    }\n",
       "</style>\n",
       "<table border=\"1\" class=\"dataframe\">\n",
       "  <thead>\n",
       "    <tr style=\"text-align: right;\">\n",
       "      <th></th>\n",
       "      <th>numero_linha</th>\n",
       "      <th>id_cliente</th>\n",
       "      <th>sobrenome</th>\n",
       "      <th>score_credito</th>\n",
       "      <th>geografia</th>\n",
       "      <th>genero</th>\n",
       "      <th>idade</th>\n",
       "      <th>tempo_permanencia</th>\n",
       "      <th>saldo</th>\n",
       "      <th>numero_de_contas</th>\n",
       "      <th>tem_cartao_credito</th>\n",
       "      <th>membro_ativo</th>\n",
       "      <th>salario_estimado</th>\n",
       "      <th>Churn</th>\n",
       "    </tr>\n",
       "  </thead>\n",
       "  <tbody>\n",
       "    <tr>\n",
       "      <th>0</th>\n",
       "      <td>1</td>\n",
       "      <td>15634602</td>\n",
       "      <td>Hargrave</td>\n",
       "      <td>619</td>\n",
       "      <td>France</td>\n",
       "      <td>Female</td>\n",
       "      <td>42</td>\n",
       "      <td>2</td>\n",
       "      <td>0.0</td>\n",
       "      <td>1</td>\n",
       "      <td>1</td>\n",
       "      <td>1</td>\n",
       "      <td>101348.88</td>\n",
       "      <td>1</td>\n",
       "    </tr>\n",
       "  </tbody>\n",
       "</table>\n",
       "</div>"
      ],
      "text/plain": [
       "   numero_linha  id_cliente sobrenome  score_credito geografia  genero  idade  tempo_permanencia  saldo  numero_de_contas  tem_cartao_credito  membro_ativo  salario_estimado  Churn\n",
       "0             1    15634602  Hargrave            619    France  Female     42                  2    0.0                 1                   1             1         101348.88      1"
      ]
     },
     "execution_count": 5,
     "metadata": {},
     "output_type": "execute_result"
    }
   ],
   "source": [
    "renamed_columns = ['numero_linha', 'id_cliente', 'sobrenome', 'score_credito', 'geografia', 'genero', 'idade', 'tempo_permanencia', \n",
    "                   'saldo', 'numero_de_contas', 'tem_cartao_credito', 'membro_ativo', 'salario_estimado', 'Churn']\n",
    "df2.columns = renamed_columns\n",
    "\n",
    "df2.head(1)"
   ]
  },
  {
   "cell_type": "markdown",
   "id": "a5ef6c68",
   "metadata": {},
   "source": [
    "## Data Dimensions"
   ]
  },
  {
   "cell_type": "code",
   "execution_count": 6,
   "id": "2544e5ae",
   "metadata": {
    "ExecuteTime": {
     "end_time": "2023-01-26T19:55:34.215365Z",
     "start_time": "2023-01-26T19:55:34.205757Z"
    },
    "hide_input": true
   },
   "outputs": [
    {
     "name": "stdout",
     "output_type": "stream",
     "text": [
      "A base de dados possui 10000 clientes e 14 variáveis.\n"
     ]
    }
   ],
   "source": [
    "data_dimensions = df2.shape\n",
    "print(f'A base de dados possui {data_dimensions[0]} clientes e {data_dimensions[1]} variáveis.')"
   ]
  },
  {
   "cell_type": "markdown",
   "id": "81e7b918",
   "metadata": {},
   "source": [
    "## Data Types"
   ]
  },
  {
   "cell_type": "code",
   "execution_count": 7,
   "id": "ff5345b5",
   "metadata": {
    "ExecuteTime": {
     "end_time": "2023-01-26T19:55:34.232315Z",
     "start_time": "2023-01-26T19:55:34.220039Z"
    },
    "hide_input": true
   },
   "outputs": [
    {
     "data": {
      "text/plain": [
       "numero_linha            int64\n",
       "id_cliente              int64\n",
       "sobrenome              object\n",
       "score_credito           int64\n",
       "geografia              object\n",
       "genero                 object\n",
       "idade                   int64\n",
       "tempo_permanencia       int64\n",
       "saldo                 float64\n",
       "numero_de_contas        int64\n",
       "tem_cartao_credito      int64\n",
       "membro_ativo            int64\n",
       "salario_estimado      float64\n",
       "Churn                   int64\n",
       "dtype: object"
      ]
     },
     "execution_count": 7,
     "metadata": {},
     "output_type": "execute_result"
    }
   ],
   "source": [
    "df2.dtypes"
   ]
  },
  {
   "cell_type": "markdown",
   "id": "95a493bc",
   "metadata": {},
   "source": [
    "### Change Data Types"
   ]
  },
  {
   "cell_type": "code",
   "execution_count": 8,
   "id": "d7fd413e",
   "metadata": {
    "ExecuteTime": {
     "end_time": "2023-01-26T19:55:34.256947Z",
     "start_time": "2023-01-26T19:55:34.234000Z"
    }
   },
   "outputs": [
    {
     "data": {
      "text/plain": [
       "numero_linha            int64\n",
       "id_cliente              int64\n",
       "sobrenome              object\n",
       "score_credito           int64\n",
       "geografia              object\n",
       "genero                 object\n",
       "idade                   int64\n",
       "tempo_permanencia       int64\n",
       "saldo                 float64\n",
       "numero_de_contas        int64\n",
       "tem_cartao_credito     object\n",
       "membro_ativo           object\n",
       "salario_estimado      float64\n",
       "Churn                  object\n",
       "dtype: object"
      ]
     },
     "execution_count": 8,
     "metadata": {},
     "output_type": "execute_result"
    }
   ],
   "source": [
    "#Alterando o tipo de dados das colunas binárias: 'tem_cartao_credito', 'membro_ativo' e 'Churn'\n",
    "categorical_columns = ['tem_cartao_credito', 'membro_ativo', 'Churn']\n",
    "\n",
    "for columns in categorical_columns:\n",
    "    df2[columns] = df2[columns].apply(lambda x: 'yes' if x == 1 else 'no')\n",
    "    \n",
    "df2.dtypes"
   ]
  },
  {
   "cell_type": "markdown",
   "id": "7de923b0",
   "metadata": {},
   "source": [
    "## Check Duplicates"
   ]
  },
  {
   "cell_type": "code",
   "execution_count": 9,
   "id": "7499d9e0",
   "metadata": {
    "ExecuteTime": {
     "end_time": "2023-01-26T19:55:34.278249Z",
     "start_time": "2023-01-26T19:55:34.259546Z"
    }
   },
   "outputs": [
    {
     "data": {
      "text/html": [
       "<div>\n",
       "<style scoped>\n",
       "    .dataframe tbody tr th:only-of-type {\n",
       "        vertical-align: middle;\n",
       "    }\n",
       "\n",
       "    .dataframe tbody tr th {\n",
       "        vertical-align: top;\n",
       "    }\n",
       "\n",
       "    .dataframe thead th {\n",
       "        text-align: right;\n",
       "    }\n",
       "</style>\n",
       "<table border=\"1\" class=\"dataframe\">\n",
       "  <thead>\n",
       "    <tr style=\"text-align: right;\">\n",
       "      <th></th>\n",
       "      <th>numero_linha</th>\n",
       "      <th>id_cliente</th>\n",
       "      <th>sobrenome</th>\n",
       "      <th>score_credito</th>\n",
       "      <th>geografia</th>\n",
       "      <th>genero</th>\n",
       "      <th>idade</th>\n",
       "      <th>tempo_permanencia</th>\n",
       "      <th>saldo</th>\n",
       "      <th>numero_de_contas</th>\n",
       "      <th>tem_cartao_credito</th>\n",
       "      <th>membro_ativo</th>\n",
       "      <th>salario_estimado</th>\n",
       "      <th>Churn</th>\n",
       "    </tr>\n",
       "  </thead>\n",
       "  <tbody>\n",
       "  </tbody>\n",
       "</table>\n",
       "</div>"
      ],
      "text/plain": [
       "Empty DataFrame\n",
       "Columns: [numero_linha, id_cliente, sobrenome, score_credito, geografia, genero, idade, tempo_permanencia, saldo, numero_de_contas, tem_cartao_credito, membro_ativo, salario_estimado, Churn]\n",
       "Index: []"
      ]
     },
     "execution_count": 9,
     "metadata": {},
     "output_type": "execute_result"
    }
   ],
   "source": [
    "df2[df2.duplicated('id_cliente', False)]"
   ]
  },
  {
   "cell_type": "markdown",
   "id": "a58b7dcc",
   "metadata": {},
   "source": [
    "- A base não possui dados duplicados."
   ]
  },
  {
   "cell_type": "markdown",
   "id": "0ee48788",
   "metadata": {},
   "source": [
    "## Check NaN and Null Values"
   ]
  },
  {
   "cell_type": "code",
   "execution_count": 10,
   "id": "b63a4f1d",
   "metadata": {
    "ExecuteTime": {
     "end_time": "2023-01-26T19:55:34.296889Z",
     "start_time": "2023-01-26T19:55:34.283894Z"
    },
    "cell_style": "split",
    "hide_input": false
   },
   "outputs": [
    {
     "data": {
      "text/plain": [
       "numero_linha          0\n",
       "id_cliente            0\n",
       "sobrenome             0\n",
       "score_credito         0\n",
       "geografia             0\n",
       "genero                0\n",
       "idade                 0\n",
       "tempo_permanencia     0\n",
       "saldo                 0\n",
       "numero_de_contas      0\n",
       "tem_cartao_credito    0\n",
       "membro_ativo          0\n",
       "salario_estimado      0\n",
       "Churn                 0\n",
       "dtype: int64"
      ]
     },
     "execution_count": 10,
     "metadata": {},
     "output_type": "execute_result"
    }
   ],
   "source": [
    "#Dados NaN\n",
    "df2.isna().sum()"
   ]
  },
  {
   "cell_type": "code",
   "execution_count": 11,
   "id": "3e46cdae",
   "metadata": {
    "ExecuteTime": {
     "end_time": "2023-01-26T19:55:34.313529Z",
     "start_time": "2023-01-26T19:55:34.300277Z"
    },
    "cell_style": "split",
    "hide_input": false
   },
   "outputs": [
    {
     "data": {
      "text/plain": [
       "numero_linha          0\n",
       "id_cliente            0\n",
       "sobrenome             0\n",
       "score_credito         0\n",
       "geografia             0\n",
       "genero                0\n",
       "idade                 0\n",
       "tempo_permanencia     0\n",
       "saldo                 0\n",
       "numero_de_contas      0\n",
       "tem_cartao_credito    0\n",
       "membro_ativo          0\n",
       "salario_estimado      0\n",
       "Churn                 0\n",
       "dtype: int64"
      ]
     },
     "execution_count": 11,
     "metadata": {},
     "output_type": "execute_result"
    }
   ],
   "source": [
    "#Dados Null\n",
    "df2.isnull().sum()"
   ]
  },
  {
   "cell_type": "markdown",
   "id": "0b739944",
   "metadata": {},
   "source": [
    "- A base não possui dados faltantes."
   ]
  },
  {
   "cell_type": "markdown",
   "id": "68619fa0",
   "metadata": {},
   "source": [
    "## Check Zero Values"
   ]
  },
  {
   "cell_type": "code",
   "execution_count": 12,
   "id": "f9d38a91",
   "metadata": {
    "ExecuteTime": {
     "end_time": "2023-01-26T19:55:34.321840Z",
     "start_time": "2023-01-26T19:55:34.315270Z"
    },
    "hide_input": true
   },
   "outputs": [
    {
     "data": {
      "text/plain": [
       "numero_linha            int64\n",
       "id_cliente              int64\n",
       "sobrenome              object\n",
       "score_credito           int64\n",
       "geografia              object\n",
       "genero                 object\n",
       "idade                   int64\n",
       "tempo_permanencia       int64\n",
       "saldo                 float64\n",
       "numero_de_contas        int64\n",
       "tem_cartao_credito     object\n",
       "membro_ativo           object\n",
       "salario_estimado      float64\n",
       "Churn                  object\n",
       "dtype: object"
      ]
     },
     "execution_count": 12,
     "metadata": {},
     "output_type": "execute_result"
    }
   ],
   "source": [
    "df2.dtypes"
   ]
  },
  {
   "cell_type": "code",
   "execution_count": 13,
   "id": "a95202d4",
   "metadata": {
    "ExecuteTime": {
     "end_time": "2023-01-26T19:55:34.341161Z",
     "start_time": "2023-01-26T19:55:34.323607Z"
    }
   },
   "outputs": [],
   "source": [
    "#Transfomando valores diferentes de 0 em \"another value\" em todas as variáveis numéricas\n",
    "numerical_variables = df2.select_dtypes(include= ['int64', 'float64']).columns\n",
    "numerical_variables_verify = df2[numerical_variables]\n",
    "\n",
    "for column in numerical_variables_verify.columns:\n",
    "    numerical_variables_verify[column] = numerical_variables_verify[column].apply(lambda x: '0' if x == 0 else 'another value')"
   ]
  },
  {
   "cell_type": "code",
   "execution_count": 14,
   "id": "be4df538",
   "metadata": {
    "ExecuteTime": {
     "end_time": "2023-01-26T19:55:34.354069Z",
     "start_time": "2023-01-26T19:55:34.343847Z"
    }
   },
   "outputs": [
    {
     "data": {
      "text/plain": [
       "numero_linha            [another value]\n",
       "id_cliente              [another value]\n",
       "score_credito           [another value]\n",
       "idade                   [another value]\n",
       "tempo_permanencia    [another value, 0]\n",
       "saldo                [0, another value]\n",
       "numero_de_contas        [another value]\n",
       "salario_estimado        [another value]\n",
       "dtype: object"
      ]
     },
     "execution_count": 14,
     "metadata": {},
     "output_type": "execute_result"
    }
   ],
   "source": [
    "numerical_variables_verify.apply(lambda x: x.unique())"
   ]
  },
  {
   "cell_type": "markdown",
   "id": "f9d282b1",
   "metadata": {},
   "source": [
    "- Apenas as variáveis 'tempo_permanencia' e 'saldo' possuem valores declarados como 0.\n",
    "\n",
    "De fato, apenas as colunas 'score_credito' (dependendo da regra de negócio), 'tempo_permanencia' e 'saldo' fazem sentido terem valores iguais a 0, mas ainda cabe análise."
   ]
  },
  {
   "cell_type": "code",
   "execution_count": 15,
   "id": "834e74c2",
   "metadata": {
    "ExecuteTime": {
     "end_time": "2023-01-26T19:55:34.366627Z",
     "start_time": "2023-01-26T19:55:34.356095Z"
    },
    "hide_input": true
   },
   "outputs": [
    {
     "name": "stdout",
     "output_type": "stream",
     "text": [
      "A coluna 'saldo' possui 36.17% registros zerados\n",
      "A coluna 'tempo_permanencia' possui 4.13% registros zerados\n"
     ]
    }
   ],
   "source": [
    "percentage_0_in_saldo = numerical_variables_verify['saldo'].value_counts()[1] / numerical_variables_verify.shape[0] * 100\n",
    "percentage_0_in_tenure = numerical_variables_verify['tempo_permanencia'].value_counts()[1] / numerical_variables_verify.shape[0] * 100\n",
    "print(f'A coluna \\'saldo\\' possui {percentage_0_in_saldo}% registros zerados')\n",
    "print(f'A coluna \\'tempo_permanencia\\' possui {percentage_0_in_tenure:.2f}% registros zerados')"
   ]
  },
  {
   "cell_type": "markdown",
   "id": "42aa6883",
   "metadata": {},
   "source": [
    "### *saldo*"
   ]
  },
  {
   "cell_type": "code",
   "execution_count": 16,
   "id": "5420d2d4",
   "metadata": {
    "ExecuteTime": {
     "end_time": "2023-01-26T19:55:34.590349Z",
     "start_time": "2023-01-26T19:55:34.368264Z"
    }
   },
   "outputs": [
    {
     "data": {
      "image/png": "[encoded data removed]",
      "text/plain": [
       "<Figure size 1600x400 with 2 Axes>"
      ]
     },
     "metadata": {},
     "output_type": "display_data"
    }
   ],
   "source": [
    "df_zero_balance = df2[['saldo', 'tempo_permanencia', 'membro_ativo', 'Churn']].loc[df2['saldo'] == 0]\n",
    "\n",
    "plt.subplot(1, 2, 1)\n",
    "sns.countplot(x= df_zero_balance['membro_ativo']);\n",
    "\n",
    "plt.subplot(1, 2, 2)\n",
    "sns.countplot(x= df_zero_balance['Churn']);"
   ]
  },
  {
   "cell_type": "code",
   "execution_count": 17,
   "id": "9c04d6a7",
   "metadata": {
    "ExecuteTime": {
     "end_time": "2023-01-26T19:55:34.610103Z",
     "start_time": "2023-01-26T19:55:34.592916Z"
    },
    "cell_style": "split"
   },
   "outputs": [
    {
     "data": {
      "text/html": [
       "<div>\n",
       "<style scoped>\n",
       "    .dataframe tbody tr th:only-of-type {\n",
       "        vertical-align: middle;\n",
       "    }\n",
       "\n",
       "    .dataframe tbody tr th {\n",
       "        vertical-align: top;\n",
       "    }\n",
       "\n",
       "    .dataframe thead tr th {\n",
       "        text-align: left;\n",
       "    }\n",
       "\n",
       "    .dataframe thead tr:last-of-type th {\n",
       "        text-align: right;\n",
       "    }\n",
       "</style>\n",
       "<table border=\"1\" class=\"dataframe\">\n",
       "  <thead>\n",
       "    <tr>\n",
       "      <th></th>\n",
       "      <th>saldo_abs</th>\n",
       "      <th>saldo_perc</th>\n",
       "    </tr>\n",
       "    <tr>\n",
       "      <th></th>\n",
       "      <th>saldo</th>\n",
       "      <th>saldo</th>\n",
       "    </tr>\n",
       "    <tr>\n",
       "      <th>tempo_permanencia</th>\n",
       "      <th></th>\n",
       "      <th></th>\n",
       "    </tr>\n",
       "  </thead>\n",
       "  <tbody>\n",
       "    <tr>\n",
       "      <th>0</th>\n",
       "      <td>137</td>\n",
       "      <td>0.037877</td>\n",
       "    </tr>\n",
       "    <tr>\n",
       "      <th>1</th>\n",
       "      <td>349</td>\n",
       "      <td>0.096489</td>\n",
       "    </tr>\n",
       "    <tr>\n",
       "      <th>2</th>\n",
       "      <td>382</td>\n",
       "      <td>0.105612</td>\n",
       "    </tr>\n",
       "    <tr>\n",
       "      <th>3</th>\n",
       "      <td>352</td>\n",
       "      <td>0.097318</td>\n",
       "    </tr>\n",
       "    <tr>\n",
       "      <th>4</th>\n",
       "      <td>369</td>\n",
       "      <td>0.102018</td>\n",
       "    </tr>\n",
       "    <tr>\n",
       "      <th>5</th>\n",
       "      <td>374</td>\n",
       "      <td>0.103401</td>\n",
       "    </tr>\n",
       "    <tr>\n",
       "      <th>6</th>\n",
       "      <td>367</td>\n",
       "      <td>0.101465</td>\n",
       "    </tr>\n",
       "    <tr>\n",
       "      <th>7</th>\n",
       "      <td>386</td>\n",
       "      <td>0.106718</td>\n",
       "    </tr>\n",
       "    <tr>\n",
       "      <th>8</th>\n",
       "      <td>363</td>\n",
       "      <td>0.100359</td>\n",
       "    </tr>\n",
       "    <tr>\n",
       "      <th>9</th>\n",
       "      <td>360</td>\n",
       "      <td>0.099530</td>\n",
       "    </tr>\n",
       "    <tr>\n",
       "      <th>10</th>\n",
       "      <td>178</td>\n",
       "      <td>0.049212</td>\n",
       "    </tr>\n",
       "  </tbody>\n",
       "</table>\n",
       "</div>"
      ],
      "text/plain": [
       "                  saldo_abs saldo_perc\n",
       "                      saldo      saldo\n",
       "tempo_permanencia                     \n",
       "0                       137   0.037877\n",
       "1                       349   0.096489\n",
       "2                       382   0.105612\n",
       "3                       352   0.097318\n",
       "4                       369   0.102018\n",
       "5                       374   0.103401\n",
       "6                       367   0.101465\n",
       "7                       386   0.106718\n",
       "8                       363   0.100359\n",
       "9                       360   0.099530\n",
       "10                      178   0.049212"
      ]
     },
     "execution_count": 17,
     "metadata": {},
     "output_type": "execute_result"
    }
   ],
   "source": [
    "df_aux = df_zero_balance[['saldo', 'tempo_permanencia']].groupby('tempo_permanencia').count()\n",
    "df_aux2 = df_zero_balance[['saldo', 'tempo_permanencia']].groupby('tempo_permanencia').count() / df_zero_balance.shape[0]\n",
    "\n",
    "pd.concat([df_aux, df_aux2], axis= 1, keys= ['saldo_abs', 'saldo_perc'])"
   ]
  },
  {
   "cell_type": "code",
   "execution_count": 18,
   "id": "95f9c094",
   "metadata": {
    "ExecuteTime": {
     "end_time": "2023-01-26T19:55:34.622857Z",
     "start_time": "2023-01-26T19:55:34.613495Z"
    },
    "cell_style": "split"
   },
   "outputs": [
    {
     "name": "stdout",
     "output_type": "stream",
     "text": [
      "A média do tempo de permanência para contas com saldo zerado é de 5.07\n"
     ]
    }
   ],
   "source": [
    "mean = round(df_zero_balance['tempo_permanencia'].mean(), 2)\n",
    "print(f'A média do tempo de permanência para contas com saldo zerado é de {mean}')"
   ]
  },
  {
   "cell_type": "markdown",
   "id": "a9b8da1a",
   "metadata": {},
   "source": [
    "### *tempo_permanencia*"
   ]
  },
  {
   "cell_type": "code",
   "execution_count": 19,
   "id": "926899a8",
   "metadata": {
    "ExecuteTime": {
     "end_time": "2023-01-26T19:55:34.878318Z",
     "start_time": "2023-01-26T19:55:34.625641Z"
    }
   },
   "outputs": [
    {
     "data": {
      "image/png": "[encoded data removed]",
      "text/plain": [
       "<Figure size 1600x400 with 3 Axes>"
      ]
     },
     "metadata": {},
     "output_type": "display_data"
    }
   ],
   "source": [
    "df_zero_tenure = df2[['tempo_permanencia', 'numero_de_contas', 'membro_ativo', 'Churn']].loc[df2['tempo_permanencia'] == 0]\n",
    "\n",
    "plt.subplot(1, 3, 1)\n",
    "sns.countplot(x= df_zero_tenure['numero_de_contas']);\n",
    "\n",
    "plt.subplot(1, 3, 2)\n",
    "sns.countplot(x= df_zero_tenure['membro_ativo']);\n",
    "\n",
    "plt.subplot(1, 3, 3)\n",
    "sns.countplot(x= df_zero_tenure['Churn']);"
   ]
  },
  {
   "cell_type": "markdown",
   "id": "14e6f83f",
   "metadata": {
    "ExecuteTime": {
     "end_time": "2023-01-19T12:33:20.667190Z",
     "start_time": "2023-01-19T12:33:20.660484Z"
    }
   },
   "source": [
    "### 'saldo' zerados:\n",
    "\n",
    "    1. praticamente se divide igualmentente em membros ativos e não ativos;\n",
    "    2. de 3617 saldos zerados, apenas 500 são de clientes que irão dar churn\n",
    "    3. a média do tempo de permanência para contas com saldo zerado é de 5.07\n",
    "    4. a menor frequência de saldos zerados, são para clientes que adquiriram o em menos de 1 ano.\n",
    "\n",
    "Logo é possível supor:\n",
    "\n",
    "    - saldos zerados não siginificam que são de contas pré criadas (obs. 4)\n",
    "    - saldos zerados não possuem relação clara com membros ativos e inativos.\n",
    "    \n",
    "Suposição principal: Ignorar os questionamentos levantados na V1. Saldos zerados, representam de fato, contas sem capital disponível.\n",
    "    \n",
    "### 'tempo_de_permanencia' zerados:\n",
    "\n",
    "Suposição principal: Como 'tempo_de_permanencia' zerados representam menos de 5% dos dados, vou ignorar também os questionamentos levantados na V1 e considerar que são cliente que adquiriram em menos de 1 ano."
   ]
  },
  {
   "cell_type": "markdown",
   "id": "67aca50f",
   "metadata": {},
   "source": [
    "## Note:\n",
    "Solução do problema de negócio:\n",
    "    \n",
    "1. Qual é a atual taxa de Churn do Top Bank?\n",
    "\n",
    "        S: Análise Univariada da variável resposta 'Churn' > plotar gráfico de barras de churns e não-churns e printar porcentagem da relação das classes (concluído)\n",
    "\n",
    "\n",
    "2. Como a taxa de churn varia mensalmente?\n",
    "\n",
    "        S: Pela descrição dos dados já é possível avaliar que não existe uma variável temporal no conjunto de dados, mas a variável 'membro_ativo' está associada com a atividade durante 12 meses, logo é possível buscar uma correlação para tentar responder a segunda questão de negócio. (pendente)\n",
    "        \n",
    "3. Qual é o desempenho do modelo na classificação de clientes como churns?\n",
    "\n",
    "        S: Criar modelo de classificação com as variáveis selecionadas por relevância (Análise Bivariada) e pelo Boruta. (em progresso)\n",
    "        \n",
    "4. Qual é o retorno esperado, em termos de receita, se a empresa utilizar seu modelo para evitar o churn de clientes?\n",
    "\n",
    "        S: Com o modelo criado, é possível estimar o retorno esperado, criando casos de deduções sobre os salários de cada cliente. (pendente)"
   ]
  },
  {
   "cell_type": "markdown",
   "id": "fe2bce03",
   "metadata": {},
   "source": [
    "# Feature Engineering I (Creation of New Variables)"
   ]
  },
  {
   "cell_type": "code",
   "execution_count": 20,
   "id": "587b5764",
   "metadata": {
    "ExecuteTime": {
     "end_time": "2023-01-26T19:55:34.883778Z",
     "start_time": "2023-01-26T19:55:34.880606Z"
    },
    "hide_input": false
   },
   "outputs": [],
   "source": [
    "df3 = df2.copy()"
   ]
  },
  {
   "cell_type": "code",
   "execution_count": 21,
   "id": "0edefce8",
   "metadata": {
    "ExecuteTime": {
     "end_time": "2023-01-26T19:55:34.897216Z",
     "start_time": "2023-01-26T19:55:34.886191Z"
    }
   },
   "outputs": [],
   "source": [
    "#Escala FICO\n",
    "df3['escala_fico'] = df3['score_credito'].apply(lambda x: 'too bad' if x < 580 else 'bad' if x < 670 else 'good' if x < 740 else 'very good' if x < 800 else 'excellent')"
   ]
  },
  {
   "cell_type": "code",
   "execution_count": 22,
   "id": "1da33c36",
   "metadata": {
    "ExecuteTime": {
     "end_time": "2023-01-26T19:55:34.964364Z",
     "start_time": "2023-01-26T19:55:34.900153Z"
    }
   },
   "outputs": [],
   "source": [
    "#Ticket Médio (é o valor mensal da assinatura de conta) *20 US$ Mensais:\n",
    "taxa_conta = 20\n",
    "df3['ticket_medio'] = df3['numero_de_contas'].apply(lambda x: taxa_conta * x)\n",
    "\n",
    "#LTV Médio (o quanto de receita o cliente representa para o negócio durante um determinado período de tempo)\n",
    "\t#fórmula: ticket médio X tempo de permanencia (anos) X 12 meses\n",
    "df3['LTV_medio'] = df3.apply(lambda x: round(x['ticket_medio'] * x['tempo_permanencia'] * 12 , 2), axis= 1)"
   ]
  },
  {
   "cell_type": "code",
   "execution_count": 23,
   "id": "2c7039b0",
   "metadata": {
    "ExecuteTime": {
     "end_time": "2023-01-26T19:55:34.987962Z",
     "start_time": "2023-01-26T19:55:34.966776Z"
    }
   },
   "outputs": [],
   "source": [
    "#Média salarial por idade\n",
    "mean_salary_for_age = df3[['salario_estimado', 'idade']].groupby('idade').mean().reset_index()\n",
    "mean_salary_for_age.columns = ['idade', 'salario_por_idade']\n",
    "\n",
    "mean_salary_for_age['salario_por_idade'] = mean_salary_for_age['salario_por_idade'].apply(lambda x: round(x, 3))\n",
    "\n",
    "#merge\n",
    "df3 = pd.merge(df3, mean_salary_for_age, on= 'idade', how= 'left')"
   ]
  },
  {
   "cell_type": "code",
   "execution_count": 24,
   "id": "a9658f7e",
   "metadata": {
    "ExecuteTime": {
     "end_time": "2023-01-26T19:55:35.001435Z",
     "start_time": "2023-01-26T19:55:34.989763Z"
    }
   },
   "outputs": [],
   "source": [
    "#Média de saldo por idade\n",
    "mean_balance_for_age = df3[['saldo', 'idade']].groupby('idade').mean().reset_index()\n",
    "mean_balance_for_age.columns = ['idade', 'saldo_por_idade']\n",
    "\n",
    "mean_balance_for_age['saldo_por_idade'] = mean_balance_for_age['saldo_por_idade'].apply(lambda x: round(x, 3))\n",
    "\n",
    "#merge\n",
    "df3 = pd.merge(df3, mean_balance_for_age, on= 'idade', how= 'left')"
   ]
  },
  {
   "cell_type": "code",
   "execution_count": 25,
   "id": "2fc4e24d",
   "metadata": {
    "ExecuteTime": {
     "end_time": "2023-01-26T19:55:35.017161Z",
     "start_time": "2023-01-26T19:55:35.003734Z"
    }
   },
   "outputs": [],
   "source": [
    "#Mediana de tempo de permanencia por idade\n",
    "median_tenure_for_age = df3[['tempo_permanencia', 'idade']].groupby('idade').median().reset_index()\n",
    "median_tenure_for_age.columns = ['idade', 'tempo_permanencia_por_idade']\n",
    "\n",
    "#merge\n",
    "df3 = pd.merge(df3, median_tenure_for_age, on= 'idade', how= 'left')"
   ]
  },
  {
   "cell_type": "code",
   "execution_count": 26,
   "id": "8fc8207c",
   "metadata": {
    "ExecuteTime": {
     "end_time": "2023-01-26T19:55:35.032336Z",
     "start_time": "2023-01-26T19:55:35.020488Z"
    }
   },
   "outputs": [],
   "source": [
    "#Média de LTV por idade\n",
    "mean_ltv_for_age = df3[['LTV_medio', 'idade']].groupby('idade').mean().reset_index()\n",
    "mean_ltv_for_age.columns = ['idade', 'LTV_por_idade']\n",
    "\n",
    "mean_ltv_for_age['LTV_por_idade'] = mean_ltv_for_age['LTV_por_idade'].apply(lambda x: round(x, 3))\n",
    "\n",
    "#merge\n",
    "df3 = pd.merge(df3, mean_ltv_for_age, on= 'idade', how= 'left')"
   ]
  },
  {
   "cell_type": "code",
   "execution_count": 27,
   "id": "ba248813",
   "metadata": {
    "ExecuteTime": {
     "end_time": "2023-01-26T19:55:35.047884Z",
     "start_time": "2023-01-26T19:55:35.034225Z"
    }
   },
   "outputs": [],
   "source": [
    "#Média salarial por tempo permanencia\n",
    "mean_salary_for_tenure = df3[['salario_estimado', 'tempo_permanencia']].groupby('tempo_permanencia').mean().reset_index()\n",
    "mean_salary_for_tenure.columns = ['tempo_permanencia', 'salario_por_tempo_permanencia']\n",
    "\n",
    "mean_salary_for_tenure['salario_por_tempo_permanencia'] = mean_salary_for_tenure['salario_por_tempo_permanencia'].apply(lambda x: round(x, 3))\n",
    "\n",
    "#merge\n",
    "df3 = pd.merge(df3, mean_salary_for_tenure, on= 'tempo_permanencia', how= 'left')"
   ]
  },
  {
   "cell_type": "code",
   "execution_count": 28,
   "id": "3a3fcd7f",
   "metadata": {
    "ExecuteTime": {
     "end_time": "2023-01-26T19:55:35.068109Z",
     "start_time": "2023-01-26T19:55:35.055989Z"
    }
   },
   "outputs": [],
   "source": [
    "#Média de saldo por tempo permanencia\n",
    "mean_balance_for_tenure = df3[['saldo', 'tempo_permanencia']].groupby('tempo_permanencia').mean().reset_index()\n",
    "mean_balance_for_tenure.columns = ['tempo_permanencia', 'saldo_por_tempo_permanencia']\n",
    "\n",
    "mean_balance_for_tenure['saldo_por_tempo_permanencia'] = mean_balance_for_tenure['saldo_por_tempo_permanencia'].apply(lambda x: round(x, 3))\n",
    "\n",
    "#merge\n",
    "df3 = pd.merge(df3, mean_balance_for_tenure, on= 'tempo_permanencia', how= 'left')"
   ]
  },
  {
   "cell_type": "code",
   "execution_count": 29,
   "id": "3e8aaf22",
   "metadata": {
    "ExecuteTime": {
     "end_time": "2023-01-26T19:55:35.080665Z",
     "start_time": "2023-01-26T19:55:35.069680Z"
    }
   },
   "outputs": [],
   "source": [
    "#Mediana de idade por tempo permanencia\n",
    "median_age_for_tenure = df3[['idade', 'tempo_permanencia']].groupby('tempo_permanencia').median().reset_index()\n",
    "median_age_for_tenure.columns = ['tempo_permanencia', 'idade_por_tempo_permanencia']\n",
    "\n",
    "#merge\n",
    "df3 = pd.merge(df3, median_age_for_tenure, on= 'tempo_permanencia', how= 'left')"
   ]
  },
  {
   "cell_type": "code",
   "execution_count": 30,
   "id": "5429aa82",
   "metadata": {
    "ExecuteTime": {
     "end_time": "2023-01-26T19:55:35.094880Z",
     "start_time": "2023-01-26T19:55:35.083411Z"
    }
   },
   "outputs": [],
   "source": [
    "#Média de LTV por tempo permanencia\n",
    "mean_ltv_for_tenure = df3[['LTV_medio', 'tempo_permanencia']].groupby('tempo_permanencia').mean().reset_index()\n",
    "mean_ltv_for_tenure.columns = ['tempo_permanencia', 'LTV_por_tempo_permanencia']\n",
    "\n",
    "mean_ltv_for_tenure['LTV_por_tempo_permanencia'] = mean_ltv_for_tenure['LTV_por_tempo_permanencia'].apply(lambda x: round(x, 3))\n",
    "\n",
    "#merge\n",
    "df3 = pd.merge(df3, mean_ltv_for_tenure, on= 'tempo_permanencia', how= 'left')"
   ]
  },
  {
   "cell_type": "code",
   "execution_count": 31,
   "id": "cc93f585",
   "metadata": {
    "ExecuteTime": {
     "end_time": "2023-01-26T19:55:35.109170Z",
     "start_time": "2023-01-26T19:55:35.096744Z"
    }
   },
   "outputs": [],
   "source": [
    "#Média salarial por numero de contas\n",
    "mean_salary_for_num_of_products = df3[['salario_estimado', 'numero_de_contas']].groupby('numero_de_contas').mean().reset_index()\n",
    "mean_salary_for_num_of_products.columns = ['numero_de_contas', 'salario_por_numero_de_contas']\n",
    "\n",
    "mean_salary_for_num_of_products['salario_por_numero_de_contas'] = mean_salary_for_num_of_products['salario_por_numero_de_contas'].apply(lambda x: round(x, 3))\n",
    "\n",
    "#merge\n",
    "df3 = pd.merge(df3, mean_salary_for_num_of_products, on= 'numero_de_contas', how= 'left')"
   ]
  },
  {
   "cell_type": "code",
   "execution_count": 32,
   "id": "42f5c87e",
   "metadata": {
    "ExecuteTime": {
     "end_time": "2023-01-26T19:55:35.122330Z",
     "start_time": "2023-01-26T19:55:35.110809Z"
    }
   },
   "outputs": [],
   "source": [
    "#Média de saldo por numero de contas\n",
    "mean_balance_for_num_of_products = df3[['saldo', 'numero_de_contas']].groupby('numero_de_contas').mean().reset_index()\n",
    "mean_balance_for_num_of_products.columns = ['numero_de_contas', 'saldo_por_numero_de_contas']\n",
    "\n",
    "mean_balance_for_num_of_products['saldo_por_numero_de_contas'] = mean_balance_for_num_of_products['saldo_por_numero_de_contas'].apply(lambda x: round(x, 3))\n",
    "\n",
    "#merge\n",
    "df3 = pd.merge(df3, mean_balance_for_num_of_products, on= 'numero_de_contas', how= 'left')"
   ]
  },
  {
   "cell_type": "code",
   "execution_count": 33,
   "id": "96ead2a4",
   "metadata": {
    "ExecuteTime": {
     "end_time": "2023-01-26T19:55:35.137785Z",
     "start_time": "2023-01-26T19:55:35.123749Z"
    }
   },
   "outputs": [],
   "source": [
    "#Mediana de tempo permanencia por numero de contas\n",
    "median_tenure_for_num_of_products = df3[['tempo_permanencia', 'numero_de_contas']].groupby('numero_de_contas').median().reset_index()\n",
    "median_tenure_for_num_of_products.columns = ['numero_de_contas', 'tempo_permanencia_por_numero_de_contas']\n",
    "\n",
    "#merge\n",
    "df3 = pd.merge(df3, median_tenure_for_num_of_products, on= 'numero_de_contas', how= 'left')"
   ]
  },
  {
   "cell_type": "code",
   "execution_count": 34,
   "id": "22fc70e0",
   "metadata": {
    "ExecuteTime": {
     "end_time": "2023-01-26T19:55:35.151930Z",
     "start_time": "2023-01-26T19:55:35.139795Z"
    }
   },
   "outputs": [],
   "source": [
    "#Mediana de idade por numero de contas\n",
    "median_age_for_num_of_products = df3[['idade', 'numero_de_contas']].groupby('numero_de_contas').median().reset_index()\n",
    "median_age_for_num_of_products.columns = ['numero_de_contas', 'idade_por_numero_de_contas']\n",
    "\n",
    "#merge\n",
    "df3 = pd.merge(df3, median_age_for_num_of_products, on= 'numero_de_contas', how= 'left')"
   ]
  },
  {
   "cell_type": "code",
   "execution_count": 35,
   "id": "456b6b0f",
   "metadata": {
    "ExecuteTime": {
     "end_time": "2023-01-26T19:55:35.165389Z",
     "start_time": "2023-01-26T19:55:35.154194Z"
    }
   },
   "outputs": [],
   "source": [
    "#Média de LTV por numero de contas\n",
    "mean_ltv_for_num_of_products = df3[['LTV_medio', 'numero_de_contas']].groupby('numero_de_contas').mean().reset_index()\n",
    "mean_ltv_for_num_of_products.columns = ['numero_de_contas', 'LTV_por_numero_de_contas']\n",
    "\n",
    "mean_ltv_for_num_of_products['LTV_por_numero_de_contas'] = mean_ltv_for_num_of_products['LTV_por_numero_de_contas'].apply(lambda x: round(x, 3))\n",
    "\n",
    "#merge\n",
    "df3 = pd.merge(df3, mean_ltv_for_num_of_products, on= 'numero_de_contas', how= 'left')"
   ]
  },
  {
   "cell_type": "code",
   "execution_count": 36,
   "id": "92d8b9a4",
   "metadata": {
    "ExecuteTime": {
     "end_time": "2023-01-26T19:55:35.179797Z",
     "start_time": "2023-01-26T19:55:35.166866Z"
    }
   },
   "outputs": [],
   "source": [
    "#Média salarial por escala FICO\n",
    "mean_salary_for_fico_scale = df3[['salario_estimado', 'escala_fico']].groupby('escala_fico').mean().reset_index()\n",
    "mean_salary_for_fico_scale.columns = ['escala_fico', 'salario_por_escala_fico']\n",
    "\n",
    "mean_salary_for_fico_scale['salario_por_escala_fico'] = mean_salary_for_fico_scale['salario_por_escala_fico'].apply(lambda x: round(x, 3))\n",
    "\n",
    "#merge\n",
    "df3 = pd.merge(df3, mean_salary_for_fico_scale, on= 'escala_fico', how= 'left')"
   ]
  },
  {
   "cell_type": "code",
   "execution_count": 37,
   "id": "193c1760",
   "metadata": {
    "ExecuteTime": {
     "end_time": "2023-01-26T19:55:35.195087Z",
     "start_time": "2023-01-26T19:55:35.182125Z"
    }
   },
   "outputs": [],
   "source": [
    "#Média de saldo por escala FICO\n",
    "mean_balance_for_fico_scale = df3[['saldo', 'escala_fico']].groupby('escala_fico').mean().reset_index()\n",
    "mean_balance_for_fico_scale.columns = ['escala_fico', 'saldo_por_escala_fico']\n",
    "\n",
    "mean_balance_for_fico_scale['saldo_por_escala_fico'] = mean_balance_for_fico_scale['saldo_por_escala_fico'].apply(lambda x: round(x, 3))\n",
    "\n",
    "#merge\n",
    "df3 = pd.merge(df3, mean_balance_for_fico_scale, on= 'escala_fico', how= 'left')"
   ]
  },
  {
   "cell_type": "code",
   "execution_count": 38,
   "id": "14a4b1da",
   "metadata": {
    "ExecuteTime": {
     "end_time": "2023-01-26T19:55:35.211117Z",
     "start_time": "2023-01-26T19:55:35.196603Z"
    }
   },
   "outputs": [],
   "source": [
    "#Mediana de idade por escala FICO\n",
    "median_tenure_for_fico_scale = df3[['tempo_permanencia', 'escala_fico']].groupby('escala_fico').median().reset_index()\n",
    "median_tenure_for_fico_scale.columns = ['escala_fico', 'tempo_permanencia_por_escala_fico']\n",
    "\n",
    "#merge\n",
    "df3 = pd.merge(df3, median_tenure_for_fico_scale, on= 'escala_fico', how= 'left')"
   ]
  },
  {
   "cell_type": "code",
   "execution_count": 39,
   "id": "3dac3d22",
   "metadata": {
    "ExecuteTime": {
     "end_time": "2023-01-26T19:55:35.228092Z",
     "start_time": "2023-01-26T19:55:35.213031Z"
    }
   },
   "outputs": [],
   "source": [
    "#Mediana de idade por escala FICO\n",
    "median_age_for_fico_scale = df3[['idade', 'escala_fico']].groupby('escala_fico').median().reset_index()\n",
    "median_age_for_fico_scale.columns = ['escala_fico', 'idade_por_escala_fico']\n",
    "\n",
    "#merge\n",
    "df3 = pd.merge(df3, median_age_for_fico_scale, on= 'escala_fico', how= 'left')"
   ]
  },
  {
   "cell_type": "code",
   "execution_count": 40,
   "id": "6a0844ac",
   "metadata": {
    "ExecuteTime": {
     "end_time": "2023-01-26T19:55:35.243349Z",
     "start_time": "2023-01-26T19:55:35.230467Z"
    }
   },
   "outputs": [],
   "source": [
    "#Média de LTV por escala FICO\n",
    "mean_ltv_for_fico_scale = df3[['LTV_medio', 'escala_fico']].groupby('escala_fico').mean().reset_index()\n",
    "mean_ltv_for_fico_scale.columns = ['escala_fico', 'LTV_por_escala_fico']\n",
    "\n",
    "mean_ltv_for_fico_scale['LTV_por_escala_fico'] = mean_ltv_for_fico_scale['LTV_por_escala_fico'].apply(lambda x: round(x, 3))\n",
    "\n",
    "#merge\n",
    "df3 = pd.merge(df3, mean_ltv_for_fico_scale, on= 'escala_fico', how= 'left')"
   ]
  },
  {
   "cell_type": "code",
   "execution_count": 41,
   "id": "550f919e",
   "metadata": {
    "ExecuteTime": {
     "end_time": "2023-01-26T19:55:35.263989Z",
     "start_time": "2023-01-26T19:55:35.247042Z"
    }
   },
   "outputs": [],
   "source": [
    "#Média salarial por gênero\n",
    "mean_salary_for_gender = df3[['salario_estimado', 'genero']].groupby('genero').mean().reset_index()\n",
    "mean_salary_for_gender.columns = ['genero', 'salario_por_genero']\n",
    "\n",
    "mean_salary_for_gender['salario_por_genero'] = mean_salary_for_gender['salario_por_genero'].apply(lambda x: round(x, 3))\n",
    "\n",
    "#merge\n",
    "df3 = pd.merge(df3, mean_salary_for_gender, on= 'genero', how= 'left')"
   ]
  },
  {
   "cell_type": "code",
   "execution_count": 42,
   "id": "caee6987",
   "metadata": {
    "ExecuteTime": {
     "end_time": "2023-01-26T19:55:35.279223Z",
     "start_time": "2023-01-26T19:55:35.266376Z"
    }
   },
   "outputs": [],
   "source": [
    "#Média de saldo por gênero\n",
    "mean_balance_for_gender = df3[['saldo', 'genero']].groupby('genero').mean().reset_index()\n",
    "mean_balance_for_gender.columns = ['genero', 'saldo_por_genero']\n",
    "\n",
    "mean_balance_for_gender['saldo_por_genero'] = mean_balance_for_gender['saldo_por_genero'].apply(lambda x: round(x, 3))\n",
    "\n",
    "#merge\n",
    "df3 = pd.merge(df3, mean_balance_for_gender, on= 'genero', how= 'left')"
   ]
  },
  {
   "cell_type": "code",
   "execution_count": 43,
   "id": "32962f79",
   "metadata": {
    "ExecuteTime": {
     "end_time": "2023-01-26T19:55:35.297216Z",
     "start_time": "2023-01-26T19:55:35.281597Z"
    }
   },
   "outputs": [],
   "source": [
    "#Mediana de tempo permanencia por gênero\n",
    "median_tenure_for_gender = df3[['tempo_permanencia', 'genero']].groupby('genero').median().reset_index()\n",
    "median_tenure_for_gender.columns = ['genero', 'tempo_permanencia_por_genero']\n",
    "\n",
    "#merge\n",
    "df3 = pd.merge(df3, median_tenure_for_gender, on= 'genero', how= 'left')"
   ]
  },
  {
   "cell_type": "code",
   "execution_count": 44,
   "id": "ede88100",
   "metadata": {
    "ExecuteTime": {
     "end_time": "2023-01-26T19:55:35.314140Z",
     "start_time": "2023-01-26T19:55:35.299651Z"
    }
   },
   "outputs": [],
   "source": [
    "#Mediana da idade por gênero\n",
    "median_age_for_gender = df3[['idade', 'genero']].groupby('genero').median().reset_index()\n",
    "median_age_for_gender.columns = ['genero', 'idade_por_genero']\n",
    "\n",
    "#merge\n",
    "df3 = pd.merge(df3, median_age_for_gender, on= 'genero', how= 'left')"
   ]
  },
  {
   "cell_type": "code",
   "execution_count": 45,
   "id": "fdd6b7fc",
   "metadata": {
    "ExecuteTime": {
     "end_time": "2023-01-26T19:55:35.332934Z",
     "start_time": "2023-01-26T19:55:35.315721Z"
    }
   },
   "outputs": [],
   "source": [
    "#Média de LTV por gênero\n",
    "mean_ltv_for_gender = df3[['LTV_medio', 'genero']].groupby('genero').mean().reset_index()\n",
    "mean_ltv_for_gender.columns = ['genero', 'LTV_por_genero']\n",
    "\n",
    "mean_ltv_for_gender['LTV_por_genero'] = mean_ltv_for_gender['LTV_por_genero'].apply(lambda x: round(x, 3))\n",
    "\n",
    "#merge\n",
    "df3 = pd.merge(df3, mean_ltv_for_gender, on= 'genero', how= 'left')"
   ]
  },
  {
   "cell_type": "code",
   "execution_count": 46,
   "id": "aad34365",
   "metadata": {
    "ExecuteTime": {
     "end_time": "2023-01-26T19:55:35.352414Z",
     "start_time": "2023-01-26T19:55:35.336503Z"
    }
   },
   "outputs": [],
   "source": [
    "#Média salarial por geografia\n",
    "mean_salary_for_geography = df3[['salario_estimado', 'geografia']].groupby('geografia').mean().reset_index()\n",
    "mean_salary_for_geography.columns = ['geografia', 'salario_por_geografia']\n",
    "\n",
    "mean_salary_for_geography['salario_por_geografia'] = mean_salary_for_geography['salario_por_geografia'].apply(lambda x: round(x, 3))\n",
    "\n",
    "#merge\n",
    "df3 = pd.merge(df3, mean_salary_for_geography, on= 'geografia', how= 'left')"
   ]
  },
  {
   "cell_type": "code",
   "execution_count": 47,
   "id": "a3225a44",
   "metadata": {
    "ExecuteTime": {
     "end_time": "2023-01-26T19:55:35.369517Z",
     "start_time": "2023-01-26T19:55:35.355879Z"
    }
   },
   "outputs": [],
   "source": [
    "#Média salarial por geografia\n",
    "mean_balance_for_geography = df3[['saldo', 'geografia']].groupby('geografia').mean().reset_index()\n",
    "mean_balance_for_geography.columns = ['geografia', 'saldo_por_geografia']\n",
    "\n",
    "mean_balance_for_geography['saldo_por_geografia'] = mean_balance_for_geography['saldo_por_geografia'].apply(lambda x: round(x, 3))\n",
    "\n",
    "#merge\n",
    "df3 = pd.merge(df3, mean_balance_for_geography, on= 'geografia', how= 'left')"
   ]
  },
  {
   "cell_type": "code",
   "execution_count": 48,
   "id": "b2988ffb",
   "metadata": {
    "ExecuteTime": {
     "end_time": "2023-01-26T19:55:35.384934Z",
     "start_time": "2023-01-26T19:55:35.371981Z"
    }
   },
   "outputs": [],
   "source": [
    "#Mediana de tempo permanencia por geografia\n",
    "median_tenure_for_geography = df3[['tempo_permanencia', 'geografia']].groupby('geografia').median().reset_index()\n",
    "median_tenure_for_geography.columns = ['geografia', 'tempo_permanencia_por_geografia']\n",
    "\n",
    "#merge\n",
    "df3 = pd.merge(df3, median_tenure_for_geography, on= 'geografia', how= 'left')"
   ]
  },
  {
   "cell_type": "code",
   "execution_count": 49,
   "id": "c2102048",
   "metadata": {
    "ExecuteTime": {
     "end_time": "2023-01-26T19:55:35.400113Z",
     "start_time": "2023-01-26T19:55:35.386395Z"
    }
   },
   "outputs": [],
   "source": [
    "#Mediana de idade por geografia\n",
    "median_age_for_geography = df3[['idade', 'geografia']].groupby('geografia').median().reset_index()\n",
    "median_age_for_geography.columns = ['geografia', 'idade_por_geografia']\n",
    "\n",
    "#merge\n",
    "df3 = pd.merge(df3, median_age_for_geography, on= 'geografia', how= 'left')"
   ]
  },
  {
   "cell_type": "code",
   "execution_count": 50,
   "id": "1a689add",
   "metadata": {
    "ExecuteTime": {
     "end_time": "2023-01-26T19:55:35.414632Z",
     "start_time": "2023-01-26T19:55:35.401893Z"
    }
   },
   "outputs": [],
   "source": [
    "#Média de LTV por geografia\n",
    "mean_ltv_for_geography = df3[['LTV_medio', 'geografia']].groupby('geografia').mean().reset_index()\n",
    "mean_ltv_for_geography.columns = ['geografia', 'LTV_por_geografia']\n",
    "\n",
    "mean_ltv_for_geography['LTV_por_geografia'] = mean_ltv_for_geography['LTV_por_geografia'].apply(lambda x: round(x, 3))\n",
    "\n",
    "#merge\n",
    "df3 = pd.merge(df3, mean_ltv_for_geography, on= 'geografia', how= 'left')"
   ]
  },
  {
   "cell_type": "code",
   "execution_count": 51,
   "id": "069e151a",
   "metadata": {
    "ExecuteTime": {
     "end_time": "2023-01-26T19:55:35.454075Z",
     "start_time": "2023-01-26T19:55:35.417215Z"
    }
   },
   "outputs": [
    {
     "data": {
      "text/html": [
       "<div>\n",
       "<style scoped>\n",
       "    .dataframe tbody tr th:only-of-type {\n",
       "        vertical-align: middle;\n",
       "    }\n",
       "\n",
       "    .dataframe tbody tr th {\n",
       "        vertical-align: top;\n",
       "    }\n",
       "\n",
       "    .dataframe thead th {\n",
       "        text-align: right;\n",
       "    }\n",
       "</style>\n",
       "<table border=\"1\" class=\"dataframe\">\n",
       "  <thead>\n",
       "    <tr style=\"text-align: right;\">\n",
       "      <th></th>\n",
       "      <th>numero_linha</th>\n",
       "      <th>id_cliente</th>\n",
       "      <th>sobrenome</th>\n",
       "      <th>score_credito</th>\n",
       "      <th>geografia</th>\n",
       "      <th>genero</th>\n",
       "      <th>idade</th>\n",
       "      <th>tempo_permanencia</th>\n",
       "      <th>saldo</th>\n",
       "      <th>numero_de_contas</th>\n",
       "      <th>tem_cartao_credito</th>\n",
       "      <th>membro_ativo</th>\n",
       "      <th>salario_estimado</th>\n",
       "      <th>Churn</th>\n",
       "      <th>escala_fico</th>\n",
       "      <th>ticket_medio</th>\n",
       "      <th>LTV_medio</th>\n",
       "      <th>salario_por_idade</th>\n",
       "      <th>saldo_por_idade</th>\n",
       "      <th>tempo_permanencia_por_idade</th>\n",
       "      <th>LTV_por_idade</th>\n",
       "      <th>salario_por_tempo_permanencia</th>\n",
       "      <th>saldo_por_tempo_permanencia</th>\n",
       "      <th>idade_por_tempo_permanencia</th>\n",
       "      <th>LTV_por_tempo_permanencia</th>\n",
       "      <th>salario_por_numero_de_contas</th>\n",
       "      <th>saldo_por_numero_de_contas</th>\n",
       "      <th>tempo_permanencia_por_numero_de_contas</th>\n",
       "      <th>idade_por_numero_de_contas</th>\n",
       "      <th>LTV_por_numero_de_contas</th>\n",
       "      <th>salario_por_escala_fico</th>\n",
       "      <th>saldo_por_escala_fico</th>\n",
       "      <th>tempo_permanencia_por_escala_fico</th>\n",
       "      <th>idade_por_escala_fico</th>\n",
       "      <th>LTV_por_escala_fico</th>\n",
       "      <th>salario_por_genero</th>\n",
       "      <th>saldo_por_genero</th>\n",
       "      <th>tempo_permanencia_por_genero</th>\n",
       "      <th>idade_por_genero</th>\n",
       "      <th>LTV_por_genero</th>\n",
       "      <th>salario_por_geografia</th>\n",
       "      <th>saldo_por_geografia</th>\n",
       "      <th>tempo_permanencia_por_geografia</th>\n",
       "      <th>idade_por_geografia</th>\n",
       "      <th>LTV_por_geografia</th>\n",
       "    </tr>\n",
       "  </thead>\n",
       "  <tbody>\n",
       "    <tr>\n",
       "      <th>0</th>\n",
       "      <td>1</td>\n",
       "      <td>15634602</td>\n",
       "      <td>Hargrave</td>\n",
       "      <td>619</td>\n",
       "      <td>France</td>\n",
       "      <td>Female</td>\n",
       "      <td>42</td>\n",
       "      <td>2</td>\n",
       "      <td>0.00</td>\n",
       "      <td>1</td>\n",
       "      <td>yes</td>\n",
       "      <td>yes</td>\n",
       "      <td>101348.88</td>\n",
       "      <td>yes</td>\n",
       "      <td>bad</td>\n",
       "      <td>20</td>\n",
       "      <td>480</td>\n",
       "      <td>96681.211</td>\n",
       "      <td>76785.312</td>\n",
       "      <td>5.0</td>\n",
       "      <td>1896.075</td>\n",
       "      <td>98312.360</td>\n",
       "      <td>76839.626</td>\n",
       "      <td>37.0</td>\n",
       "      <td>763.053</td>\n",
       "      <td>99487.257</td>\n",
       "      <td>98551.871</td>\n",
       "      <td>5.0</td>\n",
       "      <td>38.0</td>\n",
       "      <td>1193.910</td>\n",
       "      <td>99406.522</td>\n",
       "      <td>76919.460</td>\n",
       "      <td>5.0</td>\n",
       "      <td>37.0</td>\n",
       "      <td>1883.182</td>\n",
       "      <td>100601.541</td>\n",
       "      <td>75659.369</td>\n",
       "      <td>5.0</td>\n",
       "      <td>38.0</td>\n",
       "      <td>1841.444</td>\n",
       "      <td>99899.181</td>\n",
       "      <td>62092.637</td>\n",
       "      <td>5.0</td>\n",
       "      <td>37.0</td>\n",
       "      <td>1847.100</td>\n",
       "    </tr>\n",
       "    <tr>\n",
       "      <th>1</th>\n",
       "      <td>2</td>\n",
       "      <td>15647311</td>\n",
       "      <td>Hill</td>\n",
       "      <td>608</td>\n",
       "      <td>Spain</td>\n",
       "      <td>Female</td>\n",
       "      <td>41</td>\n",
       "      <td>1</td>\n",
       "      <td>83807.86</td>\n",
       "      <td>1</td>\n",
       "      <td>no</td>\n",
       "      <td>yes</td>\n",
       "      <td>112542.58</td>\n",
       "      <td>no</td>\n",
       "      <td>bad</td>\n",
       "      <td>20</td>\n",
       "      <td>240</td>\n",
       "      <td>106768.127</td>\n",
       "      <td>75742.975</td>\n",
       "      <td>5.0</td>\n",
       "      <td>1872.787</td>\n",
       "      <td>100468.619</td>\n",
       "      <td>78555.384</td>\n",
       "      <td>38.0</td>\n",
       "      <td>357.565</td>\n",
       "      <td>99487.257</td>\n",
       "      <td>98551.871</td>\n",
       "      <td>5.0</td>\n",
       "      <td>38.0</td>\n",
       "      <td>1193.910</td>\n",
       "      <td>99406.522</td>\n",
       "      <td>76919.460</td>\n",
       "      <td>5.0</td>\n",
       "      <td>37.0</td>\n",
       "      <td>1883.182</td>\n",
       "      <td>100601.541</td>\n",
       "      <td>75659.369</td>\n",
       "      <td>5.0</td>\n",
       "      <td>38.0</td>\n",
       "      <td>1841.444</td>\n",
       "      <td>99440.572</td>\n",
       "      <td>61818.148</td>\n",
       "      <td>5.0</td>\n",
       "      <td>37.0</td>\n",
       "      <td>1865.353</td>\n",
       "    </tr>\n",
       "    <tr>\n",
       "      <th>2</th>\n",
       "      <td>3</td>\n",
       "      <td>15619304</td>\n",
       "      <td>Onio</td>\n",
       "      <td>502</td>\n",
       "      <td>France</td>\n",
       "      <td>Female</td>\n",
       "      <td>42</td>\n",
       "      <td>8</td>\n",
       "      <td>159660.80</td>\n",
       "      <td>3</td>\n",
       "      <td>yes</td>\n",
       "      <td>no</td>\n",
       "      <td>113931.57</td>\n",
       "      <td>yes</td>\n",
       "      <td>too bad</td>\n",
       "      <td>60</td>\n",
       "      <td>5760</td>\n",
       "      <td>96681.211</td>\n",
       "      <td>76785.312</td>\n",
       "      <td>5.0</td>\n",
       "      <td>1896.075</td>\n",
       "      <td>101072.103</td>\n",
       "      <td>77936.598</td>\n",
       "      <td>37.0</td>\n",
       "      <td>2924.020</td>\n",
       "      <td>104318.131</td>\n",
       "      <td>75458.328</td>\n",
       "      <td>5.0</td>\n",
       "      <td>42.0</td>\n",
       "      <td>3602.707</td>\n",
       "      <td>100715.360</td>\n",
       "      <td>75900.472</td>\n",
       "      <td>5.0</td>\n",
       "      <td>37.0</td>\n",
       "      <td>1816.257</td>\n",
       "      <td>100601.541</td>\n",
       "      <td>75659.369</td>\n",
       "      <td>5.0</td>\n",
       "      <td>38.0</td>\n",
       "      <td>1841.444</td>\n",
       "      <td>99899.181</td>\n",
       "      <td>62092.637</td>\n",
       "      <td>5.0</td>\n",
       "      <td>37.0</td>\n",
       "      <td>1847.100</td>\n",
       "    </tr>\n",
       "    <tr>\n",
       "      <th>3</th>\n",
       "      <td>4</td>\n",
       "      <td>15701354</td>\n",
       "      <td>Boni</td>\n",
       "      <td>699</td>\n",
       "      <td>France</td>\n",
       "      <td>Female</td>\n",
       "      <td>39</td>\n",
       "      <td>1</td>\n",
       "      <td>0.00</td>\n",
       "      <td>2</td>\n",
       "      <td>no</td>\n",
       "      <td>no</td>\n",
       "      <td>93826.63</td>\n",
       "      <td>no</td>\n",
       "      <td>good</td>\n",
       "      <td>40</td>\n",
       "      <td>480</td>\n",
       "      <td>95225.690</td>\n",
       "      <td>74285.289</td>\n",
       "      <td>5.0</td>\n",
       "      <td>1914.326</td>\n",
       "      <td>100468.619</td>\n",
       "      <td>78555.384</td>\n",
       "      <td>38.0</td>\n",
       "      <td>357.565</td>\n",
       "      <td>100452.013</td>\n",
       "      <td>51879.146</td>\n",
       "      <td>5.0</td>\n",
       "      <td>36.0</td>\n",
       "      <td>2424.889</td>\n",
       "      <td>100523.541</td>\n",
       "      <td>74978.995</td>\n",
       "      <td>5.0</td>\n",
       "      <td>37.0</td>\n",
       "      <td>1816.507</td>\n",
       "      <td>100601.541</td>\n",
       "      <td>75659.369</td>\n",
       "      <td>5.0</td>\n",
       "      <td>38.0</td>\n",
       "      <td>1841.444</td>\n",
       "      <td>99899.181</td>\n",
       "      <td>62092.637</td>\n",
       "      <td>5.0</td>\n",
       "      <td>37.0</td>\n",
       "      <td>1847.100</td>\n",
       "    </tr>\n",
       "    <tr>\n",
       "      <th>4</th>\n",
       "      <td>5</td>\n",
       "      <td>15737888</td>\n",
       "      <td>Mitchell</td>\n",
       "      <td>850</td>\n",
       "      <td>Spain</td>\n",
       "      <td>Female</td>\n",
       "      <td>43</td>\n",
       "      <td>2</td>\n",
       "      <td>125510.82</td>\n",
       "      <td>1</td>\n",
       "      <td>yes</td>\n",
       "      <td>yes</td>\n",
       "      <td>79084.10</td>\n",
       "      <td>no</td>\n",
       "      <td>excellent</td>\n",
       "      <td>20</td>\n",
       "      <td>480</td>\n",
       "      <td>98148.691</td>\n",
       "      <td>81636.038</td>\n",
       "      <td>5.0</td>\n",
       "      <td>1850.505</td>\n",
       "      <td>98312.360</td>\n",
       "      <td>76839.626</td>\n",
       "      <td>37.0</td>\n",
       "      <td>763.053</td>\n",
       "      <td>99487.257</td>\n",
       "      <td>98551.871</td>\n",
       "      <td>5.0</td>\n",
       "      <td>38.0</td>\n",
       "      <td>1193.910</td>\n",
       "      <td>100338.736</td>\n",
       "      <td>76976.408</td>\n",
       "      <td>5.0</td>\n",
       "      <td>37.0</td>\n",
       "      <td>1815.573</td>\n",
       "      <td>100601.541</td>\n",
       "      <td>75659.369</td>\n",
       "      <td>5.0</td>\n",
       "      <td>38.0</td>\n",
       "      <td>1841.444</td>\n",
       "      <td>99440.572</td>\n",
       "      <td>61818.148</td>\n",
       "      <td>5.0</td>\n",
       "      <td>37.0</td>\n",
       "      <td>1865.353</td>\n",
       "    </tr>\n",
       "    <tr>\n",
       "      <th>5</th>\n",
       "      <td>6</td>\n",
       "      <td>15574012</td>\n",
       "      <td>Chu</td>\n",
       "      <td>645</td>\n",
       "      <td>Spain</td>\n",
       "      <td>Male</td>\n",
       "      <td>44</td>\n",
       "      <td>8</td>\n",
       "      <td>113755.78</td>\n",
       "      <td>2</td>\n",
       "      <td>yes</td>\n",
       "      <td>no</td>\n",
       "      <td>149756.71</td>\n",
       "      <td>yes</td>\n",
       "      <td>bad</td>\n",
       "      <td>40</td>\n",
       "      <td>3840</td>\n",
       "      <td>98190.766</td>\n",
       "      <td>78244.492</td>\n",
       "      <td>5.0</td>\n",
       "      <td>1888.249</td>\n",
       "      <td>101072.103</td>\n",
       "      <td>77936.598</td>\n",
       "      <td>37.0</td>\n",
       "      <td>2924.020</td>\n",
       "      <td>100452.013</td>\n",
       "      <td>51879.146</td>\n",
       "      <td>5.0</td>\n",
       "      <td>36.0</td>\n",
       "      <td>2424.889</td>\n",
       "      <td>99406.522</td>\n",
       "      <td>76919.460</td>\n",
       "      <td>5.0</td>\n",
       "      <td>37.0</td>\n",
       "      <td>1883.182</td>\n",
       "      <td>99664.577</td>\n",
       "      <td>77173.975</td>\n",
       "      <td>5.0</td>\n",
       "      <td>37.0</td>\n",
       "      <td>1850.467</td>\n",
       "      <td>99440.572</td>\n",
       "      <td>61818.148</td>\n",
       "      <td>5.0</td>\n",
       "      <td>37.0</td>\n",
       "      <td>1865.353</td>\n",
       "    </tr>\n",
       "    <tr>\n",
       "      <th>6</th>\n",
       "      <td>7</td>\n",
       "      <td>15592531</td>\n",
       "      <td>Bartlett</td>\n",
       "      <td>822</td>\n",
       "      <td>France</td>\n",
       "      <td>Male</td>\n",
       "      <td>50</td>\n",
       "      <td>7</td>\n",
       "      <td>0.00</td>\n",
       "      <td>2</td>\n",
       "      <td>yes</td>\n",
       "      <td>yes</td>\n",
       "      <td>10062.80</td>\n",
       "      <td>no</td>\n",
       "      <td>excellent</td>\n",
       "      <td>40</td>\n",
       "      <td>3360</td>\n",
       "      <td>95349.181</td>\n",
       "      <td>84924.807</td>\n",
       "      <td>5.0</td>\n",
       "      <td>1903.881</td>\n",
       "      <td>101257.240</td>\n",
       "      <td>75551.634</td>\n",
       "      <td>37.0</td>\n",
       "      <td>2570.661</td>\n",
       "      <td>100452.013</td>\n",
       "      <td>51879.146</td>\n",
       "      <td>5.0</td>\n",
       "      <td>36.0</td>\n",
       "      <td>2424.889</td>\n",
       "      <td>100338.736</td>\n",
       "      <td>76976.408</td>\n",
       "      <td>5.0</td>\n",
       "      <td>37.0</td>\n",
       "      <td>1815.573</td>\n",
       "      <td>99664.577</td>\n",
       "      <td>77173.975</td>\n",
       "      <td>5.0</td>\n",
       "      <td>37.0</td>\n",
       "      <td>1850.467</td>\n",
       "      <td>99899.181</td>\n",
       "      <td>62092.637</td>\n",
       "      <td>5.0</td>\n",
       "      <td>37.0</td>\n",
       "      <td>1847.100</td>\n",
       "    </tr>\n",
       "    <tr>\n",
       "      <th>7</th>\n",
       "      <td>8</td>\n",
       "      <td>15656148</td>\n",
       "      <td>Obinna</td>\n",
       "      <td>376</td>\n",
       "      <td>Germany</td>\n",
       "      <td>Female</td>\n",
       "      <td>29</td>\n",
       "      <td>4</td>\n",
       "      <td>115046.74</td>\n",
       "      <td>4</td>\n",
       "      <td>yes</td>\n",
       "      <td>no</td>\n",
       "      <td>119346.88</td>\n",
       "      <td>yes</td>\n",
       "      <td>too bad</td>\n",
       "      <td>80</td>\n",
       "      <td>3840</td>\n",
       "      <td>101159.596</td>\n",
       "      <td>68990.370</td>\n",
       "      <td>5.0</td>\n",
       "      <td>1935.172</td>\n",
       "      <td>99867.778</td>\n",
       "      <td>74059.394</td>\n",
       "      <td>37.0</td>\n",
       "      <td>1456.016</td>\n",
       "      <td>104763.723</td>\n",
       "      <td>93733.135</td>\n",
       "      <td>5.0</td>\n",
       "      <td>45.0</td>\n",
       "      <td>5088.000</td>\n",
       "      <td>100715.360</td>\n",
       "      <td>75900.472</td>\n",
       "      <td>5.0</td>\n",
       "      <td>37.0</td>\n",
       "      <td>1816.257</td>\n",
       "      <td>100601.541</td>\n",
       "      <td>75659.369</td>\n",
       "      <td>5.0</td>\n",
       "      <td>38.0</td>\n",
       "      <td>1841.444</td>\n",
       "      <td>101113.435</td>\n",
       "      <td>119730.116</td>\n",
       "      <td>5.0</td>\n",
       "      <td>38.0</td>\n",
       "      <td>1826.162</td>\n",
       "    </tr>\n",
       "    <tr>\n",
       "      <th>8</th>\n",
       "      <td>9</td>\n",
       "      <td>15792365</td>\n",
       "      <td>He</td>\n",
       "      <td>501</td>\n",
       "      <td>France</td>\n",
       "      <td>Male</td>\n",
       "      <td>44</td>\n",
       "      <td>4</td>\n",
       "      <td>142051.07</td>\n",
       "      <td>2</td>\n",
       "      <td>no</td>\n",
       "      <td>yes</td>\n",
       "      <td>74940.50</td>\n",
       "      <td>no</td>\n",
       "      <td>too bad</td>\n",
       "      <td>40</td>\n",
       "      <td>1920</td>\n",
       "      <td>98190.766</td>\n",
       "      <td>78244.492</td>\n",
       "      <td>5.0</td>\n",
       "      <td>1888.249</td>\n",
       "      <td>99867.778</td>\n",
       "      <td>74059.394</td>\n",
       "      <td>37.0</td>\n",
       "      <td>1456.016</td>\n",
       "      <td>100452.013</td>\n",
       "      <td>51879.146</td>\n",
       "      <td>5.0</td>\n",
       "      <td>36.0</td>\n",
       "      <td>2424.889</td>\n",
       "      <td>100715.360</td>\n",
       "      <td>75900.472</td>\n",
       "      <td>5.0</td>\n",
       "      <td>37.0</td>\n",
       "      <td>1816.257</td>\n",
       "      <td>99664.577</td>\n",
       "      <td>77173.975</td>\n",
       "      <td>5.0</td>\n",
       "      <td>37.0</td>\n",
       "      <td>1850.467</td>\n",
       "      <td>99899.181</td>\n",
       "      <td>62092.637</td>\n",
       "      <td>5.0</td>\n",
       "      <td>37.0</td>\n",
       "      <td>1847.100</td>\n",
       "    </tr>\n",
       "    <tr>\n",
       "      <th>...</th>\n",
       "      <td>...</td>\n",
       "      <td>...</td>\n",
       "      <td>...</td>\n",
       "      <td>...</td>\n",
       "      <td>...</td>\n",
       "      <td>...</td>\n",
       "      <td>...</td>\n",
       "      <td>...</td>\n",
       "      <td>...</td>\n",
       "      <td>...</td>\n",
       "      <td>...</td>\n",
       "      <td>...</td>\n",
       "      <td>...</td>\n",
       "      <td>...</td>\n",
       "      <td>...</td>\n",
       "      <td>...</td>\n",
       "      <td>...</td>\n",
       "      <td>...</td>\n",
       "      <td>...</td>\n",
       "      <td>...</td>\n",
       "      <td>...</td>\n",
       "      <td>...</td>\n",
       "      <td>...</td>\n",
       "      <td>...</td>\n",
       "      <td>...</td>\n",
       "      <td>...</td>\n",
       "      <td>...</td>\n",
       "      <td>...</td>\n",
       "      <td>...</td>\n",
       "      <td>...</td>\n",
       "      <td>...</td>\n",
       "      <td>...</td>\n",
       "      <td>...</td>\n",
       "      <td>...</td>\n",
       "      <td>...</td>\n",
       "      <td>...</td>\n",
       "      <td>...</td>\n",
       "      <td>...</td>\n",
       "      <td>...</td>\n",
       "      <td>...</td>\n",
       "      <td>...</td>\n",
       "      <td>...</td>\n",
       "      <td>...</td>\n",
       "      <td>...</td>\n",
       "      <td>...</td>\n",
       "    </tr>\n",
       "    <tr>\n",
       "      <th>9991</th>\n",
       "      <td>9992</td>\n",
       "      <td>15769959</td>\n",
       "      <td>Ajuluchukwu</td>\n",
       "      <td>597</td>\n",
       "      <td>France</td>\n",
       "      <td>Female</td>\n",
       "      <td>53</td>\n",
       "      <td>4</td>\n",
       "      <td>88381.21</td>\n",
       "      <td>1</td>\n",
       "      <td>yes</td>\n",
       "      <td>no</td>\n",
       "      <td>69384.71</td>\n",
       "      <td>yes</td>\n",
       "      <td>bad</td>\n",
       "      <td>20</td>\n",
       "      <td>960</td>\n",
       "      <td>96692.908</td>\n",
       "      <td>87894.038</td>\n",
       "      <td>5.0</td>\n",
       "      <td>1641.081</td>\n",
       "      <td>99867.778</td>\n",
       "      <td>74059.394</td>\n",
       "      <td>37.0</td>\n",
       "      <td>1456.016</td>\n",
       "      <td>99487.257</td>\n",
       "      <td>98551.871</td>\n",
       "      <td>5.0</td>\n",
       "      <td>38.0</td>\n",
       "      <td>1193.910</td>\n",
       "      <td>99406.522</td>\n",
       "      <td>76919.460</td>\n",
       "      <td>5.0</td>\n",
       "      <td>37.0</td>\n",
       "      <td>1883.182</td>\n",
       "      <td>100601.541</td>\n",
       "      <td>75659.369</td>\n",
       "      <td>5.0</td>\n",
       "      <td>38.0</td>\n",
       "      <td>1841.444</td>\n",
       "      <td>99899.181</td>\n",
       "      <td>62092.637</td>\n",
       "      <td>5.0</td>\n",
       "      <td>37.0</td>\n",
       "      <td>1847.100</td>\n",
       "    </tr>\n",
       "    <tr>\n",
       "      <th>9992</th>\n",
       "      <td>9993</td>\n",
       "      <td>15657105</td>\n",
       "      <td>Chukwualuka</td>\n",
       "      <td>726</td>\n",
       "      <td>Spain</td>\n",
       "      <td>Male</td>\n",
       "      <td>36</td>\n",
       "      <td>2</td>\n",
       "      <td>0.00</td>\n",
       "      <td>1</td>\n",
       "      <td>yes</td>\n",
       "      <td>no</td>\n",
       "      <td>195192.40</td>\n",
       "      <td>no</td>\n",
       "      <td>good</td>\n",
       "      <td>20</td>\n",
       "      <td>480</td>\n",
       "      <td>98312.476</td>\n",
       "      <td>72727.088</td>\n",
       "      <td>5.0</td>\n",
       "      <td>1778.421</td>\n",
       "      <td>98312.360</td>\n",
       "      <td>76839.626</td>\n",
       "      <td>37.0</td>\n",
       "      <td>763.053</td>\n",
       "      <td>99487.257</td>\n",
       "      <td>98551.871</td>\n",
       "      <td>5.0</td>\n",
       "      <td>38.0</td>\n",
       "      <td>1193.910</td>\n",
       "      <td>100523.541</td>\n",
       "      <td>74978.995</td>\n",
       "      <td>5.0</td>\n",
       "      <td>37.0</td>\n",
       "      <td>1816.507</td>\n",
       "      <td>99664.577</td>\n",
       "      <td>77173.975</td>\n",
       "      <td>5.0</td>\n",
       "      <td>37.0</td>\n",
       "      <td>1850.467</td>\n",
       "      <td>99440.572</td>\n",
       "      <td>61818.148</td>\n",
       "      <td>5.0</td>\n",
       "      <td>37.0</td>\n",
       "      <td>1865.353</td>\n",
       "    </tr>\n",
       "    <tr>\n",
       "      <th>9993</th>\n",
       "      <td>9994</td>\n",
       "      <td>15569266</td>\n",
       "      <td>Rahman</td>\n",
       "      <td>644</td>\n",
       "      <td>France</td>\n",
       "      <td>Male</td>\n",
       "      <td>28</td>\n",
       "      <td>7</td>\n",
       "      <td>155060.41</td>\n",
       "      <td>1</td>\n",
       "      <td>yes</td>\n",
       "      <td>no</td>\n",
       "      <td>29179.52</td>\n",
       "      <td>no</td>\n",
       "      <td>bad</td>\n",
       "      <td>20</td>\n",
       "      <td>1680</td>\n",
       "      <td>96339.007</td>\n",
       "      <td>73159.737</td>\n",
       "      <td>5.0</td>\n",
       "      <td>1966.593</td>\n",
       "      <td>101257.240</td>\n",
       "      <td>75551.634</td>\n",
       "      <td>37.0</td>\n",
       "      <td>2570.661</td>\n",
       "      <td>99487.257</td>\n",
       "      <td>98551.871</td>\n",
       "      <td>5.0</td>\n",
       "      <td>38.0</td>\n",
       "      <td>1193.910</td>\n",
       "      <td>99406.522</td>\n",
       "      <td>76919.460</td>\n",
       "      <td>5.0</td>\n",
       "      <td>37.0</td>\n",
       "      <td>1883.182</td>\n",
       "      <td>99664.577</td>\n",
       "      <td>77173.975</td>\n",
       "      <td>5.0</td>\n",
       "      <td>37.0</td>\n",
       "      <td>1850.467</td>\n",
       "      <td>99899.181</td>\n",
       "      <td>62092.637</td>\n",
       "      <td>5.0</td>\n",
       "      <td>37.0</td>\n",
       "      <td>1847.100</td>\n",
       "    </tr>\n",
       "    <tr>\n",
       "      <th>9994</th>\n",
       "      <td>9995</td>\n",
       "      <td>15719294</td>\n",
       "      <td>Wood</td>\n",
       "      <td>800</td>\n",
       "      <td>France</td>\n",
       "      <td>Female</td>\n",
       "      <td>29</td>\n",
       "      <td>2</td>\n",
       "      <td>0.00</td>\n",
       "      <td>2</td>\n",
       "      <td>no</td>\n",
       "      <td>no</td>\n",
       "      <td>167773.55</td>\n",
       "      <td>no</td>\n",
       "      <td>excellent</td>\n",
       "      <td>40</td>\n",
       "      <td>960</td>\n",
       "      <td>101159.596</td>\n",
       "      <td>68990.370</td>\n",
       "      <td>5.0</td>\n",
       "      <td>1935.172</td>\n",
       "      <td>98312.360</td>\n",
       "      <td>76839.626</td>\n",
       "      <td>37.0</td>\n",
       "      <td>763.053</td>\n",
       "      <td>100452.013</td>\n",
       "      <td>51879.146</td>\n",
       "      <td>5.0</td>\n",
       "      <td>36.0</td>\n",
       "      <td>2424.889</td>\n",
       "      <td>100338.736</td>\n",
       "      <td>76976.408</td>\n",
       "      <td>5.0</td>\n",
       "      <td>37.0</td>\n",
       "      <td>1815.573</td>\n",
       "      <td>100601.541</td>\n",
       "      <td>75659.369</td>\n",
       "      <td>5.0</td>\n",
       "      <td>38.0</td>\n",
       "      <td>1841.444</td>\n",
       "      <td>99899.181</td>\n",
       "      <td>62092.637</td>\n",
       "      <td>5.0</td>\n",
       "      <td>37.0</td>\n",
       "      <td>1847.100</td>\n",
       "    </tr>\n",
       "    <tr>\n",
       "      <th>9995</th>\n",
       "      <td>9996</td>\n",
       "      <td>15606229</td>\n",
       "      <td>Obijiaku</td>\n",
       "      <td>771</td>\n",
       "      <td>France</td>\n",
       "      <td>Male</td>\n",
       "      <td>39</td>\n",
       "      <td>5</td>\n",
       "      <td>0.00</td>\n",
       "      <td>2</td>\n",
       "      <td>yes</td>\n",
       "      <td>no</td>\n",
       "      <td>96270.64</td>\n",
       "      <td>no</td>\n",
       "      <td>very good</td>\n",
       "      <td>40</td>\n",
       "      <td>2400</td>\n",
       "      <td>95225.690</td>\n",
       "      <td>74285.289</td>\n",
       "      <td>5.0</td>\n",
       "      <td>1914.326</td>\n",
       "      <td>101286.010</td>\n",
       "      <td>76444.281</td>\n",
       "      <td>38.0</td>\n",
       "      <td>1865.217</td>\n",
       "      <td>100452.013</td>\n",
       "      <td>51879.146</td>\n",
       "      <td>5.0</td>\n",
       "      <td>36.0</td>\n",
       "      <td>2424.889</td>\n",
       "      <td>99752.096</td>\n",
       "      <td>79162.343</td>\n",
       "      <td>5.0</td>\n",
       "      <td>37.0</td>\n",
       "      <td>1880.000</td>\n",
       "      <td>99664.577</td>\n",
       "      <td>77173.975</td>\n",
       "      <td>5.0</td>\n",
       "      <td>37.0</td>\n",
       "      <td>1850.467</td>\n",
       "      <td>99899.181</td>\n",
       "      <td>62092.637</td>\n",
       "      <td>5.0</td>\n",
       "      <td>37.0</td>\n",
       "      <td>1847.100</td>\n",
       "    </tr>\n",
       "    <tr>\n",
       "      <th>9996</th>\n",
       "      <td>9997</td>\n",
       "      <td>15569892</td>\n",
       "      <td>Johnstone</td>\n",
       "      <td>516</td>\n",
       "      <td>France</td>\n",
       "      <td>Male</td>\n",
       "      <td>35</td>\n",
       "      <td>10</td>\n",
       "      <td>57369.61</td>\n",
       "      <td>1</td>\n",
       "      <td>yes</td>\n",
       "      <td>yes</td>\n",
       "      <td>101699.77</td>\n",
       "      <td>no</td>\n",
       "      <td>too bad</td>\n",
       "      <td>20</td>\n",
       "      <td>2400</td>\n",
       "      <td>97042.141</td>\n",
       "      <td>77410.407</td>\n",
       "      <td>5.0</td>\n",
       "      <td>1822.278</td>\n",
       "      <td>102805.909</td>\n",
       "      <td>73927.504</td>\n",
       "      <td>38.0</td>\n",
       "      <td>3742.041</td>\n",
       "      <td>99487.257</td>\n",
       "      <td>98551.871</td>\n",
       "      <td>5.0</td>\n",
       "      <td>38.0</td>\n",
       "      <td>1193.910</td>\n",
       "      <td>100715.360</td>\n",
       "      <td>75900.472</td>\n",
       "      <td>5.0</td>\n",
       "      <td>37.0</td>\n",
       "      <td>1816.257</td>\n",
       "      <td>99664.577</td>\n",
       "      <td>77173.975</td>\n",
       "      <td>5.0</td>\n",
       "      <td>37.0</td>\n",
       "      <td>1850.467</td>\n",
       "      <td>99899.181</td>\n",
       "      <td>62092.637</td>\n",
       "      <td>5.0</td>\n",
       "      <td>37.0</td>\n",
       "      <td>1847.100</td>\n",
       "    </tr>\n",
       "    <tr>\n",
       "      <th>9997</th>\n",
       "      <td>9998</td>\n",
       "      <td>15584532</td>\n",
       "      <td>Liu</td>\n",
       "      <td>709</td>\n",
       "      <td>France</td>\n",
       "      <td>Female</td>\n",
       "      <td>36</td>\n",
       "      <td>7</td>\n",
       "      <td>0.00</td>\n",
       "      <td>1</td>\n",
       "      <td>no</td>\n",
       "      <td>yes</td>\n",
       "      <td>42085.58</td>\n",
       "      <td>yes</td>\n",
       "      <td>good</td>\n",
       "      <td>20</td>\n",
       "      <td>1680</td>\n",
       "      <td>98312.476</td>\n",
       "      <td>72727.088</td>\n",
       "      <td>5.0</td>\n",
       "      <td>1778.421</td>\n",
       "      <td>101257.240</td>\n",
       "      <td>75551.634</td>\n",
       "      <td>37.0</td>\n",
       "      <td>2570.661</td>\n",
       "      <td>99487.257</td>\n",
       "      <td>98551.871</td>\n",
       "      <td>5.0</td>\n",
       "      <td>38.0</td>\n",
       "      <td>1193.910</td>\n",
       "      <td>100523.541</td>\n",
       "      <td>74978.995</td>\n",
       "      <td>5.0</td>\n",
       "      <td>37.0</td>\n",
       "      <td>1816.507</td>\n",
       "      <td>100601.541</td>\n",
       "      <td>75659.369</td>\n",
       "      <td>5.0</td>\n",
       "      <td>38.0</td>\n",
       "      <td>1841.444</td>\n",
       "      <td>99899.181</td>\n",
       "      <td>62092.637</td>\n",
       "      <td>5.0</td>\n",
       "      <td>37.0</td>\n",
       "      <td>1847.100</td>\n",
       "    </tr>\n",
       "    <tr>\n",
       "      <th>9998</th>\n",
       "      <td>9999</td>\n",
       "      <td>15682355</td>\n",
       "      <td>Sabbatini</td>\n",
       "      <td>772</td>\n",
       "      <td>Germany</td>\n",
       "      <td>Male</td>\n",
       "      <td>42</td>\n",
       "      <td>3</td>\n",
       "      <td>75075.31</td>\n",
       "      <td>2</td>\n",
       "      <td>yes</td>\n",
       "      <td>no</td>\n",
       "      <td>92888.52</td>\n",
       "      <td>yes</td>\n",
       "      <td>very good</td>\n",
       "      <td>40</td>\n",
       "      <td>1440</td>\n",
       "      <td>96681.211</td>\n",
       "      <td>76785.312</td>\n",
       "      <td>5.0</td>\n",
       "      <td>1896.075</td>\n",
       "      <td>97667.196</td>\n",
       "      <td>77668.060</td>\n",
       "      <td>37.0</td>\n",
       "      <td>1103.905</td>\n",
       "      <td>100452.013</td>\n",
       "      <td>51879.146</td>\n",
       "      <td>5.0</td>\n",
       "      <td>36.0</td>\n",
       "      <td>2424.889</td>\n",
       "      <td>99752.096</td>\n",
       "      <td>79162.343</td>\n",
       "      <td>5.0</td>\n",
       "      <td>37.0</td>\n",
       "      <td>1880.000</td>\n",
       "      <td>99664.577</td>\n",
       "      <td>77173.975</td>\n",
       "      <td>5.0</td>\n",
       "      <td>37.0</td>\n",
       "      <td>1850.467</td>\n",
       "      <td>101113.435</td>\n",
       "      <td>119730.116</td>\n",
       "      <td>5.0</td>\n",
       "      <td>38.0</td>\n",
       "      <td>1826.162</td>\n",
       "    </tr>\n",
       "    <tr>\n",
       "      <th>9999</th>\n",
       "      <td>10000</td>\n",
       "      <td>15628319</td>\n",
       "      <td>Walker</td>\n",
       "      <td>792</td>\n",
       "      <td>France</td>\n",
       "      <td>Female</td>\n",
       "      <td>28</td>\n",
       "      <td>4</td>\n",
       "      <td>130142.79</td>\n",
       "      <td>1</td>\n",
       "      <td>yes</td>\n",
       "      <td>no</td>\n",
       "      <td>38190.78</td>\n",
       "      <td>no</td>\n",
       "      <td>very good</td>\n",
       "      <td>20</td>\n",
       "      <td>960</td>\n",
       "      <td>96339.007</td>\n",
       "      <td>73159.737</td>\n",
       "      <td>5.0</td>\n",
       "      <td>1966.593</td>\n",
       "      <td>99867.778</td>\n",
       "      <td>74059.394</td>\n",
       "      <td>37.0</td>\n",
       "      <td>1456.016</td>\n",
       "      <td>99487.257</td>\n",
       "      <td>98551.871</td>\n",
       "      <td>5.0</td>\n",
       "      <td>38.0</td>\n",
       "      <td>1193.910</td>\n",
       "      <td>99752.096</td>\n",
       "      <td>79162.343</td>\n",
       "      <td>5.0</td>\n",
       "      <td>37.0</td>\n",
       "      <td>1880.000</td>\n",
       "      <td>100601.541</td>\n",
       "      <td>75659.369</td>\n",
       "      <td>5.0</td>\n",
       "      <td>38.0</td>\n",
       "      <td>1841.444</td>\n",
       "      <td>99899.181</td>\n",
       "      <td>62092.637</td>\n",
       "      <td>5.0</td>\n",
       "      <td>37.0</td>\n",
       "      <td>1847.100</td>\n",
       "    </tr>\n",
       "  </tbody>\n",
       "</table>\n",
       "<p>10000 rows × 45 columns</p>\n",
       "</div>"
      ],
      "text/plain": [
       "      numero_linha  id_cliente    sobrenome  score_credito geografia  genero  idade  tempo_permanencia      saldo  numero_de_contas tem_cartao_credito membro_ativo  salario_estimado Churn escala_fico  ticket_medio  LTV_medio  salario_por_idade  saldo_por_idade  tempo_permanencia_por_idade  LTV_por_idade  salario_por_tempo_permanencia  saldo_por_tempo_permanencia  idade_por_tempo_permanencia  LTV_por_tempo_permanencia  salario_por_numero_de_contas  saldo_por_numero_de_contas  tempo_permanencia_por_numero_de_contas  idade_por_numero_de_contas  LTV_por_numero_de_contas  salario_por_escala_fico  saldo_por_escala_fico  tempo_permanencia_por_escala_fico  idade_por_escala_fico  LTV_por_escala_fico  salario_por_genero  saldo_por_genero  tempo_permanencia_por_genero  idade_por_genero  LTV_por_genero  salario_por_geografia  saldo_por_geografia  tempo_permanencia_por_geografia  idade_por_geografia  LTV_por_geografia\n",
       "0                1    15634602     Hargrave            619    France  Female     42                  2       0.00                 1                yes          yes         101348.88   yes         bad            20        480          96681.211        76785.312                          5.0       1896.075                      98312.360                    76839.626                         37.0                    763.053                     99487.257                   98551.871                                     5.0                        38.0                  1193.910                99406.522              76919.460                                5.0                   37.0             1883.182          100601.541         75659.369                           5.0              38.0        1841.444              99899.181            62092.637                              5.0                 37.0           1847.100\n",
       "1                2    15647311         Hill            608     Spain  Female     41                  1   83807.86                 1                 no          yes         112542.58    no         bad            20        240         106768.127        75742.975                          5.0       1872.787                     100468.619                    78555.384                         38.0                    357.565                     99487.257                   98551.871                                     5.0                        38.0                  1193.910                99406.522              76919.460                                5.0                   37.0             1883.182          100601.541         75659.369                           5.0              38.0        1841.444              99440.572            61818.148                              5.0                 37.0           1865.353\n",
       "2                3    15619304         Onio            502    France  Female     42                  8  159660.80                 3                yes           no         113931.57   yes     too bad            60       5760          96681.211        76785.312                          5.0       1896.075                     101072.103                    77936.598                         37.0                   2924.020                    104318.131                   75458.328                                     5.0                        42.0                  3602.707               100715.360              75900.472                                5.0                   37.0             1816.257          100601.541         75659.369                           5.0              38.0        1841.444              99899.181            62092.637                              5.0                 37.0           1847.100\n",
       "3                4    15701354         Boni            699    France  Female     39                  1       0.00                 2                 no           no          93826.63    no        good            40        480          95225.690        74285.289                          5.0       1914.326                     100468.619                    78555.384                         38.0                    357.565                    100452.013                   51879.146                                     5.0                        36.0                  2424.889               100523.541              74978.995                                5.0                   37.0             1816.507          100601.541         75659.369                           5.0              38.0        1841.444              99899.181            62092.637                              5.0                 37.0           1847.100\n",
       "4                5    15737888     Mitchell            850     Spain  Female     43                  2  125510.82                 1                yes          yes          79084.10    no   excellent            20        480          98148.691        81636.038                          5.0       1850.505                      98312.360                    76839.626                         37.0                    763.053                     99487.257                   98551.871                                     5.0                        38.0                  1193.910               100338.736              76976.408                                5.0                   37.0             1815.573          100601.541         75659.369                           5.0              38.0        1841.444              99440.572            61818.148                              5.0                 37.0           1865.353\n",
       "5                6    15574012          Chu            645     Spain    Male     44                  8  113755.78                 2                yes           no         149756.71   yes         bad            40       3840          98190.766        78244.492                          5.0       1888.249                     101072.103                    77936.598                         37.0                   2924.020                    100452.013                   51879.146                                     5.0                        36.0                  2424.889                99406.522              76919.460                                5.0                   37.0             1883.182           99664.577         77173.975                           5.0              37.0        1850.467              99440.572            61818.148                              5.0                 37.0           1865.353\n",
       "6                7    15592531     Bartlett            822    France    Male     50                  7       0.00                 2                yes          yes          10062.80    no   excellent            40       3360          95349.181        84924.807                          5.0       1903.881                     101257.240                    75551.634                         37.0                   2570.661                    100452.013                   51879.146                                     5.0                        36.0                  2424.889               100338.736              76976.408                                5.0                   37.0             1815.573           99664.577         77173.975                           5.0              37.0        1850.467              99899.181            62092.637                              5.0                 37.0           1847.100\n",
       "7                8    15656148       Obinna            376   Germany  Female     29                  4  115046.74                 4                yes           no         119346.88   yes     too bad            80       3840         101159.596        68990.370                          5.0       1935.172                      99867.778                    74059.394                         37.0                   1456.016                    104763.723                   93733.135                                     5.0                        45.0                  5088.000               100715.360              75900.472                                5.0                   37.0             1816.257          100601.541         75659.369                           5.0              38.0        1841.444             101113.435           119730.116                              5.0                 38.0           1826.162\n",
       "8                9    15792365           He            501    France    Male     44                  4  142051.07                 2                 no          yes          74940.50    no     too bad            40       1920          98190.766        78244.492                          5.0       1888.249                      99867.778                    74059.394                         37.0                   1456.016                    100452.013                   51879.146                                     5.0                        36.0                  2424.889               100715.360              75900.472                                5.0                   37.0             1816.257           99664.577         77173.975                           5.0              37.0        1850.467              99899.181            62092.637                              5.0                 37.0           1847.100\n",
       "...            ...         ...          ...            ...       ...     ...    ...                ...        ...               ...                ...          ...               ...   ...         ...           ...        ...                ...              ...                          ...            ...                            ...                          ...                          ...                        ...                           ...                         ...                                     ...                         ...                       ...                      ...                    ...                                ...                    ...                  ...                 ...               ...                           ...               ...             ...                    ...                  ...                              ...                  ...                ...\n",
       "9991          9992    15769959  Ajuluchukwu            597    France  Female     53                  4   88381.21                 1                yes           no          69384.71   yes         bad            20        960          96692.908        87894.038                          5.0       1641.081                      99867.778                    74059.394                         37.0                   1456.016                     99487.257                   98551.871                                     5.0                        38.0                  1193.910                99406.522              76919.460                                5.0                   37.0             1883.182          100601.541         75659.369                           5.0              38.0        1841.444              99899.181            62092.637                              5.0                 37.0           1847.100\n",
       "9992          9993    15657105  Chukwualuka            726     Spain    Male     36                  2       0.00                 1                yes           no         195192.40    no        good            20        480          98312.476        72727.088                          5.0       1778.421                      98312.360                    76839.626                         37.0                    763.053                     99487.257                   98551.871                                     5.0                        38.0                  1193.910               100523.541              74978.995                                5.0                   37.0             1816.507           99664.577         77173.975                           5.0              37.0        1850.467              99440.572            61818.148                              5.0                 37.0           1865.353\n",
       "9993          9994    15569266       Rahman            644    France    Male     28                  7  155060.41                 1                yes           no          29179.52    no         bad            20       1680          96339.007        73159.737                          5.0       1966.593                     101257.240                    75551.634                         37.0                   2570.661                     99487.257                   98551.871                                     5.0                        38.0                  1193.910                99406.522              76919.460                                5.0                   37.0             1883.182           99664.577         77173.975                           5.0              37.0        1850.467              99899.181            62092.637                              5.0                 37.0           1847.100\n",
       "9994          9995    15719294         Wood            800    France  Female     29                  2       0.00                 2                 no           no         167773.55    no   excellent            40        960         101159.596        68990.370                          5.0       1935.172                      98312.360                    76839.626                         37.0                    763.053                    100452.013                   51879.146                                     5.0                        36.0                  2424.889               100338.736              76976.408                                5.0                   37.0             1815.573          100601.541         75659.369                           5.0              38.0        1841.444              99899.181            62092.637                              5.0                 37.0           1847.100\n",
       "9995          9996    15606229     Obijiaku            771    France    Male     39                  5       0.00                 2                yes           no          96270.64    no   very good            40       2400          95225.690        74285.289                          5.0       1914.326                     101286.010                    76444.281                         38.0                   1865.217                    100452.013                   51879.146                                     5.0                        36.0                  2424.889                99752.096              79162.343                                5.0                   37.0             1880.000           99664.577         77173.975                           5.0              37.0        1850.467              99899.181            62092.637                              5.0                 37.0           1847.100\n",
       "9996          9997    15569892    Johnstone            516    France    Male     35                 10   57369.61                 1                yes          yes         101699.77    no     too bad            20       2400          97042.141        77410.407                          5.0       1822.278                     102805.909                    73927.504                         38.0                   3742.041                     99487.257                   98551.871                                     5.0                        38.0                  1193.910               100715.360              75900.472                                5.0                   37.0             1816.257           99664.577         77173.975                           5.0              37.0        1850.467              99899.181            62092.637                              5.0                 37.0           1847.100\n",
       "9997          9998    15584532          Liu            709    France  Female     36                  7       0.00                 1                 no          yes          42085.58   yes        good            20       1680          98312.476        72727.088                          5.0       1778.421                     101257.240                    75551.634                         37.0                   2570.661                     99487.257                   98551.871                                     5.0                        38.0                  1193.910               100523.541              74978.995                                5.0                   37.0             1816.507          100601.541         75659.369                           5.0              38.0        1841.444              99899.181            62092.637                              5.0                 37.0           1847.100\n",
       "9998          9999    15682355    Sabbatini            772   Germany    Male     42                  3   75075.31                 2                yes           no          92888.52   yes   very good            40       1440          96681.211        76785.312                          5.0       1896.075                      97667.196                    77668.060                         37.0                   1103.905                    100452.013                   51879.146                                     5.0                        36.0                  2424.889                99752.096              79162.343                                5.0                   37.0             1880.000           99664.577         77173.975                           5.0              37.0        1850.467             101113.435           119730.116                              5.0                 38.0           1826.162\n",
       "9999         10000    15628319       Walker            792    France  Female     28                  4  130142.79                 1                yes           no          38190.78    no   very good            20        960          96339.007        73159.737                          5.0       1966.593                      99867.778                    74059.394                         37.0                   1456.016                     99487.257                   98551.871                                     5.0                        38.0                  1193.910                99752.096              79162.343                                5.0                   37.0             1880.000          100601.541         75659.369                           5.0              38.0        1841.444              99899.181            62092.637                              5.0                 37.0           1847.100\n",
       "\n",
       "[10000 rows x 45 columns]"
      ]
     },
     "execution_count": 51,
     "metadata": {},
     "output_type": "execute_result"
    }
   ],
   "source": [
    "df3"
   ]
  },
  {
   "cell_type": "markdown",
   "id": "e18139d9",
   "metadata": {},
   "source": [
    "## Note:\n",
    "Próxima versão:\n",
    "\t\n",
    "- Criar função para criação de features mais otimizada."
   ]
  },
  {
   "cell_type": "markdown",
   "id": "550eb3e8",
   "metadata": {},
   "source": [
    "# Exploratory Data Analysis"
   ]
  },
  {
   "cell_type": "code",
   "execution_count": 52,
   "id": "459921f8",
   "metadata": {
    "ExecuteTime": {
     "end_time": "2023-01-26T19:55:35.463474Z",
     "start_time": "2023-01-26T19:55:35.455975Z"
    },
    "hide_input": false
   },
   "outputs": [],
   "source": [
    "df4 = df3.copy()"
   ]
  },
  {
   "cell_type": "markdown",
   "id": "1c047e57",
   "metadata": {},
   "source": [
    "## Defining Variables for Analysis"
   ]
  },
  {
   "cell_type": "code",
   "execution_count": 53,
   "id": "37b78831",
   "metadata": {
    "ExecuteTime": {
     "end_time": "2023-01-26T19:55:35.470542Z",
     "start_time": "2023-01-26T19:55:35.465443Z"
    }
   },
   "outputs": [],
   "source": [
    "#Response Variable\n",
    "response_variable = df4['Churn']\n",
    "\n",
    "#Numeric Variables\n",
    "numeric_attributes = df4.select_dtypes(include= ['int64', 'float64'])\n",
    "\n",
    "#Categorical Variables\n",
    "categorical_attributes = df4.select_dtypes(exclude= ['int64', 'float64'])"
   ]
  },
  {
   "cell_type": "markdown",
   "id": "c15d6b1e",
   "metadata": {},
   "source": [
    "## Univariate Analysis"
   ]
  },
  {
   "cell_type": "markdown",
   "id": "8f2e136d",
   "metadata": {},
   "source": [
    "### Response Variable"
   ]
  },
  {
   "cell_type": "code",
   "execution_count": 54,
   "id": "ffe55c2a",
   "metadata": {
    "ExecuteTime": {
     "end_time": "2023-01-26T19:55:35.588329Z",
     "start_time": "2023-01-26T19:55:35.472234Z"
    },
    "hide_input": false
   },
   "outputs": [
    {
     "data": {
      "image/png": "[encoded data removed]",
      "text/plain": [
       "<Figure size 1600x400 with 1 Axes>"
      ]
     },
     "metadata": {},
     "output_type": "display_data"
    }
   ],
   "source": [
    "sns.countplot(x= response_variable);"
   ]
  },
  {
   "cell_type": "code",
   "execution_count": 55,
   "id": "40d8f198",
   "metadata": {
    "ExecuteTime": {
     "end_time": "2023-01-26T19:55:35.601827Z",
     "start_time": "2023-01-26T19:55:35.590418Z"
    },
    "hide_input": true
   },
   "outputs": [
    {
     "name": "stdout",
     "output_type": "stream",
     "text": [
      "Clientes que irão dar Churn correspondem a 20.37%  da base de dados e clientes que não irão dar Churn correspondem a 79.63% da base de dados.\n"
     ]
    }
   ],
   "source": [
    "percentage_no_churn = df4[['id_cliente', 'Churn']].loc[df4['Churn'] == 'no'].shape[0] / df4.shape[0] * 100\n",
    "percentage_yes_churn = df4[['id_cliente', 'Churn']].loc[df4['Churn'] == 'yes'].shape[0] / df4.shape[0] * 100\n",
    "print(f'Clientes que irão dar Churn correspondem a {percentage_yes_churn:.2f}%  da base de dados e clientes que não irão dar Churn correspondem a {percentage_no_churn:.2f}% da base de dados.')"
   ]
  },
  {
   "cell_type": "markdown",
   "id": "b633b307",
   "metadata": {},
   "source": [
    "- É evidente que a variável resposta possui classes desbalanceadas"
   ]
  },
  {
   "cell_type": "markdown",
   "id": "79615890",
   "metadata": {},
   "source": [
    "### Numeric Variables"
   ]
  },
  {
   "cell_type": "code",
   "execution_count": 56,
   "id": "1dc7ff96",
   "metadata": {
    "ExecuteTime": {
     "end_time": "2023-01-26T19:55:35.649238Z",
     "start_time": "2023-01-26T19:55:35.603804Z"
    },
    "hide_input": true
   },
   "outputs": [],
   "source": [
    "pd.options.display.max_rows = numeric_descriptive_statistical(numeric_attributes).shape[0]"
   ]
  },
  {
   "cell_type": "code",
   "execution_count": 57,
   "id": "d8b2c12c",
   "metadata": {
    "ExecuteTime": {
     "end_time": "2023-01-26T19:55:35.707036Z",
     "start_time": "2023-01-26T19:55:35.651572Z"
    },
    "hide_input": false
   },
   "outputs": [
    {
     "data": {
      "text/html": [
       "<div>\n",
       "<style scoped>\n",
       "    .dataframe tbody tr th:only-of-type {\n",
       "        vertical-align: middle;\n",
       "    }\n",
       "\n",
       "    .dataframe tbody tr th {\n",
       "        vertical-align: top;\n",
       "    }\n",
       "\n",
       "    .dataframe thead th {\n",
       "        text-align: right;\n",
       "    }\n",
       "</style>\n",
       "<table border=\"1\" class=\"dataframe\">\n",
       "  <thead>\n",
       "    <tr style=\"text-align: right;\">\n",
       "      <th></th>\n",
       "      <th>Variáveis</th>\n",
       "      <th>Mínimo</th>\n",
       "      <th>Máximo</th>\n",
       "      <th>Range</th>\n",
       "      <th>Valores Únicos</th>\n",
       "      <th>Média</th>\n",
       "      <th>Mediana</th>\n",
       "      <th>Desv. Padrão</th>\n",
       "      <th>Assimetria</th>\n",
       "      <th>Curtose</th>\n",
       "    </tr>\n",
       "  </thead>\n",
       "  <tbody>\n",
       "    <tr>\n",
       "      <th>0</th>\n",
       "      <td>numero_linha</td>\n",
       "      <td>1.000000e+00</td>\n",
       "      <td>1.000000e+04</td>\n",
       "      <td>9999.000</td>\n",
       "      <td>10000.0</td>\n",
       "      <td>5.000500e+03</td>\n",
       "      <td>5.000500e+03</td>\n",
       "      <td>2886.751332</td>\n",
       "      <td>0.000000</td>\n",
       "      <td>-1.200000</td>\n",
       "    </tr>\n",
       "    <tr>\n",
       "      <th>1</th>\n",
       "      <td>id_cliente</td>\n",
       "      <td>1.556570e+07</td>\n",
       "      <td>1.581569e+07</td>\n",
       "      <td>249989.000</td>\n",
       "      <td>10000.0</td>\n",
       "      <td>1.569094e+07</td>\n",
       "      <td>1.569074e+07</td>\n",
       "      <td>71932.589224</td>\n",
       "      <td>0.001149</td>\n",
       "      <td>-1.196113</td>\n",
       "    </tr>\n",
       "    <tr>\n",
       "      <th>2</th>\n",
       "      <td>score_credito</td>\n",
       "      <td>3.500000e+02</td>\n",
       "      <td>8.500000e+02</td>\n",
       "      <td>500.000</td>\n",
       "      <td>460.0</td>\n",
       "      <td>6.505288e+02</td>\n",
       "      <td>6.520000e+02</td>\n",
       "      <td>96.648466</td>\n",
       "      <td>-0.071607</td>\n",
       "      <td>-0.425726</td>\n",
       "    </tr>\n",
       "    <tr>\n",
       "      <th>3</th>\n",
       "      <td>idade</td>\n",
       "      <td>1.800000e+01</td>\n",
       "      <td>9.200000e+01</td>\n",
       "      <td>74.000</td>\n",
       "      <td>70.0</td>\n",
       "      <td>3.892180e+01</td>\n",
       "      <td>3.700000e+01</td>\n",
       "      <td>10.487282</td>\n",
       "      <td>1.011320</td>\n",
       "      <td>1.395347</td>\n",
       "    </tr>\n",
       "    <tr>\n",
       "      <th>4</th>\n",
       "      <td>tempo_permanencia</td>\n",
       "      <td>0.000000e+00</td>\n",
       "      <td>1.000000e+01</td>\n",
       "      <td>10.000</td>\n",
       "      <td>11.0</td>\n",
       "      <td>5.012800e+00</td>\n",
       "      <td>5.000000e+00</td>\n",
       "      <td>2.892030</td>\n",
       "      <td>0.010991</td>\n",
       "      <td>-1.165225</td>\n",
       "    </tr>\n",
       "    <tr>\n",
       "      <th>5</th>\n",
       "      <td>saldo</td>\n",
       "      <td>0.000000e+00</td>\n",
       "      <td>2.508981e+05</td>\n",
       "      <td>250898.090</td>\n",
       "      <td>6382.0</td>\n",
       "      <td>7.648589e+04</td>\n",
       "      <td>9.719854e+04</td>\n",
       "      <td>62394.285254</td>\n",
       "      <td>-0.141109</td>\n",
       "      <td>-1.489412</td>\n",
       "    </tr>\n",
       "    <tr>\n",
       "      <th>6</th>\n",
       "      <td>numero_de_contas</td>\n",
       "      <td>1.000000e+00</td>\n",
       "      <td>4.000000e+00</td>\n",
       "      <td>3.000</td>\n",
       "      <td>4.0</td>\n",
       "      <td>1.530200e+00</td>\n",
       "      <td>1.000000e+00</td>\n",
       "      <td>0.581625</td>\n",
       "      <td>0.745568</td>\n",
       "      <td>0.582981</td>\n",
       "    </tr>\n",
       "    <tr>\n",
       "      <th>7</th>\n",
       "      <td>salario_estimado</td>\n",
       "      <td>1.158000e+01</td>\n",
       "      <td>1.999925e+05</td>\n",
       "      <td>199980.900</td>\n",
       "      <td>9999.0</td>\n",
       "      <td>1.000902e+05</td>\n",
       "      <td>1.001939e+05</td>\n",
       "      <td>57507.617221</td>\n",
       "      <td>0.002085</td>\n",
       "      <td>-1.181518</td>\n",
       "    </tr>\n",
       "    <tr>\n",
       "      <th>8</th>\n",
       "      <td>ticket_medio</td>\n",
       "      <td>2.000000e+01</td>\n",
       "      <td>8.000000e+01</td>\n",
       "      <td>60.000</td>\n",
       "      <td>4.0</td>\n",
       "      <td>3.060400e+01</td>\n",
       "      <td>2.000000e+01</td>\n",
       "      <td>11.632505</td>\n",
       "      <td>0.745568</td>\n",
       "      <td>0.582981</td>\n",
       "    </tr>\n",
       "    <tr>\n",
       "      <th>9</th>\n",
       "      <td>LTV_medio</td>\n",
       "      <td>0.000000e+00</td>\n",
       "      <td>9.600000e+03</td>\n",
       "      <td>9600.000</td>\n",
       "      <td>25.0</td>\n",
       "      <td>1.846368e+03</td>\n",
       "      <td>1.680000e+03</td>\n",
       "      <td>1339.575727</td>\n",
       "      <td>1.014525</td>\n",
       "      <td>1.272033</td>\n",
       "    </tr>\n",
       "    <tr>\n",
       "      <th>10</th>\n",
       "      <td>salario_por_idade</td>\n",
       "      <td>5.295224e+04</td>\n",
       "      <td>1.873602e+05</td>\n",
       "      <td>134408.010</td>\n",
       "      <td>70.0</td>\n",
       "      <td>1.000902e+05</td>\n",
       "      <td>9.918752e+04</td>\n",
       "      <td>5472.286153</td>\n",
       "      <td>1.278763</td>\n",
       "      <td>24.781284</td>\n",
       "    </tr>\n",
       "    <tr>\n",
       "      <th>11</th>\n",
       "      <td>saldo_por_idade</td>\n",
       "      <td>0.000000e+00</td>\n",
       "      <td>1.237948e+05</td>\n",
       "      <td>123794.775</td>\n",
       "      <td>67.0</td>\n",
       "      <td>7.648589e+04</td>\n",
       "      <td>7.603889e+04</td>\n",
       "      <td>5670.124835</td>\n",
       "      <td>-1.174445</td>\n",
       "      <td>25.710166</td>\n",
       "    </tr>\n",
       "    <tr>\n",
       "      <th>12</th>\n",
       "      <td>tempo_permanencia_por_idade</td>\n",
       "      <td>2.000000e+00</td>\n",
       "      <td>1.000000e+01</td>\n",
       "      <td>8.000</td>\n",
       "      <td>10.0</td>\n",
       "      <td>4.990200e+00</td>\n",
       "      <td>5.000000e+00</td>\n",
       "      <td>0.314013</td>\n",
       "      <td>-0.087218</td>\n",
       "      <td>28.802571</td>\n",
       "    </tr>\n",
       "    <tr>\n",
       "      <th>13</th>\n",
       "      <td>LTV_por_idade</td>\n",
       "      <td>6.000000e+02</td>\n",
       "      <td>4.800000e+03</td>\n",
       "      <td>4200.000</td>\n",
       "      <td>66.0</td>\n",
       "      <td>1.846368e+03</td>\n",
       "      <td>1.856147e+03</td>\n",
       "      <td>119.550802</td>\n",
       "      <td>2.376336</td>\n",
       "      <td>78.994362</td>\n",
       "    </tr>\n",
       "    <tr>\n",
       "      <th>14</th>\n",
       "      <td>salario_por_tempo_permanencia</td>\n",
       "      <td>9.766720e+04</td>\n",
       "      <td>1.028059e+05</td>\n",
       "      <td>5138.713</td>\n",
       "      <td>11.0</td>\n",
       "      <td>1.000902e+05</td>\n",
       "      <td>1.004686e+05</td>\n",
       "      <td>1424.964202</td>\n",
       "      <td>-0.075515</td>\n",
       "      <td>-0.841231</td>\n",
       "    </tr>\n",
       "    <tr>\n",
       "      <th>15</th>\n",
       "      <td>saldo_por_tempo_permanencia</td>\n",
       "      <td>7.392750e+04</td>\n",
       "      <td>7.987891e+04</td>\n",
       "      <td>5951.407</td>\n",
       "      <td>11.0</td>\n",
       "      <td>7.648589e+04</td>\n",
       "      <td>7.656254e+04</td>\n",
       "      <td>1643.545402</td>\n",
       "      <td>-0.039430</td>\n",
       "      <td>-0.882728</td>\n",
       "    </tr>\n",
       "    <tr>\n",
       "      <th>16</th>\n",
       "      <td>idade_por_tempo_permanencia</td>\n",
       "      <td>3.700000e+01</td>\n",
       "      <td>3.800000e+01</td>\n",
       "      <td>1.000</td>\n",
       "      <td>3.0</td>\n",
       "      <td>3.734420e+01</td>\n",
       "      <td>3.700000e+01</td>\n",
       "      <td>0.448471</td>\n",
       "      <td>0.652412</td>\n",
       "      <td>-1.439339</td>\n",
       "    </tr>\n",
       "    <tr>\n",
       "      <th>17</th>\n",
       "      <td>LTV_por_tempo_permanencia</td>\n",
       "      <td>0.000000e+00</td>\n",
       "      <td>3.742041e+03</td>\n",
       "      <td>3742.041</td>\n",
       "      <td>11.0</td>\n",
       "      <td>1.846368e+03</td>\n",
       "      <td>1.865217e+03</td>\n",
       "      <td>1066.300412</td>\n",
       "      <td>0.029634</td>\n",
       "      <td>-1.123013</td>\n",
       "    </tr>\n",
       "    <tr>\n",
       "      <th>18</th>\n",
       "      <td>salario_por_numero_de_contas</td>\n",
       "      <td>9.948726e+04</td>\n",
       "      <td>1.047637e+05</td>\n",
       "      <td>5276.466</td>\n",
       "      <td>4.0</td>\n",
       "      <td>1.000902e+05</td>\n",
       "      <td>9.948726e+04</td>\n",
       "      <td>922.739126</td>\n",
       "      <td>3.224495</td>\n",
       "      <td>12.782333</td>\n",
       "    </tr>\n",
       "    <tr>\n",
       "      <th>19</th>\n",
       "      <td>saldo_por_numero_de_contas</td>\n",
       "      <td>5.187915e+04</td>\n",
       "      <td>9.855187e+04</td>\n",
       "      <td>46672.725</td>\n",
       "      <td>4.0</td>\n",
       "      <td>7.648589e+04</td>\n",
       "      <td>9.855187e+04</td>\n",
       "      <td>22962.522345</td>\n",
       "      <td>-0.111159</td>\n",
       "      <td>-1.959667</td>\n",
       "    </tr>\n",
       "    <tr>\n",
       "      <th>20</th>\n",
       "      <td>tempo_permanencia_por_numero_de_contas</td>\n",
       "      <td>5.000000e+00</td>\n",
       "      <td>5.000000e+00</td>\n",
       "      <td>0.000</td>\n",
       "      <td>1.0</td>\n",
       "      <td>5.000000e+00</td>\n",
       "      <td>5.000000e+00</td>\n",
       "      <td>0.000000</td>\n",
       "      <td>0.000000</td>\n",
       "      <td>0.000000</td>\n",
       "    </tr>\n",
       "    <tr>\n",
       "      <th>21</th>\n",
       "      <td>idade_por_numero_de_contas</td>\n",
       "      <td>3.600000e+01</td>\n",
       "      <td>4.500000e+01</td>\n",
       "      <td>9.000</td>\n",
       "      <td>4.0</td>\n",
       "      <td>3.723040e+01</td>\n",
       "      <td>3.800000e+01</td>\n",
       "      <td>1.401184</td>\n",
       "      <td>1.845856</td>\n",
       "      <td>6.566766</td>\n",
       "    </tr>\n",
       "    <tr>\n",
       "      <th>22</th>\n",
       "      <td>LTV_por_numero_de_contas</td>\n",
       "      <td>1.193910e+03</td>\n",
       "      <td>5.088000e+03</td>\n",
       "      <td>3894.090</td>\n",
       "      <td>4.0</td>\n",
       "      <td>1.846368e+03</td>\n",
       "      <td>1.193910e+03</td>\n",
       "      <td>717.739881</td>\n",
       "      <td>0.801107</td>\n",
       "      <td>0.992324</td>\n",
       "    </tr>\n",
       "    <tr>\n",
       "      <th>23</th>\n",
       "      <td>salario_por_escala_fico</td>\n",
       "      <td>9.940652e+04</td>\n",
       "      <td>1.007154e+05</td>\n",
       "      <td>1308.838</td>\n",
       "      <td>5.0</td>\n",
       "      <td>1.000902e+05</td>\n",
       "      <td>1.003387e+05</td>\n",
       "      <td>558.248227</td>\n",
       "      <td>-0.188222</td>\n",
       "      <td>-1.772225</td>\n",
       "    </tr>\n",
       "    <tr>\n",
       "      <th>24</th>\n",
       "      <td>saldo_por_escala_fico</td>\n",
       "      <td>7.497899e+04</td>\n",
       "      <td>7.916234e+04</td>\n",
       "      <td>4183.348</td>\n",
       "      <td>5.0</td>\n",
       "      <td>7.648589e+04</td>\n",
       "      <td>7.691946e+04</td>\n",
       "      <td>1259.944499</td>\n",
       "      <td>0.751774</td>\n",
       "      <td>0.006962</td>\n",
       "    </tr>\n",
       "    <tr>\n",
       "      <th>25</th>\n",
       "      <td>tempo_permanencia_por_escala_fico</td>\n",
       "      <td>5.000000e+00</td>\n",
       "      <td>5.000000e+00</td>\n",
       "      <td>0.000</td>\n",
       "      <td>1.0</td>\n",
       "      <td>5.000000e+00</td>\n",
       "      <td>5.000000e+00</td>\n",
       "      <td>0.000000</td>\n",
       "      <td>0.000000</td>\n",
       "      <td>0.000000</td>\n",
       "    </tr>\n",
       "    <tr>\n",
       "      <th>26</th>\n",
       "      <td>idade_por_escala_fico</td>\n",
       "      <td>3.700000e+01</td>\n",
       "      <td>3.700000e+01</td>\n",
       "      <td>0.000</td>\n",
       "      <td>1.0</td>\n",
       "      <td>3.700000e+01</td>\n",
       "      <td>3.700000e+01</td>\n",
       "      <td>0.000000</td>\n",
       "      <td>0.000000</td>\n",
       "      <td>0.000000</td>\n",
       "    </tr>\n",
       "    <tr>\n",
       "      <th>27</th>\n",
       "      <td>LTV_por_escala_fico</td>\n",
       "      <td>1.815573e+03</td>\n",
       "      <td>1.883182e+03</td>\n",
       "      <td>67.609</td>\n",
       "      <td>5.0</td>\n",
       "      <td>1.846368e+03</td>\n",
       "      <td>1.816507e+03</td>\n",
       "      <td>32.903802</td>\n",
       "      <td>0.181092</td>\n",
       "      <td>-1.964208</td>\n",
       "    </tr>\n",
       "    <tr>\n",
       "      <th>28</th>\n",
       "      <td>salario_por_genero</td>\n",
       "      <td>9.966458e+04</td>\n",
       "      <td>1.006015e+05</td>\n",
       "      <td>936.964</td>\n",
       "      <td>2.0</td>\n",
       "      <td>1.000902e+05</td>\n",
       "      <td>9.966458e+04</td>\n",
       "      <td>466.521056</td>\n",
       "      <td>0.183596</td>\n",
       "      <td>-1.966686</td>\n",
       "    </tr>\n",
       "    <tr>\n",
       "      <th>29</th>\n",
       "      <td>saldo_por_genero</td>\n",
       "      <td>7.565937e+04</td>\n",
       "      <td>7.717398e+04</td>\n",
       "      <td>1514.606</td>\n",
       "      <td>2.0</td>\n",
       "      <td>7.648589e+04</td>\n",
       "      <td>7.717398e+04</td>\n",
       "      <td>754.133126</td>\n",
       "      <td>-0.183596</td>\n",
       "      <td>-1.966686</td>\n",
       "    </tr>\n",
       "    <tr>\n",
       "      <th>30</th>\n",
       "      <td>tempo_permanencia_por_genero</td>\n",
       "      <td>5.000000e+00</td>\n",
       "      <td>5.000000e+00</td>\n",
       "      <td>0.000</td>\n",
       "      <td>1.0</td>\n",
       "      <td>5.000000e+00</td>\n",
       "      <td>5.000000e+00</td>\n",
       "      <td>0.000000</td>\n",
       "      <td>0.000000</td>\n",
       "      <td>0.000000</td>\n",
       "    </tr>\n",
       "    <tr>\n",
       "      <th>31</th>\n",
       "      <td>idade_por_genero</td>\n",
       "      <td>3.700000e+01</td>\n",
       "      <td>3.800000e+01</td>\n",
       "      <td>1.000</td>\n",
       "      <td>2.0</td>\n",
       "      <td>3.745430e+01</td>\n",
       "      <td>3.700000e+01</td>\n",
       "      <td>0.497907</td>\n",
       "      <td>0.183596</td>\n",
       "      <td>-1.966686</td>\n",
       "    </tr>\n",
       "    <tr>\n",
       "      <th>32</th>\n",
       "      <td>LTV_por_genero</td>\n",
       "      <td>1.841444e+03</td>\n",
       "      <td>1.850467e+03</td>\n",
       "      <td>9.023</td>\n",
       "      <td>2.0</td>\n",
       "      <td>1.846368e+03</td>\n",
       "      <td>1.850467e+03</td>\n",
       "      <td>4.492616</td>\n",
       "      <td>-0.183596</td>\n",
       "      <td>-1.966686</td>\n",
       "    </tr>\n",
       "    <tr>\n",
       "      <th>33</th>\n",
       "      <td>salario_por_geografia</td>\n",
       "      <td>9.944057e+04</td>\n",
       "      <td>1.011134e+05</td>\n",
       "      <td>1672.863</td>\n",
       "      <td>3.0</td>\n",
       "      <td>1.000902e+05</td>\n",
       "      <td>9.989918e+04</td>\n",
       "      <td>620.905374</td>\n",
       "      <td>0.824566</td>\n",
       "      <td>-0.848182</td>\n",
       "    </tr>\n",
       "    <tr>\n",
       "      <th>34</th>\n",
       "      <td>saldo_por_geografia</td>\n",
       "      <td>6.181815e+04</td>\n",
       "      <td>1.197301e+05</td>\n",
       "      <td>57911.968</td>\n",
       "      <td>3.0</td>\n",
       "      <td>7.648589e+04</td>\n",
       "      <td>6.209264e+04</td>\n",
       "      <td>25027.236385</td>\n",
       "      <td>1.149271</td>\n",
       "      <td>-0.679205</td>\n",
       "    </tr>\n",
       "    <tr>\n",
       "      <th>35</th>\n",
       "      <td>tempo_permanencia_por_geografia</td>\n",
       "      <td>5.000000e+00</td>\n",
       "      <td>5.000000e+00</td>\n",
       "      <td>0.000</td>\n",
       "      <td>1.0</td>\n",
       "      <td>5.000000e+00</td>\n",
       "      <td>5.000000e+00</td>\n",
       "      <td>0.000000</td>\n",
       "      <td>0.000000</td>\n",
       "      <td>0.000000</td>\n",
       "    </tr>\n",
       "    <tr>\n",
       "      <th>36</th>\n",
       "      <td>idade_por_geografia</td>\n",
       "      <td>3.700000e+01</td>\n",
       "      <td>3.800000e+01</td>\n",
       "      <td>1.000</td>\n",
       "      <td>2.0</td>\n",
       "      <td>3.725090e+01</td>\n",
       "      <td>3.700000e+01</td>\n",
       "      <td>0.433531</td>\n",
       "      <td>1.149340</td>\n",
       "      <td>-0.679153</td>\n",
       "    </tr>\n",
       "    <tr>\n",
       "      <th>37</th>\n",
       "      <td>LTV_por_geografia</td>\n",
       "      <td>1.826162e+03</td>\n",
       "      <td>1.865353e+03</td>\n",
       "      <td>39.191</td>\n",
       "      <td>3.0</td>\n",
       "      <td>1.846368e+03</td>\n",
       "      <td>1.847100e+03</td>\n",
       "      <td>13.855876</td>\n",
       "      <td>-0.140868</td>\n",
       "      <td>-0.992145</td>\n",
       "    </tr>\n",
       "  </tbody>\n",
       "</table>\n",
       "</div>"
      ],
      "text/plain": [
       "                                 Variáveis        Mínimo        Máximo       Range  Valores Únicos         Média       Mediana  Desv. Padrão  Assimetria    Curtose\n",
       "0                             numero_linha  1.000000e+00  1.000000e+04    9999.000         10000.0  5.000500e+03  5.000500e+03   2886.751332    0.000000  -1.200000\n",
       "1                               id_cliente  1.556570e+07  1.581569e+07  249989.000         10000.0  1.569094e+07  1.569074e+07  71932.589224    0.001149  -1.196113\n",
       "2                            score_credito  3.500000e+02  8.500000e+02     500.000           460.0  6.505288e+02  6.520000e+02     96.648466   -0.071607  -0.425726\n",
       "3                                    idade  1.800000e+01  9.200000e+01      74.000            70.0  3.892180e+01  3.700000e+01     10.487282    1.011320   1.395347\n",
       "4                        tempo_permanencia  0.000000e+00  1.000000e+01      10.000            11.0  5.012800e+00  5.000000e+00      2.892030    0.010991  -1.165225\n",
       "5                                    saldo  0.000000e+00  2.508981e+05  250898.090          6382.0  7.648589e+04  9.719854e+04  62394.285254   -0.141109  -1.489412\n",
       "6                         numero_de_contas  1.000000e+00  4.000000e+00       3.000             4.0  1.530200e+00  1.000000e+00      0.581625    0.745568   0.582981\n",
       "7                         salario_estimado  1.158000e+01  1.999925e+05  199980.900          9999.0  1.000902e+05  1.001939e+05  57507.617221    0.002085  -1.181518\n",
       "8                             ticket_medio  2.000000e+01  8.000000e+01      60.000             4.0  3.060400e+01  2.000000e+01     11.632505    0.745568   0.582981\n",
       "9                                LTV_medio  0.000000e+00  9.600000e+03    9600.000            25.0  1.846368e+03  1.680000e+03   1339.575727    1.014525   1.272033\n",
       "10                       salario_por_idade  5.295224e+04  1.873602e+05  134408.010            70.0  1.000902e+05  9.918752e+04   5472.286153    1.278763  24.781284\n",
       "11                         saldo_por_idade  0.000000e+00  1.237948e+05  123794.775            67.0  7.648589e+04  7.603889e+04   5670.124835   -1.174445  25.710166\n",
       "12             tempo_permanencia_por_idade  2.000000e+00  1.000000e+01       8.000            10.0  4.990200e+00  5.000000e+00      0.314013   -0.087218  28.802571\n",
       "13                           LTV_por_idade  6.000000e+02  4.800000e+03    4200.000            66.0  1.846368e+03  1.856147e+03    119.550802    2.376336  78.994362\n",
       "14           salario_por_tempo_permanencia  9.766720e+04  1.028059e+05    5138.713            11.0  1.000902e+05  1.004686e+05   1424.964202   -0.075515  -0.841231\n",
       "15             saldo_por_tempo_permanencia  7.392750e+04  7.987891e+04    5951.407            11.0  7.648589e+04  7.656254e+04   1643.545402   -0.039430  -0.882728\n",
       "16             idade_por_tempo_permanencia  3.700000e+01  3.800000e+01       1.000             3.0  3.734420e+01  3.700000e+01      0.448471    0.652412  -1.439339\n",
       "17               LTV_por_tempo_permanencia  0.000000e+00  3.742041e+03    3742.041            11.0  1.846368e+03  1.865217e+03   1066.300412    0.029634  -1.123013\n",
       "18            salario_por_numero_de_contas  9.948726e+04  1.047637e+05    5276.466             4.0  1.000902e+05  9.948726e+04    922.739126    3.224495  12.782333\n",
       "19              saldo_por_numero_de_contas  5.187915e+04  9.855187e+04   46672.725             4.0  7.648589e+04  9.855187e+04  22962.522345   -0.111159  -1.959667\n",
       "20  tempo_permanencia_por_numero_de_contas  5.000000e+00  5.000000e+00       0.000             1.0  5.000000e+00  5.000000e+00      0.000000    0.000000   0.000000\n",
       "21              idade_por_numero_de_contas  3.600000e+01  4.500000e+01       9.000             4.0  3.723040e+01  3.800000e+01      1.401184    1.845856   6.566766\n",
       "22                LTV_por_numero_de_contas  1.193910e+03  5.088000e+03    3894.090             4.0  1.846368e+03  1.193910e+03    717.739881    0.801107   0.992324\n",
       "23                 salario_por_escala_fico  9.940652e+04  1.007154e+05    1308.838             5.0  1.000902e+05  1.003387e+05    558.248227   -0.188222  -1.772225\n",
       "24                   saldo_por_escala_fico  7.497899e+04  7.916234e+04    4183.348             5.0  7.648589e+04  7.691946e+04   1259.944499    0.751774   0.006962\n",
       "25       tempo_permanencia_por_escala_fico  5.000000e+00  5.000000e+00       0.000             1.0  5.000000e+00  5.000000e+00      0.000000    0.000000   0.000000\n",
       "26                   idade_por_escala_fico  3.700000e+01  3.700000e+01       0.000             1.0  3.700000e+01  3.700000e+01      0.000000    0.000000   0.000000\n",
       "27                     LTV_por_escala_fico  1.815573e+03  1.883182e+03      67.609             5.0  1.846368e+03  1.816507e+03     32.903802    0.181092  -1.964208\n",
       "28                      salario_por_genero  9.966458e+04  1.006015e+05     936.964             2.0  1.000902e+05  9.966458e+04    466.521056    0.183596  -1.966686\n",
       "29                        saldo_por_genero  7.565937e+04  7.717398e+04    1514.606             2.0  7.648589e+04  7.717398e+04    754.133126   -0.183596  -1.966686\n",
       "30            tempo_permanencia_por_genero  5.000000e+00  5.000000e+00       0.000             1.0  5.000000e+00  5.000000e+00      0.000000    0.000000   0.000000\n",
       "31                        idade_por_genero  3.700000e+01  3.800000e+01       1.000             2.0  3.745430e+01  3.700000e+01      0.497907    0.183596  -1.966686\n",
       "32                          LTV_por_genero  1.841444e+03  1.850467e+03       9.023             2.0  1.846368e+03  1.850467e+03      4.492616   -0.183596  -1.966686\n",
       "33                   salario_por_geografia  9.944057e+04  1.011134e+05    1672.863             3.0  1.000902e+05  9.989918e+04    620.905374    0.824566  -0.848182\n",
       "34                     saldo_por_geografia  6.181815e+04  1.197301e+05   57911.968             3.0  7.648589e+04  6.209264e+04  25027.236385    1.149271  -0.679205\n",
       "35         tempo_permanencia_por_geografia  5.000000e+00  5.000000e+00       0.000             1.0  5.000000e+00  5.000000e+00      0.000000    0.000000   0.000000\n",
       "36                     idade_por_geografia  3.700000e+01  3.800000e+01       1.000             2.0  3.725090e+01  3.700000e+01      0.433531    1.149340  -0.679153\n",
       "37                       LTV_por_geografia  1.826162e+03  1.865353e+03      39.191             3.0  1.846368e+03  1.847100e+03     13.855876   -0.140868  -0.992145"
      ]
     },
     "execution_count": 57,
     "metadata": {},
     "output_type": "execute_result"
    }
   ],
   "source": [
    "numeric_descriptive_statistical(numeric_attributes)"
   ]
  },
  {
   "cell_type": "code",
   "execution_count": 58,
   "id": "9aa6c594",
   "metadata": {
    "ExecuteTime": {
     "end_time": "2023-01-26T19:55:35.711785Z",
     "start_time": "2023-01-26T19:55:35.708684Z"
    },
    "hide_input": true
   },
   "outputs": [],
   "source": [
    "pd.options.display.max_rows = False"
   ]
  },
  {
   "cell_type": "markdown",
   "id": "f8c64ffb",
   "metadata": {},
   "source": [
    "- **Muitos valores distintos**: *score_credito, idade, saldo, salário estimado, LTV_medio*.\n",
    "- **Poucos valores distintos**: *tempo_permanencia, numero_de_contas, ticket_medio*;\n",
    "\n",
    "- **Valores sem valores distintos**: *tempo_permanencia_por_numero_de_contas, tempo_permanencia_por_escala_fico, idade_por_escala_fico, tempo_permanencia_por_genero e tempo_permanencia_por_geografia* >>> <code style=\"color: red\">features bivariadas que serão excluidas por não trazerem informações, devido a ausência de variância em seus dados</code>\n",
    "\n",
    "**OBS**.: features bivariadas serão ignoradas na análise univariada dos dados."
   ]
  },
  {
   "cell_type": "markdown",
   "id": "4537e529",
   "metadata": {
    "hide_input": true
   },
   "source": [
    "#### *score_credito*"
   ]
  },
  {
   "cell_type": "code",
   "execution_count": 59,
   "id": "22775119",
   "metadata": {
    "ExecuteTime": {
     "end_time": "2023-01-26T19:55:35.927470Z",
     "start_time": "2023-01-26T19:55:35.714145Z"
    },
    "cell_style": "center",
    "hide_input": true
   },
   "outputs": [
    {
     "name": "stdout",
     "output_type": "stream",
     "text": [
      "Mínimo:350.00\n",
      "Média:650.53\n",
      "Mediana:652.00\n",
      "Moda:850.00\n",
      "Máximo:850.00\n",
      "Primeiro Quartil:584.00\n",
      "Terceiro Quartil:718.00\n"
     ]
    },
    {
     "data": {
      "image/png": "[encoded data removed]",
      "text/plain": [
       "<Figure size 1600x400 with 2 Axes>"
      ]
     },
     "metadata": {},
     "output_type": "display_data"
    }
   ],
   "source": [
    "column = numeric_attributes['score_credito']\n",
    "bins = n_bins(column)\n",
    "title = \"Frequência de Score de Crédito\"\n",
    "ylabel = \"frequência\"\n",
    "xlabel = \"score de crédito\"\n",
    "show_univariate_numeric_distribution(column, bins= bins, title= title, ylabel= ylabel, xlabel= xlabel)"
   ]
  },
  {
   "cell_type": "code",
   "execution_count": 60,
   "id": "552fc829",
   "metadata": {
    "ExecuteTime": {
     "end_time": "2023-01-26T19:55:35.933520Z",
     "start_time": "2023-01-26T19:55:35.930066Z"
    },
    "hide_input": false
   },
   "outputs": [],
   "source": [
    "#Note: \n",
    "\t# segundo os intervalos de scores de crédito da FICO:\n",
    "    \t# 300 - 580: muito baixo;\n",
    "        # 580 - 670: baixo;\n",
    "        # 670 - 740: bom;\n",
    "        # 740 - 800: muito bom;\n",
    "        # 800 - 850: excelente;\n",
    "        \n",
    "    # é possível observar outliers para scores que se aproximam do valor mínimo (350) através do boxplot, mas com a curtose em -0.42 indicando que a distribuição tem uma pequena chance de ocorrência de\n",
    "#outliers, logo o banco possui pouquíssimos clientes se aproximando do mínimo score_permitido pelo banco (aproximadamente uns 10).\n",
    "    # a moda é igual ao valor máximo, o que pode evidênciar que o banco possui um grupo seleto de cliente que são bons pagadores. (vale criação de caso para esse grupo)\n",
    "    # com assimetria em -0.07 evidencia que a distribuição de score está um pouco assimétrica à esquerda, logo existe uma maior concentração de valores na zona de valores mais elevados da amostra.\n",
    "    # hipótese: 'clientes que são bons pagadores, possuem o salário mais alto?' ou 'clentes que possuem salários altos, são bons pagadores?'"
   ]
  },
  {
   "cell_type": "markdown",
   "id": "b189eb4d",
   "metadata": {},
   "source": [
    "#### *idade*"
   ]
  },
  {
   "cell_type": "code",
   "execution_count": 61,
   "id": "3cd44cdb",
   "metadata": {
    "ExecuteTime": {
     "end_time": "2023-01-26T19:55:36.187254Z",
     "start_time": "2023-01-26T19:55:35.935481Z"
    },
    "cell_style": "center",
    "hide_input": true
   },
   "outputs": [
    {
     "name": "stdout",
     "output_type": "stream",
     "text": [
      "Mínimo:18.00\n",
      "Média:38.92\n",
      "Mediana:37.00\n",
      "Moda:37.00\n",
      "Máximo:92.00\n",
      "Primeiro Quartil:32.00\n",
      "Terceiro Quartil:44.00\n"
     ]
    },
    {
     "data": {
      "image/png": "[encoded data removed]",
      "text/plain": [
       "<Figure size 1600x400 with 2 Axes>"
      ]
     },
     "metadata": {},
     "output_type": "display_data"
    }
   ],
   "source": [
    "column = numeric_attributes['idade']\n",
    "bins = n_bins(column)\n",
    "title = \"Distribuição Etária\"\n",
    "ylabel = \"frequência\"\n",
    "xlabel = \"idades\"\n",
    "show_univariate_numeric_distribution(column, bins= bins, title= title, ylabel= ylabel, xlabel= xlabel)"
   ]
  },
  {
   "cell_type": "code",
   "execution_count": 62,
   "id": "e42c6c67",
   "metadata": {
    "ExecuteTime": {
     "end_time": "2023-01-26T19:55:36.195230Z",
     "start_time": "2023-01-26T19:55:36.189701Z"
    }
   },
   "outputs": [],
   "source": [
    "#Note\n",
    "    # com a curtose positiva em 1.39 indica uma grande chance de existir outliers, evidenciado pelo boxplot que existe outlier para idade maiores de 62 anos. \n",
    "    # a mediana = moda > média, junto com a assimetria  em 1.011, evidencia que a distribuição de idade é assimétrica à direita, possuindo maior concentração de valores na zona de valores mais reduzida da amostra. "
   ]
  },
  {
   "cell_type": "markdown",
   "id": "39c73807",
   "metadata": {
    "hide_input": true
   },
   "source": [
    "#### *saldo*"
   ]
  },
  {
   "cell_type": "code",
   "execution_count": 63,
   "id": "12e65971",
   "metadata": {
    "ExecuteTime": {
     "end_time": "2023-01-26T19:55:36.435248Z",
     "start_time": "2023-01-26T19:55:36.197210Z"
    },
    "cell_style": "center",
    "hide_input": true
   },
   "outputs": [
    {
     "name": "stdout",
     "output_type": "stream",
     "text": [
      "Mínimo:0.00\n",
      "Média:76485.89\n",
      "Mediana:97198.54\n",
      "Moda:0.00\n",
      "Máximo:250898.09\n",
      "Primeiro Quartil:0.00\n",
      "Terceiro Quartil:127644.24\n"
     ]
    },
    {
     "data": {
      "image/png": "[encoded data removed]",
      "text/plain": [
       "<Figure size 1600x400 with 2 Axes>"
      ]
     },
     "metadata": {},
     "output_type": "display_data"
    }
   ],
   "source": [
    "column = numeric_attributes['saldo']\n",
    "bins = n_bins(column)\n",
    "title = \"Frequência do Saldo em Conta\"\n",
    "ylabel = \"frequência\"\n",
    "xlabel = \"dolares\"\n",
    "show_univariate_numeric_distribution(column, bins= bins, title= title, ylabel= ylabel, xlabel= xlabel)"
   ]
  },
  {
   "cell_type": "code",
   "execution_count": 64,
   "id": "01011ce4",
   "metadata": {
    "ExecuteTime": {
     "end_time": "2023-01-26T19:55:36.439968Z",
     "start_time": "2023-01-26T19:55:36.437164Z"
    }
   },
   "outputs": [],
   "source": [
    "#Note\n",
    "\t# com a curtose negativa, evidencia que existe uma pequena possibilidade de haver outliers. já o boxplot afirma que não existe outliers nesse conjunto.\n",
    "    # com assimetria em -0.14, evidencia que a distribuição de score está um pouco assimétrica à esquerda, logo existe uma maior concentração de valores na zona de valores mais elevados da amostra,\n",
    "#por mais que exista uma alta concentração de dados com valores 0, mostrado no gráfico e abordado na checagem de valores zerados.\n",
    "\t# mais de 36% dos clientes possuem contas zeradas."
   ]
  },
  {
   "cell_type": "markdown",
   "id": "2d53b03b",
   "metadata": {},
   "source": [
    "#### *salario_estimado*"
   ]
  },
  {
   "cell_type": "code",
   "execution_count": 65,
   "id": "ca6f7ab7",
   "metadata": {
    "ExecuteTime": {
     "end_time": "2023-01-26T19:55:36.792341Z",
     "start_time": "2023-01-26T19:55:36.441613Z"
    },
    "cell_style": "center",
    "hide_input": true
   },
   "outputs": [
    {
     "name": "stdout",
     "output_type": "stream",
     "text": [
      "Mínimo:11.58\n",
      "Média:100090.24\n",
      "Mediana:100193.91\n",
      "Moda:24924.92\n",
      "Máximo:199992.48\n",
      "Primeiro Quartil:51002.11\n",
      "Terceiro Quartil:149388.25\n"
     ]
    },
    {
     "data": {
      "image/png": "[encoded data removed]",
      "text/plain": [
       "<Figure size 1600x400 with 2 Axes>"
      ]
     },
     "metadata": {},
     "output_type": "display_data"
    }
   ],
   "source": [
    "column = numeric_attributes['salario_estimado']\n",
    "bins = n_bins(column)\n",
    "title = \"Frequência de Salário Estimado dos Clientes\"\n",
    "ylabel = \"frequência\"\n",
    "xlabel = \"dolares\"\n",
    "show_univariate_numeric_distribution(column, bins= bins, title= title, ylabel= ylabel, xlabel= xlabel)"
   ]
  },
  {
   "cell_type": "code",
   "execution_count": 66,
   "id": "92dcf551",
   "metadata": {
    "ExecuteTime": {
     "end_time": "2023-01-26T19:55:36.797242Z",
     "start_time": "2023-01-26T19:55:36.793803Z"
    }
   },
   "outputs": [],
   "source": [
    "#Note:\n",
    "\t# a distribuição dos salários é praticamente simétrica (evidenciado pelo valor da assimetria e pelos gráficos acima).\n",
    "    # a distribuição dos salários também possui pouca chance de possuir valores dispersos, outliers (evidenciado pelo valor negativo da curtose e pelos gráficos acima)."
   ]
  },
  {
   "cell_type": "markdown",
   "id": "f1d061bb",
   "metadata": {},
   "source": [
    "#### *LTV_medio*"
   ]
  },
  {
   "cell_type": "code",
   "execution_count": 67,
   "id": "661b8511",
   "metadata": {
    "ExecuteTime": {
     "end_time": "2023-01-26T19:55:37.019637Z",
     "start_time": "2023-01-26T19:55:36.798926Z"
    },
    "cell_style": "center",
    "hide_input": true
   },
   "outputs": [
    {
     "name": "stdout",
     "output_type": "stream",
     "text": [
      "Mínimo:0.00\n",
      "Média:1846.37\n",
      "Mediana:1680.00\n",
      "Moda:960.00\n",
      "Máximo:9600.00\n",
      "Primeiro Quartil:960.00\n",
      "Terceiro Quartil:2400.00\n"
     ]
    },
    {
     "data": {
      "image/png": "[encoded data removed]",
      "text/plain": [
       "<Figure size 1600x400 with 2 Axes>"
      ]
     },
     "metadata": {},
     "output_type": "display_data"
    }
   ],
   "source": [
    "column = numeric_attributes['LTV_medio']\n",
    "bins = n_bins(column)\n",
    "title = \"Frequência de LTV Médio\"\n",
    "ylabel = \"frequência\"\n",
    "xlabel = \"dolares\"\n",
    "show_univariate_numeric_distribution(column, bins= bins, title= title, ylabel= ylabel, xlabel= xlabel)"
   ]
  },
  {
   "cell_type": "code",
   "execution_count": 68,
   "id": "deb4654b",
   "metadata": {
    "ExecuteTime": {
     "end_time": "2023-01-26T19:55:37.024844Z",
     "start_time": "2023-01-26T19:55:37.022277Z"
    }
   },
   "outputs": [],
   "source": [
    "#Note:\n",
    "    # com a curtose positiva, indica uma grande chance de existir outliers. evidenciado pelo boxplot, existe outliers para LTVs maiores que 4560 dolares. logo existe outliers consideráveis na zona\n",
    "#de valores mais elevado da amostra.\n",
    "    # com a assimetria positiva, evidencia que a distribuição de LTV está um pouco assimétrica à direita, logo existe uma maior concentração de valores na zona de valores mais reduzidos da amostra.\n",
    "    # a moda = primeiro quartil."
   ]
  },
  {
   "cell_type": "markdown",
   "id": "2ef02611",
   "metadata": {},
   "source": [
    "#### *tempo_permanencia*"
   ]
  },
  {
   "cell_type": "code",
   "execution_count": 69,
   "id": "091391ff",
   "metadata": {
    "ExecuteTime": {
     "end_time": "2023-01-26T19:55:37.174144Z",
     "start_time": "2023-01-26T19:55:37.026529Z"
    },
    "cell_style": "split",
    "hide_input": true
   },
   "outputs": [
    {
     "data": {
      "image/png": "[encoded data removed]",
      "text/plain": [
       "<Figure size 1600x400 with 1 Axes>"
      ]
     },
     "metadata": {},
     "output_type": "display_data"
    }
   ],
   "source": [
    "sns.countplot(x= df4['tempo_permanencia'], palette= sequencial_palette);"
   ]
  },
  {
   "cell_type": "code",
   "execution_count": 70,
   "id": "ff2f1cd6",
   "metadata": {
    "ExecuteTime": {
     "end_time": "2023-01-26T19:55:37.188922Z",
     "start_time": "2023-01-26T19:55:37.177144Z"
    },
    "cell_style": "split",
    "hide_input": true
   },
   "outputs": [
    {
     "data": {
      "text/html": [
       "<div>\n",
       "<style scoped>\n",
       "    .dataframe tbody tr th:only-of-type {\n",
       "        vertical-align: middle;\n",
       "    }\n",
       "\n",
       "    .dataframe tbody tr th {\n",
       "        vertical-align: top;\n",
       "    }\n",
       "\n",
       "    .dataframe thead th {\n",
       "        text-align: right;\n",
       "    }\n",
       "</style>\n",
       "<table border=\"1\" class=\"dataframe\">\n",
       "  <thead>\n",
       "    <tr style=\"text-align: right;\">\n",
       "      <th></th>\n",
       "      <th>absoluto</th>\n",
       "      <th>percentual (%)</th>\n",
       "    </tr>\n",
       "  </thead>\n",
       "  <tbody>\n",
       "    <tr>\n",
       "      <th>2</th>\n",
       "      <td>1048</td>\n",
       "      <td>10.48</td>\n",
       "    </tr>\n",
       "    <tr>\n",
       "      <th>1</th>\n",
       "      <td>1035</td>\n",
       "      <td>10.35</td>\n",
       "    </tr>\n",
       "    <tr>\n",
       "      <th>7</th>\n",
       "      <td>1028</td>\n",
       "      <td>10.28</td>\n",
       "    </tr>\n",
       "    <tr>\n",
       "      <th>8</th>\n",
       "      <td>1025</td>\n",
       "      <td>10.25</td>\n",
       "    </tr>\n",
       "    <tr>\n",
       "      <th>5</th>\n",
       "      <td>1012</td>\n",
       "      <td>10.12</td>\n",
       "    </tr>\n",
       "    <tr>\n",
       "      <th>3</th>\n",
       "      <td>1009</td>\n",
       "      <td>10.09</td>\n",
       "    </tr>\n",
       "    <tr>\n",
       "      <th>4</th>\n",
       "      <td>989</td>\n",
       "      <td>9.89</td>\n",
       "    </tr>\n",
       "    <tr>\n",
       "      <th>9</th>\n",
       "      <td>984</td>\n",
       "      <td>9.84</td>\n",
       "    </tr>\n",
       "    <tr>\n",
       "      <th>6</th>\n",
       "      <td>967</td>\n",
       "      <td>9.67</td>\n",
       "    </tr>\n",
       "    <tr>\n",
       "      <th>10</th>\n",
       "      <td>490</td>\n",
       "      <td>4.90</td>\n",
       "    </tr>\n",
       "    <tr>\n",
       "      <th>0</th>\n",
       "      <td>413</td>\n",
       "      <td>4.13</td>\n",
       "    </tr>\n",
       "  </tbody>\n",
       "</table>\n",
       "</div>"
      ],
      "text/plain": [
       "    absoluto  percentual (%)\n",
       "2       1048           10.48\n",
       "1       1035           10.35\n",
       "7       1028           10.28\n",
       "8       1025           10.25\n",
       "5       1012           10.12\n",
       "3       1009           10.09\n",
       "4        989            9.89\n",
       "9        984            9.84\n",
       "6        967            9.67\n",
       "10       490            4.90\n",
       "0        413            4.13"
      ]
     },
     "execution_count": 70,
     "metadata": {},
     "output_type": "execute_result"
    }
   ],
   "source": [
    "pd.DataFrame({'absoluto': df4['tempo_permanencia'].value_counts(), 'percentual (%)': df4['tempo_permanencia'].value_counts(normalize= True) * 100})"
   ]
  },
  {
   "cell_type": "markdown",
   "id": "2768cb9f",
   "metadata": {
    "cell_style": "center"
   },
   "source": [
    "#### *numero_de_contas*"
   ]
  },
  {
   "cell_type": "code",
   "execution_count": 71,
   "id": "40a13e8e",
   "metadata": {
    "ExecuteTime": {
     "end_time": "2023-01-26T19:55:37.298354Z",
     "start_time": "2023-01-26T19:55:37.191817Z"
    },
    "cell_style": "split",
    "hide_input": true
   },
   "outputs": [
    {
     "data": {
      "image/png": "[encoded data removed]",
      "text/plain": [
       "<Figure size 1600x400 with 1 Axes>"
      ]
     },
     "metadata": {},
     "output_type": "display_data"
    }
   ],
   "source": [
    "sns.countplot(x= df4['numero_de_contas']);"
   ]
  },
  {
   "cell_type": "code",
   "execution_count": 72,
   "id": "a93e9265",
   "metadata": {
    "ExecuteTime": {
     "end_time": "2023-01-26T19:55:37.312337Z",
     "start_time": "2023-01-26T19:55:37.302241Z"
    },
    "cell_style": "split",
    "hide_input": true
   },
   "outputs": [
    {
     "data": {
      "text/html": [
       "<div>\n",
       "<style scoped>\n",
       "    .dataframe tbody tr th:only-of-type {\n",
       "        vertical-align: middle;\n",
       "    }\n",
       "\n",
       "    .dataframe tbody tr th {\n",
       "        vertical-align: top;\n",
       "    }\n",
       "\n",
       "    .dataframe thead th {\n",
       "        text-align: right;\n",
       "    }\n",
       "</style>\n",
       "<table border=\"1\" class=\"dataframe\">\n",
       "  <thead>\n",
       "    <tr style=\"text-align: right;\">\n",
       "      <th></th>\n",
       "      <th>absoluto</th>\n",
       "      <th>percentual (%)</th>\n",
       "    </tr>\n",
       "  </thead>\n",
       "  <tbody>\n",
       "    <tr>\n",
       "      <th>1</th>\n",
       "      <td>5084</td>\n",
       "      <td>50.84</td>\n",
       "    </tr>\n",
       "    <tr>\n",
       "      <th>2</th>\n",
       "      <td>4590</td>\n",
       "      <td>45.90</td>\n",
       "    </tr>\n",
       "    <tr>\n",
       "      <th>3</th>\n",
       "      <td>266</td>\n",
       "      <td>2.66</td>\n",
       "    </tr>\n",
       "    <tr>\n",
       "      <th>4</th>\n",
       "      <td>60</td>\n",
       "      <td>0.60</td>\n",
       "    </tr>\n",
       "  </tbody>\n",
       "</table>\n",
       "</div>"
      ],
      "text/plain": [
       "   absoluto  percentual (%)\n",
       "1      5084           50.84\n",
       "2      4590           45.90\n",
       "3       266            2.66\n",
       "4        60            0.60"
      ]
     },
     "execution_count": 72,
     "metadata": {},
     "output_type": "execute_result"
    }
   ],
   "source": [
    "pd.DataFrame({'absoluto': df4['numero_de_contas'].value_counts(), 'percentual (%)': df4['numero_de_contas'].value_counts(normalize= True) * 100})"
   ]
  },
  {
   "cell_type": "markdown",
   "id": "e0fb5abf",
   "metadata": {
    "ExecuteTime": {
     "end_time": "2023-01-25T19:28:13.612341Z",
     "start_time": "2023-01-25T19:28:13.608763Z"
    }
   },
   "source": [
    "#### *ticket_medio*"
   ]
  },
  {
   "cell_type": "code",
   "execution_count": 73,
   "id": "0ca42e3d",
   "metadata": {
    "ExecuteTime": {
     "end_time": "2023-01-26T19:55:37.423091Z",
     "start_time": "2023-01-26T19:55:37.315330Z"
    },
    "cell_style": "split",
    "hide_input": true
   },
   "outputs": [
    {
     "data": {
      "image/png": "[encoded data removed]",
      "text/plain": [
       "<Figure size 1600x400 with 1 Axes>"
      ]
     },
     "metadata": {},
     "output_type": "display_data"
    }
   ],
   "source": [
    "sns.countplot(x= numeric_attributes['ticket_medio']);"
   ]
  },
  {
   "cell_type": "code",
   "execution_count": 74,
   "id": "37f0a5e6",
   "metadata": {
    "ExecuteTime": {
     "end_time": "2023-01-26T19:55:37.433907Z",
     "start_time": "2023-01-26T19:55:37.425213Z"
    },
    "cell_style": "split",
    "hide_input": true
   },
   "outputs": [
    {
     "data": {
      "text/html": [
       "<div>\n",
       "<style scoped>\n",
       "    .dataframe tbody tr th:only-of-type {\n",
       "        vertical-align: middle;\n",
       "    }\n",
       "\n",
       "    .dataframe tbody tr th {\n",
       "        vertical-align: top;\n",
       "    }\n",
       "\n",
       "    .dataframe thead th {\n",
       "        text-align: right;\n",
       "    }\n",
       "</style>\n",
       "<table border=\"1\" class=\"dataframe\">\n",
       "  <thead>\n",
       "    <tr style=\"text-align: right;\">\n",
       "      <th></th>\n",
       "      <th>absoluto</th>\n",
       "      <th>percentual (%)</th>\n",
       "    </tr>\n",
       "  </thead>\n",
       "  <tbody>\n",
       "    <tr>\n",
       "      <th>20</th>\n",
       "      <td>5084</td>\n",
       "      <td>50.84</td>\n",
       "    </tr>\n",
       "    <tr>\n",
       "      <th>40</th>\n",
       "      <td>4590</td>\n",
       "      <td>45.90</td>\n",
       "    </tr>\n",
       "    <tr>\n",
       "      <th>60</th>\n",
       "      <td>266</td>\n",
       "      <td>2.66</td>\n",
       "    </tr>\n",
       "    <tr>\n",
       "      <th>80</th>\n",
       "      <td>60</td>\n",
       "      <td>0.60</td>\n",
       "    </tr>\n",
       "  </tbody>\n",
       "</table>\n",
       "</div>"
      ],
      "text/plain": [
       "    absoluto  percentual (%)\n",
       "20      5084           50.84\n",
       "40      4590           45.90\n",
       "60       266            2.66\n",
       "80        60            0.60"
      ]
     },
     "execution_count": 74,
     "metadata": {},
     "output_type": "execute_result"
    }
   ],
   "source": [
    "pd.DataFrame({'absoluto': df4['ticket_medio'].value_counts(), 'percentual (%)': df4['ticket_medio'].value_counts(normalize= True) * 100})"
   ]
  },
  {
   "cell_type": "markdown",
   "id": "91e817d0",
   "metadata": {
    "cell_style": "center"
   },
   "source": [
    "### Categorical Variables"
   ]
  },
  {
   "cell_type": "code",
   "execution_count": 75,
   "id": "3b3496da",
   "metadata": {
    "ExecuteTime": {
     "end_time": "2023-01-26T19:55:37.446969Z",
     "start_time": "2023-01-26T19:55:37.437449Z"
    },
    "hide_input": true
   },
   "outputs": [
    {
     "data": {
      "text/plain": [
       "sobrenome             2932\n",
       "geografia                3\n",
       "genero                   2\n",
       "tem_cartao_credito       2\n",
       "membro_ativo             2\n",
       "Churn                    2\n",
       "escala_fico              5\n",
       "dtype: int64"
      ]
     },
     "execution_count": 75,
     "metadata": {},
     "output_type": "execute_result"
    }
   ],
   "source": [
    "categorical_attributes.apply(lambda x: x.unique().shape[0])"
   ]
  },
  {
   "cell_type": "markdown",
   "id": "7201f98e",
   "metadata": {},
   "source": [
    "#### *geografia*"
   ]
  },
  {
   "cell_type": "code",
   "execution_count": 76,
   "id": "a147e2ae",
   "metadata": {
    "ExecuteTime": {
     "end_time": "2023-01-26T19:55:37.548780Z",
     "start_time": "2023-01-26T19:55:37.448939Z"
    },
    "cell_style": "split",
    "hide_input": true
   },
   "outputs": [
    {
     "data": {
      "image/png": "[encoded data removed]",
      "text/plain": [
       "<Figure size 1600x400 with 1 Axes>"
      ]
     },
     "metadata": {},
     "output_type": "display_data"
    }
   ],
   "source": [
    "sns.countplot(x= df4['geografia'], palette= categorical_palette);"
   ]
  },
  {
   "cell_type": "code",
   "execution_count": 77,
   "id": "4f29b1aa",
   "metadata": {
    "ExecuteTime": {
     "end_time": "2023-01-26T19:55:37.565295Z",
     "start_time": "2023-01-26T19:55:37.552010Z"
    },
    "cell_style": "split",
    "hide_input": true
   },
   "outputs": [
    {
     "data": {
      "text/html": [
       "<div>\n",
       "<style scoped>\n",
       "    .dataframe tbody tr th:only-of-type {\n",
       "        vertical-align: middle;\n",
       "    }\n",
       "\n",
       "    .dataframe tbody tr th {\n",
       "        vertical-align: top;\n",
       "    }\n",
       "\n",
       "    .dataframe thead th {\n",
       "        text-align: right;\n",
       "    }\n",
       "</style>\n",
       "<table border=\"1\" class=\"dataframe\">\n",
       "  <thead>\n",
       "    <tr style=\"text-align: right;\">\n",
       "      <th></th>\n",
       "      <th>absoluto</th>\n",
       "      <th>percentual (%)</th>\n",
       "    </tr>\n",
       "  </thead>\n",
       "  <tbody>\n",
       "    <tr>\n",
       "      <th>France</th>\n",
       "      <td>5014</td>\n",
       "      <td>50.14</td>\n",
       "    </tr>\n",
       "    <tr>\n",
       "      <th>Germany</th>\n",
       "      <td>2509</td>\n",
       "      <td>25.09</td>\n",
       "    </tr>\n",
       "    <tr>\n",
       "      <th>Spain</th>\n",
       "      <td>2477</td>\n",
       "      <td>24.77</td>\n",
       "    </tr>\n",
       "  </tbody>\n",
       "</table>\n",
       "</div>"
      ],
      "text/plain": [
       "         absoluto  percentual (%)\n",
       "France       5014           50.14\n",
       "Germany      2509           25.09\n",
       "Spain        2477           24.77"
      ]
     },
     "execution_count": 77,
     "metadata": {},
     "output_type": "execute_result"
    }
   ],
   "source": [
    "pd.DataFrame({'absoluto': df4['geografia'].value_counts(), 'percentual (%)': df4['geografia'].value_counts(normalize= True) * 100})"
   ]
  },
  {
   "cell_type": "markdown",
   "id": "1e277f57",
   "metadata": {
    "cell_style": "center"
   },
   "source": [
    "#### *genero*"
   ]
  },
  {
   "cell_type": "code",
   "execution_count": 78,
   "id": "9332088e",
   "metadata": {
    "ExecuteTime": {
     "end_time": "2023-01-26T19:55:37.673509Z",
     "start_time": "2023-01-26T19:55:37.567208Z"
    },
    "cell_style": "split",
    "hide_input": true
   },
   "outputs": [
    {
     "data": {
      "image/png": "[encoded data removed]",
      "text/plain": [
       "<Figure size 1600x400 with 1 Axes>"
      ]
     },
     "metadata": {},
     "output_type": "display_data"
    }
   ],
   "source": [
    "sns.countplot(x= df4['genero'], palette= categorical_palette);"
   ]
  },
  {
   "cell_type": "code",
   "execution_count": 79,
   "id": "4026d177",
   "metadata": {
    "ExecuteTime": {
     "end_time": "2023-01-26T19:55:37.687996Z",
     "start_time": "2023-01-26T19:55:37.677010Z"
    },
    "cell_style": "split",
    "hide_input": true
   },
   "outputs": [
    {
     "data": {
      "text/html": [
       "<div>\n",
       "<style scoped>\n",
       "    .dataframe tbody tr th:only-of-type {\n",
       "        vertical-align: middle;\n",
       "    }\n",
       "\n",
       "    .dataframe tbody tr th {\n",
       "        vertical-align: top;\n",
       "    }\n",
       "\n",
       "    .dataframe thead th {\n",
       "        text-align: right;\n",
       "    }\n",
       "</style>\n",
       "<table border=\"1\" class=\"dataframe\">\n",
       "  <thead>\n",
       "    <tr style=\"text-align: right;\">\n",
       "      <th></th>\n",
       "      <th>absoluto</th>\n",
       "      <th>percentual (%)</th>\n",
       "    </tr>\n",
       "  </thead>\n",
       "  <tbody>\n",
       "    <tr>\n",
       "      <th>Male</th>\n",
       "      <td>5457</td>\n",
       "      <td>54.57</td>\n",
       "    </tr>\n",
       "    <tr>\n",
       "      <th>Female</th>\n",
       "      <td>4543</td>\n",
       "      <td>45.43</td>\n",
       "    </tr>\n",
       "  </tbody>\n",
       "</table>\n",
       "</div>"
      ],
      "text/plain": [
       "        absoluto  percentual (%)\n",
       "Male        5457           54.57\n",
       "Female      4543           45.43"
      ]
     },
     "execution_count": 79,
     "metadata": {},
     "output_type": "execute_result"
    }
   ],
   "source": [
    "pd.DataFrame({'absoluto': df4['genero'].value_counts(), 'percentual (%)': df4['genero'].value_counts(normalize= True) * 100})"
   ]
  },
  {
   "cell_type": "markdown",
   "id": "5d0bc342",
   "metadata": {},
   "source": [
    "#### *tem_cartao_credito*"
   ]
  },
  {
   "cell_type": "code",
   "execution_count": 80,
   "id": "4f42ee0f",
   "metadata": {
    "ExecuteTime": {
     "end_time": "2023-01-26T19:55:37.785701Z",
     "start_time": "2023-01-26T19:55:37.689487Z"
    },
    "cell_style": "split",
    "hide_input": true
   },
   "outputs": [
    {
     "data": {
      "image/png": "[encoded data removed]",
      "text/plain": [
       "<Figure size 1600x400 with 1 Axes>"
      ]
     },
     "metadata": {},
     "output_type": "display_data"
    }
   ],
   "source": [
    "sns.countplot(x= df4['tem_cartao_credito'], palette= categorical_palette);"
   ]
  },
  {
   "cell_type": "code",
   "execution_count": 81,
   "id": "c765341c",
   "metadata": {
    "ExecuteTime": {
     "end_time": "2023-01-26T19:55:37.797341Z",
     "start_time": "2023-01-26T19:55:37.787788Z"
    },
    "cell_style": "split",
    "hide_input": true
   },
   "outputs": [
    {
     "data": {
      "text/html": [
       "<div>\n",
       "<style scoped>\n",
       "    .dataframe tbody tr th:only-of-type {\n",
       "        vertical-align: middle;\n",
       "    }\n",
       "\n",
       "    .dataframe tbody tr th {\n",
       "        vertical-align: top;\n",
       "    }\n",
       "\n",
       "    .dataframe thead th {\n",
       "        text-align: right;\n",
       "    }\n",
       "</style>\n",
       "<table border=\"1\" class=\"dataframe\">\n",
       "  <thead>\n",
       "    <tr style=\"text-align: right;\">\n",
       "      <th></th>\n",
       "      <th>absoluto</th>\n",
       "      <th>percentual (%)</th>\n",
       "    </tr>\n",
       "  </thead>\n",
       "  <tbody>\n",
       "    <tr>\n",
       "      <th>yes</th>\n",
       "      <td>7055</td>\n",
       "      <td>70.55</td>\n",
       "    </tr>\n",
       "    <tr>\n",
       "      <th>no</th>\n",
       "      <td>2945</td>\n",
       "      <td>29.45</td>\n",
       "    </tr>\n",
       "  </tbody>\n",
       "</table>\n",
       "</div>"
      ],
      "text/plain": [
       "     absoluto  percentual (%)\n",
       "yes      7055           70.55\n",
       "no       2945           29.45"
      ]
     },
     "execution_count": 81,
     "metadata": {},
     "output_type": "execute_result"
    }
   ],
   "source": [
    "pd.DataFrame({'absoluto': df4['tem_cartao_credito'].value_counts(), 'percentual (%)': df4['tem_cartao_credito'].value_counts(normalize= True) * 100})"
   ]
  },
  {
   "cell_type": "markdown",
   "id": "9cba49ac",
   "metadata": {
    "cell_style": "center"
   },
   "source": [
    "#### *membro_ativo*"
   ]
  },
  {
   "cell_type": "code",
   "execution_count": 82,
   "id": "c9a059fb",
   "metadata": {
    "ExecuteTime": {
     "end_time": "2023-01-26T19:55:37.904982Z",
     "start_time": "2023-01-26T19:55:37.811407Z"
    },
    "cell_style": "split",
    "hide_input": true
   },
   "outputs": [
    {
     "data": {
      "image/png": "[encoded data removed]",
      "text/plain": [
       "<Figure size 1600x400 with 1 Axes>"
      ]
     },
     "metadata": {},
     "output_type": "display_data"
    }
   ],
   "source": [
    "sns.countplot(x= df4['membro_ativo'], palette= categorical_palette);"
   ]
  },
  {
   "cell_type": "code",
   "execution_count": 83,
   "id": "17d73b2f",
   "metadata": {
    "ExecuteTime": {
     "end_time": "2023-01-26T19:55:37.918288Z",
     "start_time": "2023-01-26T19:55:37.907302Z"
    },
    "cell_style": "split",
    "hide_input": true
   },
   "outputs": [
    {
     "data": {
      "text/html": [
       "<div>\n",
       "<style scoped>\n",
       "    .dataframe tbody tr th:only-of-type {\n",
       "        vertical-align: middle;\n",
       "    }\n",
       "\n",
       "    .dataframe tbody tr th {\n",
       "        vertical-align: top;\n",
       "    }\n",
       "\n",
       "    .dataframe thead th {\n",
       "        text-align: right;\n",
       "    }\n",
       "</style>\n",
       "<table border=\"1\" class=\"dataframe\">\n",
       "  <thead>\n",
       "    <tr style=\"text-align: right;\">\n",
       "      <th></th>\n",
       "      <th>absoluto</th>\n",
       "      <th>percentual (%)</th>\n",
       "    </tr>\n",
       "  </thead>\n",
       "  <tbody>\n",
       "    <tr>\n",
       "      <th>yes</th>\n",
       "      <td>5151</td>\n",
       "      <td>51.51</td>\n",
       "    </tr>\n",
       "    <tr>\n",
       "      <th>no</th>\n",
       "      <td>4849</td>\n",
       "      <td>48.49</td>\n",
       "    </tr>\n",
       "  </tbody>\n",
       "</table>\n",
       "</div>"
      ],
      "text/plain": [
       "     absoluto  percentual (%)\n",
       "yes      5151           51.51\n",
       "no       4849           48.49"
      ]
     },
     "execution_count": 83,
     "metadata": {},
     "output_type": "execute_result"
    }
   ],
   "source": [
    "pd.DataFrame({'absoluto': df4['membro_ativo'].value_counts(), 'percentual (%)': df4['membro_ativo'].value_counts(normalize= True) * 100})"
   ]
  },
  {
   "cell_type": "markdown",
   "id": "eae46968",
   "metadata": {},
   "source": [
    "#### *escala_fico*"
   ]
  },
  {
   "cell_type": "code",
   "execution_count": 84,
   "id": "b7ea0e8f",
   "metadata": {
    "ExecuteTime": {
     "end_time": "2023-01-26T19:55:38.037496Z",
     "start_time": "2023-01-26T19:55:37.920771Z"
    },
    "cell_style": "split",
    "hide_input": true
   },
   "outputs": [
    {
     "data": {
      "image/png": "[encoded data removed]",
      "text/plain": [
       "<Figure size 1600x400 with 1 Axes>"
      ]
     },
     "metadata": {},
     "output_type": "display_data"
    }
   ],
   "source": [
    "sns.countplot(x= df4['escala_fico'], palette= categorical_palette);"
   ]
  },
  {
   "cell_type": "code",
   "execution_count": 85,
   "id": "701bd23e",
   "metadata": {
    "ExecuteTime": {
     "end_time": "2023-01-26T19:55:38.051019Z",
     "start_time": "2023-01-26T19:55:38.040140Z"
    },
    "cell_style": "split",
    "hide_input": true
   },
   "outputs": [
    {
     "data": {
      "text/html": [
       "<div>\n",
       "<style scoped>\n",
       "    .dataframe tbody tr th:only-of-type {\n",
       "        vertical-align: middle;\n",
       "    }\n",
       "\n",
       "    .dataframe tbody tr th {\n",
       "        vertical-align: top;\n",
       "    }\n",
       "\n",
       "    .dataframe thead th {\n",
       "        text-align: right;\n",
       "    }\n",
       "</style>\n",
       "<table border=\"1\" class=\"dataframe\">\n",
       "  <thead>\n",
       "    <tr style=\"text-align: right;\">\n",
       "      <th></th>\n",
       "      <th>absoluto</th>\n",
       "      <th>percentual (%)</th>\n",
       "    </tr>\n",
       "  </thead>\n",
       "  <tbody>\n",
       "    <tr>\n",
       "      <th>bad</th>\n",
       "      <td>3331</td>\n",
       "      <td>33.31</td>\n",
       "    </tr>\n",
       "    <tr>\n",
       "      <th>good</th>\n",
       "      <td>2428</td>\n",
       "      <td>24.28</td>\n",
       "    </tr>\n",
       "    <tr>\n",
       "      <th>too bad</th>\n",
       "      <td>2362</td>\n",
       "      <td>23.62</td>\n",
       "    </tr>\n",
       "    <tr>\n",
       "      <th>very good</th>\n",
       "      <td>1224</td>\n",
       "      <td>12.24</td>\n",
       "    </tr>\n",
       "    <tr>\n",
       "      <th>excellent</th>\n",
       "      <td>655</td>\n",
       "      <td>6.55</td>\n",
       "    </tr>\n",
       "  </tbody>\n",
       "</table>\n",
       "</div>"
      ],
      "text/plain": [
       "           absoluto  percentual (%)\n",
       "bad            3331           33.31\n",
       "good           2428           24.28\n",
       "too bad        2362           23.62\n",
       "very good      1224           12.24\n",
       "excellent       655            6.55"
      ]
     },
     "execution_count": 85,
     "metadata": {},
     "output_type": "execute_result"
    }
   ],
   "source": [
    "pd.DataFrame({'absoluto': df4['escala_fico'].value_counts(), 'percentual (%)': df4['escala_fico'].value_counts(normalize= True) * 100})"
   ]
  },
  {
   "cell_type": "markdown",
   "id": "4cdde8a8",
   "metadata": {
    "heading_collapsed": true
   },
   "source": [
    "## Bivariate and Multivariate Analysis"
   ]
  },
  {
   "cell_type": "markdown",
   "id": "092c5ef9",
   "metadata": {
    "ExecuteTime": {
     "end_time": "2023-01-26T14:44:41.291817Z",
     "start_time": "2023-01-26T14:44:41.285368Z"
    }
   },
   "source": [
    "### Response Variable x Variables"
   ]
  },
  {
   "cell_type": "code",
   "execution_count": 86,
   "id": "c9597a0e",
   "metadata": {
    "ExecuteTime": {
     "end_time": "2023-01-26T19:55:38.059728Z",
     "start_time": "2023-01-26T19:55:38.053163Z"
    }
   },
   "outputs": [
    {
     "ename": "SyntaxError",
     "evalue": "invalid syntax (476313318.py, line 1)",
     "output_type": "error",
     "traceback": [
      "\u001b[0;36m  Cell \u001b[0;32mIn [86], line 1\u001b[0;36m\u001b[0m\n\u001b[0;31m    -\u001b[0m\n\u001b[0m     ^\u001b[0m\n\u001b[0;31mSyntaxError\u001b[0m\u001b[0;31m:\u001b[0m invalid syntax\n"
     ]
    }
   ],
   "source": [
    "-"
   ]
  },
  {
   "cell_type": "markdown",
   "id": "b7a49c48",
   "metadata": {},
   "source": [
    "## Note:\n",
    "Informações Importantes:\n",
    "- A variável *ticket_medio* não é tão relevante, pois está diretamente associado a uma única variável, que é o *numero_de_contas#.\n",
    "- Existem poucos outliers na variável *score_credito* que não são tão relevantes devido ao valor de sua curtose, logo podem permanecer.\n",
    "- Existem muitos outliers relevantes na variável *idade*, acima de 62 anos. Vale tratá-los.\n",
    "- Mais de 36% dos clientes possuem contas zeradas, evidenciado pela variável *salario_estimado*\n",
    "- Existem muitos outliers relevantes na variável *LTV_medio*, acima de 4560 dolares. Vale tratá-los.\n",
    "- Apenas 3,26% de cleintes possuem 3 ou 4 contas.\n",
    "- Metade dos clientes são da França (50,14%). A outra metade se divide praticamente igual entre Alemanha (25.09%) e Espanha (24.77%)\n",
    "- 70.55% dos clientes possuem cartão de crédito.\n",
    "- Menos de 20% possuem scores muito bons ou excelentes.\n",
    "\n",
    "Próxima versão: \n",
    "- Análise Bivariada com insights das hipóteses criadas e Análise Multivariada;"
   ]
  },
  {
   "cell_type": "markdown",
   "id": "a2357a4a",
   "metadata": {},
   "source": [
    "# Feature Engineering II (Data Preparation)"
   ]
  },
  {
   "cell_type": "code",
   "execution_count": null,
   "id": "ad32748f",
   "metadata": {
    "ExecuteTime": {
     "end_time": "2023-01-26T19:55:38.113313Z",
     "start_time": "2023-01-26T19:55:38.113302Z"
    },
    "hide_input": true
   },
   "outputs": [],
   "source": [
    "df5 = df4.copy()"
   ]
  },
  {
   "cell_type": "code",
   "execution_count": null,
   "id": "e8c09bfd",
   "metadata": {
    "ExecuteTime": {
     "end_time": "2023-01-26T19:55:38.114566Z",
     "start_time": "2023-01-26T19:55:38.114555Z"
    }
   },
   "outputs": [],
   "source": [
    "data_for_filtering = df4.copy()"
   ]
  },
  {
   "cell_type": "markdown",
   "id": "ebf1008e",
   "metadata": {},
   "source": [
    "## Data Filtering"
   ]
  },
  {
   "cell_type": "code",
   "execution_count": null,
   "id": "6747c2ef",
   "metadata": {
    "ExecuteTime": {
     "end_time": "2023-01-26T19:55:38.115153Z",
     "start_time": "2023-01-26T19:55:38.115143Z"
    }
   },
   "outputs": [],
   "source": [
    "columns_to_delete = ['numero_linha','id_cliente','sobrenome']\n",
    "filtered_data = data_for_filtering.drop(columns_to_delete, axis= 1)"
   ]
  },
  {
   "cell_type": "code",
   "execution_count": null,
   "id": "ea39b9e0",
   "metadata": {
    "ExecuteTime": {
     "end_time": "2023-01-26T19:55:38.116720Z",
     "start_time": "2023-01-26T19:55:38.116710Z"
    }
   },
   "outputs": [],
   "source": [
    "filtered_data.head()"
   ]
  },
  {
   "cell_type": "markdown",
   "id": "9b67d13f",
   "metadata": {},
   "source": [
    "## Splitting Dataframe into Training and Test Dataset"
   ]
  },
  {
   "cell_type": "code",
   "execution_count": null,
   "id": "45bdbda6",
   "metadata": {
    "ExecuteTime": {
     "end_time": "2023-01-26T19:55:38.118359Z",
     "start_time": "2023-01-26T19:55:38.118348Z"
    }
   },
   "outputs": [],
   "source": [
    "X = filtered_data.drop(columns = ['Churn'])\n",
    "y = filtered_data['Churn']\n",
    "X_train, X_test, y_train, y_test = train_test_split(X, y, test_size= 0.33, random_state= 42)"
   ]
  },
  {
   "cell_type": "markdown",
   "id": "6238457a",
   "metadata": {},
   "source": [
    "## Scaling (only Train data)"
   ]
  },
  {
   "cell_type": "markdown",
   "id": "65aff87d",
   "metadata": {},
   "source": [
    "### Standardization (or  X-score Normalization)"
   ]
  },
  {
   "cell_type": "markdown",
   "id": "004de3be",
   "metadata": {},
   "source": [
    "- Na Análise Univariada é possível verificar que não temos nenhuma distribuição normal nas variáveis numéricas, logo será descartado o processo de normalização."
   ]
  },
  {
   "cell_type": "markdown",
   "id": "fdc22abf",
   "metadata": {},
   "source": [
    "### Normalization (or Rescaling)"
   ]
  },
  {
   "cell_type": "code",
   "execution_count": null,
   "id": "eef59a07",
   "metadata": {
    "ExecuteTime": {
     "end_time": "2023-01-26T19:55:38.119786Z",
     "start_time": "2023-01-26T19:55:38.119774Z"
    }
   },
   "outputs": [],
   "source": [
    "robust_scaler = RobustScaler() #rescala para variáveis numéricas com distribuições não gaussianas que possuem outliers (score_credito, idade, numero_de_contas)\n",
    "min_max_scaler = MinMaxScaler() #rescala para variáveis numéricas com distribuições não gaussianas que não possuem outliers (saldo, salario_estimado, tempo_permanencia)"
   ]
  },
  {
   "cell_type": "markdown",
   "id": "ac3f7c06",
   "metadata": {},
   "source": [
    "#### 'score_credito'"
   ]
  },
  {
   "cell_type": "code",
   "execution_count": null,
   "id": "5489360b",
   "metadata": {
    "ExecuteTime": {
     "end_time": "2023-01-26T19:55:38.120676Z",
     "start_time": "2023-01-26T19:55:38.120666Z"
    }
   },
   "outputs": [],
   "source": [
    "X_train['score_credito'] = robust_scaler.fit_transform(X_train[['score_credito']].values)\n",
    "\n",
    "outfile = open('/home/rnglinux/projetos/Churn-Predict/parameters/score_credito_scaler.pkl', 'wb')\n",
    "pickle.dump(robust_scaler, outfile)\n",
    "outfile.close()"
   ]
  },
  {
   "cell_type": "markdown",
   "id": "c9effc36",
   "metadata": {},
   "source": [
    "#### 'idade'"
   ]
  },
  {
   "cell_type": "code",
   "execution_count": null,
   "id": "25a86cad",
   "metadata": {
    "ExecuteTime": {
     "end_time": "2023-01-26T19:55:38.121528Z",
     "start_time": "2023-01-26T19:55:38.121518Z"
    }
   },
   "outputs": [],
   "source": [
    "X_train['idade'] = robust_scaler.fit_transform(X_train[['idade']].values)\n",
    "\n",
    "outfile = open('/home/rnglinux/projetos/Churn-Predict/parameters/idade_scaler.pkl', 'wb')\n",
    "pickle.dump(robust_scaler, outfile)\n",
    "outfile.close()"
   ]
  },
  {
   "cell_type": "markdown",
   "id": "c42bd71c",
   "metadata": {},
   "source": [
    "#### 'saldo'"
   ]
  },
  {
   "cell_type": "code",
   "execution_count": null,
   "id": "887f41ea",
   "metadata": {
    "ExecuteTime": {
     "end_time": "2023-01-26T19:55:38.122103Z",
     "start_time": "2023-01-26T19:55:38.122094Z"
    }
   },
   "outputs": [],
   "source": [
    "X_train['saldo'] = min_max_scaler.fit_transform(X_train[['saldo']].values)\n",
    "\n",
    "outfile = open('/home/rnglinux/projetos/Churn-Predict/parameters/saldo_scaler.pkl', 'wb')\n",
    "pickle.dump(min_max_scaler, outfile)\n",
    "outfile.close()"
   ]
  },
  {
   "cell_type": "markdown",
   "id": "7d07e121",
   "metadata": {},
   "source": [
    "#### 'salario_estimado'"
   ]
  },
  {
   "cell_type": "code",
   "execution_count": null,
   "id": "cbdcd21c",
   "metadata": {
    "ExecuteTime": {
     "end_time": "2023-01-26T19:55:38.123735Z",
     "start_time": "2023-01-26T19:55:38.123724Z"
    }
   },
   "outputs": [],
   "source": [
    "X_train['salario_estimado'] = min_max_scaler.fit_transform(X_train[['salario_estimado']].values)\n",
    "\n",
    "outfile = open('/home/rnglinux/projetos/Churn-Predict/parameters/salario_estimado_scaler.pkl', 'wb')\n",
    "pickle.dump(min_max_scaler, outfile)\n",
    "outfile.close()"
   ]
  },
  {
   "cell_type": "markdown",
   "id": "4ace7dc3",
   "metadata": {},
   "source": [
    "#### 'tempo_permanencia'"
   ]
  },
  {
   "cell_type": "code",
   "execution_count": null,
   "id": "2665278c",
   "metadata": {
    "ExecuteTime": {
     "end_time": "2023-01-26T19:55:38.124811Z",
     "start_time": "2023-01-26T19:55:38.124801Z"
    }
   },
   "outputs": [],
   "source": [
    "X_train['tempo_permanencia'] = min_max_scaler.fit_transform(X_train[['tempo_permanencia']].values)\n",
    "\n",
    "outfile = open('/home/rnglinux/projetos/Churn-Predict/parameters/tempo_permanencia_scaler.pkl', 'wb')\n",
    "pickle.dump(min_max_scaler, outfile)\n",
    "outfile.close()"
   ]
  },
  {
   "cell_type": "markdown",
   "id": "576817ca",
   "metadata": {},
   "source": [
    "### Encoding"
   ]
  },
  {
   "cell_type": "code",
   "execution_count": null,
   "id": "00b0e552",
   "metadata": {
    "ExecuteTime": {
     "end_time": "2023-01-26T19:55:38.125656Z",
     "start_time": "2023-01-26T19:55:38.125647Z"
    }
   },
   "outputs": [],
   "source": [
    "label_encoder = LabelEncoder() # troca de categorias por números de 1 a n. (geografia, gênero)\n",
    "#E transformação comum para variáveis tem_cartao_credito, membro_ativo e Churn, Yes = 1 e No = 0."
   ]
  },
  {
   "cell_type": "markdown",
   "id": "42765fc7",
   "metadata": {},
   "source": [
    "#### 'geografia'"
   ]
  },
  {
   "cell_type": "code",
   "execution_count": null,
   "id": "588b5824",
   "metadata": {
    "ExecuteTime": {
     "end_time": "2023-01-26T19:55:38.126353Z",
     "start_time": "2023-01-26T19:55:38.126345Z"
    }
   },
   "outputs": [],
   "source": [
    "X_train['geografia'] = label_encoder.fit_transform(X_train['geografia'].values)\n",
    "\n",
    "outfile = open('/home/rnglinux/projetos/Churn-Predict/parameters/geografia.pkl', 'wb')\n",
    "pickle.dump(label_encoder, outfile)\n",
    "outfile.close()"
   ]
  },
  {
   "cell_type": "markdown",
   "id": "46115114",
   "metadata": {},
   "source": [
    "#### 'gênero'"
   ]
  },
  {
   "cell_type": "code",
   "execution_count": null,
   "id": "14361f7e",
   "metadata": {
    "ExecuteTime": {
     "end_time": "2023-01-26T19:55:38.126948Z",
     "start_time": "2023-01-26T19:55:38.126938Z"
    }
   },
   "outputs": [],
   "source": [
    "X_train['genero'] = label_encoder.fit_transform(X_train['genero'].values)\n",
    "\n",
    "outfile = open('/home/rnglinux/projetos/Churn-Predict/parameters/genero.pkl', 'wb')\n",
    "pickle.dump(label_encoder, outfile)\n",
    "outfile.close()"
   ]
  },
  {
   "cell_type": "markdown",
   "id": "cda5a512",
   "metadata": {},
   "source": [
    "#### 'tem_cartao_credito'"
   ]
  },
  {
   "cell_type": "code",
   "execution_count": null,
   "id": "98bdf2a8",
   "metadata": {
    "ExecuteTime": {
     "end_time": "2023-01-26T19:55:38.128065Z",
     "start_time": "2023-01-26T19:55:38.128055Z"
    }
   },
   "outputs": [],
   "source": [
    "X_train['tem_cartao_credito'] = X_train['tem_cartao_credito'].apply(lambda x: 1 if x == 'yes' else 0)"
   ]
  },
  {
   "cell_type": "markdown",
   "id": "5a4415ae",
   "metadata": {},
   "source": [
    "#### 'membro_ativo'"
   ]
  },
  {
   "cell_type": "code",
   "execution_count": null,
   "id": "9c866f47",
   "metadata": {
    "ExecuteTime": {
     "end_time": "2023-01-26T19:55:38.129918Z",
     "start_time": "2023-01-26T19:55:38.129908Z"
    }
   },
   "outputs": [],
   "source": [
    "X_train['membro_ativo'] = X_train['membro_ativo'].apply(lambda x: 1 if x == 'yes' else 0)"
   ]
  },
  {
   "cell_type": "markdown",
   "id": "4f897cc2",
   "metadata": {},
   "source": [
    "#### Response Variable (Churn)"
   ]
  },
  {
   "cell_type": "code",
   "execution_count": null,
   "id": "ead61ab1",
   "metadata": {
    "ExecuteTime": {
     "end_time": "2023-01-26T19:55:38.131017Z",
     "start_time": "2023-01-26T19:55:38.131000Z"
    }
   },
   "outputs": [],
   "source": [
    "y_train = y_train.apply(lambda x: 1 if x == 'yes' else 0)"
   ]
  },
  {
   "cell_type": "code",
   "execution_count": null,
   "id": "013695cd",
   "metadata": {
    "ExecuteTime": {
     "end_time": "2023-01-26T19:55:38.132313Z",
     "start_time": "2023-01-26T19:55:38.132304Z"
    },
    "cell_style": "split"
   },
   "outputs": [],
   "source": [
    "X_train.head()"
   ]
  },
  {
   "cell_type": "code",
   "execution_count": null,
   "id": "8656fb43",
   "metadata": {
    "ExecuteTime": {
     "end_time": "2023-01-26T19:55:38.133064Z",
     "start_time": "2023-01-26T19:55:38.133055Z"
    },
    "cell_style": "split"
   },
   "outputs": [],
   "source": [
    "y_train.head()"
   ]
  },
  {
   "cell_type": "markdown",
   "id": "4fa27005",
   "metadata": {},
   "source": [
    "## Balancing Response Variable (only Train Data)"
   ]
  },
  {
   "cell_type": "code",
   "execution_count": null,
   "id": "c8841bc8",
   "metadata": {
    "ExecuteTime": {
     "end_time": "2023-01-26T19:55:38.134624Z",
     "start_time": "2023-01-26T19:55:38.134613Z"
    },
    "cell_style": "center",
    "scrolled": true
   },
   "outputs": [],
   "source": [
    "#y_train\n",
    "sns.countplot(x= y_train, palette= \"light:b_r\");"
   ]
  },
  {
   "cell_type": "markdown",
   "id": "4b836772",
   "metadata": {},
   "source": [
    "- Como a variável resposta está desbalanceada, aplico uma técnica (algoritmo) que irá balancear os dados e evitar enviesamento do modelo."
   ]
  },
  {
   "cell_type": "code",
   "execution_count": null,
   "id": "cc3184c4",
   "metadata": {
    "ExecuteTime": {
     "end_time": "2023-01-26T19:55:38.137151Z",
     "start_time": "2023-01-26T19:55:38.137130Z"
    },
    "cell_style": "center"
   },
   "outputs": [],
   "source": [
    "X_train.head()"
   ]
  },
  {
   "cell_type": "code",
   "execution_count": null,
   "id": "56d19954",
   "metadata": {
    "ExecuteTime": {
     "end_time": "2023-01-26T19:55:38.139719Z",
     "start_time": "2023-01-26T19:55:38.139706Z"
    },
    "cell_style": "center"
   },
   "outputs": [],
   "source": [
    "# Over-Sampling na variável resposta dos dados de treino \n",
    "X_train_resampled, y_train_resampled = SMOTE().fit_resample(X_train, y_train)\n",
    "\n",
    "sns.countplot(x= y_train_resampled, palette= \"light:b_r\");"
   ]
  },
  {
   "cell_type": "markdown",
   "id": "1527fe71",
   "metadata": {},
   "source": [
    "## Note:\n",
    "- Como a técnica SMOTE consiste em sintetizar novos dados a partir de dados já existentes, alguns dados das colunas 'id_cliente' e 'sobrenome' iriam se repetir. Como também são colunas não relevantes para o aprendizado do modelo, e é possível resgatá-las posteriormente pela indexação, decide excluí-las na Filtragem dos Dados.\n",
    "- Ao escalar os dados usa-se métricas que são definidas por todo o conjunto de dados, então decidi dividir os dados de treino e teste antes de escalar, pois assim, eu teria dois conjuntos de dados, com métricas únicas para cada conjunto, anulando o enviesamento do modelo. \n",
    "\t\tEx.: A normalização MinMaxScaler utiliza o valor mínimo e máximo do conjunto de dados. Se a normalização tivesse sido feita antes da divisão dos dados em conjuntos de treino e teste, a normalização dos dois conjuntos teriam o mesmo padrão escalar, de um único conjunto, pois iriam dividir os elementos mínimos e máximo, logo estaria injetando informações futuras no conjunto de dados de treinamneto, e assim, enviesando o modelo. Com normalização realizada depois da divisão dos dados em treino e teste, os valores mínimo e máximo seriam únicos para cada conjunto, assim, isolando os dados de treino com os dados de teste, evitando o enviesamento do modelo."
   ]
  },
  {
   "cell_type": "markdown",
   "id": "b3ee33ff",
   "metadata": {},
   "source": [
    "# Feature Selection"
   ]
  },
  {
   "cell_type": "code",
   "execution_count": null,
   "id": "0c5699ec",
   "metadata": {
    "ExecuteTime": {
     "end_time": "2023-01-26T19:55:38.141456Z",
     "start_time": "2023-01-26T19:55:38.141439Z"
    },
    "hide_input": true
   },
   "outputs": [],
   "source": [
    "df6 = df5.copy()"
   ]
  },
  {
   "cell_type": "markdown",
   "id": "bdd00535",
   "metadata": {},
   "source": [
    "## Boruta Feature Selector"
   ]
  },
  {
   "cell_type": "code",
   "execution_count": null,
   "id": "db3bfb41",
   "metadata": {
    "ExecuteTime": {
     "end_time": "2023-01-26T19:55:38.142681Z",
     "start_time": "2023-01-26T19:55:38.142671Z"
    }
   },
   "outputs": [],
   "source": [
    "X_train_boruta= X_train_resampled.values\n",
    "y_train_boruta = y_train_resampled.values.ravel()"
   ]
  },
  {
   "cell_type": "code",
   "execution_count": null,
   "id": "7814ef13",
   "metadata": {
    "ExecuteTime": {
     "end_time": "2023-01-26T19:55:38.143328Z",
     "start_time": "2023-01-26T19:55:38.143306Z"
    }
   },
   "outputs": [],
   "source": [
    "# Intanciando RandomForestRegressor\n",
    "random_forest = RandomForestRegressor(n_jobs=-1)\n",
    "\n",
    "# Intanciando Boruta\n",
    "boruta = BorutaPy(random_forest, n_estimators='auto', verbose= 2, random_state= 42).fit(X_train_boruta, y_train_boruta)"
   ]
  },
  {
   "cell_type": "markdown",
   "id": "ccd1a409",
   "metadata": {},
   "source": [
    "### Best Features from Boruta "
   ]
  },
  {
   "cell_type": "code",
   "execution_count": null,
   "id": "24bbb6e2",
   "metadata": {
    "ExecuteTime": {
     "end_time": "2023-01-26T19:55:38.143947Z",
     "start_time": "2023-01-26T19:55:38.143938Z"
    }
   },
   "outputs": [],
   "source": [
    "columns_selected = boruta.support_.tolist()\n",
    "\n",
    "columns_selected_boruta = X_train_resampled.iloc[:, columns_selected].columns.to_list()\n",
    "\n",
    "columns_not_selected_boruta = list(np.setdiff1d(X_train_resampled.columns, columns_selected_boruta))"
   ]
  },
  {
   "cell_type": "code",
   "execution_count": null,
   "id": "37547b46",
   "metadata": {
    "ExecuteTime": {
     "end_time": "2023-01-26T19:55:38.144776Z",
     "start_time": "2023-01-26T19:55:38.144768Z"
    },
    "cell_style": "split"
   },
   "outputs": [],
   "source": [
    "columns_selected_boruta"
   ]
  },
  {
   "cell_type": "code",
   "execution_count": null,
   "id": "58d1dfd6",
   "metadata": {
    "ExecuteTime": {
     "end_time": "2023-01-26T19:55:38.146749Z",
     "start_time": "2023-01-26T19:55:38.146737Z"
    },
    "cell_style": "split"
   },
   "outputs": [],
   "source": [
    "columns_not_selected_boruta"
   ]
  },
  {
   "cell_type": "markdown",
   "id": "e6e02b43",
   "metadata": {},
   "source": [
    "# Machine Learning and Model Metrics "
   ]
  },
  {
   "cell_type": "code",
   "execution_count": null,
   "id": "56bbac3e",
   "metadata": {
    "ExecuteTime": {
     "end_time": "2023-01-26T19:55:38.147573Z",
     "start_time": "2023-01-26T19:55:38.147563Z"
    },
    "hide_input": true
   },
   "outputs": [],
   "source": [
    "df7 = df6.copy()"
   ]
  },
  {
   "cell_type": "markdown",
   "id": "4c60f8fc",
   "metadata": {
    "hide_input": true
   },
   "source": [
    "## Splitting Dataframe into Training and Test Dataset and Selecting Best Features to Model"
   ]
  },
  {
   "cell_type": "code",
   "execution_count": null,
   "id": "6b922a49",
   "metadata": {
    "ExecuteTime": {
     "end_time": "2023-01-26T19:55:38.148932Z",
     "start_time": "2023-01-26T19:55:38.148923Z"
    }
   },
   "outputs": [],
   "source": [
    "X_train_model = X_train_resampled[columns_selected_boruta]\n",
    "y_train_model = y_train_resampled\n",
    "\n",
    "X_test_model = X_test[columns_selected_boruta]\n",
    "y_test_model = y_test"
   ]
  },
  {
   "cell_type": "markdown",
   "id": "8a5b34d0",
   "metadata": {},
   "source": [
    "## Training and Testing -  Random Forest"
   ]
  },
  {
   "cell_type": "code",
   "execution_count": null,
   "id": "66480ce9",
   "metadata": {
    "ExecuteTime": {
     "end_time": "2023-01-26T19:55:38.149735Z",
     "start_time": "2023-01-26T19:55:38.149725Z"
    }
   },
   "outputs": [],
   "source": [
    "# Instanciando o Modelo\n",
    "model = RandomForestClassifier(n_estimators= 1000, n_jobs=-1, random_state= 42)\n",
    "\n",
    "# Treinando o modelo\n",
    "model.fit(X_train_model, y_train_model)\n",
    "\n",
    "outfile = open('/home/rnglinux/projetos/Churn-Predict/model/model_v1.pkl', 'wb')\n",
    "pickle.dump(model, outfile)\n",
    "outfile.close()"
   ]
  },
  {
   "cell_type": "markdown",
   "id": "35ddbf0a",
   "metadata": {},
   "source": [
    "### Scaling and Balancing Data Test"
   ]
  },
  {
   "cell_type": "code",
   "execution_count": null,
   "id": "86d290d4",
   "metadata": {
    "ExecuteTime": {
     "end_time": "2023-01-26T19:55:38.150795Z",
     "start_time": "2023-01-26T19:55:38.150785Z"
    }
   },
   "outputs": [],
   "source": [
    "# Scaling Test Data\n",
    "\n",
    "## 'score_credito'\n",
    "X_test_model['score_credito'] = robust_scaler.transform(X_test_model[['score_credito']].values)\n",
    "\n",
    "## 'idade'\n",
    "X_test_model['idade'] = robust_scaler.transform(X_test_model[['idade']].values)\n",
    "\n",
    "## 'tempo_permanencia'\n",
    "X_test_model['tempo_permanencia'] = min_max_scaler.transform(X_test_model[['tempo_permanencia']].values)\n",
    "\n",
    "## 'saldo'\n",
    "X_test_model['saldo'] = min_max_scaler.transform(X_test_model[['saldo']].values)\n",
    "\n",
    "## 'salario_estimado'\n",
    "X_test_model['salario_estimado'] = min_max_scaler.transform(X_test_model[['salario_estimado']].values)\n",
    "\n",
    "## 'numero de contas'\n",
    "# Não precisa de trasformação\n",
    "\n",
    "## Response Variable (Churn)\n",
    "y_test_model = y_test_model.apply(lambda x: 1 if x == 'yes' else 0)"
   ]
  },
  {
   "cell_type": "code",
   "execution_count": null,
   "id": "0ce369e8",
   "metadata": {
    "ExecuteTime": {
     "end_time": "2023-01-26T19:55:38.151471Z",
     "start_time": "2023-01-26T19:55:38.151461Z"
    }
   },
   "outputs": [],
   "source": [
    "# Over-Sampling na variável resposta dos dados de teste\n",
    "X_test_resampled, y_test_resampled = SMOTE().fit_resample(X_test_model, y_test_model)\n",
    "\n",
    "sns.countplot(x= y_test_resampled, palette= \"light:b_r\");"
   ]
  },
  {
   "cell_type": "code",
   "execution_count": null,
   "id": "56ef5f41",
   "metadata": {
    "ExecuteTime": {
     "end_time": "2023-01-26T19:55:38.152148Z",
     "start_time": "2023-01-26T19:55:38.152140Z"
    },
    "cell_style": "split"
   },
   "outputs": [],
   "source": [
    "X_test_model.head()"
   ]
  },
  {
   "cell_type": "code",
   "execution_count": null,
   "id": "4f5e52cb",
   "metadata": {
    "ExecuteTime": {
     "end_time": "2023-01-26T19:55:38.153015Z",
     "start_time": "2023-01-26T19:55:38.153004Z"
    },
    "cell_style": "split"
   },
   "outputs": [],
   "source": [
    "y_test_model.head()"
   ]
  },
  {
   "cell_type": "markdown",
   "id": "0374cbcb",
   "metadata": {},
   "source": [
    "### Predict"
   ]
  },
  {
   "cell_type": "code",
   "execution_count": null,
   "id": "a96a1d45",
   "metadata": {
    "ExecuteTime": {
     "end_time": "2023-01-26T19:55:38.153660Z",
     "start_time": "2023-01-26T19:55:38.153651Z"
    }
   },
   "outputs": [],
   "source": [
    "# Previsão com dados de teste\n",
    "yhat_model = model.predict(X_test_model)"
   ]
  },
  {
   "cell_type": "markdown",
   "id": "c34ebc24",
   "metadata": {},
   "source": [
    "## Metrics"
   ]
  },
  {
   "cell_type": "markdown",
   "id": "74f62e9e",
   "metadata": {},
   "source": [
    "### Confusion Matrix"
   ]
  },
  {
   "cell_type": "code",
   "execution_count": null,
   "id": "a7ea7bfd",
   "metadata": {
    "ExecuteTime": {
     "end_time": "2023-01-26T19:55:38.155546Z",
     "start_time": "2023-01-26T19:55:38.155533Z"
    },
    "cell_style": "split",
    "hide_input": true
   },
   "outputs": [],
   "source": [
    "matrix_absolute = confusion_matrix(y_test_model, yhat_model)\n",
    "matrix_percentage = confusion_matrix(y_test_model, yhat_model, normalize= 'true')\n",
    "\n",
    "print('- Matriz Absoluta')\n",
    "print(matrix_absolute)"
   ]
  },
  {
   "cell_type": "code",
   "execution_count": null,
   "id": "5c5922de",
   "metadata": {
    "ExecuteTime": {
     "end_time": "2023-01-26T19:55:38.156125Z",
     "start_time": "2023-01-26T19:55:38.156114Z"
    },
    "cell_style": "split",
    "hide_input": true
   },
   "outputs": [],
   "source": [
    "print('- Matriz Percentual')\n",
    "print(matrix_percentage)"
   ]
  },
  {
   "cell_type": "code",
   "execution_count": null,
   "id": "464f91b4",
   "metadata": {
    "ExecuteTime": {
     "end_time": "2023-01-26T19:55:38.157426Z",
     "start_time": "2023-01-26T19:55:38.157417Z"
    },
    "cell_style": "split",
    "hide_input": true
   },
   "outputs": [],
   "source": [
    "true_positive_abs = matrix_absolute[0][0]\n",
    "false_negative_abs = matrix_absolute[0][1]\n",
    "false_positive_abs = matrix_absolute[1][0]\n",
    "true_negative_abs = matrix_absolute[1][1]\n",
    "\n",
    "print(f'True Positive: {true_positive_abs}')\n",
    "print(f'False Negative: {false_negative_abs}')\n",
    "print(f'False Positive: {false_positive_abs}')\n",
    "print(f'True Negative: {true_negative_abs}')"
   ]
  },
  {
   "cell_type": "code",
   "execution_count": null,
   "id": "eade1e0a",
   "metadata": {
    "ExecuteTime": {
     "end_time": "2023-01-26T19:55:38.158698Z",
     "start_time": "2023-01-26T19:55:38.158687Z"
    },
    "cell_style": "split",
    "hide_input": true
   },
   "outputs": [],
   "source": [
    "true_positive_perc = matrix_percentage[0][0]\n",
    "false_negative_perc = matrix_percentage[0][1]\n",
    "false_positive_perc = matrix_percentage[1][0]\n",
    "true_negative_perc = matrix_percentage[1][1]\n",
    "\n",
    "print(f'True Positive: {true_positive_perc * 100 :.2f}%')\n",
    "print(f'False Negative: {false_negative_perc * 100:.2f}%')\n",
    "print(f'False Positive: {false_positive_perc * 100:.2f}%')\n",
    "print(f'True Negative: {true_negative_perc * 100:.2f}%')"
   ]
  },
  {
   "cell_type": "code",
   "execution_count": null,
   "id": "820fe586",
   "metadata": {
    "ExecuteTime": {
     "end_time": "2023-01-26T19:55:38.160298Z",
     "start_time": "2023-01-26T19:55:38.160289Z"
    }
   },
   "outputs": [],
   "source": [
    "# Métricas de Performance do Modelo\n",
    "print(classification_report(y_test_model, yhat_model))"
   ]
  },
  {
   "cell_type": "markdown",
   "id": "cbb6b982",
   "metadata": {},
   "source": [
    "## Hypothetical Prediction"
   ]
  },
  {
   "cell_type": "code",
   "execution_count": null,
   "id": "1327b950",
   "metadata": {
    "ExecuteTime": {
     "end_time": "2023-01-26T19:55:38.160845Z",
     "start_time": "2023-01-26T19:55:38.160836Z"
    }
   },
   "outputs": [],
   "source": [
    "hypothetical_client = pd.DataFrame({'score_credito':48.833333,\n",
    "                                    'idade': -0.833333,\n",
    "                                    'tempo_permanencia': 0.3,\n",
    "                                    'saldo': 9670.907,\n",
    "                                    'numero_de_contas': 1,\n",
    "                                    'salario_estimado': 14637.930}, index=[0])\n",
    "\n",
    "client_probability = model.predict_proba(hypothetical_client)\n",
    "client_probability\n",
    "print(f'A probabilidade do cliente hipotético de não recontratar o plano de conta do Top Bank é de {round(client_probability[:, 1][0] * 100, 2)}%')"
   ]
  },
  {
   "cell_type": "markdown",
   "id": "ef4aa557",
   "metadata": {},
   "source": [
    "## Note:\n",
    "Para a próxima versão:\n",
    "1. Multi-modelagem para definir o melhor modelo.\n",
    "2. Estudar os melhores parâmetros para serem aplicados no modelo escolhido.\n",
    "3. Definir as métrica mais importantes para o projeto.\n",
    "3. Implementar Curva ROC."
   ]
  },
  {
   "cell_type": "markdown",
   "id": "da61d5a7",
   "metadata": {},
   "source": [
    "# Business Translation"
   ]
  },
  {
   "cell_type": "code",
   "execution_count": null,
   "id": "4944bacc",
   "metadata": {
    "ExecuteTime": {
     "end_time": "2023-01-26T19:55:38.162369Z",
     "start_time": "2023-01-26T19:55:38.162358Z"
    },
    "hide_input": true
   },
   "outputs": [],
   "source": [
    "df8 = df7.copy()"
   ]
  },
  {
   "cell_type": "markdown",
   "id": "f417787c",
   "metadata": {},
   "source": [
    "## What is Top Bank's current Churn rate?"
   ]
  },
  {
   "cell_type": "markdown",
   "id": "eb217461",
   "metadata": {},
   "source": [
    "- Foi respondida na análise univariada da variável resposta. 20.37% de Churn Rate."
   ]
  },
  {
   "cell_type": "code",
   "execution_count": null,
   "id": "857c02ed",
   "metadata": {
    "ExecuteTime": {
     "end_time": "2023-01-26T19:55:38.164371Z",
     "start_time": "2023-01-26T19:55:38.164355Z"
    },
    "hide_input": true
   },
   "outputs": [],
   "source": [
    "sns.countplot(x=df4['Churn'], palette= \"light:b_r\");"
   ]
  },
  {
   "cell_type": "code",
   "execution_count": null,
   "id": "0aba1c2b",
   "metadata": {
    "ExecuteTime": {
     "end_time": "2023-01-26T19:55:38.165885Z",
     "start_time": "2023-01-26T19:55:38.165875Z"
    },
    "hide_input": true
   },
   "outputs": [],
   "source": [
    "percentage_no_churn = df4[['id_cliente', 'Churn']].loc[df4['Churn'] == 'no'].shape[0] / df4.shape[0] * 100\n",
    "percentage_yes_churn = df4[['id_cliente', 'Churn']].loc[df4['Churn'] == 'yes'].shape[0] / df4.shape[0] * 100\n",
    "print(f'R: Clientes que irão dar Churn correspondem a {percentage_yes_churn:.2f}% da base de dados e clientes que não irão dar Churn correspondem a {percentage_no_churn:.2f}% da base de dados.')"
   ]
  },
  {
   "cell_type": "markdown",
   "id": "6e6ceec2",
   "metadata": {
    "hide_input": true
   },
   "source": [
    "## How does the churn rate vary monthly?"
   ]
  },
  {
   "cell_type": "markdown",
   "id": "d5c1c293",
   "metadata": {},
   "source": [
    "- Será respondido no segundo ciclo."
   ]
  },
  {
   "cell_type": "markdown",
   "id": "ad79fdda",
   "metadata": {},
   "source": [
    "## What is the performance of the model in classifying customers as churns?"
   ]
  },
  {
   "cell_type": "markdown",
   "id": "12656777",
   "metadata": {},
   "source": [
    "    R: O modelo possui uma precisão de 68% nesse primeiro ciclo."
   ]
  },
  {
   "cell_type": "markdown",
   "id": "a292a28e",
   "metadata": {},
   "source": [
    "## What is the expected return, in terms of revenue, if the company uses its model to avoid churn from customers?"
   ]
  },
  {
   "cell_type": "markdown",
   "id": "622b0f92",
   "metadata": {},
   "source": [
    "- Será respondido no segundo ciclo."
   ]
  },
  {
   "cell_type": "markdown",
   "id": "6798c4e6",
   "metadata": {},
   "source": [
    "# Deploy"
   ]
  },
  {
   "cell_type": "markdown",
   "id": "a3e6c77b",
   "metadata": {},
   "source": [
    "## Note:\n",
    "Próxima versão: criação da classe para deploy."
   ]
  },
  {
   "cell_type": "markdown",
   "id": "2e8566af",
   "metadata": {},
   "source": [
    "# Referências"
   ]
  },
  {
   "cell_type": "markdown",
   "id": "c9631233",
   "metadata": {},
   "source": [
    "- Alura - Lidando com desbalanceamente de dados (https://www.alura.com.br/artigos/lidando-com-desbalanceamento-dados#:~:text=%C3%89%20uma%20t%C3%A9cnica%20que%20consiste%20em%20aumentar%20a%20quantidade%20de,da%20classe%20com%20menor%20frequ%C3%AAncia)\n",
    "- Imbalanced Learn - Over-sampling (https://imbalanced-learn.org/stable/over_sampling.html#from-random-over-sampling-to-smote-and-adasyn)"
   ]
  }
 ],
 "metadata": {
  "kernelspec": {
   "display_name": "Python 3 (ipykernel)",
   "language": "python",
   "name": "python3"
  },
  "language_info": {
   "codemirror_mode": {
    "name": "ipython",
    "version": 3
   },
   "file_extension": ".py",
   "mimetype": "text/x-python",
   "name": "python",
   "nbconvert_exporter": "python",
   "pygments_lexer": "ipython3",
   "version": "3.10.8"
  },
  "toc": {
   "base_numbering": "0",
   "nav_menu": {
    "height": "351px",
    "width": "219px"
   },
   "number_sections": true,
   "sideBar": true,
   "skip_h1_title": false,
   "title_cell": "Table of Contents",
   "title_sidebar": "Contents",
   "toc_cell": false,
   "toc_position": {
    "height": "calc(100% - 180px)",
    "left": "10px",
    "top": "150px",
    "width": "165px"
   },
   "toc_section_display": true,
   "toc_window_display": false
  },
  "varInspector": {
   "cols": {
    "lenName": 16,
    "lenType": 16,
    "lenVar": 40
   },
   "kernels_config": {
    "python": {
     "delete_cmd_postfix": "",
     "delete_cmd_prefix": "del ",
     "library": "var_list.py",
     "varRefreshCmd": "print(var_dic_list())"
    },
    "r": {
     "delete_cmd_postfix": ") ",
     "delete_cmd_prefix": "rm(",
     "library": "var_list.r",
     "varRefreshCmd": "cat(var_dic_list()) "
    }
   },
   "types_to_exclude": [
    "module",
    "function",
    "builtin_function_or_method",
    "instance",
    "_Feature"
   ],
   "window_display": false
  }
 },
 "nbformat": 4,
 "nbformat_minor": 5
}
