{
 "cells": [
  {
   "cell_type": "markdown",
   "id": "11e63496",
   "metadata": {},
   "source": [
    "# Business Problem"
   ]
  },
  {
   "cell_type": "markdown",
   "id": "5bc2af66",
   "metadata": {},
   "source": [
    "A empresa Top Bank atua na Europa tendo como principal produto uma conta bancária. Este produto pode manter o salário do cliente e efetuar pagamentos. Essa conta não tem nenhum custo nos primeiros 12 meses, porém, após esse período, o cliente precisa recontratar o banco para os próximos 12 meses e refazer esse processo todos os anos. Recentemente, a equipe de análise notou que a taxa de churn está aumentando.\n",
    "\n",
    "## Challenge:\n",
    "Como Cientista de Dados, você precisa criar um plano de ação para diminuir o número de clientes churn e mostrar o retorno financeiro da sua solução.\n",
    "Além disso, você precisará fornecer um relatório relatando o desempenho de seu modelo e o impacto financeiro de sua solução.\n",
    "Perguntas que o CEO e a equipe do Analytics gostariam de ver em seu relatório:\n",
    "\n",
    "1. Qual é a atual taxa de churn do Top Bank?\n",
    "2. Como a taxa de churn varia mensalmente?\n",
    "3. Qual é o desempenho do modelo na classificação de clientes como churns?\n",
    "4. Qual é o retorno esperado, em termos de receita, se a empresa utilizar seu modelo para evitar o churn de clientes?"
   ]
  },
  {
   "cell_type": "markdown",
   "id": "d2640df1",
   "metadata": {},
   "source": [
    "## Note:\n",
    "Como posso responder os 4 desafios do problema???\n",
    "\n",
    "    R: Conhecer as variáveis (Data Description) e definir plano de desenvolvimento."
   ]
  },
  {
   "cell_type": "markdown",
   "id": "09d4bc41",
   "metadata": {},
   "source": [
    "# Imports"
   ]
  },
  {
   "cell_type": "code",
   "execution_count": 1,
   "id": "8ce168ed",
   "metadata": {
    "ExecuteTime": {
     "end_time": "2023-01-23T20:17:48.727036Z",
     "start_time": "2023-01-23T20:17:46.924341Z"
    }
   },
   "outputs": [],
   "source": [
    "#Data Processing\n",
    "import pandas as pd\n",
    "import numpy as np\n",
    "\n",
    "#Data Visualization\n",
    "import seaborn as sns\n",
    "import matplotlib.pyplot as plt\n",
    "\n",
    "#Data Preparation\n",
    "from sklearn.preprocessing import RobustScaler, MinMaxScaler, LabelEncoder\n",
    "from imblearn.over_sampling import SMOTE\n",
    "\n",
    "#Feature Selection\n",
    "from sklearn.model_selection import train_test_split\n",
    "from sklearn.ensemble import RandomForestRegressor\n",
    "from boruta import BorutaPy\n",
    "\n",
    "#Model and Metrics\n",
    "from sklearn.ensemble import RandomForestClassifier\n",
    "from sklearn.metrics import confusion_matrix, classification_report\n",
    "\n",
    "#Parameter and Model Saving\n",
    "import pickle\n",
    "\n",
    "#Display Jupyter\n",
    "from IPython.core.display import HTML\n",
    "from IPython.core.display import Image\n",
    "import warnings\n",
    "warnings.filterwarnings('ignore')"
   ]
  },
  {
   "cell_type": "markdown",
   "id": "ba908dc7",
   "metadata": {},
   "source": [
    "## Helper Functions"
   ]
  },
  {
   "cell_type": "code",
   "execution_count": 2,
   "id": "086261a7",
   "metadata": {
    "ExecuteTime": {
     "end_time": "2023-01-23T20:17:48.758087Z",
     "start_time": "2023-01-23T20:17:48.728882Z"
    },
    "code_folding": [
     0,
     19,
     25
    ]
   },
   "outputs": [
    {
     "name": "stdout",
     "output_type": "stream",
     "text": [
      "%pylab is deprecated, use %matplotlib inline and import the required libraries.\n",
      "Populating the interactive namespace from numpy and matplotlib\n"
     ]
    },
    {
     "data": {
      "text/html": [
       "<style>.container { width:100% !important; }</style>"
      ],
      "text/plain": [
       "<IPython.core.display.HTML object>"
      ]
     },
     "metadata": {},
     "output_type": "display_data"
    }
   ],
   "source": [
    "def numeric_descriptive_statistical(numeric_attributes):\n",
    "    #Central Tendency - Mean, Median\n",
    "    mean = pd.DataFrame(numeric_attributes.apply(np.mean)).T\n",
    "    median = pd.DataFrame(numeric_attributes.apply(np.median)).T\n",
    "\n",
    "    #Dispersion - Std, Min, Max, range, skew, kurtosis\n",
    "    standard_deviation = pd.DataFrame(numeric_attributes.apply(np.std)).T\n",
    "    minimum = pd.DataFrame(numeric_attributes.apply(np.min)).T\n",
    "    maximum = pd.DataFrame(numeric_attributes.apply(np.max)).T\n",
    "    distance_between_minimum_and_maximum = pd.DataFrame(numeric_attributes.apply(lambda x: x.max() - x.min())).T\n",
    "    skewness = pd.DataFrame(numeric_attributes.apply(lambda x: x.skew())).T\n",
    "    kurtosis = pd.DataFrame(numeric_attributes.apply(lambda x: x.kurtosis())).T\n",
    "\n",
    "    #concatenate\n",
    "    vizualizer_descriptive_statistical = pd.concat([minimum, maximum, distance_between_minimum_and_maximum, mean, median, standard_deviation, skewness, kurtosis]).T.reset_index()\n",
    "    vizualizer_descriptive_statistical.columns = ['attributes', 'min', 'max', 'range', 'mean', 'median', 'std', 'skew', 'kurtosis']\n",
    "\n",
    "    return vizualizer_descriptive_statistical\n",
    "\n",
    "def n_bins(numeric_column):\n",
    "    n = numeric_column.shape[0]\n",
    "    k = round(1 + (3.3 * np.log10(n)))    \n",
    "        \n",
    "    return k\n",
    "\n",
    "def show_univariate_numeric_distribution(numeric_column, bins, title, ylabel, xlabel):\n",
    "    # Get statistics\n",
    "    min_val = numeric_column.min()\n",
    "    max_val = numeric_column.max()\n",
    "    mean_val = numeric_column.mean()\n",
    "    med_val = numeric_column.median()\n",
    "    mod_val = numeric_column.mode()[0]\n",
    "    \n",
    "    print('Mínimo:{:.2f}\\nMédia:{:.2f}\\nMediana:{:.2f}\\nModa:{:.2f}\\nMáximo:{:.2f}\\n'.format(min_val,\n",
    "                                                                                            mean_val,\n",
    "                                                                                            med_val,\n",
    "                                                                                            mod_val,\n",
    "                                                                                            max_val))\n",
    "\n",
    "\n",
    "    # Create a figure for 2 subplots (2 rows, 1 column)\n",
    "    fig, ax = plt.subplots(2, 1, figsize = (18,6))\n",
    "\n",
    "    # Plot the histogram   \n",
    "    ax[0].hist(numeric_column, bins= bins)\n",
    "    ax[0].set_ylabel(ylabel)\n",
    "\n",
    "    # Add lines for the mean, median, and mode\n",
    "    ax[0].axvline(x=min_val, color = 'gray', linestyle='dashed', linewidth = 2)\n",
    "    ax[0].axvline(x=mean_val, color = 'cyan', linestyle='dashed', linewidth = 2)\n",
    "    ax[0].axvline(x=med_val, color = 'red', linestyle='dashed', linewidth = 2)\n",
    "    ax[0].axvline(x=mod_val, color = 'yellow', linestyle='dashed', linewidth = 2)\n",
    "    ax[0].axvline(x=max_val, color = 'gray', linestyle='dashed', linewidth = 2)\n",
    "\n",
    "    # Plot the boxplot   \n",
    "    ax[1].boxplot(numeric_column, vert=False)\n",
    "    ax[1].set_xlabel(xlabel)\n",
    "\n",
    "    # Add a title to the Figure\n",
    "    fig.suptitle(title)\n",
    "    \n",
    "    fig.show()\n",
    "    \n",
    "    return  None\n",
    "\n",
    "def jupyter_settings():\n",
    "    %matplotlib inline\n",
    "    %pylab inline\n",
    "    plt.style.use( 'bmh' )\n",
    "    plt.rcParams['figure.figsize'] = [15, 3]\n",
    "    plt.rcParams['font.size'] = 24\n",
    "    \n",
    "    display(HTML('<style>.container { width:100% !important; }</style>'))\n",
    "    pd.options.display.max_columns = 50\n",
    "    pd.options.display.max_rows= False\n",
    "    pd.set_option( 'display.expand_frame_repr', False )\n",
    "    sns.set()\n",
    "jupyter_settings()"
   ]
  },
  {
   "cell_type": "markdown",
   "id": "e909886a",
   "metadata": {},
   "source": [
    "## Load Data"
   ]
  },
  {
   "cell_type": "code",
   "execution_count": 3,
   "id": "055dfc10",
   "metadata": {
    "ExecuteTime": {
     "end_time": "2023-01-23T20:17:48.822855Z",
     "start_time": "2023-01-23T20:17:48.759510Z"
    },
    "hide_input": true
   },
   "outputs": [
    {
     "data": {
      "text/html": [
       "<div>\n",
       "<style scoped>\n",
       "    .dataframe tbody tr th:only-of-type {\n",
       "        vertical-align: middle;\n",
       "    }\n",
       "\n",
       "    .dataframe tbody tr th {\n",
       "        vertical-align: top;\n",
       "    }\n",
       "\n",
       "    .dataframe thead th {\n",
       "        text-align: right;\n",
       "    }\n",
       "</style>\n",
       "<table border=\"1\" class=\"dataframe\">\n",
       "  <thead>\n",
       "    <tr style=\"text-align: right;\">\n",
       "      <th></th>\n",
       "      <th>RowNumber</th>\n",
       "      <th>CustomerId</th>\n",
       "      <th>Surname</th>\n",
       "      <th>CreditScore</th>\n",
       "      <th>Geography</th>\n",
       "      <th>Gender</th>\n",
       "      <th>Age</th>\n",
       "      <th>Tenure</th>\n",
       "      <th>Balance</th>\n",
       "      <th>NumOfProducts</th>\n",
       "      <th>HasCrCard</th>\n",
       "      <th>IsActiveMember</th>\n",
       "      <th>EstimatedSalary</th>\n",
       "      <th>Exited</th>\n",
       "    </tr>\n",
       "  </thead>\n",
       "  <tbody>\n",
       "    <tr>\n",
       "      <th>0</th>\n",
       "      <td>1</td>\n",
       "      <td>15634602</td>\n",
       "      <td>Hargrave</td>\n",
       "      <td>619</td>\n",
       "      <td>France</td>\n",
       "      <td>Female</td>\n",
       "      <td>42</td>\n",
       "      <td>2</td>\n",
       "      <td>0.00</td>\n",
       "      <td>1</td>\n",
       "      <td>1</td>\n",
       "      <td>1</td>\n",
       "      <td>101348.88</td>\n",
       "      <td>1</td>\n",
       "    </tr>\n",
       "    <tr>\n",
       "      <th>1</th>\n",
       "      <td>2</td>\n",
       "      <td>15647311</td>\n",
       "      <td>Hill</td>\n",
       "      <td>608</td>\n",
       "      <td>Spain</td>\n",
       "      <td>Female</td>\n",
       "      <td>41</td>\n",
       "      <td>1</td>\n",
       "      <td>83807.86</td>\n",
       "      <td>1</td>\n",
       "      <td>0</td>\n",
       "      <td>1</td>\n",
       "      <td>112542.58</td>\n",
       "      <td>0</td>\n",
       "    </tr>\n",
       "    <tr>\n",
       "      <th>2</th>\n",
       "      <td>3</td>\n",
       "      <td>15619304</td>\n",
       "      <td>Onio</td>\n",
       "      <td>502</td>\n",
       "      <td>France</td>\n",
       "      <td>Female</td>\n",
       "      <td>42</td>\n",
       "      <td>8</td>\n",
       "      <td>159660.80</td>\n",
       "      <td>3</td>\n",
       "      <td>1</td>\n",
       "      <td>0</td>\n",
       "      <td>113931.57</td>\n",
       "      <td>1</td>\n",
       "    </tr>\n",
       "    <tr>\n",
       "      <th>3</th>\n",
       "      <td>4</td>\n",
       "      <td>15701354</td>\n",
       "      <td>Boni</td>\n",
       "      <td>699</td>\n",
       "      <td>France</td>\n",
       "      <td>Female</td>\n",
       "      <td>39</td>\n",
       "      <td>1</td>\n",
       "      <td>0.00</td>\n",
       "      <td>2</td>\n",
       "      <td>0</td>\n",
       "      <td>0</td>\n",
       "      <td>93826.63</td>\n",
       "      <td>0</td>\n",
       "    </tr>\n",
       "    <tr>\n",
       "      <th>4</th>\n",
       "      <td>5</td>\n",
       "      <td>15737888</td>\n",
       "      <td>Mitchell</td>\n",
       "      <td>850</td>\n",
       "      <td>Spain</td>\n",
       "      <td>Female</td>\n",
       "      <td>43</td>\n",
       "      <td>2</td>\n",
       "      <td>125510.82</td>\n",
       "      <td>1</td>\n",
       "      <td>1</td>\n",
       "      <td>1</td>\n",
       "      <td>79084.10</td>\n",
       "      <td>0</td>\n",
       "    </tr>\n",
       "    <tr>\n",
       "      <th>5</th>\n",
       "      <td>6</td>\n",
       "      <td>15574012</td>\n",
       "      <td>Chu</td>\n",
       "      <td>645</td>\n",
       "      <td>Spain</td>\n",
       "      <td>Male</td>\n",
       "      <td>44</td>\n",
       "      <td>8</td>\n",
       "      <td>113755.78</td>\n",
       "      <td>2</td>\n",
       "      <td>1</td>\n",
       "      <td>0</td>\n",
       "      <td>149756.71</td>\n",
       "      <td>1</td>\n",
       "    </tr>\n",
       "    <tr>\n",
       "      <th>6</th>\n",
       "      <td>7</td>\n",
       "      <td>15592531</td>\n",
       "      <td>Bartlett</td>\n",
       "      <td>822</td>\n",
       "      <td>France</td>\n",
       "      <td>Male</td>\n",
       "      <td>50</td>\n",
       "      <td>7</td>\n",
       "      <td>0.00</td>\n",
       "      <td>2</td>\n",
       "      <td>1</td>\n",
       "      <td>1</td>\n",
       "      <td>10062.80</td>\n",
       "      <td>0</td>\n",
       "    </tr>\n",
       "    <tr>\n",
       "      <th>7</th>\n",
       "      <td>8</td>\n",
       "      <td>15656148</td>\n",
       "      <td>Obinna</td>\n",
       "      <td>376</td>\n",
       "      <td>Germany</td>\n",
       "      <td>Female</td>\n",
       "      <td>29</td>\n",
       "      <td>4</td>\n",
       "      <td>115046.74</td>\n",
       "      <td>4</td>\n",
       "      <td>1</td>\n",
       "      <td>0</td>\n",
       "      <td>119346.88</td>\n",
       "      <td>1</td>\n",
       "    </tr>\n",
       "    <tr>\n",
       "      <th>8</th>\n",
       "      <td>9</td>\n",
       "      <td>15792365</td>\n",
       "      <td>He</td>\n",
       "      <td>501</td>\n",
       "      <td>France</td>\n",
       "      <td>Male</td>\n",
       "      <td>44</td>\n",
       "      <td>4</td>\n",
       "      <td>142051.07</td>\n",
       "      <td>2</td>\n",
       "      <td>0</td>\n",
       "      <td>1</td>\n",
       "      <td>74940.50</td>\n",
       "      <td>0</td>\n",
       "    </tr>\n",
       "    <tr>\n",
       "      <th>...</th>\n",
       "      <td>...</td>\n",
       "      <td>...</td>\n",
       "      <td>...</td>\n",
       "      <td>...</td>\n",
       "      <td>...</td>\n",
       "      <td>...</td>\n",
       "      <td>...</td>\n",
       "      <td>...</td>\n",
       "      <td>...</td>\n",
       "      <td>...</td>\n",
       "      <td>...</td>\n",
       "      <td>...</td>\n",
       "      <td>...</td>\n",
       "      <td>...</td>\n",
       "    </tr>\n",
       "    <tr>\n",
       "      <th>9991</th>\n",
       "      <td>9992</td>\n",
       "      <td>15769959</td>\n",
       "      <td>Ajuluchukwu</td>\n",
       "      <td>597</td>\n",
       "      <td>France</td>\n",
       "      <td>Female</td>\n",
       "      <td>53</td>\n",
       "      <td>4</td>\n",
       "      <td>88381.21</td>\n",
       "      <td>1</td>\n",
       "      <td>1</td>\n",
       "      <td>0</td>\n",
       "      <td>69384.71</td>\n",
       "      <td>1</td>\n",
       "    </tr>\n",
       "    <tr>\n",
       "      <th>9992</th>\n",
       "      <td>9993</td>\n",
       "      <td>15657105</td>\n",
       "      <td>Chukwualuka</td>\n",
       "      <td>726</td>\n",
       "      <td>Spain</td>\n",
       "      <td>Male</td>\n",
       "      <td>36</td>\n",
       "      <td>2</td>\n",
       "      <td>0.00</td>\n",
       "      <td>1</td>\n",
       "      <td>1</td>\n",
       "      <td>0</td>\n",
       "      <td>195192.40</td>\n",
       "      <td>0</td>\n",
       "    </tr>\n",
       "    <tr>\n",
       "      <th>9993</th>\n",
       "      <td>9994</td>\n",
       "      <td>15569266</td>\n",
       "      <td>Rahman</td>\n",
       "      <td>644</td>\n",
       "      <td>France</td>\n",
       "      <td>Male</td>\n",
       "      <td>28</td>\n",
       "      <td>7</td>\n",
       "      <td>155060.41</td>\n",
       "      <td>1</td>\n",
       "      <td>1</td>\n",
       "      <td>0</td>\n",
       "      <td>29179.52</td>\n",
       "      <td>0</td>\n",
       "    </tr>\n",
       "    <tr>\n",
       "      <th>9994</th>\n",
       "      <td>9995</td>\n",
       "      <td>15719294</td>\n",
       "      <td>Wood</td>\n",
       "      <td>800</td>\n",
       "      <td>France</td>\n",
       "      <td>Female</td>\n",
       "      <td>29</td>\n",
       "      <td>2</td>\n",
       "      <td>0.00</td>\n",
       "      <td>2</td>\n",
       "      <td>0</td>\n",
       "      <td>0</td>\n",
       "      <td>167773.55</td>\n",
       "      <td>0</td>\n",
       "    </tr>\n",
       "    <tr>\n",
       "      <th>9995</th>\n",
       "      <td>9996</td>\n",
       "      <td>15606229</td>\n",
       "      <td>Obijiaku</td>\n",
       "      <td>771</td>\n",
       "      <td>France</td>\n",
       "      <td>Male</td>\n",
       "      <td>39</td>\n",
       "      <td>5</td>\n",
       "      <td>0.00</td>\n",
       "      <td>2</td>\n",
       "      <td>1</td>\n",
       "      <td>0</td>\n",
       "      <td>96270.64</td>\n",
       "      <td>0</td>\n",
       "    </tr>\n",
       "    <tr>\n",
       "      <th>9996</th>\n",
       "      <td>9997</td>\n",
       "      <td>15569892</td>\n",
       "      <td>Johnstone</td>\n",
       "      <td>516</td>\n",
       "      <td>France</td>\n",
       "      <td>Male</td>\n",
       "      <td>35</td>\n",
       "      <td>10</td>\n",
       "      <td>57369.61</td>\n",
       "      <td>1</td>\n",
       "      <td>1</td>\n",
       "      <td>1</td>\n",
       "      <td>101699.77</td>\n",
       "      <td>0</td>\n",
       "    </tr>\n",
       "    <tr>\n",
       "      <th>9997</th>\n",
       "      <td>9998</td>\n",
       "      <td>15584532</td>\n",
       "      <td>Liu</td>\n",
       "      <td>709</td>\n",
       "      <td>France</td>\n",
       "      <td>Female</td>\n",
       "      <td>36</td>\n",
       "      <td>7</td>\n",
       "      <td>0.00</td>\n",
       "      <td>1</td>\n",
       "      <td>0</td>\n",
       "      <td>1</td>\n",
       "      <td>42085.58</td>\n",
       "      <td>1</td>\n",
       "    </tr>\n",
       "    <tr>\n",
       "      <th>9998</th>\n",
       "      <td>9999</td>\n",
       "      <td>15682355</td>\n",
       "      <td>Sabbatini</td>\n",
       "      <td>772</td>\n",
       "      <td>Germany</td>\n",
       "      <td>Male</td>\n",
       "      <td>42</td>\n",
       "      <td>3</td>\n",
       "      <td>75075.31</td>\n",
       "      <td>2</td>\n",
       "      <td>1</td>\n",
       "      <td>0</td>\n",
       "      <td>92888.52</td>\n",
       "      <td>1</td>\n",
       "    </tr>\n",
       "    <tr>\n",
       "      <th>9999</th>\n",
       "      <td>10000</td>\n",
       "      <td>15628319</td>\n",
       "      <td>Walker</td>\n",
       "      <td>792</td>\n",
       "      <td>France</td>\n",
       "      <td>Female</td>\n",
       "      <td>28</td>\n",
       "      <td>4</td>\n",
       "      <td>130142.79</td>\n",
       "      <td>1</td>\n",
       "      <td>1</td>\n",
       "      <td>0</td>\n",
       "      <td>38190.78</td>\n",
       "      <td>0</td>\n",
       "    </tr>\n",
       "  </tbody>\n",
       "</table>\n",
       "<p>10000 rows × 14 columns</p>\n",
       "</div>"
      ],
      "text/plain": [
       "      RowNumber  CustomerId      Surname  CreditScore Geography  Gender  Age  Tenure    Balance  NumOfProducts  HasCrCard  IsActiveMember  EstimatedSalary  Exited\n",
       "0             1    15634602     Hargrave          619    France  Female   42       2       0.00              1          1               1        101348.88       1\n",
       "1             2    15647311         Hill          608     Spain  Female   41       1   83807.86              1          0               1        112542.58       0\n",
       "2             3    15619304         Onio          502    France  Female   42       8  159660.80              3          1               0        113931.57       1\n",
       "3             4    15701354         Boni          699    France  Female   39       1       0.00              2          0               0         93826.63       0\n",
       "4             5    15737888     Mitchell          850     Spain  Female   43       2  125510.82              1          1               1         79084.10       0\n",
       "5             6    15574012          Chu          645     Spain    Male   44       8  113755.78              2          1               0        149756.71       1\n",
       "6             7    15592531     Bartlett          822    France    Male   50       7       0.00              2          1               1         10062.80       0\n",
       "7             8    15656148       Obinna          376   Germany  Female   29       4  115046.74              4          1               0        119346.88       1\n",
       "8             9    15792365           He          501    France    Male   44       4  142051.07              2          0               1         74940.50       0\n",
       "...         ...         ...          ...          ...       ...     ...  ...     ...        ...            ...        ...             ...              ...     ...\n",
       "9991       9992    15769959  Ajuluchukwu          597    France  Female   53       4   88381.21              1          1               0         69384.71       1\n",
       "9992       9993    15657105  Chukwualuka          726     Spain    Male   36       2       0.00              1          1               0        195192.40       0\n",
       "9993       9994    15569266       Rahman          644    France    Male   28       7  155060.41              1          1               0         29179.52       0\n",
       "9994       9995    15719294         Wood          800    France  Female   29       2       0.00              2          0               0        167773.55       0\n",
       "9995       9996    15606229     Obijiaku          771    France    Male   39       5       0.00              2          1               0         96270.64       0\n",
       "9996       9997    15569892    Johnstone          516    France    Male   35      10   57369.61              1          1               1        101699.77       0\n",
       "9997       9998    15584532          Liu          709    France  Female   36       7       0.00              1          0               1         42085.58       1\n",
       "9998       9999    15682355    Sabbatini          772   Germany    Male   42       3   75075.31              2          1               0         92888.52       1\n",
       "9999      10000    15628319       Walker          792    France  Female   28       4  130142.79              1          1               0         38190.78       0\n",
       "\n",
       "[10000 rows x 14 columns]"
      ]
     },
     "execution_count": 3,
     "metadata": {},
     "output_type": "execute_result"
    }
   ],
   "source": [
    "data_raw = pd.read_csv('../data/churn.csv')\n",
    "data_raw"
   ]
  },
  {
   "cell_type": "markdown",
   "id": "d06d43c6",
   "metadata": {},
   "source": [
    "# Data Description"
   ]
  },
  {
   "cell_type": "code",
   "execution_count": 4,
   "id": "f56b388f",
   "metadata": {
    "ExecuteTime": {
     "end_time": "2023-01-23T20:17:48.829093Z",
     "start_time": "2023-01-23T20:17:48.825266Z"
    },
    "hide_input": true
   },
   "outputs": [],
   "source": [
    "df2 = data_raw.copy()"
   ]
  },
  {
   "cell_type": "markdown",
   "id": "4377ca28",
   "metadata": {},
   "source": [
    "## Meaning of Data"
   ]
  },
  {
   "cell_type": "markdown",
   "id": "301de62b",
   "metadata": {},
   "source": [
    "- **RowNumber**: o número das colunas\n",
    "- **CustomerID**: identificador único de clientes\n",
    "- **Surname**: sobrenome do cliente\n",
    "- **CreditScore**: pontuação de crédito do cliente para o mercado financeiro (quanto maior o score, é um bom pagador)\n",
    "- **Geography**: o país do cliente\n",
    "- **Gender**: o gênero do cliente\n",
    "- **Age**: a idade do cliente\n",
    "- **Tenure**: número de anos que o cliente está no banco\n",
    "- **Balance**: o valor que o cliente tem em sua conta\n",
    "- **NumOfProducts**: o número de produtos que o cliente comprou (no caso, contas)\n",
    "- **HasCrCard**: se o cliente tiver cartão de crédito\n",
    "- **IsActiveMember**: se o cliente estiver ativo (nos últimos 12 meses)\n",
    "- **EstimateSalary**: estimativa de salário anual dos clientes\n",
    "- **Exited**: se o cliente for churn (*variável resposta*)"
   ]
  },
  {
   "cell_type": "markdown",
   "id": "a3723ca0",
   "metadata": {},
   "source": [
    "## Rename Columns"
   ]
  },
  {
   "cell_type": "code",
   "execution_count": 5,
   "id": "ddbb4daf",
   "metadata": {
    "ExecuteTime": {
     "end_time": "2023-01-23T20:17:48.841641Z",
     "start_time": "2023-01-23T20:17:48.830840Z"
    }
   },
   "outputs": [
    {
     "data": {
      "text/html": [
       "<div>\n",
       "<style scoped>\n",
       "    .dataframe tbody tr th:only-of-type {\n",
       "        vertical-align: middle;\n",
       "    }\n",
       "\n",
       "    .dataframe tbody tr th {\n",
       "        vertical-align: top;\n",
       "    }\n",
       "\n",
       "    .dataframe thead th {\n",
       "        text-align: right;\n",
       "    }\n",
       "</style>\n",
       "<table border=\"1\" class=\"dataframe\">\n",
       "  <thead>\n",
       "    <tr style=\"text-align: right;\">\n",
       "      <th></th>\n",
       "      <th>numero_linha</th>\n",
       "      <th>id_cliente</th>\n",
       "      <th>sobrenome</th>\n",
       "      <th>score_credito</th>\n",
       "      <th>geografia</th>\n",
       "      <th>genero</th>\n",
       "      <th>idade</th>\n",
       "      <th>tempo_permanencia</th>\n",
       "      <th>saldo</th>\n",
       "      <th>numero_de_contas</th>\n",
       "      <th>tem_cartao_credito</th>\n",
       "      <th>membro_ativo</th>\n",
       "      <th>salario_estimado</th>\n",
       "      <th>Churn</th>\n",
       "    </tr>\n",
       "  </thead>\n",
       "  <tbody>\n",
       "    <tr>\n",
       "      <th>0</th>\n",
       "      <td>1</td>\n",
       "      <td>15634602</td>\n",
       "      <td>Hargrave</td>\n",
       "      <td>619</td>\n",
       "      <td>France</td>\n",
       "      <td>Female</td>\n",
       "      <td>42</td>\n",
       "      <td>2</td>\n",
       "      <td>0.0</td>\n",
       "      <td>1</td>\n",
       "      <td>1</td>\n",
       "      <td>1</td>\n",
       "      <td>101348.88</td>\n",
       "      <td>1</td>\n",
       "    </tr>\n",
       "  </tbody>\n",
       "</table>\n",
       "</div>"
      ],
      "text/plain": [
       "   numero_linha  id_cliente sobrenome  score_credito geografia  genero  idade  tempo_permanencia  saldo  numero_de_contas  tem_cartao_credito  membro_ativo  salario_estimado  Churn\n",
       "0             1    15634602  Hargrave            619    France  Female     42                  2    0.0                 1                   1             1         101348.88      1"
      ]
     },
     "execution_count": 5,
     "metadata": {},
     "output_type": "execute_result"
    }
   ],
   "source": [
    "renamed_columns = ['numero_linha', 'id_cliente', 'sobrenome', 'score_credito', 'geografia', 'genero', 'idade', 'tempo_permanencia', \n",
    "                   'saldo', 'numero_de_contas', 'tem_cartao_credito', 'membro_ativo', 'salario_estimado', 'Churn']\n",
    "df2.columns = renamed_columns\n",
    "\n",
    "df2.head(1)"
   ]
  },
  {
   "cell_type": "markdown",
   "id": "d39700e1",
   "metadata": {},
   "source": [
    "## Data Dimensions"
   ]
  },
  {
   "cell_type": "code",
   "execution_count": 6,
   "id": "52f48922",
   "metadata": {
    "ExecuteTime": {
     "end_time": "2023-01-23T20:17:48.848224Z",
     "start_time": "2023-01-23T20:17:48.843418Z"
    },
    "hide_input": true
   },
   "outputs": [
    {
     "name": "stdout",
     "output_type": "stream",
     "text": [
      "A base de dados possui 10000 clientes e 14 variáveis.\n"
     ]
    }
   ],
   "source": [
    "data_dimensions = df2.shape\n",
    "print(f'A base de dados possui {data_dimensions[0]} clientes e {data_dimensions[1]} variáveis.')"
   ]
  },
  {
   "cell_type": "markdown",
   "id": "373278d7",
   "metadata": {},
   "source": [
    "## Data Types"
   ]
  },
  {
   "cell_type": "code",
   "execution_count": 7,
   "id": "b4a38b50",
   "metadata": {
    "ExecuteTime": {
     "end_time": "2023-01-23T20:17:48.858776Z",
     "start_time": "2023-01-23T20:17:48.850315Z"
    },
    "hide_input": true
   },
   "outputs": [
    {
     "data": {
      "text/plain": [
       "numero_linha            int64\n",
       "id_cliente              int64\n",
       "sobrenome              object\n",
       "score_credito           int64\n",
       "geografia              object\n",
       "genero                 object\n",
       "idade                   int64\n",
       "tempo_permanencia       int64\n",
       "saldo                 float64\n",
       "numero_de_contas        int64\n",
       "tem_cartao_credito      int64\n",
       "membro_ativo            int64\n",
       "salario_estimado      float64\n",
       "Churn                   int64\n",
       "dtype: object"
      ]
     },
     "execution_count": 7,
     "metadata": {},
     "output_type": "execute_result"
    }
   ],
   "source": [
    "df2.dtypes"
   ]
  },
  {
   "cell_type": "markdown",
   "id": "8eca6883",
   "metadata": {},
   "source": [
    "### Change Data Types"
   ]
  },
  {
   "cell_type": "code",
   "execution_count": 8,
   "id": "28c6463e",
   "metadata": {
    "ExecuteTime": {
     "end_time": "2023-01-23T20:17:48.872298Z",
     "start_time": "2023-01-23T20:17:48.860509Z"
    }
   },
   "outputs": [
    {
     "data": {
      "text/plain": [
       "numero_linha            int64\n",
       "id_cliente              int64\n",
       "sobrenome              object\n",
       "score_credito           int64\n",
       "geografia              object\n",
       "genero                 object\n",
       "idade                   int64\n",
       "tempo_permanencia       int64\n",
       "saldo                 float64\n",
       "numero_de_contas        int64\n",
       "tem_cartao_credito     object\n",
       "membro_ativo           object\n",
       "salario_estimado      float64\n",
       "Churn                  object\n",
       "dtype: object"
      ]
     },
     "execution_count": 8,
     "metadata": {},
     "output_type": "execute_result"
    }
   ],
   "source": [
    "#Alterando o tipo de dados das colunas binárias: 'tem_cartao_credito', 'membro_ativo' e 'Churn'\n",
    "categorical_columns = ['tem_cartao_credito', 'membro_ativo', 'Churn']\n",
    "\n",
    "for columns in categorical_columns:\n",
    "    df2[columns] = df2[columns].apply(lambda x: 'yes' if x == 1 else 'no')\n",
    "    \n",
    "df2.dtypes"
   ]
  },
  {
   "cell_type": "markdown",
   "id": "354823fc",
   "metadata": {},
   "source": [
    "## Check Duplicates"
   ]
  },
  {
   "cell_type": "code",
   "execution_count": 9,
   "id": "98063fd4",
   "metadata": {
    "ExecuteTime": {
     "end_time": "2023-01-23T20:17:48.883604Z",
     "start_time": "2023-01-23T20:17:48.873777Z"
    }
   },
   "outputs": [
    {
     "data": {
      "text/html": [
       "<div>\n",
       "<style scoped>\n",
       "    .dataframe tbody tr th:only-of-type {\n",
       "        vertical-align: middle;\n",
       "    }\n",
       "\n",
       "    .dataframe tbody tr th {\n",
       "        vertical-align: top;\n",
       "    }\n",
       "\n",
       "    .dataframe thead th {\n",
       "        text-align: right;\n",
       "    }\n",
       "</style>\n",
       "<table border=\"1\" class=\"dataframe\">\n",
       "  <thead>\n",
       "    <tr style=\"text-align: right;\">\n",
       "      <th></th>\n",
       "      <th>numero_linha</th>\n",
       "      <th>id_cliente</th>\n",
       "      <th>sobrenome</th>\n",
       "      <th>score_credito</th>\n",
       "      <th>geografia</th>\n",
       "      <th>genero</th>\n",
       "      <th>idade</th>\n",
       "      <th>tempo_permanencia</th>\n",
       "      <th>saldo</th>\n",
       "      <th>numero_de_contas</th>\n",
       "      <th>tem_cartao_credito</th>\n",
       "      <th>membro_ativo</th>\n",
       "      <th>salario_estimado</th>\n",
       "      <th>Churn</th>\n",
       "    </tr>\n",
       "  </thead>\n",
       "  <tbody>\n",
       "  </tbody>\n",
       "</table>\n",
       "</div>"
      ],
      "text/plain": [
       "Empty DataFrame\n",
       "Columns: [numero_linha, id_cliente, sobrenome, score_credito, geografia, genero, idade, tempo_permanencia, saldo, numero_de_contas, tem_cartao_credito, membro_ativo, salario_estimado, Churn]\n",
       "Index: []"
      ]
     },
     "execution_count": 9,
     "metadata": {},
     "output_type": "execute_result"
    }
   ],
   "source": [
    "df2[df2.duplicated('id_cliente', False)]"
   ]
  },
  {
   "cell_type": "markdown",
   "id": "a197d82f",
   "metadata": {},
   "source": [
    "- A base não possui dados duplicados."
   ]
  },
  {
   "cell_type": "markdown",
   "id": "69c664b7",
   "metadata": {},
   "source": [
    "## Check NaN and Null Values"
   ]
  },
  {
   "cell_type": "code",
   "execution_count": 10,
   "id": "89da1251",
   "metadata": {
    "ExecuteTime": {
     "end_time": "2023-01-23T20:17:48.898286Z",
     "start_time": "2023-01-23T20:17:48.887504Z"
    },
    "cell_style": "split",
    "hide_input": false
   },
   "outputs": [
    {
     "data": {
      "text/plain": [
       "numero_linha          0\n",
       "id_cliente            0\n",
       "sobrenome             0\n",
       "score_credito         0\n",
       "geografia             0\n",
       "genero                0\n",
       "idade                 0\n",
       "tempo_permanencia     0\n",
       "saldo                 0\n",
       "numero_de_contas      0\n",
       "tem_cartao_credito    0\n",
       "membro_ativo          0\n",
       "salario_estimado      0\n",
       "Churn                 0\n",
       "dtype: int64"
      ]
     },
     "execution_count": 10,
     "metadata": {},
     "output_type": "execute_result"
    }
   ],
   "source": [
    "#Dados NaN\n",
    "df2.isna().sum()"
   ]
  },
  {
   "cell_type": "code",
   "execution_count": 11,
   "id": "180150d2",
   "metadata": {
    "ExecuteTime": {
     "end_time": "2023-01-23T20:17:48.911637Z",
     "start_time": "2023-01-23T20:17:48.900166Z"
    },
    "cell_style": "split",
    "hide_input": false
   },
   "outputs": [
    {
     "data": {
      "text/plain": [
       "numero_linha          0\n",
       "id_cliente            0\n",
       "sobrenome             0\n",
       "score_credito         0\n",
       "geografia             0\n",
       "genero                0\n",
       "idade                 0\n",
       "tempo_permanencia     0\n",
       "saldo                 0\n",
       "numero_de_contas      0\n",
       "tem_cartao_credito    0\n",
       "membro_ativo          0\n",
       "salario_estimado      0\n",
       "Churn                 0\n",
       "dtype: int64"
      ]
     },
     "execution_count": 11,
     "metadata": {},
     "output_type": "execute_result"
    }
   ],
   "source": [
    "#Dados Null\n",
    "df2.isnull().sum()"
   ]
  },
  {
   "cell_type": "markdown",
   "id": "89ca5489",
   "metadata": {},
   "source": [
    "- A base não possui dados faltantes."
   ]
  },
  {
   "cell_type": "markdown",
   "id": "4e021b98",
   "metadata": {},
   "source": [
    "## Check Zero Values"
   ]
  },
  {
   "cell_type": "code",
   "execution_count": 12,
   "id": "6d35320a",
   "metadata": {
    "ExecuteTime": {
     "end_time": "2023-01-23T20:17:48.920188Z",
     "start_time": "2023-01-23T20:17:48.913288Z"
    },
    "hide_input": true
   },
   "outputs": [
    {
     "data": {
      "text/plain": [
       "numero_linha            int64\n",
       "id_cliente              int64\n",
       "sobrenome              object\n",
       "score_credito           int64\n",
       "geografia              object\n",
       "genero                 object\n",
       "idade                   int64\n",
       "tempo_permanencia       int64\n",
       "saldo                 float64\n",
       "numero_de_contas        int64\n",
       "tem_cartao_credito     object\n",
       "membro_ativo           object\n",
       "salario_estimado      float64\n",
       "Churn                  object\n",
       "dtype: object"
      ]
     },
     "execution_count": 12,
     "metadata": {},
     "output_type": "execute_result"
    }
   ],
   "source": [
    "df2.dtypes"
   ]
  },
  {
   "cell_type": "code",
   "execution_count": 13,
   "id": "b3d42f44",
   "metadata": {
    "ExecuteTime": {
     "end_time": "2023-01-23T20:17:48.941472Z",
     "start_time": "2023-01-23T20:17:48.922127Z"
    }
   },
   "outputs": [],
   "source": [
    "#Transfomando valores diferentes de 0 em \"another value\" em todas as variáveis numéricas\n",
    "numerical_variables = df2.select_dtypes(include= ['int64', 'float64']).columns\n",
    "numerical_variables_verify = df2[numerical_variables]\n",
    "\n",
    "for column in numerical_variables_verify.columns:\n",
    "    numerical_variables_verify[column] = numerical_variables_verify[column].apply(lambda x: '0' if x == 0 else 'another value')"
   ]
  },
  {
   "cell_type": "code",
   "execution_count": 14,
   "id": "98a5dfe7",
   "metadata": {
    "ExecuteTime": {
     "end_time": "2023-01-23T20:17:48.952797Z",
     "start_time": "2023-01-23T20:17:48.943259Z"
    }
   },
   "outputs": [
    {
     "data": {
      "text/plain": [
       "numero_linha            [another value]\n",
       "id_cliente              [another value]\n",
       "score_credito           [another value]\n",
       "idade                   [another value]\n",
       "tempo_permanencia    [another value, 0]\n",
       "saldo                [0, another value]\n",
       "numero_de_contas        [another value]\n",
       "salario_estimado        [another value]\n",
       "dtype: object"
      ]
     },
     "execution_count": 14,
     "metadata": {},
     "output_type": "execute_result"
    }
   ],
   "source": [
    "numerical_variables_verify.apply(lambda x: x.unique())"
   ]
  },
  {
   "cell_type": "markdown",
   "id": "d748bdd3",
   "metadata": {},
   "source": [
    "- Apenas as variáveis 'tempo_permanencia' e 'saldo' possuem valores declarados como 0.\n",
    "\n",
    "De fato, apenas as colunas 'score_credito' (dependendo da regra de negócio), 'tempo_permanencia' e 'saldo' fazem sentido terem valores iguais a 0, mas ainda cabe análise."
   ]
  },
  {
   "cell_type": "code",
   "execution_count": 15,
   "id": "2749ea6d",
   "metadata": {
    "ExecuteTime": {
     "end_time": "2023-01-23T20:17:48.961600Z",
     "start_time": "2023-01-23T20:17:48.954933Z"
    },
    "hide_input": true
   },
   "outputs": [
    {
     "name": "stdout",
     "output_type": "stream",
     "text": [
      "A coluna 'saldo' possui 36.17% registros zerados\n",
      "A coluna 'tempo_permanencia' possui 4.13% registros zerados\n"
     ]
    }
   ],
   "source": [
    "percentage_0_in_saldo = numerical_variables_verify['saldo'].value_counts()[1] / numerical_variables_verify.shape[0] * 100\n",
    "percentage_0_in_tenure = numerical_variables_verify['tempo_permanencia'].value_counts()[1] / numerical_variables_verify.shape[0] * 100\n",
    "print(f'A coluna \\'saldo\\' possui {percentage_0_in_saldo}% registros zerados')\n",
    "print(f'A coluna \\'tempo_permanencia\\' possui {percentage_0_in_tenure:.2f}% registros zerados')"
   ]
  },
  {
   "cell_type": "markdown",
   "id": "bffc0271",
   "metadata": {},
   "source": [
    "### 'saldo'"
   ]
  },
  {
   "cell_type": "code",
   "execution_count": 16,
   "id": "fc237ed6",
   "metadata": {
    "ExecuteTime": {
     "end_time": "2023-01-23T20:17:49.178845Z",
     "start_time": "2023-01-23T20:17:48.963076Z"
    }
   },
   "outputs": [
    {
     "data": {
      "image/png": "[encoded data removed]",
      "text/plain": [
       "<Figure size 1500x300 with 2 Axes>"
      ]
     },
     "metadata": {},
     "output_type": "display_data"
    }
   ],
   "source": [
    "df_zero_balance = df2[['saldo', 'tempo_permanencia', 'membro_ativo', 'Churn']].loc[df2['saldo'] == 0]\n",
    "\n",
    "plt.subplot(1, 2, 1)\n",
    "sns.countplot(x= df_zero_balance['membro_ativo']);\n",
    "\n",
    "plt.subplot(1, 2, 2)\n",
    "sns.countplot(x= df_zero_balance['Churn']);"
   ]
  },
  {
   "cell_type": "code",
   "execution_count": 17,
   "id": "bc3c19e0",
   "metadata": {
    "ExecuteTime": {
     "end_time": "2023-01-23T20:17:49.194154Z",
     "start_time": "2023-01-23T20:17:49.180456Z"
    },
    "cell_style": "split"
   },
   "outputs": [
    {
     "data": {
      "text/html": [
       "<div>\n",
       "<style scoped>\n",
       "    .dataframe tbody tr th:only-of-type {\n",
       "        vertical-align: middle;\n",
       "    }\n",
       "\n",
       "    .dataframe tbody tr th {\n",
       "        vertical-align: top;\n",
       "    }\n",
       "\n",
       "    .dataframe thead tr th {\n",
       "        text-align: left;\n",
       "    }\n",
       "\n",
       "    .dataframe thead tr:last-of-type th {\n",
       "        text-align: right;\n",
       "    }\n",
       "</style>\n",
       "<table border=\"1\" class=\"dataframe\">\n",
       "  <thead>\n",
       "    <tr>\n",
       "      <th></th>\n",
       "      <th>saldo_abs</th>\n",
       "      <th>saldo_perc</th>\n",
       "    </tr>\n",
       "    <tr>\n",
       "      <th></th>\n",
       "      <th>saldo</th>\n",
       "      <th>saldo</th>\n",
       "    </tr>\n",
       "    <tr>\n",
       "      <th>tempo_permanencia</th>\n",
       "      <th></th>\n",
       "      <th></th>\n",
       "    </tr>\n",
       "  </thead>\n",
       "  <tbody>\n",
       "    <tr>\n",
       "      <th>0</th>\n",
       "      <td>137</td>\n",
       "      <td>0.037877</td>\n",
       "    </tr>\n",
       "    <tr>\n",
       "      <th>1</th>\n",
       "      <td>349</td>\n",
       "      <td>0.096489</td>\n",
       "    </tr>\n",
       "    <tr>\n",
       "      <th>2</th>\n",
       "      <td>382</td>\n",
       "      <td>0.105612</td>\n",
       "    </tr>\n",
       "    <tr>\n",
       "      <th>3</th>\n",
       "      <td>352</td>\n",
       "      <td>0.097318</td>\n",
       "    </tr>\n",
       "    <tr>\n",
       "      <th>4</th>\n",
       "      <td>369</td>\n",
       "      <td>0.102018</td>\n",
       "    </tr>\n",
       "    <tr>\n",
       "      <th>5</th>\n",
       "      <td>374</td>\n",
       "      <td>0.103401</td>\n",
       "    </tr>\n",
       "    <tr>\n",
       "      <th>6</th>\n",
       "      <td>367</td>\n",
       "      <td>0.101465</td>\n",
       "    </tr>\n",
       "    <tr>\n",
       "      <th>7</th>\n",
       "      <td>386</td>\n",
       "      <td>0.106718</td>\n",
       "    </tr>\n",
       "    <tr>\n",
       "      <th>8</th>\n",
       "      <td>363</td>\n",
       "      <td>0.100359</td>\n",
       "    </tr>\n",
       "    <tr>\n",
       "      <th>9</th>\n",
       "      <td>360</td>\n",
       "      <td>0.099530</td>\n",
       "    </tr>\n",
       "    <tr>\n",
       "      <th>10</th>\n",
       "      <td>178</td>\n",
       "      <td>0.049212</td>\n",
       "    </tr>\n",
       "  </tbody>\n",
       "</table>\n",
       "</div>"
      ],
      "text/plain": [
       "                  saldo_abs saldo_perc\n",
       "                      saldo      saldo\n",
       "tempo_permanencia                     \n",
       "0                       137   0.037877\n",
       "1                       349   0.096489\n",
       "2                       382   0.105612\n",
       "3                       352   0.097318\n",
       "4                       369   0.102018\n",
       "5                       374   0.103401\n",
       "6                       367   0.101465\n",
       "7                       386   0.106718\n",
       "8                       363   0.100359\n",
       "9                       360   0.099530\n",
       "10                      178   0.049212"
      ]
     },
     "execution_count": 17,
     "metadata": {},
     "output_type": "execute_result"
    }
   ],
   "source": [
    "df_aux = df_zero_balance[['saldo', 'tempo_permanencia']].groupby('tempo_permanencia').count()\n",
    "df_aux2 = df_zero_balance[['saldo', 'tempo_permanencia']].groupby('tempo_permanencia').count() / df_zero_balance.shape[0]\n",
    "\n",
    "pd.concat([df_aux, df_aux2], axis= 1, keys= ['saldo_abs', 'saldo_perc'])"
   ]
  },
  {
   "cell_type": "code",
   "execution_count": 18,
   "id": "ae042e4c",
   "metadata": {
    "ExecuteTime": {
     "end_time": "2023-01-23T20:17:49.199151Z",
     "start_time": "2023-01-23T20:17:49.195918Z"
    },
    "cell_style": "split"
   },
   "outputs": [
    {
     "name": "stdout",
     "output_type": "stream",
     "text": [
      "A média do tempo de permanência para contas com saldo zerado é de 5.07\n"
     ]
    }
   ],
   "source": [
    "mean = round(df_zero_balance['tempo_permanencia'].mean(), 2)\n",
    "print(f'A média do tempo de permanência para contas com saldo zerado é de {mean}')"
   ]
  },
  {
   "cell_type": "markdown",
   "id": "3999ee7d",
   "metadata": {},
   "source": [
    "### 'tempo_permanencia'"
   ]
  },
  {
   "cell_type": "code",
   "execution_count": 19,
   "id": "00745b49",
   "metadata": {
    "ExecuteTime": {
     "end_time": "2023-01-23T20:17:49.449304Z",
     "start_time": "2023-01-23T20:17:49.201674Z"
    }
   },
   "outputs": [
    {
     "data": {
      "image/png": "[encoded data removed]",
      "text/plain": [
       "<Figure size 1500x300 with 3 Axes>"
      ]
     },
     "metadata": {},
     "output_type": "display_data"
    }
   ],
   "source": [
    "df_zero_tenure = df2[['tempo_permanencia', 'numero_de_contas', 'membro_ativo', 'Churn']].loc[df2['tempo_permanencia'] == 0]\n",
    "\n",
    "plt.subplot(1, 3, 1)\n",
    "sns.countplot(x= df_zero_tenure['numero_de_contas']);\n",
    "\n",
    "plt.subplot(1, 3, 2)\n",
    "sns.countplot(x= df_zero_tenure['membro_ativo']);\n",
    "\n",
    "plt.subplot(1, 3, 3)\n",
    "sns.countplot(x= df_zero_tenure['Churn']);"
   ]
  },
  {
   "cell_type": "markdown",
   "id": "351b0b15",
   "metadata": {
    "ExecuteTime": {
     "end_time": "2023-01-19T12:33:20.667190Z",
     "start_time": "2023-01-19T12:33:20.660484Z"
    }
   },
   "source": [
    "### 'saldo' zerados:\n",
    "\n",
    "    1. praticamente se divide igualmentente em membros ativos e não ativos;\n",
    "    2. de 3617 saldos zerados, apenas 500 são de clientes que irão dar churn\n",
    "    3. a média do tempo de permanência para contas com saldo zerado é de 5.07\n",
    "    4. a menor frequência de saldos zerados, são para clientes que adquiriram o em menos de 1 ano.\n",
    "\n",
    "Logo é possível supor:\n",
    "\n",
    "    - saldos zerados não siginificam que são de contas pré criadas (obs. 4)\n",
    "    - saldos zerados não possuem relação clara com membros ativos e inativos.\n",
    "    \n",
    "Suposição principal: Ignorar os questionamentos levantados na V1. Saldos zerados, representam de fato, contas sem capital disponível.\n",
    "    \n",
    "### 'tempo_de_permanencia' zerados:\n",
    "\n",
    "Suposição principal: Como 'tempo_de_permanencia' zerados representam menos de 5% dos dados, vou ignorar também os questionamentos levantados na V1 e considerar que são cliente que adquiriram em menos de 1 ano."
   ]
  },
  {
   "cell_type": "markdown",
   "id": "79844db3",
   "metadata": {},
   "source": [
    "## Note:\n",
    "Solução do problema de negócio:\n",
    "    \n",
    "1. Qual é a atual taxa de Churn do Top Bank?\n",
    "\n",
    "        S: Análise Univariada da variável resposta 'Churn' > plotar gráfico de barras de churns e não-churns e printar porcentagem da relação das classes (concluído)\n",
    "\n",
    "\n",
    "2. Como a taxa de churn varia mensalmente?\n",
    "\n",
    "        S: Pela descrição dos dados já é possível avaliar que não existe uma variável temporal no conjunto de dados, mas a variável 'membro_ativo' está associada com a atividade durante 12 meses, logo é possível buscar uma correlação para tentar responder a segunda questão de negócio. (pendente)\n",
    "        \n",
    "3. Qual é o desempenho do modelo na classificação de clientes como churns?\n",
    "\n",
    "        S: Criar modelo de classificação com as variáveis selecionadas por relevância (Análise Bivariada) e pelo Boruta. (em progresso)\n",
    "        \n",
    "4. Qual é o retorno esperado, em termos de receita, se a empresa utilizar seu modelo para evitar o churn de clientes?\n",
    "\n",
    "        S: Com o modelo criado, é possível estimar o retorno esperado, criando casos de deduções sobre os salários de cada cliente. (pendente)"
   ]
  },
  {
   "cell_type": "markdown",
   "id": "91f8eb40",
   "metadata": {},
   "source": [
    "# Feature Engineering I (Creation of New Variables)"
   ]
  },
  {
   "cell_type": "code",
   "execution_count": 20,
   "id": "72e2dece",
   "metadata": {
    "ExecuteTime": {
     "end_time": "2023-01-23T20:17:49.458376Z",
     "start_time": "2023-01-23T20:17:49.452821Z"
    },
    "hide_input": false
   },
   "outputs": [],
   "source": [
    "df3 = df2.copy()"
   ]
  },
  {
   "cell_type": "code",
   "execution_count": 21,
   "id": "5ab07119",
   "metadata": {
    "ExecuteTime": {
     "end_time": "2023-01-23T20:17:49.470863Z",
     "start_time": "2023-01-23T20:17:49.460600Z"
    }
   },
   "outputs": [],
   "source": [
    "#Escala FICO\n",
    "df3['escala_fico'] = df3['score_credito'].apply(lambda x: 'too bad' if x < 580 else 'bad' if x < 670 else 'good' if x < 740 else 'very good' if x < 800 else 'excellent')"
   ]
  },
  {
   "cell_type": "code",
   "execution_count": 22,
   "id": "9d2cffd9",
   "metadata": {
    "ExecuteTime": {
     "end_time": "2023-01-23T20:17:49.561292Z",
     "start_time": "2023-01-23T20:17:49.472704Z"
    }
   },
   "outputs": [],
   "source": [
    "#Ticket Médio (é o valor mensal da assinatura de conta) *20 US$ Mensais:\n",
    "taxa_conta = 20\n",
    "df3['ticket_medio'] = df3['numero_de_contas'].apply(lambda x: taxa_conta * x)\n",
    "\n",
    "#LTV Médio (o quanto de receita o cliente representa para o negócio durante um determinado período de tempo)\n",
    "\t#fórmula: ticket médio X tempo de permanencia (anos) X 12 meses\n",
    "df3['LTV_medio'] = df3.apply(lambda x: round(x['ticket_medio'] * x['tempo_permanencia'] * 12 , 2), axis= 1)"
   ]
  },
  {
   "cell_type": "code",
   "execution_count": 23,
   "id": "266fe1e0",
   "metadata": {
    "ExecuteTime": {
     "end_time": "2023-01-23T20:17:49.577951Z",
     "start_time": "2023-01-23T20:17:49.564331Z"
    }
   },
   "outputs": [],
   "source": [
    "#Média salarial por idade\n",
    "mean_salary_for_age = df3[['salario_estimado', 'idade']].groupby('idade').mean().reset_index()\n",
    "mean_salary_for_age.columns = ['idade', 'salario_por_idade']\n",
    "\n",
    "mean_salary_for_age['salario_por_idade'] = mean_salary_for_age['salario_por_idade'].apply(lambda x: round(x, 3))\n",
    "\n",
    "#merge\n",
    "df3 = pd.merge(df3, mean_salary_for_age, on= 'idade', how= 'left')"
   ]
  },
  {
   "cell_type": "code",
   "execution_count": 24,
   "id": "46dc05e8",
   "metadata": {
    "ExecuteTime": {
     "end_time": "2023-01-23T20:17:49.589546Z",
     "start_time": "2023-01-23T20:17:49.579553Z"
    }
   },
   "outputs": [],
   "source": [
    "#Média de saldo por idade\n",
    "mean_balance_for_age = df3[['saldo', 'idade']].groupby('idade').mean().reset_index()\n",
    "mean_balance_for_age.columns = ['idade', 'saldo_por_idade']\n",
    "\n",
    "mean_balance_for_age['saldo_por_idade'] = mean_balance_for_age['saldo_por_idade'].apply(lambda x: round(x, 3))\n",
    "\n",
    "#merge\n",
    "df3 = pd.merge(df3, mean_balance_for_age, on= 'idade', how= 'left')"
   ]
  },
  {
   "cell_type": "code",
   "execution_count": 25,
   "id": "ba1deb6e",
   "metadata": {
    "ExecuteTime": {
     "end_time": "2023-01-23T20:17:49.602876Z",
     "start_time": "2023-01-23T20:17:49.591298Z"
    }
   },
   "outputs": [],
   "source": [
    "#Mediana de tempo de permanencia por idade\n",
    "median_tenure_for_age = df3[['tempo_permanencia', 'idade']].groupby('idade').median().reset_index()\n",
    "median_tenure_for_age.columns = ['idade', 'tempo_permanencia_por_idade']\n",
    "\n",
    "#merge\n",
    "df3 = pd.merge(df3, median_tenure_for_age, on= 'idade', how= 'left')"
   ]
  },
  {
   "cell_type": "code",
   "execution_count": 26,
   "id": "edc1047a",
   "metadata": {
    "ExecuteTime": {
     "end_time": "2023-01-23T20:17:49.614336Z",
     "start_time": "2023-01-23T20:17:49.604742Z"
    }
   },
   "outputs": [],
   "source": [
    "#Média de LTV por idade\n",
    "mean_ltv_for_age = df3[['LTV_medio', 'idade']].groupby('idade').mean().reset_index()\n",
    "mean_ltv_for_age.columns = ['idade', 'LTV_por_idade']\n",
    "\n",
    "mean_ltv_for_age['LTV_por_idade'] = mean_ltv_for_age['LTV_por_idade'].apply(lambda x: round(x, 3))\n",
    "\n",
    "#merge\n",
    "df3 = pd.merge(df3, mean_ltv_for_age, on= 'idade', how= 'left')"
   ]
  },
  {
   "cell_type": "code",
   "execution_count": 27,
   "id": "5ef15316",
   "metadata": {
    "ExecuteTime": {
     "end_time": "2023-01-23T20:17:49.627982Z",
     "start_time": "2023-01-23T20:17:49.616013Z"
    }
   },
   "outputs": [],
   "source": [
    "#Média salarial por tempo permanencia\n",
    "mean_salary_for_tenure = df3[['salario_estimado', 'tempo_permanencia']].groupby('tempo_permanencia').mean().reset_index()\n",
    "mean_salary_for_tenure.columns = ['tempo_permanencia', 'salario_por_tempo_permanencia']\n",
    "\n",
    "mean_salary_for_tenure['salario_por_tempo_permanencia'] = mean_salary_for_tenure['salario_por_tempo_permanencia'].apply(lambda x: round(x, 3))\n",
    "\n",
    "#merge\n",
    "df3 = pd.merge(df3, mean_salary_for_tenure, on= 'tempo_permanencia', how= 'left')"
   ]
  },
  {
   "cell_type": "code",
   "execution_count": 28,
   "id": "cb13980d",
   "metadata": {
    "ExecuteTime": {
     "end_time": "2023-01-23T20:17:49.642772Z",
     "start_time": "2023-01-23T20:17:49.632601Z"
    }
   },
   "outputs": [],
   "source": [
    "#Média de saldo por tempo permanencia\n",
    "mean_balance_for_tenure = df3[['saldo', 'tempo_permanencia']].groupby('tempo_permanencia').mean().reset_index()\n",
    "mean_balance_for_tenure.columns = ['tempo_permanencia', 'saldo_por_tempo_permanencia']\n",
    "\n",
    "mean_balance_for_tenure['saldo_por_tempo_permanencia'] = mean_balance_for_tenure['saldo_por_tempo_permanencia'].apply(lambda x: round(x, 3))\n",
    "\n",
    "#merge\n",
    "df3 = pd.merge(df3, mean_balance_for_tenure, on= 'tempo_permanencia', how= 'left')"
   ]
  },
  {
   "cell_type": "code",
   "execution_count": 29,
   "id": "bcd6ff84",
   "metadata": {
    "ExecuteTime": {
     "end_time": "2023-01-23T20:17:49.655375Z",
     "start_time": "2023-01-23T20:17:49.644340Z"
    }
   },
   "outputs": [],
   "source": [
    "#Mediana de idade por tempo permanencia\n",
    "median_age_for_tenure = df3[['idade', 'tempo_permanencia']].groupby('tempo_permanencia').median().reset_index()\n",
    "median_age_for_tenure.columns = ['tempo_permanencia', 'idade_por_tempo_permanencia']\n",
    "\n",
    "#merge\n",
    "df3 = pd.merge(df3, median_age_for_tenure, on= 'tempo_permanencia', how= 'left')"
   ]
  },
  {
   "cell_type": "code",
   "execution_count": 30,
   "id": "2aca3089",
   "metadata": {
    "ExecuteTime": {
     "end_time": "2023-01-23T20:17:49.668317Z",
     "start_time": "2023-01-23T20:17:49.657049Z"
    }
   },
   "outputs": [],
   "source": [
    "#Média de LTV por tempo permanencia\n",
    "mean_ltv_for_tenure = df3[['LTV_medio', 'tempo_permanencia']].groupby('tempo_permanencia').mean().reset_index()\n",
    "mean_ltv_for_tenure.columns = ['tempo_permanencia', 'LTV_por_tempo_permanencia']\n",
    "\n",
    "mean_ltv_for_tenure['LTV_por_tempo_permanencia'] = mean_ltv_for_tenure['LTV_por_tempo_permanencia'].apply(lambda x: round(x, 3))\n",
    "\n",
    "#merge\n",
    "df3 = pd.merge(df3, mean_ltv_for_tenure, on= 'tempo_permanencia', how= 'left')"
   ]
  },
  {
   "cell_type": "code",
   "execution_count": 31,
   "id": "067e6203",
   "metadata": {
    "ExecuteTime": {
     "end_time": "2023-01-23T20:17:49.680882Z",
     "start_time": "2023-01-23T20:17:49.671044Z"
    }
   },
   "outputs": [],
   "source": [
    "#Média salarial por numero de contas\n",
    "mean_salary_for_num_of_products = df3[['salario_estimado', 'numero_de_contas']].groupby('numero_de_contas').mean().reset_index()\n",
    "mean_salary_for_num_of_products.columns = ['numero_de_contas', 'salario_por_numero_de_contas']\n",
    "\n",
    "mean_salary_for_num_of_products['salario_por_numero_de_contas'] = mean_salary_for_num_of_products['salario_por_numero_de_contas'].apply(lambda x: round(x, 3))\n",
    "\n",
    "#merge\n",
    "df3 = pd.merge(df3, mean_salary_for_num_of_products, on= 'numero_de_contas', how= 'left')"
   ]
  },
  {
   "cell_type": "code",
   "execution_count": 32,
   "id": "1bd66bbf",
   "metadata": {
    "ExecuteTime": {
     "end_time": "2023-01-23T20:17:49.693412Z",
     "start_time": "2023-01-23T20:17:49.682498Z"
    }
   },
   "outputs": [],
   "source": [
    "#Média de saldo por numero de contas\n",
    "mean_balance_for_num_of_products = df3[['saldo', 'numero_de_contas']].groupby('numero_de_contas').mean().reset_index()\n",
    "mean_balance_for_num_of_products.columns = ['numero_de_contas', 'saldo_por_numero_de_contas']\n",
    "\n",
    "mean_balance_for_num_of_products['saldo_por_numero_de_contas'] = mean_balance_for_num_of_products['saldo_por_numero_de_contas'].apply(lambda x: round(x, 3))\n",
    "\n",
    "#merge\n",
    "df3 = pd.merge(df3, mean_balance_for_num_of_products, on= 'numero_de_contas', how= 'left')"
   ]
  },
  {
   "cell_type": "code",
   "execution_count": 33,
   "id": "4f0ca5ca",
   "metadata": {
    "ExecuteTime": {
     "end_time": "2023-01-23T20:17:49.706661Z",
     "start_time": "2023-01-23T20:17:49.695287Z"
    }
   },
   "outputs": [],
   "source": [
    "#Mediana de tempo permanencia por numero de contas\n",
    "median_tenure_for_num_of_products = df3[['tempo_permanencia', 'numero_de_contas']].groupby('numero_de_contas').median().reset_index()\n",
    "median_tenure_for_num_of_products.columns = ['numero_de_contas', 'tempo_permanencia_por_numero_de_contas']\n",
    "\n",
    "#merge\n",
    "df3 = pd.merge(df3, median_tenure_for_num_of_products, on= 'numero_de_contas', how= 'left')"
   ]
  },
  {
   "cell_type": "code",
   "execution_count": 34,
   "id": "d135b9d7",
   "metadata": {
    "ExecuteTime": {
     "end_time": "2023-01-23T20:17:49.721059Z",
     "start_time": "2023-01-23T20:17:49.708234Z"
    }
   },
   "outputs": [],
   "source": [
    "#Mediana de idade por numero de contas\n",
    "median_age_for_num_of_products = df3[['idade', 'numero_de_contas']].groupby('numero_de_contas').median().reset_index()\n",
    "median_age_for_num_of_products.columns = ['numero_de_contas', 'idade_por_numero_de_contas']\n",
    "\n",
    "#merge\n",
    "df3 = pd.merge(df3, median_age_for_num_of_products, on= 'numero_de_contas', how= 'left')"
   ]
  },
  {
   "cell_type": "code",
   "execution_count": 35,
   "id": "53414d8d",
   "metadata": {
    "ExecuteTime": {
     "end_time": "2023-01-23T20:17:49.732929Z",
     "start_time": "2023-01-23T20:17:49.722473Z"
    }
   },
   "outputs": [],
   "source": [
    "#Média de LTV por numero de contas\n",
    "mean_ltv_for_num_of_products = df3[['LTV_medio', 'numero_de_contas']].groupby('numero_de_contas').mean().reset_index()\n",
    "mean_ltv_for_num_of_products.columns = ['numero_de_contas', 'LTV_por_numero_de_contas']\n",
    "\n",
    "mean_ltv_for_num_of_products['LTV_por_numero_de_contas'] = mean_ltv_for_num_of_products['LTV_por_numero_de_contas'].apply(lambda x: round(x, 3))\n",
    "\n",
    "#merge\n",
    "df3 = pd.merge(df3, mean_ltv_for_num_of_products, on= 'numero_de_contas', how= 'left')"
   ]
  },
  {
   "cell_type": "code",
   "execution_count": 36,
   "id": "b9f0dd3b",
   "metadata": {
    "ExecuteTime": {
     "end_time": "2023-01-23T20:17:49.746545Z",
     "start_time": "2023-01-23T20:17:49.734611Z"
    }
   },
   "outputs": [],
   "source": [
    "#Média salarial por escala FICO\n",
    "mean_salary_for_fico_scale = df3[['salario_estimado', 'escala_fico']].groupby('escala_fico').mean().reset_index()\n",
    "mean_salary_for_fico_scale.columns = ['escala_fico', 'salario_por_escala_fico']\n",
    "\n",
    "mean_salary_for_fico_scale['salario_por_escala_fico'] = mean_salary_for_fico_scale['salario_por_escala_fico'].apply(lambda x: round(x, 3))\n",
    "\n",
    "#merge\n",
    "df3 = pd.merge(df3, mean_salary_for_fico_scale, on= 'escala_fico', how= 'left')"
   ]
  },
  {
   "cell_type": "code",
   "execution_count": 37,
   "id": "3dcba33c",
   "metadata": {
    "ExecuteTime": {
     "end_time": "2023-01-23T20:17:49.762372Z",
     "start_time": "2023-01-23T20:17:49.749804Z"
    }
   },
   "outputs": [],
   "source": [
    "#Média de saldo por escala FICO\n",
    "mean_balance_for_fico_scale = df3[['saldo', 'escala_fico']].groupby('escala_fico').mean().reset_index()\n",
    "mean_balance_for_fico_scale.columns = ['escala_fico', 'saldo_por_escala_fico']\n",
    "\n",
    "mean_balance_for_fico_scale['saldo_por_escala_fico'] = mean_balance_for_fico_scale['saldo_por_escala_fico'].apply(lambda x: round(x, 3))\n",
    "\n",
    "#merge\n",
    "df3 = pd.merge(df3, mean_balance_for_fico_scale, on= 'escala_fico', how= 'left')"
   ]
  },
  {
   "cell_type": "code",
   "execution_count": 38,
   "id": "2886386b",
   "metadata": {
    "ExecuteTime": {
     "end_time": "2023-01-23T20:17:49.776134Z",
     "start_time": "2023-01-23T20:17:49.764094Z"
    }
   },
   "outputs": [],
   "source": [
    "#Mediana de idade por escala FICO\n",
    "median_tenure_for_fico_scale = df3[['tempo_permanencia', 'escala_fico']].groupby('escala_fico').median().reset_index()\n",
    "median_tenure_for_fico_scale.columns = ['escala_fico', 'tempo_permanencia_por_escala_fico']\n",
    "\n",
    "#merge\n",
    "df3 = pd.merge(df3, median_tenure_for_fico_scale, on= 'escala_fico', how= 'left')"
   ]
  },
  {
   "cell_type": "code",
   "execution_count": 39,
   "id": "5338975d",
   "metadata": {
    "ExecuteTime": {
     "end_time": "2023-01-23T20:17:49.790321Z",
     "start_time": "2023-01-23T20:17:49.778249Z"
    }
   },
   "outputs": [],
   "source": [
    "#Mediana de idade por escala FICO\n",
    "median_age_for_fico_scale = df3[['idade', 'escala_fico']].groupby('escala_fico').median().reset_index()\n",
    "median_age_for_fico_scale.columns = ['escala_fico', 'idade_por_escala_fico']\n",
    "\n",
    "#merge\n",
    "df3 = pd.merge(df3, median_age_for_fico_scale, on= 'escala_fico', how= 'left')"
   ]
  },
  {
   "cell_type": "code",
   "execution_count": 40,
   "id": "dcc5586d",
   "metadata": {
    "ExecuteTime": {
     "end_time": "2023-01-23T20:17:49.803382Z",
     "start_time": "2023-01-23T20:17:49.791703Z"
    }
   },
   "outputs": [],
   "source": [
    "#Média de LTV por escala FICO\n",
    "mean_ltv_for_fico_scale = df3[['LTV_medio', 'escala_fico']].groupby('escala_fico').mean().reset_index()\n",
    "mean_ltv_for_fico_scale.columns = ['escala_fico', 'LTV_por_escala_fico']\n",
    "\n",
    "mean_ltv_for_fico_scale['LTV_por_escala_fico'] = mean_ltv_for_fico_scale['LTV_por_escala_fico'].apply(lambda x: round(x, 3))\n",
    "\n",
    "#merge\n",
    "df3 = pd.merge(df3, mean_ltv_for_fico_scale, on= 'escala_fico', how= 'left')"
   ]
  },
  {
   "cell_type": "code",
   "execution_count": 41,
   "id": "1c1664eb",
   "metadata": {
    "ExecuteTime": {
     "end_time": "2023-01-23T20:17:49.817451Z",
     "start_time": "2023-01-23T20:17:49.804993Z"
    }
   },
   "outputs": [],
   "source": [
    "#Média salarial por gênero\n",
    "mean_salary_for_gender = df3[['salario_estimado', 'genero']].groupby('genero').mean().reset_index()\n",
    "mean_salary_for_gender.columns = ['genero', 'salario_por_genero']\n",
    "\n",
    "mean_salary_for_gender['salario_por_genero'] = mean_salary_for_gender['salario_por_genero'].apply(lambda x: round(x, 3))\n",
    "\n",
    "#merge\n",
    "df3 = pd.merge(df3, mean_salary_for_gender, on= 'genero', how= 'left')"
   ]
  },
  {
   "cell_type": "code",
   "execution_count": 42,
   "id": "7cfc23eb",
   "metadata": {
    "ExecuteTime": {
     "end_time": "2023-01-23T20:17:49.830653Z",
     "start_time": "2023-01-23T20:17:49.819198Z"
    }
   },
   "outputs": [],
   "source": [
    "#Média de saldo por gênero\n",
    "mean_balance_for_gender = df3[['saldo', 'genero']].groupby('genero').mean().reset_index()\n",
    "mean_balance_for_gender.columns = ['genero', 'saldo_por_genero']\n",
    "\n",
    "mean_balance_for_gender['saldo_por_genero'] = mean_balance_for_gender['saldo_por_genero'].apply(lambda x: round(x, 3))\n",
    "\n",
    "#merge\n",
    "df3 = pd.merge(df3, mean_balance_for_gender, on= 'genero', how= 'left')"
   ]
  },
  {
   "cell_type": "code",
   "execution_count": 43,
   "id": "117850e5",
   "metadata": {
    "ExecuteTime": {
     "end_time": "2023-01-23T20:17:49.842557Z",
     "start_time": "2023-01-23T20:17:49.832094Z"
    }
   },
   "outputs": [],
   "source": [
    "#Mediana de tempo permanencia por gênero\n",
    "median_tenure_for_gender = df3[['tempo_permanencia', 'genero']].groupby('genero').median().reset_index()\n",
    "median_tenure_for_gender.columns = ['genero', 'tempo_permanencia_por_genero']\n",
    "\n",
    "#merge\n",
    "df3 = pd.merge(df3, median_tenure_for_gender, on= 'genero', how= 'left')"
   ]
  },
  {
   "cell_type": "code",
   "execution_count": 44,
   "id": "b317122e",
   "metadata": {
    "ExecuteTime": {
     "end_time": "2023-01-23T20:17:49.855149Z",
     "start_time": "2023-01-23T20:17:49.844233Z"
    }
   },
   "outputs": [],
   "source": [
    "#Mediana da idade por gênero\n",
    "median_age_for_gender = df3[['idade', 'genero']].groupby('genero').median().reset_index()\n",
    "median_age_for_gender.columns = ['genero', 'idade_por_genero']\n",
    "\n",
    "#merge\n",
    "df3 = pd.merge(df3, median_age_for_gender, on= 'genero', how= 'left')"
   ]
  },
  {
   "cell_type": "code",
   "execution_count": 45,
   "id": "0c31e632",
   "metadata": {
    "ExecuteTime": {
     "end_time": "2023-01-23T20:17:49.868620Z",
     "start_time": "2023-01-23T20:17:49.857607Z"
    }
   },
   "outputs": [],
   "source": [
    "#Média de LTV por gênero\n",
    "mean_ltv_for_gender = df3[['LTV_medio', 'genero']].groupby('genero').mean().reset_index()\n",
    "mean_ltv_for_gender.columns = ['genero', 'LTV_por_genero']\n",
    "\n",
    "mean_ltv_for_gender['LTV_por_genero'] = mean_ltv_for_gender['LTV_por_genero'].apply(lambda x: round(x, 3))\n",
    "\n",
    "#merge\n",
    "df3 = pd.merge(df3, mean_ltv_for_gender, on= 'genero', how= 'left')"
   ]
  },
  {
   "cell_type": "code",
   "execution_count": 46,
   "id": "dfd99512",
   "metadata": {
    "ExecuteTime": {
     "end_time": "2023-01-23T20:17:49.881753Z",
     "start_time": "2023-01-23T20:17:49.870777Z"
    }
   },
   "outputs": [],
   "source": [
    "#Média salarial por geografia\n",
    "mean_salary_for_geography = df3[['salario_estimado', 'geografia']].groupby('geografia').mean().reset_index()\n",
    "mean_salary_for_geography.columns = ['geografia', 'salario_por_geografia']\n",
    "\n",
    "mean_salary_for_geography['salario_por_geografia'] = mean_salary_for_geography['salario_por_geografia'].apply(lambda x: round(x, 3))\n",
    "\n",
    "#merge\n",
    "df3 = pd.merge(df3, mean_salary_for_geography, on= 'geografia', how= 'left')"
   ]
  },
  {
   "cell_type": "code",
   "execution_count": 47,
   "id": "634c0ddc",
   "metadata": {
    "ExecuteTime": {
     "end_time": "2023-01-23T20:17:49.894699Z",
     "start_time": "2023-01-23T20:17:49.883435Z"
    }
   },
   "outputs": [],
   "source": [
    "#Média salarial por geografia\n",
    "mean_balance_for_geography = df3[['saldo', 'geografia']].groupby('geografia').mean().reset_index()\n",
    "mean_balance_for_geography.columns = ['geografia', 'saldo_por_geografia']\n",
    "\n",
    "mean_balance_for_geography['saldo_por_geografia'] = mean_balance_for_geography['saldo_por_geografia'].apply(lambda x: round(x, 3))\n",
    "\n",
    "#merge\n",
    "df3 = pd.merge(df3, mean_balance_for_geography, on= 'geografia', how= 'left')"
   ]
  },
  {
   "cell_type": "code",
   "execution_count": 48,
   "id": "d2ebb5d5",
   "metadata": {
    "ExecuteTime": {
     "end_time": "2023-01-23T20:17:49.907608Z",
     "start_time": "2023-01-23T20:17:49.896245Z"
    }
   },
   "outputs": [],
   "source": [
    "#Mediana de tempo permanencia por geografia\n",
    "median_tenure_for_geography = df3[['tempo_permanencia', 'geografia']].groupby('geografia').median().reset_index()\n",
    "median_tenure_for_geography.columns = ['geografia', 'tempo_permanencia_por_geografia']\n",
    "\n",
    "#merge\n",
    "df3 = pd.merge(df3, median_tenure_for_geography, on= 'geografia', how= 'left')"
   ]
  },
  {
   "cell_type": "code",
   "execution_count": 49,
   "id": "fd7a8f47",
   "metadata": {
    "ExecuteTime": {
     "end_time": "2023-01-23T20:17:49.919907Z",
     "start_time": "2023-01-23T20:17:49.909332Z"
    }
   },
   "outputs": [],
   "source": [
    "#Mediana de idade por geografia\n",
    "median_age_for_geography = df3[['idade', 'geografia']].groupby('geografia').median().reset_index()\n",
    "median_age_for_geography.columns = ['geografia', 'idade_por_geografia']\n",
    "\n",
    "#merge\n",
    "df3 = pd.merge(df3, median_age_for_geography, on= 'geografia', how= 'left')"
   ]
  },
  {
   "cell_type": "code",
   "execution_count": 50,
   "id": "de7f442f",
   "metadata": {
    "ExecuteTime": {
     "end_time": "2023-01-23T20:17:49.934832Z",
     "start_time": "2023-01-23T20:17:49.921728Z"
    }
   },
   "outputs": [],
   "source": [
    "#Média de LTV por geografia\n",
    "mean_ltv_for_geography = df3[['LTV_medio', 'geografia']].groupby('geografia').mean().reset_index()\n",
    "mean_ltv_for_geography.columns = ['geografia', 'LTV_por_geografia']\n",
    "\n",
    "mean_ltv_for_geography['LTV_por_geografia'] = mean_ltv_for_geography['LTV_por_geografia'].apply(lambda x: round(x, 3))\n",
    "\n",
    "#merge\n",
    "df3 = pd.merge(df3, mean_ltv_for_geography, on= 'geografia', how= 'left')"
   ]
  },
  {
   "cell_type": "code",
   "execution_count": 51,
   "id": "f2665d4c",
   "metadata": {
    "ExecuteTime": {
     "end_time": "2023-01-23T20:17:49.972123Z",
     "start_time": "2023-01-23T20:17:49.936329Z"
    }
   },
   "outputs": [
    {
     "data": {
      "text/html": [
       "<div>\n",
       "<style scoped>\n",
       "    .dataframe tbody tr th:only-of-type {\n",
       "        vertical-align: middle;\n",
       "    }\n",
       "\n",
       "    .dataframe tbody tr th {\n",
       "        vertical-align: top;\n",
       "    }\n",
       "\n",
       "    .dataframe thead th {\n",
       "        text-align: right;\n",
       "    }\n",
       "</style>\n",
       "<table border=\"1\" class=\"dataframe\">\n",
       "  <thead>\n",
       "    <tr style=\"text-align: right;\">\n",
       "      <th></th>\n",
       "      <th>numero_linha</th>\n",
       "      <th>id_cliente</th>\n",
       "      <th>sobrenome</th>\n",
       "      <th>score_credito</th>\n",
       "      <th>geografia</th>\n",
       "      <th>genero</th>\n",
       "      <th>idade</th>\n",
       "      <th>tempo_permanencia</th>\n",
       "      <th>saldo</th>\n",
       "      <th>numero_de_contas</th>\n",
       "      <th>tem_cartao_credito</th>\n",
       "      <th>membro_ativo</th>\n",
       "      <th>salario_estimado</th>\n",
       "      <th>Churn</th>\n",
       "      <th>escala_fico</th>\n",
       "      <th>ticket_medio</th>\n",
       "      <th>LTV_medio</th>\n",
       "      <th>salario_por_idade</th>\n",
       "      <th>saldo_por_idade</th>\n",
       "      <th>tempo_permanencia_por_idade</th>\n",
       "      <th>LTV_por_idade</th>\n",
       "      <th>salario_por_tempo_permanencia</th>\n",
       "      <th>saldo_por_tempo_permanencia</th>\n",
       "      <th>idade_por_tempo_permanencia</th>\n",
       "      <th>LTV_por_tempo_permanencia</th>\n",
       "      <th>salario_por_numero_de_contas</th>\n",
       "      <th>saldo_por_numero_de_contas</th>\n",
       "      <th>tempo_permanencia_por_numero_de_contas</th>\n",
       "      <th>idade_por_numero_de_contas</th>\n",
       "      <th>LTV_por_numero_de_contas</th>\n",
       "      <th>salario_por_escala_fico</th>\n",
       "      <th>saldo_por_escala_fico</th>\n",
       "      <th>tempo_permanencia_por_escala_fico</th>\n",
       "      <th>idade_por_escala_fico</th>\n",
       "      <th>LTV_por_escala_fico</th>\n",
       "      <th>salario_por_genero</th>\n",
       "      <th>saldo_por_genero</th>\n",
       "      <th>tempo_permanencia_por_genero</th>\n",
       "      <th>idade_por_genero</th>\n",
       "      <th>LTV_por_genero</th>\n",
       "      <th>salario_por_geografia</th>\n",
       "      <th>saldo_por_geografia</th>\n",
       "      <th>tempo_permanencia_por_geografia</th>\n",
       "      <th>idade_por_geografia</th>\n",
       "      <th>LTV_por_geografia</th>\n",
       "    </tr>\n",
       "  </thead>\n",
       "  <tbody>\n",
       "    <tr>\n",
       "      <th>0</th>\n",
       "      <td>1</td>\n",
       "      <td>15634602</td>\n",
       "      <td>Hargrave</td>\n",
       "      <td>619</td>\n",
       "      <td>France</td>\n",
       "      <td>Female</td>\n",
       "      <td>42</td>\n",
       "      <td>2</td>\n",
       "      <td>0.00</td>\n",
       "      <td>1</td>\n",
       "      <td>yes</td>\n",
       "      <td>yes</td>\n",
       "      <td>101348.88</td>\n",
       "      <td>yes</td>\n",
       "      <td>bad</td>\n",
       "      <td>20</td>\n",
       "      <td>480</td>\n",
       "      <td>96681.211</td>\n",
       "      <td>76785.312</td>\n",
       "      <td>5.0</td>\n",
       "      <td>1896.075</td>\n",
       "      <td>98312.360</td>\n",
       "      <td>76839.626</td>\n",
       "      <td>37.0</td>\n",
       "      <td>763.053</td>\n",
       "      <td>99487.257</td>\n",
       "      <td>98551.871</td>\n",
       "      <td>5.0</td>\n",
       "      <td>38.0</td>\n",
       "      <td>1193.910</td>\n",
       "      <td>99406.522</td>\n",
       "      <td>76919.460</td>\n",
       "      <td>5.0</td>\n",
       "      <td>37.0</td>\n",
       "      <td>1883.182</td>\n",
       "      <td>100601.541</td>\n",
       "      <td>75659.369</td>\n",
       "      <td>5.0</td>\n",
       "      <td>38.0</td>\n",
       "      <td>1841.444</td>\n",
       "      <td>99899.181</td>\n",
       "      <td>62092.637</td>\n",
       "      <td>5.0</td>\n",
       "      <td>37.0</td>\n",
       "      <td>1847.100</td>\n",
       "    </tr>\n",
       "    <tr>\n",
       "      <th>1</th>\n",
       "      <td>2</td>\n",
       "      <td>15647311</td>\n",
       "      <td>Hill</td>\n",
       "      <td>608</td>\n",
       "      <td>Spain</td>\n",
       "      <td>Female</td>\n",
       "      <td>41</td>\n",
       "      <td>1</td>\n",
       "      <td>83807.86</td>\n",
       "      <td>1</td>\n",
       "      <td>no</td>\n",
       "      <td>yes</td>\n",
       "      <td>112542.58</td>\n",
       "      <td>no</td>\n",
       "      <td>bad</td>\n",
       "      <td>20</td>\n",
       "      <td>240</td>\n",
       "      <td>106768.127</td>\n",
       "      <td>75742.975</td>\n",
       "      <td>5.0</td>\n",
       "      <td>1872.787</td>\n",
       "      <td>100468.619</td>\n",
       "      <td>78555.384</td>\n",
       "      <td>38.0</td>\n",
       "      <td>357.565</td>\n",
       "      <td>99487.257</td>\n",
       "      <td>98551.871</td>\n",
       "      <td>5.0</td>\n",
       "      <td>38.0</td>\n",
       "      <td>1193.910</td>\n",
       "      <td>99406.522</td>\n",
       "      <td>76919.460</td>\n",
       "      <td>5.0</td>\n",
       "      <td>37.0</td>\n",
       "      <td>1883.182</td>\n",
       "      <td>100601.541</td>\n",
       "      <td>75659.369</td>\n",
       "      <td>5.0</td>\n",
       "      <td>38.0</td>\n",
       "      <td>1841.444</td>\n",
       "      <td>99440.572</td>\n",
       "      <td>61818.148</td>\n",
       "      <td>5.0</td>\n",
       "      <td>37.0</td>\n",
       "      <td>1865.353</td>\n",
       "    </tr>\n",
       "    <tr>\n",
       "      <th>2</th>\n",
       "      <td>3</td>\n",
       "      <td>15619304</td>\n",
       "      <td>Onio</td>\n",
       "      <td>502</td>\n",
       "      <td>France</td>\n",
       "      <td>Female</td>\n",
       "      <td>42</td>\n",
       "      <td>8</td>\n",
       "      <td>159660.80</td>\n",
       "      <td>3</td>\n",
       "      <td>yes</td>\n",
       "      <td>no</td>\n",
       "      <td>113931.57</td>\n",
       "      <td>yes</td>\n",
       "      <td>too bad</td>\n",
       "      <td>60</td>\n",
       "      <td>5760</td>\n",
       "      <td>96681.211</td>\n",
       "      <td>76785.312</td>\n",
       "      <td>5.0</td>\n",
       "      <td>1896.075</td>\n",
       "      <td>101072.103</td>\n",
       "      <td>77936.598</td>\n",
       "      <td>37.0</td>\n",
       "      <td>2924.020</td>\n",
       "      <td>104318.131</td>\n",
       "      <td>75458.328</td>\n",
       "      <td>5.0</td>\n",
       "      <td>42.0</td>\n",
       "      <td>3602.707</td>\n",
       "      <td>100715.360</td>\n",
       "      <td>75900.472</td>\n",
       "      <td>5.0</td>\n",
       "      <td>37.0</td>\n",
       "      <td>1816.257</td>\n",
       "      <td>100601.541</td>\n",
       "      <td>75659.369</td>\n",
       "      <td>5.0</td>\n",
       "      <td>38.0</td>\n",
       "      <td>1841.444</td>\n",
       "      <td>99899.181</td>\n",
       "      <td>62092.637</td>\n",
       "      <td>5.0</td>\n",
       "      <td>37.0</td>\n",
       "      <td>1847.100</td>\n",
       "    </tr>\n",
       "    <tr>\n",
       "      <th>3</th>\n",
       "      <td>4</td>\n",
       "      <td>15701354</td>\n",
       "      <td>Boni</td>\n",
       "      <td>699</td>\n",
       "      <td>France</td>\n",
       "      <td>Female</td>\n",
       "      <td>39</td>\n",
       "      <td>1</td>\n",
       "      <td>0.00</td>\n",
       "      <td>2</td>\n",
       "      <td>no</td>\n",
       "      <td>no</td>\n",
       "      <td>93826.63</td>\n",
       "      <td>no</td>\n",
       "      <td>good</td>\n",
       "      <td>40</td>\n",
       "      <td>480</td>\n",
       "      <td>95225.690</td>\n",
       "      <td>74285.289</td>\n",
       "      <td>5.0</td>\n",
       "      <td>1914.326</td>\n",
       "      <td>100468.619</td>\n",
       "      <td>78555.384</td>\n",
       "      <td>38.0</td>\n",
       "      <td>357.565</td>\n",
       "      <td>100452.013</td>\n",
       "      <td>51879.146</td>\n",
       "      <td>5.0</td>\n",
       "      <td>36.0</td>\n",
       "      <td>2424.889</td>\n",
       "      <td>100523.541</td>\n",
       "      <td>74978.995</td>\n",
       "      <td>5.0</td>\n",
       "      <td>37.0</td>\n",
       "      <td>1816.507</td>\n",
       "      <td>100601.541</td>\n",
       "      <td>75659.369</td>\n",
       "      <td>5.0</td>\n",
       "      <td>38.0</td>\n",
       "      <td>1841.444</td>\n",
       "      <td>99899.181</td>\n",
       "      <td>62092.637</td>\n",
       "      <td>5.0</td>\n",
       "      <td>37.0</td>\n",
       "      <td>1847.100</td>\n",
       "    </tr>\n",
       "    <tr>\n",
       "      <th>4</th>\n",
       "      <td>5</td>\n",
       "      <td>15737888</td>\n",
       "      <td>Mitchell</td>\n",
       "      <td>850</td>\n",
       "      <td>Spain</td>\n",
       "      <td>Female</td>\n",
       "      <td>43</td>\n",
       "      <td>2</td>\n",
       "      <td>125510.82</td>\n",
       "      <td>1</td>\n",
       "      <td>yes</td>\n",
       "      <td>yes</td>\n",
       "      <td>79084.10</td>\n",
       "      <td>no</td>\n",
       "      <td>excellent</td>\n",
       "      <td>20</td>\n",
       "      <td>480</td>\n",
       "      <td>98148.691</td>\n",
       "      <td>81636.038</td>\n",
       "      <td>5.0</td>\n",
       "      <td>1850.505</td>\n",
       "      <td>98312.360</td>\n",
       "      <td>76839.626</td>\n",
       "      <td>37.0</td>\n",
       "      <td>763.053</td>\n",
       "      <td>99487.257</td>\n",
       "      <td>98551.871</td>\n",
       "      <td>5.0</td>\n",
       "      <td>38.0</td>\n",
       "      <td>1193.910</td>\n",
       "      <td>100338.736</td>\n",
       "      <td>76976.408</td>\n",
       "      <td>5.0</td>\n",
       "      <td>37.0</td>\n",
       "      <td>1815.573</td>\n",
       "      <td>100601.541</td>\n",
       "      <td>75659.369</td>\n",
       "      <td>5.0</td>\n",
       "      <td>38.0</td>\n",
       "      <td>1841.444</td>\n",
       "      <td>99440.572</td>\n",
       "      <td>61818.148</td>\n",
       "      <td>5.0</td>\n",
       "      <td>37.0</td>\n",
       "      <td>1865.353</td>\n",
       "    </tr>\n",
       "    <tr>\n",
       "      <th>5</th>\n",
       "      <td>6</td>\n",
       "      <td>15574012</td>\n",
       "      <td>Chu</td>\n",
       "      <td>645</td>\n",
       "      <td>Spain</td>\n",
       "      <td>Male</td>\n",
       "      <td>44</td>\n",
       "      <td>8</td>\n",
       "      <td>113755.78</td>\n",
       "      <td>2</td>\n",
       "      <td>yes</td>\n",
       "      <td>no</td>\n",
       "      <td>149756.71</td>\n",
       "      <td>yes</td>\n",
       "      <td>bad</td>\n",
       "      <td>40</td>\n",
       "      <td>3840</td>\n",
       "      <td>98190.766</td>\n",
       "      <td>78244.492</td>\n",
       "      <td>5.0</td>\n",
       "      <td>1888.249</td>\n",
       "      <td>101072.103</td>\n",
       "      <td>77936.598</td>\n",
       "      <td>37.0</td>\n",
       "      <td>2924.020</td>\n",
       "      <td>100452.013</td>\n",
       "      <td>51879.146</td>\n",
       "      <td>5.0</td>\n",
       "      <td>36.0</td>\n",
       "      <td>2424.889</td>\n",
       "      <td>99406.522</td>\n",
       "      <td>76919.460</td>\n",
       "      <td>5.0</td>\n",
       "      <td>37.0</td>\n",
       "      <td>1883.182</td>\n",
       "      <td>99664.577</td>\n",
       "      <td>77173.975</td>\n",
       "      <td>5.0</td>\n",
       "      <td>37.0</td>\n",
       "      <td>1850.467</td>\n",
       "      <td>99440.572</td>\n",
       "      <td>61818.148</td>\n",
       "      <td>5.0</td>\n",
       "      <td>37.0</td>\n",
       "      <td>1865.353</td>\n",
       "    </tr>\n",
       "    <tr>\n",
       "      <th>6</th>\n",
       "      <td>7</td>\n",
       "      <td>15592531</td>\n",
       "      <td>Bartlett</td>\n",
       "      <td>822</td>\n",
       "      <td>France</td>\n",
       "      <td>Male</td>\n",
       "      <td>50</td>\n",
       "      <td>7</td>\n",
       "      <td>0.00</td>\n",
       "      <td>2</td>\n",
       "      <td>yes</td>\n",
       "      <td>yes</td>\n",
       "      <td>10062.80</td>\n",
       "      <td>no</td>\n",
       "      <td>excellent</td>\n",
       "      <td>40</td>\n",
       "      <td>3360</td>\n",
       "      <td>95349.181</td>\n",
       "      <td>84924.807</td>\n",
       "      <td>5.0</td>\n",
       "      <td>1903.881</td>\n",
       "      <td>101257.240</td>\n",
       "      <td>75551.634</td>\n",
       "      <td>37.0</td>\n",
       "      <td>2570.661</td>\n",
       "      <td>100452.013</td>\n",
       "      <td>51879.146</td>\n",
       "      <td>5.0</td>\n",
       "      <td>36.0</td>\n",
       "      <td>2424.889</td>\n",
       "      <td>100338.736</td>\n",
       "      <td>76976.408</td>\n",
       "      <td>5.0</td>\n",
       "      <td>37.0</td>\n",
       "      <td>1815.573</td>\n",
       "      <td>99664.577</td>\n",
       "      <td>77173.975</td>\n",
       "      <td>5.0</td>\n",
       "      <td>37.0</td>\n",
       "      <td>1850.467</td>\n",
       "      <td>99899.181</td>\n",
       "      <td>62092.637</td>\n",
       "      <td>5.0</td>\n",
       "      <td>37.0</td>\n",
       "      <td>1847.100</td>\n",
       "    </tr>\n",
       "    <tr>\n",
       "      <th>7</th>\n",
       "      <td>8</td>\n",
       "      <td>15656148</td>\n",
       "      <td>Obinna</td>\n",
       "      <td>376</td>\n",
       "      <td>Germany</td>\n",
       "      <td>Female</td>\n",
       "      <td>29</td>\n",
       "      <td>4</td>\n",
       "      <td>115046.74</td>\n",
       "      <td>4</td>\n",
       "      <td>yes</td>\n",
       "      <td>no</td>\n",
       "      <td>119346.88</td>\n",
       "      <td>yes</td>\n",
       "      <td>too bad</td>\n",
       "      <td>80</td>\n",
       "      <td>3840</td>\n",
       "      <td>101159.596</td>\n",
       "      <td>68990.370</td>\n",
       "      <td>5.0</td>\n",
       "      <td>1935.172</td>\n",
       "      <td>99867.778</td>\n",
       "      <td>74059.394</td>\n",
       "      <td>37.0</td>\n",
       "      <td>1456.016</td>\n",
       "      <td>104763.723</td>\n",
       "      <td>93733.135</td>\n",
       "      <td>5.0</td>\n",
       "      <td>45.0</td>\n",
       "      <td>5088.000</td>\n",
       "      <td>100715.360</td>\n",
       "      <td>75900.472</td>\n",
       "      <td>5.0</td>\n",
       "      <td>37.0</td>\n",
       "      <td>1816.257</td>\n",
       "      <td>100601.541</td>\n",
       "      <td>75659.369</td>\n",
       "      <td>5.0</td>\n",
       "      <td>38.0</td>\n",
       "      <td>1841.444</td>\n",
       "      <td>101113.435</td>\n",
       "      <td>119730.116</td>\n",
       "      <td>5.0</td>\n",
       "      <td>38.0</td>\n",
       "      <td>1826.162</td>\n",
       "    </tr>\n",
       "    <tr>\n",
       "      <th>8</th>\n",
       "      <td>9</td>\n",
       "      <td>15792365</td>\n",
       "      <td>He</td>\n",
       "      <td>501</td>\n",
       "      <td>France</td>\n",
       "      <td>Male</td>\n",
       "      <td>44</td>\n",
       "      <td>4</td>\n",
       "      <td>142051.07</td>\n",
       "      <td>2</td>\n",
       "      <td>no</td>\n",
       "      <td>yes</td>\n",
       "      <td>74940.50</td>\n",
       "      <td>no</td>\n",
       "      <td>too bad</td>\n",
       "      <td>40</td>\n",
       "      <td>1920</td>\n",
       "      <td>98190.766</td>\n",
       "      <td>78244.492</td>\n",
       "      <td>5.0</td>\n",
       "      <td>1888.249</td>\n",
       "      <td>99867.778</td>\n",
       "      <td>74059.394</td>\n",
       "      <td>37.0</td>\n",
       "      <td>1456.016</td>\n",
       "      <td>100452.013</td>\n",
       "      <td>51879.146</td>\n",
       "      <td>5.0</td>\n",
       "      <td>36.0</td>\n",
       "      <td>2424.889</td>\n",
       "      <td>100715.360</td>\n",
       "      <td>75900.472</td>\n",
       "      <td>5.0</td>\n",
       "      <td>37.0</td>\n",
       "      <td>1816.257</td>\n",
       "      <td>99664.577</td>\n",
       "      <td>77173.975</td>\n",
       "      <td>5.0</td>\n",
       "      <td>37.0</td>\n",
       "      <td>1850.467</td>\n",
       "      <td>99899.181</td>\n",
       "      <td>62092.637</td>\n",
       "      <td>5.0</td>\n",
       "      <td>37.0</td>\n",
       "      <td>1847.100</td>\n",
       "    </tr>\n",
       "    <tr>\n",
       "      <th>...</th>\n",
       "      <td>...</td>\n",
       "      <td>...</td>\n",
       "      <td>...</td>\n",
       "      <td>...</td>\n",
       "      <td>...</td>\n",
       "      <td>...</td>\n",
       "      <td>...</td>\n",
       "      <td>...</td>\n",
       "      <td>...</td>\n",
       "      <td>...</td>\n",
       "      <td>...</td>\n",
       "      <td>...</td>\n",
       "      <td>...</td>\n",
       "      <td>...</td>\n",
       "      <td>...</td>\n",
       "      <td>...</td>\n",
       "      <td>...</td>\n",
       "      <td>...</td>\n",
       "      <td>...</td>\n",
       "      <td>...</td>\n",
       "      <td>...</td>\n",
       "      <td>...</td>\n",
       "      <td>...</td>\n",
       "      <td>...</td>\n",
       "      <td>...</td>\n",
       "      <td>...</td>\n",
       "      <td>...</td>\n",
       "      <td>...</td>\n",
       "      <td>...</td>\n",
       "      <td>...</td>\n",
       "      <td>...</td>\n",
       "      <td>...</td>\n",
       "      <td>...</td>\n",
       "      <td>...</td>\n",
       "      <td>...</td>\n",
       "      <td>...</td>\n",
       "      <td>...</td>\n",
       "      <td>...</td>\n",
       "      <td>...</td>\n",
       "      <td>...</td>\n",
       "      <td>...</td>\n",
       "      <td>...</td>\n",
       "      <td>...</td>\n",
       "      <td>...</td>\n",
       "      <td>...</td>\n",
       "    </tr>\n",
       "    <tr>\n",
       "      <th>9991</th>\n",
       "      <td>9992</td>\n",
       "      <td>15769959</td>\n",
       "      <td>Ajuluchukwu</td>\n",
       "      <td>597</td>\n",
       "      <td>France</td>\n",
       "      <td>Female</td>\n",
       "      <td>53</td>\n",
       "      <td>4</td>\n",
       "      <td>88381.21</td>\n",
       "      <td>1</td>\n",
       "      <td>yes</td>\n",
       "      <td>no</td>\n",
       "      <td>69384.71</td>\n",
       "      <td>yes</td>\n",
       "      <td>bad</td>\n",
       "      <td>20</td>\n",
       "      <td>960</td>\n",
       "      <td>96692.908</td>\n",
       "      <td>87894.038</td>\n",
       "      <td>5.0</td>\n",
       "      <td>1641.081</td>\n",
       "      <td>99867.778</td>\n",
       "      <td>74059.394</td>\n",
       "      <td>37.0</td>\n",
       "      <td>1456.016</td>\n",
       "      <td>99487.257</td>\n",
       "      <td>98551.871</td>\n",
       "      <td>5.0</td>\n",
       "      <td>38.0</td>\n",
       "      <td>1193.910</td>\n",
       "      <td>99406.522</td>\n",
       "      <td>76919.460</td>\n",
       "      <td>5.0</td>\n",
       "      <td>37.0</td>\n",
       "      <td>1883.182</td>\n",
       "      <td>100601.541</td>\n",
       "      <td>75659.369</td>\n",
       "      <td>5.0</td>\n",
       "      <td>38.0</td>\n",
       "      <td>1841.444</td>\n",
       "      <td>99899.181</td>\n",
       "      <td>62092.637</td>\n",
       "      <td>5.0</td>\n",
       "      <td>37.0</td>\n",
       "      <td>1847.100</td>\n",
       "    </tr>\n",
       "    <tr>\n",
       "      <th>9992</th>\n",
       "      <td>9993</td>\n",
       "      <td>15657105</td>\n",
       "      <td>Chukwualuka</td>\n",
       "      <td>726</td>\n",
       "      <td>Spain</td>\n",
       "      <td>Male</td>\n",
       "      <td>36</td>\n",
       "      <td>2</td>\n",
       "      <td>0.00</td>\n",
       "      <td>1</td>\n",
       "      <td>yes</td>\n",
       "      <td>no</td>\n",
       "      <td>195192.40</td>\n",
       "      <td>no</td>\n",
       "      <td>good</td>\n",
       "      <td>20</td>\n",
       "      <td>480</td>\n",
       "      <td>98312.476</td>\n",
       "      <td>72727.088</td>\n",
       "      <td>5.0</td>\n",
       "      <td>1778.421</td>\n",
       "      <td>98312.360</td>\n",
       "      <td>76839.626</td>\n",
       "      <td>37.0</td>\n",
       "      <td>763.053</td>\n",
       "      <td>99487.257</td>\n",
       "      <td>98551.871</td>\n",
       "      <td>5.0</td>\n",
       "      <td>38.0</td>\n",
       "      <td>1193.910</td>\n",
       "      <td>100523.541</td>\n",
       "      <td>74978.995</td>\n",
       "      <td>5.0</td>\n",
       "      <td>37.0</td>\n",
       "      <td>1816.507</td>\n",
       "      <td>99664.577</td>\n",
       "      <td>77173.975</td>\n",
       "      <td>5.0</td>\n",
       "      <td>37.0</td>\n",
       "      <td>1850.467</td>\n",
       "      <td>99440.572</td>\n",
       "      <td>61818.148</td>\n",
       "      <td>5.0</td>\n",
       "      <td>37.0</td>\n",
       "      <td>1865.353</td>\n",
       "    </tr>\n",
       "    <tr>\n",
       "      <th>9993</th>\n",
       "      <td>9994</td>\n",
       "      <td>15569266</td>\n",
       "      <td>Rahman</td>\n",
       "      <td>644</td>\n",
       "      <td>France</td>\n",
       "      <td>Male</td>\n",
       "      <td>28</td>\n",
       "      <td>7</td>\n",
       "      <td>155060.41</td>\n",
       "      <td>1</td>\n",
       "      <td>yes</td>\n",
       "      <td>no</td>\n",
       "      <td>29179.52</td>\n",
       "      <td>no</td>\n",
       "      <td>bad</td>\n",
       "      <td>20</td>\n",
       "      <td>1680</td>\n",
       "      <td>96339.007</td>\n",
       "      <td>73159.737</td>\n",
       "      <td>5.0</td>\n",
       "      <td>1966.593</td>\n",
       "      <td>101257.240</td>\n",
       "      <td>75551.634</td>\n",
       "      <td>37.0</td>\n",
       "      <td>2570.661</td>\n",
       "      <td>99487.257</td>\n",
       "      <td>98551.871</td>\n",
       "      <td>5.0</td>\n",
       "      <td>38.0</td>\n",
       "      <td>1193.910</td>\n",
       "      <td>99406.522</td>\n",
       "      <td>76919.460</td>\n",
       "      <td>5.0</td>\n",
       "      <td>37.0</td>\n",
       "      <td>1883.182</td>\n",
       "      <td>99664.577</td>\n",
       "      <td>77173.975</td>\n",
       "      <td>5.0</td>\n",
       "      <td>37.0</td>\n",
       "      <td>1850.467</td>\n",
       "      <td>99899.181</td>\n",
       "      <td>62092.637</td>\n",
       "      <td>5.0</td>\n",
       "      <td>37.0</td>\n",
       "      <td>1847.100</td>\n",
       "    </tr>\n",
       "    <tr>\n",
       "      <th>9994</th>\n",
       "      <td>9995</td>\n",
       "      <td>15719294</td>\n",
       "      <td>Wood</td>\n",
       "      <td>800</td>\n",
       "      <td>France</td>\n",
       "      <td>Female</td>\n",
       "      <td>29</td>\n",
       "      <td>2</td>\n",
       "      <td>0.00</td>\n",
       "      <td>2</td>\n",
       "      <td>no</td>\n",
       "      <td>no</td>\n",
       "      <td>167773.55</td>\n",
       "      <td>no</td>\n",
       "      <td>excellent</td>\n",
       "      <td>40</td>\n",
       "      <td>960</td>\n",
       "      <td>101159.596</td>\n",
       "      <td>68990.370</td>\n",
       "      <td>5.0</td>\n",
       "      <td>1935.172</td>\n",
       "      <td>98312.360</td>\n",
       "      <td>76839.626</td>\n",
       "      <td>37.0</td>\n",
       "      <td>763.053</td>\n",
       "      <td>100452.013</td>\n",
       "      <td>51879.146</td>\n",
       "      <td>5.0</td>\n",
       "      <td>36.0</td>\n",
       "      <td>2424.889</td>\n",
       "      <td>100338.736</td>\n",
       "      <td>76976.408</td>\n",
       "      <td>5.0</td>\n",
       "      <td>37.0</td>\n",
       "      <td>1815.573</td>\n",
       "      <td>100601.541</td>\n",
       "      <td>75659.369</td>\n",
       "      <td>5.0</td>\n",
       "      <td>38.0</td>\n",
       "      <td>1841.444</td>\n",
       "      <td>99899.181</td>\n",
       "      <td>62092.637</td>\n",
       "      <td>5.0</td>\n",
       "      <td>37.0</td>\n",
       "      <td>1847.100</td>\n",
       "    </tr>\n",
       "    <tr>\n",
       "      <th>9995</th>\n",
       "      <td>9996</td>\n",
       "      <td>15606229</td>\n",
       "      <td>Obijiaku</td>\n",
       "      <td>771</td>\n",
       "      <td>France</td>\n",
       "      <td>Male</td>\n",
       "      <td>39</td>\n",
       "      <td>5</td>\n",
       "      <td>0.00</td>\n",
       "      <td>2</td>\n",
       "      <td>yes</td>\n",
       "      <td>no</td>\n",
       "      <td>96270.64</td>\n",
       "      <td>no</td>\n",
       "      <td>very good</td>\n",
       "      <td>40</td>\n",
       "      <td>2400</td>\n",
       "      <td>95225.690</td>\n",
       "      <td>74285.289</td>\n",
       "      <td>5.0</td>\n",
       "      <td>1914.326</td>\n",
       "      <td>101286.010</td>\n",
       "      <td>76444.281</td>\n",
       "      <td>38.0</td>\n",
       "      <td>1865.217</td>\n",
       "      <td>100452.013</td>\n",
       "      <td>51879.146</td>\n",
       "      <td>5.0</td>\n",
       "      <td>36.0</td>\n",
       "      <td>2424.889</td>\n",
       "      <td>99752.096</td>\n",
       "      <td>79162.343</td>\n",
       "      <td>5.0</td>\n",
       "      <td>37.0</td>\n",
       "      <td>1880.000</td>\n",
       "      <td>99664.577</td>\n",
       "      <td>77173.975</td>\n",
       "      <td>5.0</td>\n",
       "      <td>37.0</td>\n",
       "      <td>1850.467</td>\n",
       "      <td>99899.181</td>\n",
       "      <td>62092.637</td>\n",
       "      <td>5.0</td>\n",
       "      <td>37.0</td>\n",
       "      <td>1847.100</td>\n",
       "    </tr>\n",
       "    <tr>\n",
       "      <th>9996</th>\n",
       "      <td>9997</td>\n",
       "      <td>15569892</td>\n",
       "      <td>Johnstone</td>\n",
       "      <td>516</td>\n",
       "      <td>France</td>\n",
       "      <td>Male</td>\n",
       "      <td>35</td>\n",
       "      <td>10</td>\n",
       "      <td>57369.61</td>\n",
       "      <td>1</td>\n",
       "      <td>yes</td>\n",
       "      <td>yes</td>\n",
       "      <td>101699.77</td>\n",
       "      <td>no</td>\n",
       "      <td>too bad</td>\n",
       "      <td>20</td>\n",
       "      <td>2400</td>\n",
       "      <td>97042.141</td>\n",
       "      <td>77410.407</td>\n",
       "      <td>5.0</td>\n",
       "      <td>1822.278</td>\n",
       "      <td>102805.909</td>\n",
       "      <td>73927.504</td>\n",
       "      <td>38.0</td>\n",
       "      <td>3742.041</td>\n",
       "      <td>99487.257</td>\n",
       "      <td>98551.871</td>\n",
       "      <td>5.0</td>\n",
       "      <td>38.0</td>\n",
       "      <td>1193.910</td>\n",
       "      <td>100715.360</td>\n",
       "      <td>75900.472</td>\n",
       "      <td>5.0</td>\n",
       "      <td>37.0</td>\n",
       "      <td>1816.257</td>\n",
       "      <td>99664.577</td>\n",
       "      <td>77173.975</td>\n",
       "      <td>5.0</td>\n",
       "      <td>37.0</td>\n",
       "      <td>1850.467</td>\n",
       "      <td>99899.181</td>\n",
       "      <td>62092.637</td>\n",
       "      <td>5.0</td>\n",
       "      <td>37.0</td>\n",
       "      <td>1847.100</td>\n",
       "    </tr>\n",
       "    <tr>\n",
       "      <th>9997</th>\n",
       "      <td>9998</td>\n",
       "      <td>15584532</td>\n",
       "      <td>Liu</td>\n",
       "      <td>709</td>\n",
       "      <td>France</td>\n",
       "      <td>Female</td>\n",
       "      <td>36</td>\n",
       "      <td>7</td>\n",
       "      <td>0.00</td>\n",
       "      <td>1</td>\n",
       "      <td>no</td>\n",
       "      <td>yes</td>\n",
       "      <td>42085.58</td>\n",
       "      <td>yes</td>\n",
       "      <td>good</td>\n",
       "      <td>20</td>\n",
       "      <td>1680</td>\n",
       "      <td>98312.476</td>\n",
       "      <td>72727.088</td>\n",
       "      <td>5.0</td>\n",
       "      <td>1778.421</td>\n",
       "      <td>101257.240</td>\n",
       "      <td>75551.634</td>\n",
       "      <td>37.0</td>\n",
       "      <td>2570.661</td>\n",
       "      <td>99487.257</td>\n",
       "      <td>98551.871</td>\n",
       "      <td>5.0</td>\n",
       "      <td>38.0</td>\n",
       "      <td>1193.910</td>\n",
       "      <td>100523.541</td>\n",
       "      <td>74978.995</td>\n",
       "      <td>5.0</td>\n",
       "      <td>37.0</td>\n",
       "      <td>1816.507</td>\n",
       "      <td>100601.541</td>\n",
       "      <td>75659.369</td>\n",
       "      <td>5.0</td>\n",
       "      <td>38.0</td>\n",
       "      <td>1841.444</td>\n",
       "      <td>99899.181</td>\n",
       "      <td>62092.637</td>\n",
       "      <td>5.0</td>\n",
       "      <td>37.0</td>\n",
       "      <td>1847.100</td>\n",
       "    </tr>\n",
       "    <tr>\n",
       "      <th>9998</th>\n",
       "      <td>9999</td>\n",
       "      <td>15682355</td>\n",
       "      <td>Sabbatini</td>\n",
       "      <td>772</td>\n",
       "      <td>Germany</td>\n",
       "      <td>Male</td>\n",
       "      <td>42</td>\n",
       "      <td>3</td>\n",
       "      <td>75075.31</td>\n",
       "      <td>2</td>\n",
       "      <td>yes</td>\n",
       "      <td>no</td>\n",
       "      <td>92888.52</td>\n",
       "      <td>yes</td>\n",
       "      <td>very good</td>\n",
       "      <td>40</td>\n",
       "      <td>1440</td>\n",
       "      <td>96681.211</td>\n",
       "      <td>76785.312</td>\n",
       "      <td>5.0</td>\n",
       "      <td>1896.075</td>\n",
       "      <td>97667.196</td>\n",
       "      <td>77668.060</td>\n",
       "      <td>37.0</td>\n",
       "      <td>1103.905</td>\n",
       "      <td>100452.013</td>\n",
       "      <td>51879.146</td>\n",
       "      <td>5.0</td>\n",
       "      <td>36.0</td>\n",
       "      <td>2424.889</td>\n",
       "      <td>99752.096</td>\n",
       "      <td>79162.343</td>\n",
       "      <td>5.0</td>\n",
       "      <td>37.0</td>\n",
       "      <td>1880.000</td>\n",
       "      <td>99664.577</td>\n",
       "      <td>77173.975</td>\n",
       "      <td>5.0</td>\n",
       "      <td>37.0</td>\n",
       "      <td>1850.467</td>\n",
       "      <td>101113.435</td>\n",
       "      <td>119730.116</td>\n",
       "      <td>5.0</td>\n",
       "      <td>38.0</td>\n",
       "      <td>1826.162</td>\n",
       "    </tr>\n",
       "    <tr>\n",
       "      <th>9999</th>\n",
       "      <td>10000</td>\n",
       "      <td>15628319</td>\n",
       "      <td>Walker</td>\n",
       "      <td>792</td>\n",
       "      <td>France</td>\n",
       "      <td>Female</td>\n",
       "      <td>28</td>\n",
       "      <td>4</td>\n",
       "      <td>130142.79</td>\n",
       "      <td>1</td>\n",
       "      <td>yes</td>\n",
       "      <td>no</td>\n",
       "      <td>38190.78</td>\n",
       "      <td>no</td>\n",
       "      <td>very good</td>\n",
       "      <td>20</td>\n",
       "      <td>960</td>\n",
       "      <td>96339.007</td>\n",
       "      <td>73159.737</td>\n",
       "      <td>5.0</td>\n",
       "      <td>1966.593</td>\n",
       "      <td>99867.778</td>\n",
       "      <td>74059.394</td>\n",
       "      <td>37.0</td>\n",
       "      <td>1456.016</td>\n",
       "      <td>99487.257</td>\n",
       "      <td>98551.871</td>\n",
       "      <td>5.0</td>\n",
       "      <td>38.0</td>\n",
       "      <td>1193.910</td>\n",
       "      <td>99752.096</td>\n",
       "      <td>79162.343</td>\n",
       "      <td>5.0</td>\n",
       "      <td>37.0</td>\n",
       "      <td>1880.000</td>\n",
       "      <td>100601.541</td>\n",
       "      <td>75659.369</td>\n",
       "      <td>5.0</td>\n",
       "      <td>38.0</td>\n",
       "      <td>1841.444</td>\n",
       "      <td>99899.181</td>\n",
       "      <td>62092.637</td>\n",
       "      <td>5.0</td>\n",
       "      <td>37.0</td>\n",
       "      <td>1847.100</td>\n",
       "    </tr>\n",
       "  </tbody>\n",
       "</table>\n",
       "<p>10000 rows × 45 columns</p>\n",
       "</div>"
      ],
      "text/plain": [
       "      numero_linha  id_cliente    sobrenome  score_credito geografia  genero  idade  tempo_permanencia      saldo  numero_de_contas tem_cartao_credito membro_ativo  salario_estimado Churn escala_fico  ticket_medio  LTV_medio  salario_por_idade  saldo_por_idade  tempo_permanencia_por_idade  LTV_por_idade  salario_por_tempo_permanencia  saldo_por_tempo_permanencia  idade_por_tempo_permanencia  LTV_por_tempo_permanencia  salario_por_numero_de_contas  saldo_por_numero_de_contas  tempo_permanencia_por_numero_de_contas  idade_por_numero_de_contas  LTV_por_numero_de_contas  salario_por_escala_fico  saldo_por_escala_fico  tempo_permanencia_por_escala_fico  idade_por_escala_fico  LTV_por_escala_fico  salario_por_genero  saldo_por_genero  tempo_permanencia_por_genero  idade_por_genero  LTV_por_genero  salario_por_geografia  saldo_por_geografia  tempo_permanencia_por_geografia  idade_por_geografia  LTV_por_geografia\n",
       "0                1    15634602     Hargrave            619    France  Female     42                  2       0.00                 1                yes          yes         101348.88   yes         bad            20        480          96681.211        76785.312                          5.0       1896.075                      98312.360                    76839.626                         37.0                    763.053                     99487.257                   98551.871                                     5.0                        38.0                  1193.910                99406.522              76919.460                                5.0                   37.0             1883.182          100601.541         75659.369                           5.0              38.0        1841.444              99899.181            62092.637                              5.0                 37.0           1847.100\n",
       "1                2    15647311         Hill            608     Spain  Female     41                  1   83807.86                 1                 no          yes         112542.58    no         bad            20        240         106768.127        75742.975                          5.0       1872.787                     100468.619                    78555.384                         38.0                    357.565                     99487.257                   98551.871                                     5.0                        38.0                  1193.910                99406.522              76919.460                                5.0                   37.0             1883.182          100601.541         75659.369                           5.0              38.0        1841.444              99440.572            61818.148                              5.0                 37.0           1865.353\n",
       "2                3    15619304         Onio            502    France  Female     42                  8  159660.80                 3                yes           no         113931.57   yes     too bad            60       5760          96681.211        76785.312                          5.0       1896.075                     101072.103                    77936.598                         37.0                   2924.020                    104318.131                   75458.328                                     5.0                        42.0                  3602.707               100715.360              75900.472                                5.0                   37.0             1816.257          100601.541         75659.369                           5.0              38.0        1841.444              99899.181            62092.637                              5.0                 37.0           1847.100\n",
       "3                4    15701354         Boni            699    France  Female     39                  1       0.00                 2                 no           no          93826.63    no        good            40        480          95225.690        74285.289                          5.0       1914.326                     100468.619                    78555.384                         38.0                    357.565                    100452.013                   51879.146                                     5.0                        36.0                  2424.889               100523.541              74978.995                                5.0                   37.0             1816.507          100601.541         75659.369                           5.0              38.0        1841.444              99899.181            62092.637                              5.0                 37.0           1847.100\n",
       "4                5    15737888     Mitchell            850     Spain  Female     43                  2  125510.82                 1                yes          yes          79084.10    no   excellent            20        480          98148.691        81636.038                          5.0       1850.505                      98312.360                    76839.626                         37.0                    763.053                     99487.257                   98551.871                                     5.0                        38.0                  1193.910               100338.736              76976.408                                5.0                   37.0             1815.573          100601.541         75659.369                           5.0              38.0        1841.444              99440.572            61818.148                              5.0                 37.0           1865.353\n",
       "5                6    15574012          Chu            645     Spain    Male     44                  8  113755.78                 2                yes           no         149756.71   yes         bad            40       3840          98190.766        78244.492                          5.0       1888.249                     101072.103                    77936.598                         37.0                   2924.020                    100452.013                   51879.146                                     5.0                        36.0                  2424.889                99406.522              76919.460                                5.0                   37.0             1883.182           99664.577         77173.975                           5.0              37.0        1850.467              99440.572            61818.148                              5.0                 37.0           1865.353\n",
       "6                7    15592531     Bartlett            822    France    Male     50                  7       0.00                 2                yes          yes          10062.80    no   excellent            40       3360          95349.181        84924.807                          5.0       1903.881                     101257.240                    75551.634                         37.0                   2570.661                    100452.013                   51879.146                                     5.0                        36.0                  2424.889               100338.736              76976.408                                5.0                   37.0             1815.573           99664.577         77173.975                           5.0              37.0        1850.467              99899.181            62092.637                              5.0                 37.0           1847.100\n",
       "7                8    15656148       Obinna            376   Germany  Female     29                  4  115046.74                 4                yes           no         119346.88   yes     too bad            80       3840         101159.596        68990.370                          5.0       1935.172                      99867.778                    74059.394                         37.0                   1456.016                    104763.723                   93733.135                                     5.0                        45.0                  5088.000               100715.360              75900.472                                5.0                   37.0             1816.257          100601.541         75659.369                           5.0              38.0        1841.444             101113.435           119730.116                              5.0                 38.0           1826.162\n",
       "8                9    15792365           He            501    France    Male     44                  4  142051.07                 2                 no          yes          74940.50    no     too bad            40       1920          98190.766        78244.492                          5.0       1888.249                      99867.778                    74059.394                         37.0                   1456.016                    100452.013                   51879.146                                     5.0                        36.0                  2424.889               100715.360              75900.472                                5.0                   37.0             1816.257           99664.577         77173.975                           5.0              37.0        1850.467              99899.181            62092.637                              5.0                 37.0           1847.100\n",
       "...            ...         ...          ...            ...       ...     ...    ...                ...        ...               ...                ...          ...               ...   ...         ...           ...        ...                ...              ...                          ...            ...                            ...                          ...                          ...                        ...                           ...                         ...                                     ...                         ...                       ...                      ...                    ...                                ...                    ...                  ...                 ...               ...                           ...               ...             ...                    ...                  ...                              ...                  ...                ...\n",
       "9991          9992    15769959  Ajuluchukwu            597    France  Female     53                  4   88381.21                 1                yes           no          69384.71   yes         bad            20        960          96692.908        87894.038                          5.0       1641.081                      99867.778                    74059.394                         37.0                   1456.016                     99487.257                   98551.871                                     5.0                        38.0                  1193.910                99406.522              76919.460                                5.0                   37.0             1883.182          100601.541         75659.369                           5.0              38.0        1841.444              99899.181            62092.637                              5.0                 37.0           1847.100\n",
       "9992          9993    15657105  Chukwualuka            726     Spain    Male     36                  2       0.00                 1                yes           no         195192.40    no        good            20        480          98312.476        72727.088                          5.0       1778.421                      98312.360                    76839.626                         37.0                    763.053                     99487.257                   98551.871                                     5.0                        38.0                  1193.910               100523.541              74978.995                                5.0                   37.0             1816.507           99664.577         77173.975                           5.0              37.0        1850.467              99440.572            61818.148                              5.0                 37.0           1865.353\n",
       "9993          9994    15569266       Rahman            644    France    Male     28                  7  155060.41                 1                yes           no          29179.52    no         bad            20       1680          96339.007        73159.737                          5.0       1966.593                     101257.240                    75551.634                         37.0                   2570.661                     99487.257                   98551.871                                     5.0                        38.0                  1193.910                99406.522              76919.460                                5.0                   37.0             1883.182           99664.577         77173.975                           5.0              37.0        1850.467              99899.181            62092.637                              5.0                 37.0           1847.100\n",
       "9994          9995    15719294         Wood            800    France  Female     29                  2       0.00                 2                 no           no         167773.55    no   excellent            40        960         101159.596        68990.370                          5.0       1935.172                      98312.360                    76839.626                         37.0                    763.053                    100452.013                   51879.146                                     5.0                        36.0                  2424.889               100338.736              76976.408                                5.0                   37.0             1815.573          100601.541         75659.369                           5.0              38.0        1841.444              99899.181            62092.637                              5.0                 37.0           1847.100\n",
       "9995          9996    15606229     Obijiaku            771    France    Male     39                  5       0.00                 2                yes           no          96270.64    no   very good            40       2400          95225.690        74285.289                          5.0       1914.326                     101286.010                    76444.281                         38.0                   1865.217                    100452.013                   51879.146                                     5.0                        36.0                  2424.889                99752.096              79162.343                                5.0                   37.0             1880.000           99664.577         77173.975                           5.0              37.0        1850.467              99899.181            62092.637                              5.0                 37.0           1847.100\n",
       "9996          9997    15569892    Johnstone            516    France    Male     35                 10   57369.61                 1                yes          yes         101699.77    no     too bad            20       2400          97042.141        77410.407                          5.0       1822.278                     102805.909                    73927.504                         38.0                   3742.041                     99487.257                   98551.871                                     5.0                        38.0                  1193.910               100715.360              75900.472                                5.0                   37.0             1816.257           99664.577         77173.975                           5.0              37.0        1850.467              99899.181            62092.637                              5.0                 37.0           1847.100\n",
       "9997          9998    15584532          Liu            709    France  Female     36                  7       0.00                 1                 no          yes          42085.58   yes        good            20       1680          98312.476        72727.088                          5.0       1778.421                     101257.240                    75551.634                         37.0                   2570.661                     99487.257                   98551.871                                     5.0                        38.0                  1193.910               100523.541              74978.995                                5.0                   37.0             1816.507          100601.541         75659.369                           5.0              38.0        1841.444              99899.181            62092.637                              5.0                 37.0           1847.100\n",
       "9998          9999    15682355    Sabbatini            772   Germany    Male     42                  3   75075.31                 2                yes           no          92888.52   yes   very good            40       1440          96681.211        76785.312                          5.0       1896.075                      97667.196                    77668.060                         37.0                   1103.905                    100452.013                   51879.146                                     5.0                        36.0                  2424.889                99752.096              79162.343                                5.0                   37.0             1880.000           99664.577         77173.975                           5.0              37.0        1850.467             101113.435           119730.116                              5.0                 38.0           1826.162\n",
       "9999         10000    15628319       Walker            792    France  Female     28                  4  130142.79                 1                yes           no          38190.78    no   very good            20        960          96339.007        73159.737                          5.0       1966.593                      99867.778                    74059.394                         37.0                   1456.016                     99487.257                   98551.871                                     5.0                        38.0                  1193.910                99752.096              79162.343                                5.0                   37.0             1880.000          100601.541         75659.369                           5.0              38.0        1841.444              99899.181            62092.637                              5.0                 37.0           1847.100\n",
       "\n",
       "[10000 rows x 45 columns]"
      ]
     },
     "execution_count": 51,
     "metadata": {},
     "output_type": "execute_result"
    }
   ],
   "source": [
    "df3"
   ]
  },
  {
   "cell_type": "markdown",
   "id": "0523dc9b",
   "metadata": {},
   "source": [
    "## Note:\n",
    "Próxima versão:\n",
    "\t\n",
    "- Criar função para criação de features mais otimizada."
   ]
  },
  {
   "cell_type": "code",
   "execution_count": 52,
   "id": "c69b6385",
   "metadata": {
    "ExecuteTime": {
     "end_time": "2023-01-23T20:17:49.979104Z",
     "start_time": "2023-01-23T20:17:49.974028Z"
    }
   },
   "outputs": [
    {
     "ename": "SyntaxError",
     "evalue": "invalid syntax (476313318.py, line 1)",
     "output_type": "error",
     "traceback": [
      "\u001b[0;36m  Cell \u001b[0;32mIn [52], line 1\u001b[0;36m\u001b[0m\n\u001b[0;31m    -\u001b[0m\n\u001b[0m     ^\u001b[0m\n\u001b[0;31mSyntaxError\u001b[0m\u001b[0;31m:\u001b[0m invalid syntax\n"
     ]
    }
   ],
   "source": [
    "-"
   ]
  },
  {
   "cell_type": "markdown",
   "id": "c7f30791",
   "metadata": {},
   "source": [
    "# Exploratory Data Analysis"
   ]
  },
  {
   "cell_type": "code",
   "execution_count": null,
   "id": "9deaca2e",
   "metadata": {
    "ExecuteTime": {
     "end_time": "2023-01-23T20:17:50.012889Z",
     "start_time": "2023-01-23T20:17:50.012870Z"
    },
    "hide_input": false
   },
   "outputs": [],
   "source": [
    "df4 = df3.copy()"
   ]
  },
  {
   "cell_type": "markdown",
   "id": "33932570",
   "metadata": {},
   "source": [
    "## Defining Variables for Analysis"
   ]
  },
  {
   "cell_type": "code",
   "execution_count": null,
   "id": "2367dcc0",
   "metadata": {
    "ExecuteTime": {
     "end_time": "2023-01-23T20:17:50.013636Z",
     "start_time": "2023-01-23T20:17:50.013627Z"
    }
   },
   "outputs": [],
   "source": [
    "#Response Variable\n",
    "response_variable = df4['Churn']\n",
    "\n",
    "#Numeric Variables\n",
    "numeric_attributes = df4.select_dtypes(include= ['int64', 'float64'])\n",
    "\n",
    "#Categorical Variables\n",
    "categorical_attributes = df4.select_dtypes(exclude= ['int64', 'float64'])"
   ]
  },
  {
   "cell_type": "markdown",
   "id": "e5243ad7",
   "metadata": {},
   "source": [
    "## Univariate Analysis"
   ]
  },
  {
   "cell_type": "markdown",
   "id": "8f85aed3",
   "metadata": {},
   "source": [
    "### Response Variable"
   ]
  },
  {
   "cell_type": "code",
   "execution_count": null,
   "id": "db94d8ea",
   "metadata": {
    "ExecuteTime": {
     "end_time": "2023-01-23T20:17:50.015263Z",
     "start_time": "2023-01-23T20:17:50.015252Z"
    },
    "hide_input": true
   },
   "outputs": [],
   "source": [
    "sns.countplot(x= response_variable, palette= \"light:b_r\");"
   ]
  },
  {
   "cell_type": "code",
   "execution_count": null,
   "id": "857f7369",
   "metadata": {
    "ExecuteTime": {
     "end_time": "2023-01-23T20:17:50.016480Z",
     "start_time": "2023-01-23T20:17:50.016470Z"
    },
    "hide_input": true
   },
   "outputs": [],
   "source": [
    "percentage_no_churn = df4[['id_cliente', 'Churn']].loc[df4['Churn'] == 'no'].shape[0] / df4.shape[0] * 100\n",
    "percentage_yes_churn = df4[['id_cliente', 'Churn']].loc[df4['Churn'] == 'yes'].shape[0] / df4.shape[0] * 100\n",
    "print(f'Clientes que irão dar Churn correspondem a {percentage_yes_churn:.2f}%  da base de dados e clientes que não irão dar Churn correspondem a {percentage_no_churn:.2f}% da base de dados.')"
   ]
  },
  {
   "cell_type": "markdown",
   "id": "22173de6",
   "metadata": {},
   "source": [
    "- É evidente que a variável resposta possui classes desbalanceadas"
   ]
  },
  {
   "cell_type": "markdown",
   "id": "4fecd748",
   "metadata": {},
   "source": [
    "### Numeric Variables"
   ]
  },
  {
   "cell_type": "code",
   "execution_count": null,
   "id": "b9bcd512",
   "metadata": {
    "ExecuteTime": {
     "end_time": "2023-01-23T20:17:50.017395Z",
     "start_time": "2023-01-23T20:17:50.017386Z"
    },
    "hide_input": true
   },
   "outputs": [],
   "source": [
    "numeric_descriptive_statistical(numeric_attributes)"
   ]
  },
  {
   "cell_type": "markdown",
   "id": "d2254885",
   "metadata": {},
   "source": [
    "- Muitos valores distintos: score_credito, idade, saldo, salário estimado;\n",
    "- Poucos valores distintos: tempo_permanencia, numero_de_contas;"
   ]
  },
  {
   "cell_type": "markdown",
   "id": "074255a7",
   "metadata": {
    "hide_input": true
   },
   "source": [
    "#### 'score_credito'"
   ]
  },
  {
   "cell_type": "code",
   "execution_count": null,
   "id": "e024bbee",
   "metadata": {
    "ExecuteTime": {
     "end_time": "2023-01-23T20:17:50.019033Z",
     "start_time": "2023-01-23T20:17:50.019016Z"
    },
    "cell_style": "split",
    "hide_input": true
   },
   "outputs": [],
   "source": [
    "column = numeric_attributes['score_credito']\n",
    "bins = n_bins(column)\n",
    "title = \"Score de Crédtio\"\n",
    "ylabel = \"frequência\"\n",
    "xlabel = \"score\"\n",
    "show_univariate_numeric_distribution(column, bins= bins, title= title, ylabel= ylabel, xlabel= xlabel)"
   ]
  },
  {
   "cell_type": "code",
   "execution_count": null,
   "id": "42f2c49e",
   "metadata": {
    "ExecuteTime": {
     "end_time": "2023-01-23T20:17:50.020049Z",
     "start_time": "2023-01-23T20:17:50.020040Z"
    },
    "cell_style": "split",
    "hide_input": true
   },
   "outputs": [],
   "source": [
    "sns.histplot(numeric_attributes['score_credito'], kde= True);"
   ]
  },
  {
   "cell_type": "code",
   "execution_count": null,
   "id": "a2f04839",
   "metadata": {
    "ExecuteTime": {
     "end_time": "2023-01-23T20:17:50.021122Z",
     "start_time": "2023-01-23T20:17:50.021112Z"
    }
   },
   "outputs": [],
   "source": [
    "#Idéia para próxima versão:\n",
    "\n",
    "#Note: \n",
    "\t# segundo os intervalos de scores de crédito da FICO:\n",
    "    \t# 300 - 580: muito baixo;\n",
    "        # 580 - 670: baixo;\n",
    "        # 670 - 740: bom;\n",
    "        # 740 - 800: muito bom;\n",
    "        # 800 - 850: excelente;\n",
    "    # não existe uma distância considerável entre os valores da média e mediana, logo a distância interquatilica Q25 - Medina - Q75 (onde compreende a metade dos dados)\n",
    "# são praticamente simétricas, fazendo com que a distribuiçaõ dos dados de 'score_credito' se aproxime de uma gaussiana (normal).\n",
    "    # outliers para scores que se aproximam de 350, logo o banco não possui clientes se aproximando do mínimo score_permitido pelo banco (350)  \n",
    "    # a moda é igual ao valor máximo, o que pode evidênciar que o banco possui um grupo seleto de cliente que são bons pagadores. (vale criação de caso para esse grupo)\n",
    "    # hipótese: 'clientes que são bons pagadores, possuem o salário mais alto?' ou 'clentes que possuem salários altos, são bons pagadores?'"
   ]
  },
  {
   "cell_type": "markdown",
   "id": "7a29af9a",
   "metadata": {},
   "source": [
    "#### 'idade'"
   ]
  },
  {
   "cell_type": "code",
   "execution_count": null,
   "id": "313bafd6",
   "metadata": {
    "ExecuteTime": {
     "end_time": "2023-01-23T20:17:50.022510Z",
     "start_time": "2023-01-23T20:17:50.022501Z"
    },
    "cell_style": "split",
    "hide_input": true
   },
   "outputs": [],
   "source": [
    "column = numeric_attributes['idade']\n",
    "bins = n_bins(column)\n",
    "title = \"Distribuição Etária\"\n",
    "ylabel = \"idade\"\n",
    "show_univariate_numeric_distribution(column, bins= bins, title= title, ylabel= ylabel, xlabel= xlabel)"
   ]
  },
  {
   "cell_type": "code",
   "execution_count": null,
   "id": "f9a8c2c0",
   "metadata": {
    "ExecuteTime": {
     "end_time": "2023-01-23T20:17:50.023843Z",
     "start_time": "2023-01-23T20:17:50.023834Z"
    },
    "cell_style": "split",
    "hide_input": true
   },
   "outputs": [],
   "source": [
    "sns.histplot(numeric_attributes['idade'], kde= True);"
   ]
  },
  {
   "cell_type": "markdown",
   "id": "8de302b8",
   "metadata": {},
   "source": [
    "#### 'saldo'"
   ]
  },
  {
   "cell_type": "code",
   "execution_count": null,
   "id": "718b52c6",
   "metadata": {
    "ExecuteTime": {
     "end_time": "2023-01-23T20:17:50.024775Z",
     "start_time": "2023-01-23T20:17:50.024766Z"
    },
    "cell_style": "split",
    "hide_input": true
   },
   "outputs": [],
   "source": [
    "column = numeric_attributes['saldo']\n",
    "bins = n_bins(column)\n",
    "title = \"Saldo em Conta dos Clientes\"\n",
    "ylabel = \"dolars\"\n",
    "show_univariate_numeric_distribution(column, bins= bins, title= title, ylabel= ylabel, xlabel= xlabel)"
   ]
  },
  {
   "cell_type": "code",
   "execution_count": null,
   "id": "d49a7460",
   "metadata": {
    "ExecuteTime": {
     "end_time": "2023-01-23T20:17:50.025500Z",
     "start_time": "2023-01-23T20:17:50.025491Z"
    },
    "cell_style": "split",
    "hide_input": true
   },
   "outputs": [],
   "source": [
    "sns.histplot(numeric_attributes['saldo'], kde= True);"
   ]
  },
  {
   "cell_type": "markdown",
   "id": "1e43fdef",
   "metadata": {},
   "source": [
    "#### 'salario_estimado'"
   ]
  },
  {
   "cell_type": "code",
   "execution_count": null,
   "id": "ff1ca70e",
   "metadata": {
    "ExecuteTime": {
     "end_time": "2023-01-23T20:17:50.026935Z",
     "start_time": "2023-01-23T20:17:50.026926Z"
    },
    "cell_style": "split",
    "hide_input": true
   },
   "outputs": [],
   "source": [
    "column = numeric_attributes['salario_estimado']\n",
    "bins = n_bins(column)\n",
    "title = \"Salário Estimados dos Cliente\"\n",
    "ylabel = \"dolars\"\n",
    "show_univariate_numeric_distribution(column, bins= bins, title= title, ylabel= ylabel, xlabel= xlabel)"
   ]
  },
  {
   "cell_type": "code",
   "execution_count": null,
   "id": "a30ea607",
   "metadata": {
    "ExecuteTime": {
     "end_time": "2023-01-23T20:17:50.027833Z",
     "start_time": "2023-01-23T20:17:50.027824Z"
    },
    "cell_style": "split",
    "hide_input": true
   },
   "outputs": [],
   "source": [
    "sns.histplot(numeric_attributes['salario_estimado'], kde= True);"
   ]
  },
  {
   "cell_type": "markdown",
   "id": "d3db927b",
   "metadata": {},
   "source": [
    "#### 'tempo_permanencia'"
   ]
  },
  {
   "cell_type": "code",
   "execution_count": null,
   "id": "ed58687d",
   "metadata": {
    "ExecuteTime": {
     "end_time": "2023-01-23T20:17:50.028825Z",
     "start_time": "2023-01-23T20:17:50.028817Z"
    },
    "cell_style": "split",
    "hide_input": true
   },
   "outputs": [],
   "source": [
    "sns.countplot(x= df4['tempo_permanencia'], palette= \"light:b_r\");"
   ]
  },
  {
   "cell_type": "code",
   "execution_count": null,
   "id": "97e1daf0",
   "metadata": {
    "ExecuteTime": {
     "end_time": "2023-01-23T20:17:50.029616Z",
     "start_time": "2023-01-23T20:17:50.029609Z"
    },
    "cell_style": "split",
    "hide_input": true
   },
   "outputs": [],
   "source": [
    "df4[['id_cliente', 'tempo_permanencia']].groupby('tempo_permanencia').count()"
   ]
  },
  {
   "cell_type": "markdown",
   "id": "f7ab4a03",
   "metadata": {
    "cell_style": "center"
   },
   "source": [
    "#### 'numero_de_contas'"
   ]
  },
  {
   "cell_type": "code",
   "execution_count": null,
   "id": "d58348ea",
   "metadata": {
    "ExecuteTime": {
     "end_time": "2023-01-23T20:17:50.030160Z",
     "start_time": "2023-01-23T20:17:50.030152Z"
    },
    "cell_style": "split",
    "hide_input": true
   },
   "outputs": [],
   "source": [
    "sns.countplot(x= df4['numero_de_contas'], palette= \"light:b_r\");"
   ]
  },
  {
   "cell_type": "code",
   "execution_count": null,
   "id": "9a4f0278",
   "metadata": {
    "ExecuteTime": {
     "end_time": "2023-01-23T20:17:50.031247Z",
     "start_time": "2023-01-23T20:17:50.031238Z"
    },
    "cell_style": "split",
    "hide_input": true
   },
   "outputs": [],
   "source": [
    "df4[['id_cliente', 'numero_de_contas']].groupby('numero_de_contas').count()"
   ]
  },
  {
   "cell_type": "markdown",
   "id": "5476ca0c",
   "metadata": {
    "cell_style": "center"
   },
   "source": [
    "### Categorical Variables"
   ]
  },
  {
   "cell_type": "code",
   "execution_count": null,
   "id": "053c8463",
   "metadata": {
    "ExecuteTime": {
     "end_time": "2023-01-23T20:17:50.032289Z",
     "start_time": "2023-01-23T20:17:50.032280Z"
    },
    "hide_input": true
   },
   "outputs": [],
   "source": [
    "categorical_attributes.apply(lambda x: x.unique().shape[0])"
   ]
  },
  {
   "cell_type": "markdown",
   "id": "f65e4ff7",
   "metadata": {},
   "source": [
    "#### 'geografia'"
   ]
  },
  {
   "cell_type": "code",
   "execution_count": null,
   "id": "5a296d5a",
   "metadata": {
    "ExecuteTime": {
     "end_time": "2023-01-23T20:17:50.032855Z",
     "start_time": "2023-01-23T20:17:50.032848Z"
    },
    "cell_style": "split",
    "hide_input": true
   },
   "outputs": [],
   "source": [
    "sns.countplot(x= df4['geografia'], palette= \"light:b_r\");"
   ]
  },
  {
   "cell_type": "code",
   "execution_count": null,
   "id": "9551781a",
   "metadata": {
    "ExecuteTime": {
     "end_time": "2023-01-23T20:17:50.034187Z",
     "start_time": "2023-01-23T20:17:50.034179Z"
    },
    "cell_style": "split",
    "hide_input": true
   },
   "outputs": [],
   "source": [
    "df4[['id_cliente', 'geografia']].groupby('geografia').count()"
   ]
  },
  {
   "cell_type": "markdown",
   "id": "06943713",
   "metadata": {
    "cell_style": "center"
   },
   "source": [
    "#### 'genero'"
   ]
  },
  {
   "cell_type": "code",
   "execution_count": null,
   "id": "68f0a626",
   "metadata": {
    "ExecuteTime": {
     "end_time": "2023-01-23T20:17:50.035156Z",
     "start_time": "2023-01-23T20:17:50.035146Z"
    },
    "cell_style": "split",
    "hide_input": true
   },
   "outputs": [],
   "source": [
    "sns.countplot(x= df4['genero'], palette= \"light:b_r\");"
   ]
  },
  {
   "cell_type": "code",
   "execution_count": null,
   "id": "d37857f5",
   "metadata": {
    "ExecuteTime": {
     "end_time": "2023-01-23T20:17:50.036646Z",
     "start_time": "2023-01-23T20:17:50.036637Z"
    },
    "cell_style": "split",
    "hide_input": true
   },
   "outputs": [],
   "source": [
    "df4[['id_cliente', 'genero']].groupby('genero').count()"
   ]
  },
  {
   "cell_type": "markdown",
   "id": "1ef02b67",
   "metadata": {},
   "source": [
    "#### 'tem_cartao_credito'"
   ]
  },
  {
   "cell_type": "code",
   "execution_count": null,
   "id": "ad604f01",
   "metadata": {
    "ExecuteTime": {
     "end_time": "2023-01-23T20:17:50.037473Z",
     "start_time": "2023-01-23T20:17:50.037464Z"
    },
    "cell_style": "split",
    "hide_input": true
   },
   "outputs": [],
   "source": [
    "sns.countplot(x= df4['tem_cartao_credito'], palette= \"light:b_r\");"
   ]
  },
  {
   "cell_type": "code",
   "execution_count": null,
   "id": "1e0b6e5a",
   "metadata": {
    "ExecuteTime": {
     "end_time": "2023-01-23T20:17:50.038033Z",
     "start_time": "2023-01-23T20:17:50.038024Z"
    },
    "cell_style": "split",
    "hide_input": true
   },
   "outputs": [],
   "source": [
    "df4[['id_cliente', 'tem_cartao_credito']].groupby('tem_cartao_credito').count()"
   ]
  },
  {
   "cell_type": "markdown",
   "id": "fd7051a2",
   "metadata": {
    "cell_style": "center"
   },
   "source": [
    "#### 'membro_ativo'"
   ]
  },
  {
   "cell_type": "code",
   "execution_count": null,
   "id": "2f7fefa4",
   "metadata": {
    "ExecuteTime": {
     "end_time": "2023-01-23T20:17:50.038759Z",
     "start_time": "2023-01-23T20:17:50.038752Z"
    },
    "cell_style": "split",
    "hide_input": true
   },
   "outputs": [],
   "source": [
    "sns.countplot(x= df4['membro_ativo'], palette= \"light:b_r\");"
   ]
  },
  {
   "cell_type": "code",
   "execution_count": null,
   "id": "264c8d06",
   "metadata": {
    "ExecuteTime": {
     "end_time": "2023-01-23T20:17:50.039517Z",
     "start_time": "2023-01-23T20:17:50.039508Z"
    },
    "cell_style": "split",
    "hide_input": true
   },
   "outputs": [],
   "source": [
    "df4[['id_cliente', 'membro_ativo']].groupby('membro_ativo').count()"
   ]
  },
  {
   "cell_type": "markdown",
   "id": "bb0d9936",
   "metadata": {
    "heading_collapsed": true
   },
   "source": [
    "## Bivariate and Multivariate Analysis"
   ]
  },
  {
   "cell_type": "code",
   "execution_count": null,
   "id": "f85e7d4a",
   "metadata": {
    "ExecuteTime": {
     "end_time": "2023-01-23T20:17:50.040949Z",
     "start_time": "2023-01-23T20:17:50.040940Z"
    }
   },
   "outputs": [],
   "source": [
    "-"
   ]
  },
  {
   "cell_type": "markdown",
   "id": "ab28bb9d",
   "metadata": {},
   "source": [
    "## Note:\n",
    "Informações Importantes:\n",
    "\n",
    "\n",
    "Próxima versão: \n",
    "- Adicionar 1º e 3º quartil na função numerical_estatistic_statistical;\n",
    "- Interpretação Estatística e de Negócio na Análise Univariada;\n",
    "- Análise Bivariada com insights das hipóteses criadas e Análise Multivariada;"
   ]
  },
  {
   "cell_type": "markdown",
   "id": "d1cc71e0",
   "metadata": {},
   "source": [
    "# Feature Engineering II (Data Preparation)"
   ]
  },
  {
   "cell_type": "code",
   "execution_count": null,
   "id": "e8b367f6",
   "metadata": {
    "ExecuteTime": {
     "end_time": "2023-01-23T20:17:50.041557Z",
     "start_time": "2023-01-23T20:17:50.041548Z"
    },
    "hide_input": true
   },
   "outputs": [],
   "source": [
    "df5 = df4.copy()"
   ]
  },
  {
   "cell_type": "code",
   "execution_count": null,
   "id": "5d59309e",
   "metadata": {
    "ExecuteTime": {
     "end_time": "2023-01-23T20:17:50.042355Z",
     "start_time": "2023-01-23T20:17:50.042347Z"
    }
   },
   "outputs": [],
   "source": [
    "data_for_filtering = df4.copy()"
   ]
  },
  {
   "cell_type": "markdown",
   "id": "548452c1",
   "metadata": {},
   "source": [
    "## Data Filtering"
   ]
  },
  {
   "cell_type": "code",
   "execution_count": null,
   "id": "4d38059d",
   "metadata": {
    "ExecuteTime": {
     "end_time": "2023-01-23T20:17:50.043079Z",
     "start_time": "2023-01-23T20:17:50.043070Z"
    }
   },
   "outputs": [],
   "source": [
    "columns_to_delete = ['numero_linha','id_cliente','sobrenome']\n",
    "filtered_data = data_for_filtering.drop(columns_to_delete, axis= 1)"
   ]
  },
  {
   "cell_type": "code",
   "execution_count": null,
   "id": "d8be6a50",
   "metadata": {
    "ExecuteTime": {
     "end_time": "2023-01-23T20:17:50.043679Z",
     "start_time": "2023-01-23T20:17:50.043671Z"
    }
   },
   "outputs": [],
   "source": [
    "filtered_data.head()"
   ]
  },
  {
   "cell_type": "markdown",
   "id": "853051c4",
   "metadata": {},
   "source": [
    "## Splitting Dataframe into Training and Test Dataset"
   ]
  },
  {
   "cell_type": "code",
   "execution_count": null,
   "id": "3e47905f",
   "metadata": {
    "ExecuteTime": {
     "end_time": "2023-01-23T20:17:50.044413Z",
     "start_time": "2023-01-23T20:17:50.044405Z"
    }
   },
   "outputs": [],
   "source": [
    "X = filtered_data.drop(columns = ['Churn'])\n",
    "y = filtered_data['Churn']\n",
    "X_train, X_test, y_train, y_test = train_test_split(X, y, test_size= 0.33, random_state= 42)"
   ]
  },
  {
   "cell_type": "markdown",
   "id": "c4ee949b",
   "metadata": {},
   "source": [
    "## Scaling (only Train data)"
   ]
  },
  {
   "cell_type": "markdown",
   "id": "bb73913e",
   "metadata": {},
   "source": [
    "### Standardization (or  X-score Normalization)"
   ]
  },
  {
   "cell_type": "markdown",
   "id": "ddb70a4d",
   "metadata": {},
   "source": [
    "- Na Análise Univariada é possível verificar que não temos nenhuma distribuição normal nas variáveis numéricas, logo será descartado o processo de normalização."
   ]
  },
  {
   "cell_type": "markdown",
   "id": "29de0adc",
   "metadata": {},
   "source": [
    "### Normalization (or Rescaling)"
   ]
  },
  {
   "cell_type": "code",
   "execution_count": null,
   "id": "9bd66e31",
   "metadata": {
    "ExecuteTime": {
     "end_time": "2023-01-23T20:17:50.045723Z",
     "start_time": "2023-01-23T20:17:50.045713Z"
    }
   },
   "outputs": [],
   "source": [
    "robust_scaler = RobustScaler() #rescala para variáveis numéricas com distribuições não gaussianas que possuem outliers (score_credito, idade, numero_de_contas)\n",
    "min_max_scaler = MinMaxScaler() #rescala para variáveis numéricas com distribuições não gaussianas que não possuem outliers (saldo, salario_estimado, tempo_permanencia)"
   ]
  },
  {
   "cell_type": "markdown",
   "id": "4ea74285",
   "metadata": {},
   "source": [
    "#### 'score_credito'"
   ]
  },
  {
   "cell_type": "code",
   "execution_count": null,
   "id": "62374b0e",
   "metadata": {
    "ExecuteTime": {
     "end_time": "2023-01-23T20:17:50.046380Z",
     "start_time": "2023-01-23T20:17:50.046372Z"
    }
   },
   "outputs": [],
   "source": [
    "X_train['score_credito'] = robust_scaler.fit_transform(X_train[['score_credito']].values)\n",
    "\n",
    "outfile = open('/home/rnglinux/projetos/Churn-Predict/parameters/score_credito_scaler.pkl', 'wb')\n",
    "pickle.dump(robust_scaler, outfile)\n",
    "outfile.close()"
   ]
  },
  {
   "cell_type": "markdown",
   "id": "39fd9a06",
   "metadata": {},
   "source": [
    "#### 'idade'"
   ]
  },
  {
   "cell_type": "code",
   "execution_count": null,
   "id": "2e7c0b28",
   "metadata": {
    "ExecuteTime": {
     "end_time": "2023-01-23T20:17:50.047309Z",
     "start_time": "2023-01-23T20:17:50.047299Z"
    }
   },
   "outputs": [],
   "source": [
    "X_train['idade'] = robust_scaler.fit_transform(X_train[['idade']].values)\n",
    "\n",
    "outfile = open('/home/rnglinux/projetos/Churn-Predict/parameters/idade_scaler.pkl', 'wb')\n",
    "pickle.dump(robust_scaler, outfile)\n",
    "outfile.close()"
   ]
  },
  {
   "cell_type": "markdown",
   "id": "ff0d4e67",
   "metadata": {},
   "source": [
    "#### 'saldo'"
   ]
  },
  {
   "cell_type": "code",
   "execution_count": null,
   "id": "798d170f",
   "metadata": {
    "ExecuteTime": {
     "end_time": "2023-01-23T20:17:50.047952Z",
     "start_time": "2023-01-23T20:17:50.047943Z"
    }
   },
   "outputs": [],
   "source": [
    "X_train['saldo'] = min_max_scaler.fit_transform(X_train[['saldo']].values)\n",
    "\n",
    "outfile = open('/home/rnglinux/projetos/Churn-Predict/parameters/saldo_scaler.pkl', 'wb')\n",
    "pickle.dump(min_max_scaler, outfile)\n",
    "outfile.close()"
   ]
  },
  {
   "cell_type": "markdown",
   "id": "7ec22a62",
   "metadata": {},
   "source": [
    "#### 'salario_estimado'"
   ]
  },
  {
   "cell_type": "code",
   "execution_count": null,
   "id": "5e16bef9",
   "metadata": {
    "ExecuteTime": {
     "end_time": "2023-01-23T20:17:50.048877Z",
     "start_time": "2023-01-23T20:17:50.048869Z"
    }
   },
   "outputs": [],
   "source": [
    "X_train['salario_estimado'] = min_max_scaler.fit_transform(X_train[['salario_estimado']].values)\n",
    "\n",
    "outfile = open('/home/rnglinux/projetos/Churn-Predict/parameters/salario_estimado_scaler.pkl', 'wb')\n",
    "pickle.dump(min_max_scaler, outfile)\n",
    "outfile.close()"
   ]
  },
  {
   "cell_type": "markdown",
   "id": "2ae70a05",
   "metadata": {},
   "source": [
    "#### 'tempo_permanencia'"
   ]
  },
  {
   "cell_type": "code",
   "execution_count": null,
   "id": "2dcd97a0",
   "metadata": {
    "ExecuteTime": {
     "end_time": "2023-01-23T20:17:50.049486Z",
     "start_time": "2023-01-23T20:17:50.049478Z"
    }
   },
   "outputs": [],
   "source": [
    "X_train['tempo_permanencia'] = min_max_scaler.fit_transform(X_train[['tempo_permanencia']].values)\n",
    "\n",
    "outfile = open('/home/rnglinux/projetos/Churn-Predict/parameters/tempo_permanencia_scaler.pkl', 'wb')\n",
    "pickle.dump(min_max_scaler, outfile)\n",
    "outfile.close()"
   ]
  },
  {
   "cell_type": "markdown",
   "id": "ab4a18b6",
   "metadata": {},
   "source": [
    "### Encoding"
   ]
  },
  {
   "cell_type": "code",
   "execution_count": null,
   "id": "02df702f",
   "metadata": {
    "ExecuteTime": {
     "end_time": "2023-01-23T20:17:50.049996Z",
     "start_time": "2023-01-23T20:17:50.049988Z"
    }
   },
   "outputs": [],
   "source": [
    "label_encoder = LabelEncoder() # troca de categorias por números de 1 a n. (geografia, gênero)\n",
    "#E transformação comum para variáveis tem_cartao_credito, membro_ativo e Churn, Yes = 1 e No = 0."
   ]
  },
  {
   "cell_type": "markdown",
   "id": "c4584fc0",
   "metadata": {},
   "source": [
    "#### 'geografia'"
   ]
  },
  {
   "cell_type": "code",
   "execution_count": null,
   "id": "52ded450",
   "metadata": {
    "ExecuteTime": {
     "end_time": "2023-01-23T20:17:50.050844Z",
     "start_time": "2023-01-23T20:17:50.050835Z"
    }
   },
   "outputs": [],
   "source": [
    "X_train['geografia'] = label_encoder.fit_transform(X_train['geografia'].values)\n",
    "\n",
    "outfile = open('/home/rnglinux/projetos/Churn-Predict/parameters/geografia.pkl', 'wb')\n",
    "pickle.dump(label_encoder, outfile)\n",
    "outfile.close()"
   ]
  },
  {
   "cell_type": "markdown",
   "id": "1609aa75",
   "metadata": {},
   "source": [
    "#### 'gênero'"
   ]
  },
  {
   "cell_type": "code",
   "execution_count": null,
   "id": "a660b238",
   "metadata": {
    "ExecuteTime": {
     "end_time": "2023-01-23T20:17:50.051619Z",
     "start_time": "2023-01-23T20:17:50.051609Z"
    }
   },
   "outputs": [],
   "source": [
    "X_train['genero'] = label_encoder.fit_transform(X_train['genero'].values)\n",
    "\n",
    "outfile = open('/home/rnglinux/projetos/Churn-Predict/parameters/genero.pkl', 'wb')\n",
    "pickle.dump(label_encoder, outfile)\n",
    "outfile.close()"
   ]
  },
  {
   "cell_type": "markdown",
   "id": "ddbd2d02",
   "metadata": {},
   "source": [
    "#### 'tem_cartao_credito'"
   ]
  },
  {
   "cell_type": "code",
   "execution_count": null,
   "id": "852ec12b",
   "metadata": {
    "ExecuteTime": {
     "end_time": "2023-01-23T20:17:50.052617Z",
     "start_time": "2023-01-23T20:17:50.052607Z"
    }
   },
   "outputs": [],
   "source": [
    "X_train['tem_cartao_credito'] = X_train['tem_cartao_credito'].apply(lambda x: 1 if x == 'yes' else 0)"
   ]
  },
  {
   "cell_type": "markdown",
   "id": "0f579d39",
   "metadata": {},
   "source": [
    "#### 'membro_ativo'"
   ]
  },
  {
   "cell_type": "code",
   "execution_count": null,
   "id": "17c958b7",
   "metadata": {
    "ExecuteTime": {
     "end_time": "2023-01-23T20:17:50.053978Z",
     "start_time": "2023-01-23T20:17:50.053970Z"
    }
   },
   "outputs": [],
   "source": [
    "X_train['membro_ativo'] = X_train['membro_ativo'].apply(lambda x: 1 if x == 'yes' else 0)"
   ]
  },
  {
   "cell_type": "markdown",
   "id": "708c4166",
   "metadata": {},
   "source": [
    "#### Response Variable (Churn)"
   ]
  },
  {
   "cell_type": "code",
   "execution_count": null,
   "id": "297b6761",
   "metadata": {
    "ExecuteTime": {
     "end_time": "2023-01-23T20:17:50.054522Z",
     "start_time": "2023-01-23T20:17:50.054514Z"
    }
   },
   "outputs": [],
   "source": [
    "y_train = y_train.apply(lambda x: 1 if x == 'yes' else 0)"
   ]
  },
  {
   "cell_type": "code",
   "execution_count": null,
   "id": "378b6afe",
   "metadata": {
    "ExecuteTime": {
     "end_time": "2023-01-23T20:17:50.055122Z",
     "start_time": "2023-01-23T20:17:50.055114Z"
    },
    "cell_style": "split"
   },
   "outputs": [],
   "source": [
    "X_train.head()"
   ]
  },
  {
   "cell_type": "code",
   "execution_count": null,
   "id": "c21a5d47",
   "metadata": {
    "ExecuteTime": {
     "end_time": "2023-01-23T20:17:50.056400Z",
     "start_time": "2023-01-23T20:17:50.056389Z"
    },
    "cell_style": "split"
   },
   "outputs": [],
   "source": [
    "y_train.head()"
   ]
  },
  {
   "cell_type": "markdown",
   "id": "df586cdb",
   "metadata": {},
   "source": [
    "## Balancing Response Variable (only Train Data)"
   ]
  },
  {
   "cell_type": "code",
   "execution_count": null,
   "id": "a68786ec",
   "metadata": {
    "ExecuteTime": {
     "end_time": "2023-01-23T20:17:50.057559Z",
     "start_time": "2023-01-23T20:17:50.057549Z"
    },
    "cell_style": "center",
    "scrolled": true
   },
   "outputs": [],
   "source": [
    "#y_train\n",
    "sns.countplot(x= y_train, palette= \"light:b_r\");"
   ]
  },
  {
   "cell_type": "markdown",
   "id": "bce95700",
   "metadata": {},
   "source": [
    "- Como a variável resposta está desbalanceada, aplico uma técnica (algoritmo) que irá balancear os dados e evitar enviesamento do modelo."
   ]
  },
  {
   "cell_type": "code",
   "execution_count": null,
   "id": "d113baca",
   "metadata": {
    "ExecuteTime": {
     "end_time": "2023-01-23T20:17:50.058811Z",
     "start_time": "2023-01-23T20:17:50.058802Z"
    },
    "cell_style": "center"
   },
   "outputs": [],
   "source": [
    "X_train.head()"
   ]
  },
  {
   "cell_type": "code",
   "execution_count": null,
   "id": "61e1900d",
   "metadata": {
    "ExecuteTime": {
     "end_time": "2023-01-23T20:17:50.059771Z",
     "start_time": "2023-01-23T20:17:50.059757Z"
    },
    "cell_style": "center"
   },
   "outputs": [],
   "source": [
    "# Over-Sampling na variável resposta dos dados de treino \n",
    "X_train_resampled, y_train_resampled = SMOTE().fit_resample(X_train, y_train)\n",
    "\n",
    "sns.countplot(x= y_train_resampled, palette= \"light:b_r\");"
   ]
  },
  {
   "cell_type": "markdown",
   "id": "a5a170b6",
   "metadata": {},
   "source": [
    "## Note:\n",
    "- Como a técnica SMOTE consiste em sintetizar novos dados a partir de dados já existentes, alguns dados das colunas 'id_cliente' e 'sobrenome' iriam se repetir. Como também são colunas não relevantes para o aprendizado do modelo, e é possível resgatá-las posteriormente pela indexação, decide excluí-las na Filtragem dos Dados.\n",
    "- Ao escalar os dados usa-se métricas que são definidas por todo o conjunto de dados, então decidi dividir os dados de treino e teste antes de escalar, pois assim, eu teria dois conjuntos de dados, com métricas únicas para cada conjunto, anulando o enviesamento do modelo. \n",
    "\t\tEx.: A normalização MinMaxScaler utiliza o valor mínimo e máximo do conjunto de dados. Se a normalização tivesse sido feita antes da divisão dos dados em conjuntos de treino e teste, a normalização dos dois conjuntos teriam o mesmo padrão escalar, de um único conjunto, pois iriam dividir os elementos mínimos e máximo, logo estaria injetando informações futuras no conjunto de dados de treinamneto, e assim, enviesando o modelo. Com normalização realizada depois da divisão dos dados em treino e teste, os valores mínimo e máximo seriam únicos para cada conjunto, assim, isolando os dados de treino com os dados de teste, evitando o enviesamento do modelo."
   ]
  },
  {
   "cell_type": "markdown",
   "id": "76c34a41",
   "metadata": {},
   "source": [
    "# Feature Selection"
   ]
  },
  {
   "cell_type": "code",
   "execution_count": null,
   "id": "46f19bda",
   "metadata": {
    "ExecuteTime": {
     "end_time": "2023-01-23T20:17:50.060696Z",
     "start_time": "2023-01-23T20:17:50.060688Z"
    },
    "hide_input": true
   },
   "outputs": [],
   "source": [
    "df6 = df5.copy()"
   ]
  },
  {
   "cell_type": "markdown",
   "id": "cb5320e6",
   "metadata": {},
   "source": [
    "## Boruta Feature Selector"
   ]
  },
  {
   "cell_type": "code",
   "execution_count": null,
   "id": "4dce0cb0",
   "metadata": {
    "ExecuteTime": {
     "end_time": "2023-01-23T20:17:50.061386Z",
     "start_time": "2023-01-23T20:17:50.061378Z"
    }
   },
   "outputs": [],
   "source": [
    "X_train_boruta= X_train_resampled.values\n",
    "y_train_boruta = y_train_resampled.values.ravel()"
   ]
  },
  {
   "cell_type": "code",
   "execution_count": null,
   "id": "183dce57",
   "metadata": {
    "ExecuteTime": {
     "end_time": "2023-01-23T20:17:50.062797Z",
     "start_time": "2023-01-23T20:17:50.062788Z"
    }
   },
   "outputs": [],
   "source": [
    "# Intanciando RandomForestRegressor\n",
    "random_forest = RandomForestRegressor(n_jobs=-1)\n",
    "\n",
    "# Intanciando Boruta\n",
    "boruta = BorutaPy(random_forest, n_estimators='auto', verbose= 2, random_state= 42).fit(X_train_boruta, y_train_boruta)"
   ]
  },
  {
   "cell_type": "markdown",
   "id": "f674e218",
   "metadata": {},
   "source": [
    "### Best Features from Boruta "
   ]
  },
  {
   "cell_type": "code",
   "execution_count": null,
   "id": "cbd5324c",
   "metadata": {
    "ExecuteTime": {
     "end_time": "2023-01-23T20:17:50.063663Z",
     "start_time": "2023-01-23T20:17:50.063654Z"
    }
   },
   "outputs": [],
   "source": [
    "columns_selected = boruta.support_.tolist()\n",
    "\n",
    "columns_selected_boruta = X_train_resampled.iloc[:, columns_selected].columns.to_list()\n",
    "\n",
    "columns_not_selected_boruta = list(np.setdiff1d(X_train_resampled.columns, columns_selected_boruta))"
   ]
  },
  {
   "cell_type": "code",
   "execution_count": null,
   "id": "445455c7",
   "metadata": {
    "ExecuteTime": {
     "end_time": "2023-01-23T20:17:50.064177Z",
     "start_time": "2023-01-23T20:17:50.064169Z"
    },
    "cell_style": "split"
   },
   "outputs": [],
   "source": [
    "columns_selected_boruta"
   ]
  },
  {
   "cell_type": "code",
   "execution_count": null,
   "id": "2539194b",
   "metadata": {
    "ExecuteTime": {
     "end_time": "2023-01-23T20:17:50.065166Z",
     "start_time": "2023-01-23T20:17:50.065156Z"
    },
    "cell_style": "split"
   },
   "outputs": [],
   "source": [
    "columns_not_selected_boruta"
   ]
  },
  {
   "cell_type": "markdown",
   "id": "4c4ac01d",
   "metadata": {},
   "source": [
    "# Machine Learning and Model Metrics "
   ]
  },
  {
   "cell_type": "code",
   "execution_count": null,
   "id": "f6f6900e",
   "metadata": {
    "ExecuteTime": {
     "end_time": "2023-01-23T20:17:50.065941Z",
     "start_time": "2023-01-23T20:17:50.065933Z"
    },
    "hide_input": true
   },
   "outputs": [],
   "source": [
    "df7 = df6.copy()"
   ]
  },
  {
   "cell_type": "markdown",
   "id": "02fa974b",
   "metadata": {
    "hide_input": true
   },
   "source": [
    "## Splitting Dataframe into Training and Test Dataset and Selecting Best Features to Model"
   ]
  },
  {
   "cell_type": "code",
   "execution_count": null,
   "id": "3ecd0bbe",
   "metadata": {
    "ExecuteTime": {
     "end_time": "2023-01-23T20:17:50.066857Z",
     "start_time": "2023-01-23T20:17:50.066848Z"
    }
   },
   "outputs": [],
   "source": [
    "X_train_model = X_train_resampled[columns_selected_boruta]\n",
    "y_train_model = y_train_resampled\n",
    "\n",
    "X_test_model = X_test[columns_selected_boruta]\n",
    "y_test_model = y_test"
   ]
  },
  {
   "cell_type": "markdown",
   "id": "088493ce",
   "metadata": {},
   "source": [
    "## Training and Testing -  Random Forest"
   ]
  },
  {
   "cell_type": "code",
   "execution_count": null,
   "id": "50e06bec",
   "metadata": {
    "ExecuteTime": {
     "end_time": "2023-01-23T20:17:50.067504Z",
     "start_time": "2023-01-23T20:17:50.067496Z"
    }
   },
   "outputs": [],
   "source": [
    "# Instanciando o Modelo\n",
    "model = RandomForestClassifier(n_estimators= 1000, n_jobs=-1, random_state= 42)\n",
    "\n",
    "# Treinando o modelo\n",
    "model.fit(X_train_model, y_train_model)\n",
    "\n",
    "outfile = open('/home/rnglinux/projetos/Churn-Predict/model/model_v1.pkl', 'wb')\n",
    "pickle.dump(model, outfile)\n",
    "outfile.close()"
   ]
  },
  {
   "cell_type": "markdown",
   "id": "188ea277",
   "metadata": {},
   "source": [
    "### Scaling and Balancing Data Test"
   ]
  },
  {
   "cell_type": "code",
   "execution_count": null,
   "id": "c94f5da6",
   "metadata": {
    "ExecuteTime": {
     "end_time": "2023-01-23T20:17:50.068221Z",
     "start_time": "2023-01-23T20:17:50.068212Z"
    }
   },
   "outputs": [],
   "source": [
    "# Scaling Test Data\n",
    "\n",
    "## 'score_credito'\n",
    "X_test_model['score_credito'] = robust_scaler.transform(X_test_model[['score_credito']].values)\n",
    "\n",
    "## 'idade'\n",
    "X_test_model['idade'] = robust_scaler.transform(X_test_model[['idade']].values)\n",
    "\n",
    "## 'tempo_permanencia'\n",
    "X_test_model['tempo_permanencia'] = min_max_scaler.transform(X_test_model[['tempo_permanencia']].values)\n",
    "\n",
    "## 'saldo'\n",
    "X_test_model['saldo'] = min_max_scaler.transform(X_test_model[['saldo']].values)\n",
    "\n",
    "## 'salario_estimado'\n",
    "X_test_model['salario_estimado'] = min_max_scaler.transform(X_test_model[['salario_estimado']].values)\n",
    "\n",
    "## 'numero de contas'\n",
    "# Não precisa de trasformação\n",
    "\n",
    "## Response Variable (Churn)\n",
    "y_test_model = y_test_model.apply(lambda x: 1 if x == 'yes' else 0)"
   ]
  },
  {
   "cell_type": "code",
   "execution_count": null,
   "id": "c953f05e",
   "metadata": {
    "ExecuteTime": {
     "end_time": "2023-01-23T20:17:50.069344Z",
     "start_time": "2023-01-23T20:17:50.069336Z"
    }
   },
   "outputs": [],
   "source": [
    "# Over-Sampling na variável resposta dos dados de teste\n",
    "X_test_resampled, y_test_resampled = SMOTE().fit_resample(X_test_model, y_test_model)\n",
    "\n",
    "sns.countplot(x= y_test_resampled, palette= \"light:b_r\");"
   ]
  },
  {
   "cell_type": "code",
   "execution_count": null,
   "id": "a99f0fb2",
   "metadata": {
    "ExecuteTime": {
     "end_time": "2023-01-23T20:17:50.070638Z",
     "start_time": "2023-01-23T20:17:50.070629Z"
    },
    "cell_style": "split"
   },
   "outputs": [],
   "source": [
    "X_test_model.head()"
   ]
  },
  {
   "cell_type": "code",
   "execution_count": null,
   "id": "6406075b",
   "metadata": {
    "ExecuteTime": {
     "end_time": "2023-01-23T20:17:50.071234Z",
     "start_time": "2023-01-23T20:17:50.071226Z"
    },
    "cell_style": "split"
   },
   "outputs": [],
   "source": [
    "y_test_model.head()"
   ]
  },
  {
   "cell_type": "markdown",
   "id": "5d87d012",
   "metadata": {},
   "source": [
    "### Predict"
   ]
  },
  {
   "cell_type": "code",
   "execution_count": null,
   "id": "220354dd",
   "metadata": {
    "ExecuteTime": {
     "end_time": "2023-01-23T20:17:50.072705Z",
     "start_time": "2023-01-23T20:17:50.072696Z"
    }
   },
   "outputs": [],
   "source": [
    "# Previsão com dados de teste\n",
    "yhat_model = model.predict(X_test_model)"
   ]
  },
  {
   "cell_type": "markdown",
   "id": "ce0b97bf",
   "metadata": {},
   "source": [
    "## Metrics"
   ]
  },
  {
   "cell_type": "markdown",
   "id": "c8da569a",
   "metadata": {},
   "source": [
    "### Confusion Matrix"
   ]
  },
  {
   "cell_type": "code",
   "execution_count": null,
   "id": "95c6bb60",
   "metadata": {
    "ExecuteTime": {
     "end_time": "2023-01-23T20:17:50.073663Z",
     "start_time": "2023-01-23T20:17:50.073652Z"
    },
    "cell_style": "split",
    "hide_input": true
   },
   "outputs": [],
   "source": [
    "matrix_absolute = confusion_matrix(y_test_model, yhat_model)\n",
    "matrix_percentage = confusion_matrix(y_test_model, yhat_model, normalize= 'true')\n",
    "\n",
    "print('- Matriz Absoluta')\n",
    "print(matrix_absolute)"
   ]
  },
  {
   "cell_type": "code",
   "execution_count": null,
   "id": "0a850984",
   "metadata": {
    "ExecuteTime": {
     "end_time": "2023-01-23T20:17:50.074545Z",
     "start_time": "2023-01-23T20:17:50.074537Z"
    },
    "cell_style": "split",
    "hide_input": true
   },
   "outputs": [],
   "source": [
    "print('- Matriz Percentual')\n",
    "print(matrix_percentage)"
   ]
  },
  {
   "cell_type": "code",
   "execution_count": null,
   "id": "3f4f61c3",
   "metadata": {
    "ExecuteTime": {
     "end_time": "2023-01-23T20:17:50.075407Z",
     "start_time": "2023-01-23T20:17:50.075399Z"
    },
    "cell_style": "split",
    "hide_input": true
   },
   "outputs": [],
   "source": [
    "true_positive_abs = matrix_absolute[0][0]\n",
    "false_negative_abs = matrix_absolute[0][1]\n",
    "false_positive_abs = matrix_absolute[1][0]\n",
    "true_negative_abs = matrix_absolute[1][1]\n",
    "\n",
    "print(f'True Positive: {true_positive_abs}')\n",
    "print(f'False Negative: {false_negative_abs}')\n",
    "print(f'False Positive: {false_positive_abs}')\n",
    "print(f'True Negative: {true_negative_abs}')"
   ]
  },
  {
   "cell_type": "code",
   "execution_count": null,
   "id": "19024314",
   "metadata": {
    "ExecuteTime": {
     "end_time": "2023-01-23T20:17:50.076699Z",
     "start_time": "2023-01-23T20:17:50.076689Z"
    },
    "cell_style": "split",
    "hide_input": true
   },
   "outputs": [],
   "source": [
    "true_positive_perc = matrix_percentage[0][0]\n",
    "false_negative_perc = matrix_percentage[0][1]\n",
    "false_positive_perc = matrix_percentage[1][0]\n",
    "true_negative_perc = matrix_percentage[1][1]\n",
    "\n",
    "print(f'True Positive: {true_positive_perc * 100 :.2f}%')\n",
    "print(f'False Negative: {false_negative_perc * 100:.2f}%')\n",
    "print(f'False Positive: {false_positive_perc * 100:.2f}%')\n",
    "print(f'True Negative: {true_negative_perc * 100:.2f}%')"
   ]
  },
  {
   "cell_type": "code",
   "execution_count": null,
   "id": "436b800e",
   "metadata": {
    "ExecuteTime": {
     "end_time": "2023-01-23T20:17:50.078243Z",
     "start_time": "2023-01-23T20:17:50.078234Z"
    }
   },
   "outputs": [],
   "source": [
    "# Métricas de Performance do Modelo\n",
    "print(classification_report(y_test_model, yhat_model))"
   ]
  },
  {
   "cell_type": "markdown",
   "id": "3745a66a",
   "metadata": {},
   "source": [
    "## Hypothetical Prediction"
   ]
  },
  {
   "cell_type": "code",
   "execution_count": null,
   "id": "c0aa8b27",
   "metadata": {
    "ExecuteTime": {
     "end_time": "2023-01-23T20:17:50.079388Z",
     "start_time": "2023-01-23T20:17:50.079379Z"
    }
   },
   "outputs": [],
   "source": [
    "hypothetical_client = pd.DataFrame({'score_credito':48.833333,\n",
    "                                    'idade': -0.833333,\n",
    "                                    'tempo_permanencia': 0.3,\n",
    "                                    'saldo': 9670.907,\n",
    "                                    'numero_de_contas': 1,\n",
    "                                    'salario_estimado': 14637.930}, index=[0])\n",
    "\n",
    "client_probability = model.predict_proba(hypothetical_client)\n",
    "client_probability\n",
    "print(f'A probabilidade do cliente hipotético de não recontratar o plano de conta do Top Bank é de {round(client_probability[:, 1][0] * 100, 2)}%')"
   ]
  },
  {
   "cell_type": "markdown",
   "id": "eb00e1bb",
   "metadata": {},
   "source": [
    "## Note:\n",
    "Para a próxima versão:\n",
    "1. Multi-modelagem para definir o melhor modelo.\n",
    "2. Estudar os melhores parâmetros para serem aplicados no modelo escolhido.\n",
    "3. Definir as métrica mais importantes para o projeto.\n",
    "3. Implementar Curva ROC."
   ]
  },
  {
   "cell_type": "markdown",
   "id": "6984364e",
   "metadata": {},
   "source": [
    "# Business Translation"
   ]
  },
  {
   "cell_type": "code",
   "execution_count": null,
   "id": "bc08dc15",
   "metadata": {
    "ExecuteTime": {
     "end_time": "2023-01-23T20:17:50.079948Z",
     "start_time": "2023-01-23T20:17:50.079939Z"
    },
    "hide_input": true
   },
   "outputs": [],
   "source": [
    "df8 = df7.copy()"
   ]
  },
  {
   "cell_type": "markdown",
   "id": "68eee85e",
   "metadata": {},
   "source": [
    "## What is Top Bank's current Churn rate?"
   ]
  },
  {
   "cell_type": "markdown",
   "id": "77c4b4af",
   "metadata": {},
   "source": [
    "- Foi respondida na análise univariada da variável resposta. 20.37% de Churn Rate."
   ]
  },
  {
   "cell_type": "code",
   "execution_count": null,
   "id": "809a4b47",
   "metadata": {
    "ExecuteTime": {
     "end_time": "2023-01-23T20:17:50.081463Z",
     "start_time": "2023-01-23T20:17:50.081453Z"
    },
    "hide_input": true
   },
   "outputs": [],
   "source": [
    "sns.countplot(x=df4['Churn'], palette= \"light:b_r\");"
   ]
  },
  {
   "cell_type": "code",
   "execution_count": null,
   "id": "310da7b0",
   "metadata": {
    "ExecuteTime": {
     "end_time": "2023-01-23T20:17:50.082040Z",
     "start_time": "2023-01-23T20:17:50.082032Z"
    },
    "hide_input": true
   },
   "outputs": [],
   "source": [
    "percentage_no_churn = df4[['id_cliente', 'Churn']].loc[df4['Churn'] == 'no'].shape[0] / df4.shape[0] * 100\n",
    "percentage_yes_churn = df4[['id_cliente', 'Churn']].loc[df4['Churn'] == 'yes'].shape[0] / df4.shape[0] * 100\n",
    "print(f'R: Clientes que irão dar Churn correspondem a {percentage_yes_churn:.2f}% da base de dados e clientes que não irão dar Churn correspondem a {percentage_no_churn:.2f}% da base de dados.')"
   ]
  },
  {
   "cell_type": "markdown",
   "id": "b69caff4",
   "metadata": {
    "hide_input": true
   },
   "source": [
    "## How does the churn rate vary monthly?"
   ]
  },
  {
   "cell_type": "markdown",
   "id": "d9b7feeb",
   "metadata": {},
   "source": [
    "- Será respondido no segundo ciclo."
   ]
  },
  {
   "cell_type": "markdown",
   "id": "93d88612",
   "metadata": {},
   "source": [
    "## What is the performance of the model in classifying customers as churns?"
   ]
  },
  {
   "cell_type": "markdown",
   "id": "932cd916",
   "metadata": {},
   "source": [
    "    R: O modelo possui uma precisão de 68% nesse primeiro ciclo."
   ]
  },
  {
   "cell_type": "markdown",
   "id": "e7215df6",
   "metadata": {},
   "source": [
    "## What is the expected return, in terms of revenue, if the company uses its model to avoid churn from customers?"
   ]
  },
  {
   "cell_type": "markdown",
   "id": "045f6f6e",
   "metadata": {},
   "source": [
    "- Será respondido no segundo ciclo."
   ]
  },
  {
   "cell_type": "markdown",
   "id": "9b52150e",
   "metadata": {},
   "source": [
    "# Deploy"
   ]
  },
  {
   "cell_type": "markdown",
   "id": "5e4878c0",
   "metadata": {},
   "source": [
    "## Note:\n",
    "Próxima versão: criação da classe para deploy."
   ]
  },
  {
   "cell_type": "markdown",
   "id": "eab1024b",
   "metadata": {},
   "source": [
    "# Referências"
   ]
  },
  {
   "cell_type": "markdown",
   "id": "d1f1a9d9",
   "metadata": {},
   "source": [
    "- Alura - Lidando com desbalanceamente de dados (https://www.alura.com.br/artigos/lidando-com-desbalanceamento-dados#:~:text=%C3%89%20uma%20t%C3%A9cnica%20que%20consiste%20em%20aumentar%20a%20quantidade%20de,da%20classe%20com%20menor%20frequ%C3%AAncia)\n",
    "- Imbalanced Learn - Over-sampling (https://imbalanced-learn.org/stable/over_sampling.html#from-random-over-sampling-to-smote-and-adasyn)"
   ]
  }
 ],
 "metadata": {
  "kernelspec": {
   "display_name": "Python 3 (ipykernel)",
   "language": "python",
   "name": "python3"
  },
  "language_info": {
   "codemirror_mode": {
    "name": "ipython",
    "version": 3
   },
   "file_extension": ".py",
   "mimetype": "text/x-python",
   "name": "python",
   "nbconvert_exporter": "python",
   "pygments_lexer": "ipython3",
   "version": "3.10.8"
  },
  "toc": {
   "base_numbering": "0",
   "nav_menu": {
    "height": "351px",
    "width": "219px"
   },
   "number_sections": true,
   "sideBar": true,
   "skip_h1_title": false,
   "title_cell": "Table of Contents",
   "title_sidebar": "Contents",
   "toc_cell": false,
   "toc_position": {
    "height": "calc(100% - 180px)",
    "left": "10px",
    "top": "150px",
    "width": "165px"
   },
   "toc_section_display": true,
   "toc_window_display": true
  },
  "varInspector": {
   "cols": {
    "lenName": 16,
    "lenType": 16,
    "lenVar": 40
   },
   "kernels_config": {
    "python": {
     "delete_cmd_postfix": "",
     "delete_cmd_prefix": "del ",
     "library": "var_list.py",
     "varRefreshCmd": "print(var_dic_list())"
    },
    "r": {
     "delete_cmd_postfix": ") ",
     "delete_cmd_prefix": "rm(",
     "library": "var_list.r",
     "varRefreshCmd": "cat(var_dic_list()) "
    }
   },
   "types_to_exclude": [
    "module",
    "function",
    "builtin_function_or_method",
    "instance",
    "_Feature"
   ],
   "window_display": false
  }
 },
 "nbformat": 4,
 "nbformat_minor": 5
}
